{
 "cells": [
  {
   "cell_type": "code",
   "execution_count": null,
   "id": "97a76292-805f-4391-b950-8fc073ad658a",
   "metadata": {},
   "outputs": [],
   "source": [
    "k = 256*eps**2\n",
    "a = (640*eps**2)/k\n",
    "b = (560*eps**2)/k  \n",
    "c = (200*eps**2)/k    \n",
    "d = (25*eps**2)/k\n",
    "e = 1/k\n",
    "\n",
    "num = [e]\n",
    "den = [-1, 0, -a, 0, -b, 0, -c, 0, -d, 0, e]\n",
    "\n",
    "den_aux= np.roots(den)\n",
    "den_aux_2= []\n",
    "for i in range(len(np.roots(den))):\n",
    "    if den_aux[i].real < 0:\n",
    "        den_aux_2.append(den_aux[i])\n",
    "\n",
    "print(np.array(den_aux))        \n",
    "print( )\n",
    "print(np.array(den_aux_2))\n",
    "print( )\n",
    "print(den_aux)\n",
    "print( )\n",
    "print(den_aux_2)\n",
    "\n",
    "this_sos = tf2sos_analog(num, den)\n",
    "#pretty_print_SOS(this_sos)\n",
    "\n",
    "z,p,k = sig.cheb1ap(5, alfa_max)\n",
    "num, den = sig.zpk2tf(z,p,k)\n",
    "#print('{}'.format(z))\n",
    "#print('{}'.format(p))\n",
    "#print('{}'.format(k))\n",
    "this_sos = tf2sos_analog(num, den)\n",
    "pretty_print_SOS(this_sos)\n",
    "\n",
    "#analyze_sys(this_sos)"
   ]
  }
 ],
 "metadata": {
  "kernelspec": {
   "display_name": "Python 3 (ipykernel)",
   "language": "python",
   "name": "python3"
  },
  "language_info": {
   "codemirror_mode": {
    "name": "ipython",
    "version": 3
   },
   "file_extension": ".py",
   "mimetype": "text/x-python",
   "name": "python",
   "nbconvert_exporter": "python",
   "pygments_lexer": "ipython3",
   "version": "3.11.1"
  }
 },
 "nbformat": 4,
 "nbformat_minor": 5
}
