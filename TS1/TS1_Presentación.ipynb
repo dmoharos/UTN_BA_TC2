{
 "cells": [
  {
   "cell_type": "markdown",
   "id": "2ddc1907-adc3-4b9b-b24a-78978ad050a2",
   "metadata": {},
   "source": [
    "<img src=\"./TS1_Logo_UTN.svg\" align=\"right\" width=\"150\" /> \n",
    "\n",
    "## (950431) Teoría de Circuitos II\n",
    "\n",
    "#### Profesor: Mariano Llamedo Soria  <llamedom@frba.utn.edu.ar>\n",
    "#### Jefe de TPs: César Fuoco  <cfuoco@frba.utn.edu.ar>\n",
    "#### Ayudante de TPs: Israel Pavelek <pavel@frba.utn.edu.ar> \n",
    "***"
   ]
  },
  {
   "cell_type": "markdown",
   "id": "76020072-054e-43bf-bd60-771a2ff21988",
   "metadata": {},
   "source": [
    "# Trabajo Semanal # 1\n",
    "\n",
    "#### Autor: *Moharos, David Santiago* <dmoharos@frba.utn.edu.ar>\n",
    "\n",
    "***\n"
   ]
  },
  {
   "cell_type": "markdown",
   "id": "5684e518-317d-4615-88e8-0f524532ad8e",
   "metadata": {},
   "source": [
    "#### Dado el siguiente circuito:"
   ]
  },
  {
   "cell_type": "markdown",
   "id": "0905c54b-34e9-4bed-99a5-4168748ef724",
   "metadata": {
    "tags": []
   },
   "source": [
    "<img src=\"./TS1_Imagen_Circuito_SIN_Valores.png\" style=\"margin-left:auto; margin-right:auto\"/>"
   ]
  },
  {
   "cell_type": "markdown",
   "id": "02d53e1f-72d5-4042-8838-fe7db591da09",
   "metadata": {
    "tags": []
   },
   "source": [
    "#####\n",
    "\n",
    "***\n",
    "***\n",
    "### 1. Obtener la función transferencia $T(s)= \\frac{V2}{V1}$ (módulo, fase y diagrama de polos y ceros).\n",
    "***\n",
    "***\n",
    "\n",
    "#####\n",
    "\n",
    "#### <span style=\"text-decoration: underline;\">Respuesta de módulo de $T(j\\omega)$: </span>\n",
    "\n",
    "#####\n",
    "#### Planteamos las ecuaciones de la corriente $I_1$:\n",
    "#####\n",
    "\n",
    "\\begin{equation}\n",
    "I_1= \\frac{V_1-V_A}{Z_1}= \\frac{V_A-V_2}{Z_2}\n",
    "\\end{equation}\n",
    "\n",
    "#####\n",
    "#### Producto de la igualdad entre ecuaciones, despejamos $V_A$:\n",
    "#####\n",
    "\n",
    "\\begin{equation}\n",
    "(V_1-V_A)*Z_2= (V_A-V_2)*Z_1\n",
    "\\end{equation}\n",
    "\n",
    "\\begin{equation}\n",
    "V_1*Z_2-V_A*Z_2= V_A*Z_1-V_2*Z_1\n",
    "\\end{equation}\n",
    "\n",
    "\\begin{equation}\n",
    "V_1*Z_2+V_2*Z_1= V_A*(Z_1+Z_2)\n",
    "\\end{equation}\n",
    "\n",
    "\\begin{equation}\n",
    "V_A= \\frac{V_1*Z_2+V_2*Z_1}{Z_1+Z_2}\n",
    "\\end{equation}\n",
    "\n",
    "#####\n",
    "#### Verificamos que las unidades sean las correctas:\n",
    "#####\n",
    "\n",
    "\\begin{equation}\n",
    "[V_A]= \\frac{V*Ω+V*Ω}{Ω}= \\frac{V*Ω}{Ω}= [V] \n",
    "\\end{equation}\n",
    "\n",
    "\n",
    "#####\n",
    "#### Como $(V^{+} - V^{-})\\rightarrow 0$ debido a que $A_{OL}\\rightarrow\\infty$, podemos plantear $V_{Z3}$ de la siguiente forma:\n",
    "#####\n",
    "\n",
    "\\begin{equation}\n",
    "V_{Z3}= V_1\\frac{Z_3}{Z_3+Z_4}= V_A= \\frac{V_1*Z_2+V_2*Z_1}{Z_1+Z_2}\n",
    "\\end{equation}\n",
    "\n",
    "#####\n",
    "#### Dicha igualdad queda en función de la tensión de entrada $V_1$, la tensión de salida $V_2$ y todas las impedancias en juego a las que consideramos conocidas, por lo tanto: \n",
    "#####\n",
    "\n",
    "\\begin{equation}\n",
    "(V_1*Z_2+V_2*Z_1)*(Z_3+Z_4)= V_1*Z_3*(Z_1+Z_2)\n",
    "\\end{equation}\n",
    "\n",
    "\\begin{equation}\n",
    "V_1*Z_2*Z_3+V_1*Z_2*Z_4+V_2*Z_1*Z_3+V_2*Z_1*Z_4= V_1*Z_1*Z_3+V_1*Z_2*Z_3 \n",
    "\\end{equation}\n",
    "\n",
    "\\begin{equation}\n",
    "V_2*(Z_1*Z_3+Z_1*Z_4)=V_1*(Z_1*Z_3-Z_2*Z_4)\n",
    "\\end{equation}\n",
    "\n",
    "#####\n",
    "#### De forma general:\n",
    "#####\n",
    "\n",
    "\n",
    "\\begin{equation}\n",
    "\\boxed{T(s)= \\frac{V_2(s)}{V_1(s)}=\\frac{Z_1*Z_3-Z_2*Z_4}{Z_1*Z_3+Z_1*Z_4}}\n",
    "\\end{equation}\n",
    "\n",
    "#####\n",
    "#### Reemplazando las impedancias del circuito en cuestión:\n",
    "#####\n",
    "\n",
    "\\begin{equation}\n",
    "T(s)= \\frac{R_1*R_3-\\frac{R_2}{sC_1}}{R_1*R_3+\\frac{R_1}{s*C_1}}\n",
    "\\end{equation}\n",
    "\n",
    "\\begin{equation}\n",
    "T(s)= \\frac{\\frac{s*R_1*R_3*C_1-R_2}{s*C_1}}{\\frac{s*R_1*R_3*C_1+R_1}{s*C_1}}\n",
    "\\end{equation}\n",
    "\n",
    "\\begin{equation}\n",
    "T(s)= \\frac{s*R_1*R_3*C_1-R_2}{s*R_1*R_3*C_1+R_1}\n",
    "\\end{equation}\n",
    "\n",
    "#####\n",
    "#### Dejamos mónico numerador y denominador:\n",
    "#####\n",
    "\n",
    "\\begin{equation}\n",
    "T(s)= \\frac{R_1*R_3*C_1}{R_1*R_3*C_1}*\\frac{s-\\frac{R_2}{R_1*R_3*C_1}}{s+\\frac{R_1}{R_1*R_3*C_1}}\n",
    "\\end{equation}\n",
    "\n",
    "\\begin{equation}\n",
    "\\boxed{T(s)= \\frac{s-\\frac{R_2}{R_1*R_3*C_1}}{s+\\frac{1}{R_3*C_1}}}\n",
    "\\end{equation}\n",
    "\n",
    "#####\n",
    "#### Verificamos que las unidades sean las correctas:\n",
    "#####\n",
    "\n",
    "\\begin{equation}\n",
    "[T(s)]= \\left[\\frac{\\frac{1}{s}-\\frac{Ω}{Ω^2*F}}{\\frac{1}{s}+\\frac{1}{Ω*F}}\\right]= \\left[\\frac{\\frac{1}{s}-\\frac{1}{Ω*F}}{\\frac{1}{s}+\\frac{1}{Ω*F}}\\right]= \\left[\\frac{\\frac{1}{s}}{\\frac{1}{s}}\\right]= [] \n",
    "\\end{equation}\n",
    "\n",
    "\n",
    "#####\n",
    "#### Evaluamos cualitativamente la respuesta de módulo:\n",
    "#####\n",
    "\n",
    "\\begin{equation}\n",
    "|T(jω)|= \\left| \\frac{j*ω-\\frac{R_2}{R_1*R_3*C_1}}{j*ω+\\frac{1}{R_3*C_1}} \\right|\n",
    "\\end{equation}\n",
    "\n",
    "\\begin{equation}\n",
    "|T(jω)|= \\frac{\\sqrt{(j*ω)^2+(\\frac{R_2}{R_1*R_3*C_1})^2}} {\\sqrt{(j*ω)^2+(\\frac{1}{R_3*C_1})^2}}\n",
    "\\end{equation}\n",
    "\n",
    "\\begin{equation}\n",
    "|T(jω)|= \\frac{\\sqrt{(\\frac{R_2^2}{R_1^2*R_3^2*C_1^2}-ω^2)}} {{\\sqrt(\\frac{1}{R_3^2*C_1^2}-ω^2)}}\n",
    "\\end{equation}\n",
    "\n",
    "#####\n",
    "#### Los puntos de interés serán los extremos, es decir, $\\omega=0$ y $\\omega\\rightarrow\\infty$, y por supuesto $\\omega\\rightarrow\\omega_0$ :\n",
    "#####\n",
    "\n",
    "#### Para $\\omega_1$= 0:\n",
    "#####\n",
    "\n",
    "\\begin{equation}\n",
    "|T(j\\omega_1)|= \\frac{R_2}{R_1}\n",
    "\\end{equation}\n",
    "\n",
    "#####\n",
    "#### Para $\\omega_2= \\omega_0$:\n",
    "#####\n",
    "\n",
    "\\begin{equation}\n",
    "|T(j\\omega_2)|= \\frac{\\sqrt{(\\frac{R_2^2}{R_1^2*R_3^2*C_1^2}-ω_0^2)}} {\\sqrt{(\\frac{1}{R_3^2*C_1^2}-ω_0^2)}}\n",
    "\\end{equation}\n",
    "\n",
    "#####\n",
    "#### Para $\\omega_3\\rightarrow \\infty$:\n",
    "#####\n",
    "\n",
    "\\begin{equation}\n",
    "|T(jω_3)|\\rightarrow 1\n",
    "\\end{equation}\n",
    "\n",
    "#####\n",
    "#### En función de los resultados obtenidos, podemos representar la respuesta de módulo de la siguiente manera:\n",
    "#####\n",
    "\n",
    "<img src=\"./TS1_Análisis_Módulo.png\" style=\"margin-left:auto; margin-right:auto\"/>\n",
    "\n",
    "#####\n",
    "#### <span style=\"text-decoration: underline;\">Respuesta de fase de $T(j\\omega)$: </span>\n",
    "#####\n",
    "\n",
    "#### Evaluamos cualitativamente la respuesta de módulo:\n",
    "#####\n",
    "\n",
    "\\begin{equation}\n",
    "φ_T= φ_{Num\\verb+{+T(jω)\\verb+}+}-φ_{Den\\verb+{+T(jω)\\verb+}+}\n",
    "\\end{equation}\n",
    "\n",
    "\\begin{equation}\n",
    "φ_T= arctg \\frac {Im\\verb+{+T(jω)\\verb+}+}{Re\\verb+{+T(jω)\\verb+}+}\n",
    "\\end{equation}\n",
    "\n",
    "\\begin{equation}\n",
    "φ_T= arctg \\frac{ω}{\\frac{-R_2}{R_1*R_3*C_1}} -arctg \\frac{ω}{\\frac{1}{\\frac{1}{R_3*C_1}}}\n",
    "\\end{equation}\n",
    "\n",
    "#####\n",
    "#### Los puntos de interés serán los extremos, es decir, $\\omega=0$ y $\\omega\\rightarrow\\infty$, y por supuesto $\\omega\\rightarrow\\omega_0$:\n",
    "#####\n",
    "\n",
    "#### Para $\\omega_1=0$:\n",
    "#####\n",
    "\\begin{equation}\n",
    "φ_T= 0 - 0= 0\n",
    "\\end{equation}\n",
    "\n",
    "#####\n",
    "#### Para $\\omega_2\\rightarrow\\infty$:\n",
    "#####\n",
    "\n",
    "\\begin{equation}\n",
    "φ_T= -\\frac{π}{2}-\\frac{π}{2}= -π\n",
    "\\end{equation}\n",
    "\n",
    "#####\n",
    "\n",
    "<img src=\"./TS1_Análisis_Fase.png\" style=\"margin-left:auto; margin-right:auto\"/>\n",
    "\n",
    "#####"
   ]
  },
  {
   "cell_type": "markdown",
   "id": "de904e82-fb6a-4a7a-ade3-1c18a80f864a",
   "metadata": {
    "tags": []
   },
   "source": [
    "#### Diagrama de polos y ceros"
   ]
  },
  {
   "cell_type": "markdown",
   "id": "0d561a06-5937-472e-a422-aa826712bf60",
   "metadata": {
    "tags": []
   },
   "source": [
    "<img src=\"./TS1_Análisis_Diagramas_Polos_Ceros.png\" style=\"margin-left:auto; margin-right:auto\"/>\n",
    "\n",
    "\n",
    "#####\n",
    "#### >>> HACER ALGUN COMENTARIO DEL RATIO R2/R1\n",
    "#####\n",
    "\n",
    "***"
   ]
  },
  {
   "cell_type": "markdown",
   "id": "e00f5847-4e04-46ec-a171-7ccc22997c0b",
   "metadata": {},
   "source": [
    "#### 2. ¿Qué tipo de filtro es?\n",
    "\n",
    "####    Se trata de un filtro pasatodo\n",
    "\n",
    "***"
   ]
  },
  {
   "cell_type": "markdown",
   "id": "e2085a6c-877f-41e4-ab79-82ba6070ab2e",
   "metadata": {},
   "source": [
    "#### 3. Obtenga la función transferencia, pero normalizada. ¿Cuál sería en este caso la norma de frecuencia y qué interpretación circuital podría tener?"
   ]
  },
  {
   "cell_type": "markdown",
   "id": "f7442694-b9d8-47a7-991f-9c67ae415944",
   "metadata": {},
   "source": [
    "\\begin{equation}\n",
    "T(s)= \\frac{s-\\frac{R_2}{R_1*R_3*C_1}}{s+\\frac{1}{R_3*C_1}}\n",
    "\\end{equation}\n",
    "\n",
    "\\begin{equation}\n",
    "Ω_ω= ω_0= \\frac{1}{R_3*C_1}; D=\\frac{R_2}{R_1}\n",
    "\\end{equation}\n",
    "\n",
    "\\begin{equation}\n",
    "T(s)= \\frac{s-D*ω_0}{s+ω_0}\n",
    "\\end{equation}\n",
    "\n",
    "\\begin{equation}\n",
    "$= \\frac{s}{Ω_ω}= \\frac{s}{ω_0}\n",
    "\\end{equation}\n",
    "\n",
    "\\begin{equation}\n",
    "T($)= \\frac{$*ω_0-D*ω_0}{$*ω_0+ω_0}\n",
    "\\end{equation}\n",
    "\n",
    "\\begin{equation}\n",
    "T($)= \\frac{ω_0}{ω_0}\\frac{$-D}{$+1}\n",
    "\\end{equation}\n",
    "\n",
    "\\begin{equation}\n",
    "T($)= \\frac{$-D}{$+1}\n",
    "\\end{equation}\n",
    "\n",
    "***"
   ]
  },
  {
   "cell_type": "markdown",
   "id": "f4796b16-7f79-49e3-be3c-837e564b5f12",
   "metadata": {
    "tags": []
   },
   "source": [
    "#### 4. Simule la función transferencia normalizada (Python, Matlab, etc.)."
   ]
  },
  {
   "cell_type": "code",
   "execution_count": 1,
   "id": "6deab694-7cd6-4354-befb-4d3593be87a8",
   "metadata": {
    "tags": []
   },
   "outputs": [
    {
     "data": {
      "text/plain": [
       "(2, <Axes: xlabel='$\\\\sigma$', ylabel='j$\\\\omega$'>)"
      ]
     },
     "execution_count": 1,
     "metadata": {},
     "output_type": "execute_result"
    },
    {
     "data": {
      "image/png": "[encoded data removed]",
      "text/plain": [
       "<Figure size 640x480 with 2 Axes>"
      ]
     },
     "metadata": {},
     "output_type": "display_data"
    },
    {
     "data": {
      "image/png": "[encoded data removed]",
      "text/plain": [
       "<Figure size 640x480 with 1 Axes>"
      ]
     },
     "metadata": {},
     "output_type": "display_data"
    }
   ],
   "source": [
    "#!/usr/bin/env python3\n",
    "# -*- coding: utf-8 -*-\n",
    "\n",
    "from scipy.signal import TransferFunction\n",
    "import matplotlib.pyplot as plt\n",
    "import numpy as np\n",
    "\n",
    "from pytc2.sistemas_lineales import pzmap, GroupDelay, bodePlot\n",
    "\n",
    "w0 = 1\n",
    "D= 1\n",
    "qq = np.sqrt(2)/2\n",
    "\n",
    "my_tf = TransferFunction( [1, -D], [1, 1] )\n",
    "\n",
    "plt.close('all')\n",
    "\n",
    "bodePlot(my_tf, fig_id=1, filter_description = 'Q={:3.3f}'.format(qq) )\n",
    "\n",
    "pzmap(my_tf, fig_id=2, filter_description = 'Q={:3.3f}'.format(qq)) #S plane pole/zero plot\n",
    "\n",
    "#GroupDelay(my_tf, fig_id=3, filter_description = 'Q={:3.3f}'.format(qq))\n"
   ]
  },
  {
   "cell_type": "markdown",
   "id": "c07dc628-acc5-423b-83c6-7b3a1e3bc946",
   "metadata": {},
   "source": [
    "#### 5. Simule el circuito y obtenga la respuesta en frecuencia pedida en 1), para los valores:  R2/R1=1; R3=1kΩ y C=1µF"
   ]
  },
  {
   "cell_type": "markdown",
   "id": "ad1688fb-e37c-41d2-bd20-30144137c72d",
   "metadata": {},
   "source": [
    "<img src=\"./TS1_Resultados_Simulación_LTSpice_Corregido.png\" align=\"center\"/> \n",
    "\n",
    "***"
   ]
  },
  {
   "cell_type": "markdown",
   "id": "f62d0d04-e1cc-4007-b845-13b62628d77f",
   "metadata": {},
   "source": [
    "#### 6. ¿Qué utilidad podría tener este tipo de circuitos?"
   ]
  },
  {
   "cell_type": "markdown",
   "id": "d7e579dc-e93a-49da-a384-84d63ace884f",
   "metadata": {},
   "source": [
    "#### >>> ECUALIZADORES <<<\n",
    "\n",
    "#### Este tipo de circuitos se conocen como rotadores de fase debido a que no sólo permite el paso de todas las componentes frecuenciales sino que además alteran su fase.\n",
    "\n",
    "***"
   ]
  },
  {
   "cell_type": "markdown",
   "id": "ae90fe7f-b716-4518-a28e-006cdd85711b",
   "metadata": {},
   "source": [
    "### Bonus\n",
    "\n",
    "#### Obtener una RED normalizada que responda a la función hallada en 3)"
   ]
  },
  {
   "cell_type": "markdown",
   "id": "1b7c5b7a-d1dd-4ff8-a8bc-911d5626cddd",
   "metadata": {},
   "source": [
    "\\begin{equation}\n",
    "Ω_z= R_3\n",
    "\\end{equation}\n",
    "\n",
    "\\begin{equation}\n",
    "R3_n= \\frac{R_3}{Ω_z}= \\frac{R_3}{R_3}= 1\n",
    "\\end{equation}\n",
    "\n",
    "\\begin{equation}\n",
    "ω_0= \\frac{1}{R_3*C_1}= 1 \\frac {rad}{s} \n",
    "\\end{equation}\n",
    "\n",
    "\\begin{equation}\n",
    "R_3= \\frac{1}{C_1}\n",
    "\\end{equation}\n",
    "\n",
    "\\begin{equation}\n",
    "C1_n= \\frac{1}{R3_n}= 1\n",
    "\\end{equation}\n",
    "\n",
    "\\begin{equation}\n",
    "R1_n= \\frac{R_1}{Ω_z}= \\frac{R_1}{R_3}\n",
    "\\end{equation}\n",
    "\n",
    "\\begin{equation}\n",
    "R2_n= \\frac{R_2}{Ω_z}= \\frac{R_2}{R_3}\n",
    "\\end{equation}"
   ]
  },
  {
   "cell_type": "markdown",
   "id": "c2dacc49-78be-475f-be3f-6d53e29e8ba7",
   "metadata": {},
   "source": [
    "<img src=\"./TS1_Imagen_Circuito_Red_Norm.png\" style=\"margin-left:auto; margin-right:auto\"/>"
   ]
  }
 ],
 "metadata": {
  "kernelspec": {
   "display_name": "Python 3 (ipykernel)",
   "language": "python",
   "name": "python3"
  },
  "language_info": {
   "codemirror_mode": {
    "name": "ipython",
    "version": 3
   },
   "file_extension": ".py",
   "mimetype": "text/x-python",
   "name": "python",
   "nbconvert_exporter": "python",
   "pygments_lexer": "ipython3",
   "version": "3.11.1"
  }
 },
 "nbformat": 4,
 "nbformat_minor": 5
}
