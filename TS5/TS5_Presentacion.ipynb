{
 "cells": [
  {
   "cell_type": "markdown",
   "id": "8c4df20e-c353-44c2-a0e8-386019619e80",
   "metadata": {
    "tags": []
   },
   "source": [
    "<img src=\"TS5_Logo_UTN.svg\" align=\"right\" width=\"150\" /> \n",
    "\n",
    "#\n",
    "\n",
    "***\n",
    "#\n",
    "# (950431) Teoría de Circuitos II\n",
    "#\n",
    "***\n",
    "#\n",
    "#### Profesor: Mariano Llamedo Soria  <llamedom@frba.utn.edu.ar>\n",
    "##\n",
    "#### Jefe de TPs: César Fuoco  <cfuoco@frba.utn.edu.ar>\n",
    "##\n",
    "#### Ayudante de TPs: Israel Pavelek <pavel@frba.utn.edu.ar>\n",
    "#"
   ]
  },
  {
   "cell_type": "markdown",
   "id": "e1a0cebe-061e-4999-9fc4-c42b13ffe556",
   "metadata": {},
   "source": [
    "***\n",
    "***\n",
    "\n",
    "#\n",
    "\n",
    "## Trabajo Semanal # 5: Diseño de filtro pasabanda a partir de una plantilla dada\n",
    "\n",
    "#\n",
    "\n",
    "***\n",
    "***\n",
    "\n",
    "#\n",
    "### <span style=\"text-decoration: underline;\">Autor</span>\n",
    "##\n",
    "#### *Moharos, David Santiago* <dmoharos@frba.utn.edu.ar>\n",
    "#\n",
    "***\n",
    "#\n",
    "### <span style=\"text-decoration: underline;\">Integrantes</span>\n",
    "##\n",
    "#### *Iglesias, Facundo Nahuel*\n",
    "##\n",
    "#### *Moharos, David Santiago*\n",
    "##\n",
    "#### *Torres, Miguel Alejandro*\n",
    "#\n",
    "\n",
    "***"
   ]
  },
  {
   "cell_type": "markdown",
   "id": "58fa111d-b8d2-4ff2-8862-a28a3dde2d5f",
   "metadata": {},
   "source": [
    "#\n",
    "### <span style=\"text-decoration: underline;\">Indice</span>\n",
    "##\n",
    "\n",
    "##### 1. [Objetivos](#objetivos)\n",
    "##\n",
    "##### 2. [Análisis](#analisis)\n",
    "##\n",
    "##### 3. [Simulación numérica](#simulacion_numerica)\n",
    "##\n",
    "##### 3. [Simulación circuital](#simulacion_circuital)\n",
    "##\n",
    "##### 4. [Metodología de trabajo](#metodologia_de_trabajo)\n",
    "##\n",
    "##### 5. [Referencias](#referencias)\n",
    "\n",
    "#\n",
    "\n",
    "***"
   ]
  },
  {
   "cell_type": "markdown",
   "id": "6ee2f1a5-c7b8-4fcc-adee-a5eca54a64ad",
   "metadata": {},
   "source": [
    "\n",
    "#####\n",
    "<a id=\"introduccion\"></a>\n",
    "### <span style=\"text-decoration: underline;\">Introducción</span>\n",
    "#####\n",
    "\n",
    "##### \n",
    "##### \n",
    "#####\n",
    "\n",
    "#####\n",
    "\n",
    "***"
   ]
  },
  {
   "cell_type": "markdown",
   "id": "fa554697-2348-4048-b09d-7b7af91bf99a",
   "metadata": {},
   "source": [
    "#\n",
    "<a id=\"objetivos\"></a>\n",
    "### <span style=\"text-decoration: underline;\">Objetivos</span>\n",
    "##\n",
    "\n",
    "#### > Obtener la plantilla de diseño pasabanda normalizada\n",
    "##\n",
    "#### > Obtener la función transferencia normalizada del prototipo pasabajo que satisfaga el requerimiento del filtro pasabanda.\n",
    "##\n",
    "#### > Obtener la transferencia pasabanda normalizada\n",
    "##\n",
    "#### > Implementar mediante secciones pasivas separadas por seguidores de tensión activos.\n",
    "##\n",
    "#### > Activar las redes pasivas mediante la red propuesta aquí debajo y comprobar mediante simulación el comportamiento deseado.\n",
    "\n",
    "#\n",
    "\n",
    "<img src=\"TS5_Activacion_Red_Pasiva_Grafica.png\" style=\"margin-left:auto; margin-right:auto\"/>\n",
    "\n",
    "#\n",
    "\n",
    "***"
   ]
  },
  {
   "cell_type": "markdown",
   "id": "cbe60a39-6409-4e2f-9ac6-2eae174b3c08",
   "metadata": {},
   "source": [
    "##\n",
    "<a id=\"analisis\"></a>\n",
    "### <span style=\"text-decoration: underline;\">Análisis:</span>\n",
    "##"
   ]
  },
  {
   "cell_type": "markdown",
   "id": "f76e7e52-b4d3-4337-809b-2ef58b80f84c",
   "metadata": {
    "tags": []
   },
   "source": [
    "#\n",
    "\n",
    "#### <span style=\"text-decoration: underline;\">Datos de plantilla filtro pasa banda objetivo</span>\n",
    "\n",
    "#\n",
    "\n",
    "<img src=\"TS5_Plantilla_Filtro_BP_Grafica.png\" style=\"margin-left:auto; margin-right:auto\"/>\n",
    "\n",
    "#"
   ]
  },
  {
   "cell_type": "markdown",
   "id": "c433e383-908e-4439-a510-73322703754b",
   "metadata": {},
   "source": [
    "#\n",
    "##### $\\omega_{0}= 2*\\pi*22 kHz$\n",
    "##\n",
    "##### $Q= 5$\n",
    "##\n",
    "##### Aproximación de Chevyshev con ripple de $\\alpha_{máx}= 0,5 dB$\n",
    "##\n",
    "##### $\\left|T(f_{s1})\\right|= -16 dB$\n",
    "##\n",
    "##### $\\left|T(f_{s2})\\right|= -24 dB$\n",
    "##\n",
    "##### $f_{s_{1}}= 17 kHz$\n",
    "##\n",
    "##### $f_{s_{2}}= 36 kHz$\n",
    "#\n",
    "\n",
    "***"
   ]
  },
  {
   "cell_type": "markdown",
   "id": "ae7ce03e-69df-42b3-85e2-00f8373f5360",
   "metadata": {},
   "source": [
    "#\n",
    "\n",
    "#### <span style=\"text-decoration: underline;\">Obtención de frecuencias de corte inferior y superior:</span>\n",
    "\n",
    "#\n",
    "##### Referimos a la ecuación 9.16 del libro de Schaumann, Van Valkenburg, *\"Design of Analog Filters\"*, en adelante mencionado sencillamente como \"el libro de Schaumann\" [$^{(1)}$](#1):\n",
    "##\n",
    "\n",
    "\\begin{equation*}\n",
    "\\omega_0= \\sqrt{\\omega_1*\\omega_2}\n",
    "\\end{equation*}\n",
    "\n",
    "##\n",
    "##### Reescribimos la ecuación de $\\omega_2$ en función de $\\omega_0$ y $\\omega_1$:\n",
    "##\n",
    "\n",
    "\\begin{equation*}\n",
    "\\omega_2= \\frac{\\omega_0^2}{\\omega_1}\n",
    "\\end{equation*}\n",
    "\n",
    "##\n",
    "##### Referimos a la ecuación 9.19 del libro de Schaumann [$^{(2)}$](#2):\n",
    "##\n",
    "\n",
    "\\begin{equation*}\n",
    "Q= \\frac{\\omega_0}{B}= \\frac{1}{\\frac{\\omega_2}{\\omega_0}-\\frac{\\omega_1}{\\omega_0}} \n",
    "\\end{equation*}\n",
    "\n",
    "##\n",
    "##### Reescribimos la ecuación de $\\omega_2$ en función de $\\omega_0$ y $\\omega_1$:\n",
    "##\n",
    "\n",
    "\\begin{equation*}\n",
    "Q= \\frac{1}{\\frac{\\omega_2-\\omega_1}{\\omega_0}} \n",
    "\\end{equation*}\n",
    "\n",
    "##\n",
    "\n",
    "\\begin{equation*}\n",
    "Q= \\frac{\\omega_0}{\\omega_2-\\omega_1} \n",
    "\\end{equation*}\n",
    "\n",
    "##\n",
    "\n",
    "\\begin{equation*}\n",
    "\\omega_2-\\omega_1= \\frac{\\omega_0}{Q} \n",
    "\\end{equation*}\n",
    "\n",
    "##\n",
    "\n",
    "\\begin{equation*}\n",
    "\\omega_2= \\frac{\\omega_0}{Q}+\\omega_1\n",
    "\\end{equation*}\n",
    "\n",
    "##\n",
    "##### Resolvemos el sistema de ecuaciones que resulta de la igualdad de ambas ecuaciones de $\\omega_2$:\n",
    "##\n",
    "\n",
    "\\begin{equation*}\n",
    "\\frac{\\omega_0^2}{\\omega_1}= \\frac{\\omega_0}{Q}+\\omega_1\n",
    "\\end{equation*}\n",
    "\n",
    "##\n",
    "\n",
    "\\begin{equation*}\n",
    "\\frac{\\omega_0^2}{\\omega_1}-\\omega_1= \\frac{\\omega_0}{Q}\n",
    "\\end{equation*}\n",
    "\n",
    "##\n",
    "##### Multiplicamos a ambos miembros por $\\omega_1$:\n",
    "##\n",
    "\n",
    "\\begin{equation*}\n",
    "\\left(\\frac{\\omega_0^2}{\\omega_1}-\\omega_1\\right)*\\omega_1= \\frac{\\omega_0}{Q}*\\omega_1\n",
    "\\end{equation*}\n",
    "\n",
    "##\n",
    "\n",
    "\\begin{equation*}\n",
    "\\omega_0^2 - \\omega_1^2= \\frac{\\omega_0}{Q}*\\omega_1\n",
    "\\end{equation*}\n",
    "\n",
    "##\n",
    "\n",
    "\\begin{equation*}\n",
    "\\omega_1^2+ \\frac{\\omega_0}{Q}*\\omega_1 -\\omega_0^2= 0\n",
    "\\end{equation*}\n",
    "\n",
    "##\n",
    "##### Reemplazamos valores y resolvemos la ecuación cuadrática:\n",
    "##\n",
    "\n",
    "\\begin{equation*}\n",
    "\\omega_1^2+ \\frac{2*\\pi*22kHz}{5}*\\omega_1 -(2*\\pi*22kHz)^2= 0\n",
    "\\end{equation*}\n",
    "\n",
    "##\n",
    "\n",
    "\\begin{equation*}\n",
    "\\omega_1^2+ 8800*\\pi*\\left[\\frac{rad}{s}\\right]*\\omega_1- 1,936*10^9*\\pi^2\\left[\\frac{rad}{s}\\right]^2= 0\n",
    "\\end{equation*}\n",
    "\n",
    "##\n",
    "\n",
    "\\begin{equation*}\n",
    "\\omega_{11}= 125,0965*10^3 \\left[\\frac{rad}{s}\\right]\n",
    "\\end{equation*}\n",
    "\n",
    "##\n",
    "\n",
    "\\begin{equation*}\n",
    "\\omega_{12}= \\text{- ___________} \\left[\\frac{rad}{s}\\right] \\rightarrow descartado\n",
    "\\end{equation*}\n",
    "\n",
    "##\n",
    "##### Reemplazamos $\\omega_{11}=\\omega_1$ en una de las ecuaciones de $\\omega_2$ y obtenemos en consecuencia:\n",
    "##\n",
    "\n",
    "\\begin{equation*}\n",
    "\\omega_2= \\frac{\\omega_0^2}{\\omega_1}= \\frac{(2*\\pi*22kHz)^2}{125,0965*10^3\\left[\\frac{rad}{s}\\right]} \n",
    "\\end{equation*}\n",
    "\n",
    "##\n",
    "\n",
    "\\begin{equation*}\n",
    "\\omega_2= 152,7425*10^3 \\left[\\frac{rad}{s}\\right] \n",
    "\\end{equation*}\n",
    "\n",
    "#\n",
    "\n",
    "***"
   ]
  },
  {
   "cell_type": "markdown",
   "id": "0fc802b2-dfc0-443c-9de9-c2e193818db2",
   "metadata": {},
   "source": [
    "#\n",
    "\n",
    "#### <span style=\"text-decoration: underline;\">Normalización de plantilla filtro pasa banda objetivo:</span>\n",
    "\n",
    "##\n",
    "##### Tomamos como norma de pulsación $\\omega_0$ para que la frecuencia central del filtro pasa banda sea unitaria [$^{(3)}$](#3):\n",
    "##\n",
    "\n",
    "\\begin{equation*}\n",
    "\\Omega_{\\omega}= \\omega_0= 2*\\pi*22*10^3 \\left[\\frac{rad}{s}\\right]\n",
    "\\end{equation*}\n",
    "\n",
    "##\n",
    "##### Las frecuencias normalizadas quedan de la siguiente manera:\n",
    "##\n",
    "\n",
    "\\begin{equation*}\n",
    "\\omega_{s_{1_{n}}}= \\frac{\\omega_{s_{1}}}{\\Omega_{\\omega}}= \\frac{2*\\pi*17*10^3\\left[\\frac{rad}{s}\\right]}{2*\\pi*22*10^3\\left[\\frac{rad}{s}\\right]}= 0,7727\n",
    "\\end{equation*}\n",
    "\n",
    "##\n",
    "\n",
    "\\begin{equation*}\n",
    "\\omega_{1_{n}}= \\frac{\\omega_{1}}{\\Omega_{\\omega}}= \\frac{125,0965*10^3\\left[\\frac{rad}{s}\\right]}{2*\\pi*22*10^3\\left[\\frac{rad}{s}\\right]}= 0,9050\n",
    "\\end{equation*}\n",
    "\n",
    "##\n",
    "\n",
    "\\begin{equation*}\n",
    "\\omega_{0_{n}}= \\frac{\\omega_0}{\\Omega_{\\omega}}= \\frac{2*\\pi*22*10^3\\left[\\frac{rad}{s}\\right]}{2*\\pi*22*10^3\\left[\\frac{rad}{s}\\right]}= 1\n",
    "\\end{equation*}\n",
    "\n",
    "##\n",
    "\n",
    "\\begin{equation*}\n",
    "\\omega_{2_{n}}= \\frac{\\omega_{2}}{\\Omega_{\\omega}}= \\frac{152,7425*10^3\\left[\\frac{rad}{s}\\right]}{2*\\pi*22*10^3\\left[\\frac{rad}{s}\\right]}= 1,1050\n",
    "\\end{equation*}\n",
    "\n",
    "##\n",
    "\n",
    "\\begin{equation*}\n",
    "\\omega_{s_{2_{n}}}= \\frac{\\omega_{s_{2}}}{\\Omega_{\\omega}}= \\frac{2*\\pi*36*10^3\\left[\\frac{rad}{s}\\right]}{2*\\pi*22*10^3\\left[\\frac{rad}{s}\\right]}= 1,6364\n",
    "\\end{equation*}\n",
    "\n",
    "##\n",
    "##### <span style=\"text-decoration: underline;\">Nota:</span> En adelante omitiremos el sunbíndice $n$ sin perder de vista que se trata de pulsaciones, o bien frecuencias, normalizadas.\n",
    "\n",
    "#\n",
    "#### <span style=\"text-decoration: underline;\">Plantilla filtro pasa banda objetivo normalizada:</span>\n",
    "#\n",
    "\n",
    "<img src=\"TS5_Plantilla_Filtro_BP_Grafica_Normalizada.png\" style=\"margin-left:auto; margin-right:auto\"/>\n",
    "\n",
    "#\n",
    "\n",
    "***"
   ]
  },
  {
   "cell_type": "markdown",
   "id": "0f9e7bb2-40c7-40da-8f0f-eb05a12e9dad",
   "metadata": {},
   "source": [
    "# \n",
    "#### <span style=\"text-decoration: underline;\">Datos de plantilla filtro pasa bajos prototipo</span>\n",
    "##\n",
    "<img src=\"TS5_Plantilla_Filtro_LP_Grafica.png\" style=\"margin-left:auto; margin-right:auto\"/>\n",
    "\n",
    "#"
   ]
  },
  {
   "cell_type": "markdown",
   "id": "e67f7ce9-6c21-4250-b85c-8d5f7e77311d",
   "metadata": {},
   "source": [
    "##\n",
    "\n",
    "#### <span style=\"text-decoration: underline;\">Obtención de frecuencia del inicio de la banda de detenida $\\Omega_s$:</span>\n",
    "\n",
    "##\n",
    "##### Referimos a la ecuación 9.18c del libro de Schaumann [$^{(4)}$](#4):\n",
    "##\n",
    "\n",
    "\\begin{equation*}\n",
    "S= Q*\\frac{s-1}{s}\n",
    "\\end{equation*}\n",
    "\n",
    "##\n",
    "##### Expresamos en términos de $\\Omega$ y $\\omega$:\n",
    "##\n",
    "\n",
    "\\begin{equation*}\n",
    "\\Omega= Q*\\frac{\\omega^2-1}{\\omega}\n",
    "\\end{equation*}\n",
    "\n",
    "##\n",
    "##### Para el caso de estudio en cuestión, ocurre que, como $\\omega_{s_{1}}*\\omega_{s_{2}}\\neq1$ y $\\alpha_{min}$ es distinto para cada una de las bandas de detenida, debemos obtener $\\Omega_s$ para cada uno de los inicios mencionados del filtro pasa banda [$^{(5)}$](#5):\n",
    "##\n",
    "\n",
    "\\begin{equation*}\n",
    "\\Omega_{s_{1}}= Q*\\frac{\\omega_{s_{1}}^2-1}{\\omega_{s_{1}}}= 5*\\frac{0,7727^2-1}{0,7727} \n",
    "\\end{equation*}\n",
    "\n",
    "##\n",
    "\n",
    "\\begin{equation*}\n",
    "\\Omega_{s_{1}}= -2,6073\n",
    "\\end{equation*}\n",
    "\n",
    "##\n",
    "##### <span style=\"text-decoration: underline;\">Nota:</span> El valor obtenido de $\\Omega_{s_{1}}$, resulta ser negativo pero debido a que $|T_{LP}|$ es una función par, desestimamos el signo en cuestión [$^{(6)}$](#6).\n",
    "##\n",
    "\n",
    "\\begin{equation*}\n",
    "\\boxed{\\Omega_{s_{1}}= 2,6073}\n",
    "\\end{equation*}\n",
    "\n",
    "##\n",
    "\n",
    "\\begin{equation*}\n",
    "\\Omega_{s_{2}}= Q*\\frac{\\omega_{s_{2}}^2-1}{\\omega_{s_{2}}}= 5*\\frac{1,6364^2-1}{1,6364} \n",
    "\\end{equation*}\n",
    "\n",
    "##\n",
    "\n",
    "\\begin{equation*}\n",
    "\\boxed{\\Omega_{s_{2}}= 5,1265}\n",
    "\\end{equation*}\n",
    "\n",
    "#\n",
    "\n",
    "***"
   ]
  },
  {
   "cell_type": "markdown",
   "id": "270aa71b-4724-47d1-9e5b-ca0b5f62e96a",
   "metadata": {
    "tags": []
   },
   "source": [
    "#\n",
    "#### <span style=\"text-decoration: underline;\">Cálculo de $\\epsilon$, grado de libertad de la función, y $N$, el orden del filtro pasa bajos</span>\n",
    "##\n",
    "\n",
    "##### Tomando como referencia las ecuaciones de $|T(j\\Omega)|^2$ en su aproximación de Chevyshev[$^{(7)}$](#7)[$^{(8)}$](#8) según requerimiento del enunciado:\n",
    "##\n",
    "\n",
    "\\begin{equation*}\n",
    "|T(j\\Omega)|^2= T(j\\Omega)*T(-j\\Omega)= {T(s)*T(-s)}\\Bigr|_{s= j\\Omega}= \\frac{1}{1+\\epsilon^2*C_n^2(\\Omega)}\n",
    "\\end{equation*}\n",
    "\n",
    "##\n",
    "##### Podemos entonces establecer la atenuación en función de la ecuación anterior como la inversa de $|T(j\\Omega)|^2$:\n",
    "##\n",
    "\n",
    "\\begin{equation*}\n",
    "|\\alpha|^2= \\frac{1}{|T(j\\Omega)|^2}= \\frac{1}{\\frac{1}{1+\\epsilon^2*C_n^2(\\Omega)}}= 1+\\epsilon^2*C_n^2(\\Omega)\n",
    "\\end{equation*}\n",
    "\n",
    "##\n",
    "##### Considerando que $|\\alpha|_{dB} \\triangleq \\alpha_{dB}$, podemos expresar la ecuación en dB [$^{(9)}$](#9):\n",
    "##\n",
    "\n",
    "\\begin{equation*}\n",
    "\\alpha_{dB}= 10*log\\left[1+\\epsilon^2*C_n^2(\\Omega)\\right]\n",
    "\\end{equation*}\n",
    "\n",
    "##\n",
    "##### Expresamos $\\epsilon^2$ como resultado de la ecuación anterior [$^{(10)}$](#10):\n",
    "##\n",
    "\n",
    "\\begin{equation*}\n",
    "\\epsilon^2= \\frac{10^{\\frac{\\alpha_{dB}}{10}}-1}{C_n^2(\\Omega)}\n",
    "\\end{equation*}\n",
    "\n",
    "##\n",
    "##### Considerando la máxima atenuación requerida por la plantilla $\\alpha_{máx}$ en el fin de la banda de paso $\\Omega_p$, obtenemos $\\epsilon^2$:\n",
    "##\n",
    "\n",
    "\\begin{equation*}\n",
    "\\epsilon^2= \\frac{10^{\\frac{\\alpha_{máx}}{10}}-1}{C_n^2(\\Omega_p)}= \\frac{10^{\\frac{20}{10}}-1}{1}\n",
    "\\end{equation*}\n",
    "\n",
    "##\n",
    "\n",
    "\\begin{equation*}\n",
    "\\boxed{ε^2= 0,1220}\n",
    "\\end{equation*}\n",
    "\n",
    "##\n",
    "\n",
    "\\begin{equation*}\n",
    "\\boxed{ε= 0,3493}\n",
    "\\end{equation*}\n",
    "\n",
    "##\n",
    "##### Nuevamente debido a que $\\alpha_{min}$ es distinto para cada una de las bandas de detenida, debemos obtener $N$ para cada uno de los casos:\n",
    "##\n",
    "##### Considerando la mínima atenuación requerida por la plantilla en el inicio de la banda de detenida correspondiente al par ordenado $\\left(\\alpha_{mín_{1}}, \\Omega_{s_{1}}\\right)$, iteramos N de forma tal que la atenuación sea mayor o igual a $\\alpha_{mín_{1}}$:\n",
    "##\n",
    "\n",
    "\\begin{equation*}\n",
    "\\alpha_{mín} = 10*log\\left[1 + \\epsilon^2*C_n^2(\\Omega_{s_{1}})\\right]\n",
    "\\end{equation*}\n",
    "\n",
    "##\n",
    "\n",
    "\\begin{equation*}\n",
    "N= 1: ¿\\alpha(\\Omega_{s_{1}}) = 2,6230 dB \\geq α_{mín}= 16 dB? \\rightarrow No...\n",
    "\\end{equation*}\n",
    "\n",
    "##\n",
    "\n",
    "\\begin{equation*}\n",
    "N= 2: ¿\\alpha(\\Omega_{s_{1}}) = 13,0880 dB \\geq α_{mín}= 16 dB? \\rightarrow No...\n",
    "\\end{equation*}\n",
    "\n",
    "##\n",
    "\n",
    "\\begin{equation*}\n",
    "N= 3: ¿\\alpha(\\Omega_{s_{1}}) = 26,8700 dB \\geq α_{mín}= 16 dB? \\rightarrow ¡Sí!\n",
    "\\end{equation*}\n",
    "\n",
    "##\n",
    "##### Realizamos lo propio para el par ordenado $\\left(\\alpha_{mín_{2}}, \\Omega_{s_{2}}\\right)$:\n",
    "##\n",
    "\n",
    "\\begin{equation*}\n",
    "N= 1: ¿\\alpha(\\Omega_{s_{2}}) = 6,2390 dB \\geq α_{mín}= 24 dB? \\rightarrow No...\n",
    "\\end{equation*}\n",
    "\n",
    "##\n",
    "\n",
    "\\begin{equation*}\n",
    "N= 2: ¿\\alpha(\\Omega_{s_{2}}) = 25,1240 dB \\geq α_{mín}= 24 dB? \\rightarrow ¡Sí!\n",
    "\\end{equation*}\n",
    "\n",
    "##\n",
    "##### Finalmente se elige aquel $N$ que sea el mayor de los dos obtenidos de forma tal que satisfaga ambos requerimientos simultáneamente[$^{(11)}$](#11):\n",
    "##\n",
    "\n",
    "\\begin{equation*}\n",
    "\\boxed{N= 3}\n",
    "\\end{equation*}\n",
    "\n",
    "##\n",
    "\n",
    "***\n",
    "\n",
    "##\n",
    "#### <span style=\"text-decoration: underline;\">Cálculo de la función transferencia $T_{LP}(\\$)$</span>\n",
    "##\n",
    "\n",
    "##### Recordando que $\\left|T(j\\Omega)\\right|^2= T(j\\Omega)*T(-j\\Omega)= {T(s)*T(-s)}\\Bigr|_{s= j\\Omega}= \\frac{1}{1+\\epsilon^2*C_n^2(\\Omega)}$ y habiendo obtenido $\\epsilon^2$ y $N$, procedemos a calcular los polinomios de orden $N$ de Chevyshev definidos como:\n",
    "##\n",
    "\n",
    "\\begin{equation*}\n",
    "C_n^2= cosh^2\\left[n*cosh^{-1}(\\Omega_{s})\\right]\n",
    "\\end{equation*}\n",
    "\n",
    "##\n",
    "##### Utilizando identidades trigonómetricas [$^{(12)}$](#12), calculamos el polinomio para el grado $N$ obtenido:\n",
    "##\n",
    "\n",
    "\\begin{equation*}\n",
    "C_0(\\Omega)= 1 \n",
    "\\end{equation*}\n",
    "\n",
    "##\n",
    "\n",
    "\\begin{equation*}\n",
    "C_1(\\Omega)= \\Omega\n",
    "\\end{equation*}\n",
    "\n",
    "##\n",
    "\n",
    "\\begin{equation*}\n",
    "C_n(\\Omega)= 2*\\Omega*C_{n-1}(\\Omega) - C_{n-2}(\\Omega) \n",
    "\\end{equation*}\n",
    "\n",
    "##\n",
    "\n",
    "\\begin{equation*}\n",
    "C_2(\\Omega)= 2*\\Omega*\\Omega - 1= 2*\\Omega^2-1 \n",
    "\\end{equation*}\n",
    "\n",
    "##\n",
    "\n",
    "\\begin{equation*}\n",
    "C_3(\\Omega)= 2*\\Omega\\left(2*\\Omega^2-1\\right) - \\Omega= 4*\\Omega^3 -2*\\Omega -\\Omega= 4*\\Omega^3 -3*\\Omega  \n",
    "\\end{equation*}\n",
    "\n",
    "##\n",
    "##### Reemplazando el polinomio de grado 3 en la ecuación de $|T(j\\Omega)|^2= \\frac{1}{1+\\epsilon^2*C_n^2(\\Omega)}$, operamos algebraicamente:\n",
    "##\n",
    "\n",
    "\\begin{equation*}\n",
    "\\left|T(j\\Omega)\\right|^2_{\\Omega=\\frac{$}{j}}= \\frac{1}{1+\\epsilon^2*C_3^2(\\Omega)}\n",
    "\\end{equation*}\n",
    "\n",
    "##\n",
    "\n",
    "\\begin{equation*}\n",
    "\\left|T(j\\Omega)\\right|^2_{\\Omega=\\frac{$}{j}}= \\frac{1}{1+\\epsilon^2*(4*\\Omega^3 -3*\\Omega)^2}\n",
    "\\end{equation*}\n",
    "\n",
    "##\n",
    "\n",
    "\\begin{equation*}\n",
    "\\left|T(j\\Omega)\\right|^2_{\\Omega=\\frac{$}{j}}= \\frac{1}{1+\\epsilon^2*(4*\\Omega^3 -3*\\Omega)*(4*\\Omega^3 -3*\\Omega)}\n",
    "\\end{equation*}\n",
    "\n",
    "##\n",
    "\n",
    "\\begin{equation*}\n",
    "\\left|T(j\\Omega)\\right|^2_{\\Omega=\\frac{$}{j}}= \\frac{1}{1+\\epsilon^2*(16*\\Omega^6 -12*\\Omega^4 -12*\\Omega^4 +9*\\Omega^2)}\n",
    "\\end{equation*}\n",
    "\n",
    "##\n",
    "\n",
    "\\begin{equation*}\n",
    "\\left|T(j\\Omega)\\right|^2_{\\Omega=\\frac{$}{j}}= \\frac{1}{16*\\epsilon^2*\\Omega^6 -24*\\epsilon^2*\\Omega^4 +9*\\epsilon^2*\\Omega^2 +1}\n",
    "\\end{equation*}\n",
    "\n",
    "##\n",
    "##### Dejamos mónico el polinomio denominador dividiendo numerador y denominador por $16*\\epsilon^2$:\n",
    "##\n",
    "\n",
    "\\begin{equation*}\n",
    "\\left|T(j\\Omega)\\right|^2_{\\Omega=\\frac{$}{j}}= \\frac{\\frac{1}{16*\\epsilon^2}} {\\frac{16*\\epsilon^2}{16*\\epsilon^2}*\\Omega^6 -\\frac{24*\\epsilon^2}{16*\\epsilon^2}*\\Omega^4 +\\frac{9*\\epsilon^2}{16*\\epsilon^2}*\\Omega^2 +\\frac{1}{16*\\epsilon^2}}\n",
    "\\end{equation*}\n",
    "\n",
    "##\n",
    "##### Definimos los coeficientes $a$, $b$ y $c$ como:\n",
    "##\n",
    "\n",
    "\\begin{equation*}\n",
    "a= \\frac{1}{16*\\epsilon^2}\n",
    "\\end{equation*}\n",
    "\n",
    "##\n",
    "\n",
    "\\begin{equation*}\n",
    "b= \\frac{24*\\epsilon^2}{16*\\epsilon^2}= \\frac{3}{2}\n",
    "\\end{equation*}\n",
    "\n",
    "##\n",
    "\n",
    "\\begin{equation*}\n",
    "c= \\frac{9*\\epsilon^2}{16*\\epsilon^2}= \\frac{9}{16}\n",
    "\\end{equation*}\n",
    "\n",
    "##\n",
    "##### Obtenemos $\\left|T(j\\Omega)\\right|^2_{\\Omega=\\frac{$}{j}}$ en función de los coeficientes $a$, $b$ y $c$:\n",
    "##\n",
    "\n",
    "\\begin{equation*}\n",
    "\\left|T(j\\Omega)\\right|^2_{\\Omega=\\frac{$}{j}}= \\frac{a} {\\Omega^6 -b*\\Omega^4 +c*\\Omega^2 +a}\n",
    "\\end{equation*}\n",
    "\n",
    "##\n",
    "##### Reemplazando $\\Omega$ por $\\frac{$}{j}$, obtenemos:\n",
    "##\n",
    "\n",
    "\\begin{equation*}\n",
    "T($)*T(-$)= \\frac{a} {\\left(\\frac{$}{j}\\right)^6 -b*\\left(\\frac{$}{j}\\right)^4 +c*\\left(\\frac{$}{j}\\right)^2 +a}\n",
    "\\end{equation*}\n",
    "\n",
    "##\n",
    "\n",
    "\\begin{equation*}\n",
    "T($)*T(-$)= \\frac{a} {-$^6 -b*$^4 -c*$^2 +a}\n",
    "\\end{equation*}\n",
    "\n",
    "##\n",
    "##### Expresamos la ecuación de forma general:\n",
    "##\n",
    "\n",
    "\\begin{equation*}\n",
    "T($)*T(-$)= \\frac{\\alpha}{$^3 + \\beta*$^2 + \\gamma*$ + \\alpha}*\\frac{\\alpha}{-$^3 + \\beta*$^2 + -\\gamma*$ + \\alpha}\n",
    "\\end{equation*}\n",
    "\n",
    "##\n",
    "\n",
    "\\begin{equation*}\n",
    "T($)*T(-$)= \\frac{\\alpha^2}{-$^6 +\\beta*$^5 -\\gamma*$^4 + \\alpha*$^3 -\\beta*$^5 +\\beta^2*$^4 -\\beta*\\gamma*$^3 +\\alpha*\\beta*$^2 -\\gamma*$^4 +\\beta*\\gamma*$^3 -\\gamma^2*$^2 +\\alpha*\\gamma*$ -\\alpha*$^3 +\\alpha*\\beta*$^2 -\\alpha*\\gamma*$ +\\alpha^2}\n",
    "\\end{equation*}\n",
    "\n",
    "##\n",
    "\n",
    "\\begin{equation*}\n",
    "T($)*T(-$)= \\frac{\\alpha^2}{-$^6 +(\\beta- \\beta)*$^5 +(-\\gamma +\\beta^2 -\\gamma)*$^4 +(\\alpha -\\beta*\\gamma +\\beta*\\gamma -\\alpha)*$^3 +(\\alpha*\\beta -\\gamma^2 +\\alpha*\\beta)*$^2 +(\\alpha*\\gamma -\\alpha*\\gamma)*$ +\\alpha^2}\n",
    "\\end{equation*}\n",
    "\n",
    "##\n",
    "\n",
    "\\begin{equation*}\n",
    "T($)*T(-$)= \\frac{\\alpha^2}{-$^6 +(\\beta^2 -2*\\gamma)*$^4 +(2*\\alpha*\\beta -\\gamma^2)*$^2 +\\alpha^2}\n",
    "\\end{equation*}\n",
    "\n",
    "##\n",
    "##### Igualamos los coeficientes de ambas expresiones y resolvemos el sistema de ecuaciones:\n",
    "##\n",
    "\n",
    "\\begin{equation*}\n",
    "a= \\alpha^2= \\frac{1}{16*\\epsilon^2}\n",
    "\\end{equation*}\n",
    "\n",
    "##\n",
    "\n",
    "\\begin{equation*}\n",
    "\\alpha= \\frac{1}{4*\\epsilon}= \\frac{1}{4*0,3493}= 0,7157 \n",
    "\\end{equation*}\n",
    "\n",
    "##\n",
    "\n",
    "\\begin{equation*}\n",
    "-b= \\beta^2 -2*\\gamma= -\\frac{3}{2}\n",
    "\\end{equation*}\n",
    "\n",
    "##\n",
    "\n",
    "\\begin{equation*}\n",
    "\\gamma= \\frac{\\beta^2}{2} +\\frac{3}{4}\n",
    "\\end{equation*}\n",
    "\n",
    "##\n",
    "\n",
    "\\begin{equation*}\n",
    "-c= 2*\\alpha*\\beta -\\gamma^2= -\\frac{16}{9}\n",
    "\\end{equation*}\n",
    "\n",
    "##\n",
    "\n",
    "\\begin{equation*}\n",
    "\\beta= \\frac{\\gamma^2}{2*\\alpha} -\\frac{9}{32*\\alpha}\n",
    "\\end{equation*}\n",
    "\n",
    "##\n",
    "##### Reemplazamos el valor de $\\alpha$ en la ecuación de $\\beta$:\n",
    "##\n",
    "\n",
    "\\begin{equation*}\n",
    "\\beta= \\frac{\\gamma^2}{2*0,7157} -\\frac{9}{32*0,7157}= \\frac{\\gamma^2}{1,4314} -0,3930 \n",
    "\\end{equation*}\n",
    "\n",
    "##\n",
    "##### Reemplazamos la ecuación de $\\gamma$ en la de $\\beta$:\n",
    "##\n",
    "\n",
    "\\begin{equation*}\n",
    "\\beta= \\frac{\\left( \\frac{\\beta^2}{2} +\\frac{3}{4} \\right)^2}{1,4314} -0,3930\n",
    "\\end{equation*}\n",
    "\n",
    "##\n",
    "\n",
    "\\begin{equation*}\n",
    "\\beta= \\frac{\\left( \\frac{\\beta^4}{4} +2*\\frac{\\beta^2}{2}*\\frac{3}{4} +\\frac{9}{16}\\right)}{1,4314} -0,3930\n",
    "\\end{equation*}\n",
    "\n",
    "##\n",
    "\n",
    "\\begin{equation*}\n",
    "\\beta= 0,6986*\\left( \\frac{\\beta^4}{4} +\\frac{3}{4}*\\beta^2 +\\frac{9}{16}\\right) -0,3930\n",
    "\\end{equation*}\n",
    "\n",
    "##\n",
    "\n",
    "\\begin{equation*}\n",
    "\\beta= 0,6986*\\frac{\\beta^4}{4} +0,6986*\\frac{3}{4}*\\beta^2 +0,6986*\\frac{9}{16} -0,3930 \n",
    "\\end{equation*}\n",
    "\n",
    "##\n",
    "\n",
    "\\begin{equation*}\n",
    "0,1747*\\beta^4 +0,5239*\\beta^2 -\\beta +0,3930 -0,3930= 0 \n",
    "\\end{equation*}\n",
    "\n",
    "##\n",
    "\n",
    "\\begin{equation*}\n",
    "\\beta^4 +2,99889*\\beta^2 -5,7241*\\beta= 0 \n",
    "\\end{equation*}\n",
    "\n",
    "##\n",
    "\n",
    "\\begin{equation*}\n",
    "\\beta*\\left(\\beta^3 +2,99889*\\beta -5,7241\\right)= 0 \n",
    "\\end{equation*}\n",
    "\n",
    "##\n",
    "\n",
    "\\begin{equation*}\n",
    "\\beta_1= 0 \\; , \\quad \\beta_2= 1,2529 \\; , \\quad \\beta_3= u +jv \\; , \\quad \\beta_4= u -jv  \n",
    "\\end{equation*}\n",
    "\n",
    "##\n",
    "##### Reemplazando $\\beta_2= \\beta= 1,2529$ en la ecuación de $\\gamma$:\n",
    "##\n",
    "\n",
    "\\begin{equation*}\n",
    "\\gamma= \\frac{\\beta^2}{2} +\\frac{3}{4}= \\frac{1,2529^2}{2} +\\frac{3}{4}= 1,5349\n",
    "\\end{equation*}\n",
    "\n",
    "##\n",
    "##### Podemos expresar entonces la transferencia pasa bajos prototipo normalizada $T_{LP}(\\$)$:\n",
    "##\n",
    "\n",
    "\\begin{equation*}\n",
    "\\boxed{T_{LP}($)= \\frac{\\alpha}{$^3 + \\beta*$^2 + \\gamma*$ + \\alpha}= \\frac{0,7157}{$^3 + 1,2529*$^2 + 1,5349*$ + 0,7157}}\n",
    "\\end{equation*}\n",
    "\n",
    "##\n",
    "\n",
    "***\n",
    "\n",
    "##\n",
    "#### <span style=\"text-decoration: underline;\">Cálculo de la función transferencia $T_{BP}(s)$</span>\n",
    "##\n",
    "\n",
    "##### Aplicamos el núcleo de la transformación $\\$= K(s)= Q*\\frac{s^2+1}{s}$ para obtener la transferencia pasa banda objetivo normalizada $T_{BP}(s)$[$^{(13)}$](#13):\n",
    "##\n",
    "\n",
    "\\begin{equation*}\n",
    "T_{LP}(\\$)\\Bigr|_{\\$= K(s)= Q*\\frac{s^2+1}{s} }= T_{BP}(s)\n",
    "\\end{equation*}\n",
    "\n",
    "##\n",
    "\n",
    "\\begin{equation*}\n",
    "T_{BP}(s)= \\frac{0,7157}{\\left(Q*\\frac{s^2+1}{s}\\right)^3 + 1,2529*\\left(Q*\\frac{s^2+1}{s}\\right)^2 + 1,5349*\\left(Q*\\frac{s^2+1}{s}\\right) + 0,7157}\n",
    "\\end{equation*}\n",
    "\n",
    "##\n",
    "\n",
    "\\begin{equation*}\n",
    "T_{BP}(s)= \\frac{0,7157}{Q^3*\\frac{(s^2+1)^3}{s^3} + 1,2529*Q^2*\\frac{(s^2+1)^2}{s^2} + 1,5349*Q*\\frac{\\left(s^2+1\\right)}{s} + 0,7157}\n",
    "\\end{equation*}\n",
    "\n",
    "##\n",
    "\n",
    "\\begin{equation*}\n",
    "T_{BP}(s)= \\frac{0,7157}{Q^3*\\frac{\\left(s^6+3*s^4+3*s^2+1\\right)}{s^3} + 1,2529*Q^2*\\frac{\\left(s^4+2*s^2+1\\right)}{s^2} + 1,5349*Q*\\frac{\\left(s^2+1\\right)}{s} + 0,7157}\n",
    "\\end{equation*}\n",
    "\n",
    "##\n",
    "\n",
    "\\begin{equation*}\n",
    "T_{BP}(s)= \\frac{0,7157}{\\frac{Q^3*(s^6+3*s^4+3*s^2+1) +1,2529*Q^2*(s^4+2*s^2+1)*s +1,5349*Q*(s^2+1)*s^2 +0,7157*s^3}{s^3}}\n",
    "\\end{equation*}\n",
    "\n",
    "##\n",
    "\n",
    "\\begin{equation*}\n",
    "T_{BP}(s)= \\frac{0,7157*s^3}{Q^3*s^6 +3*Q^3*s^4 +3*Q^3*s^2 +Q^3 +1,2529*Q^2*s^5 + 2*1,2529*Q^2*s^3 + 1,2529*Q^2*s \n",
    "+1,5349*Q*s^4 +1,5349*Q*s^2 +0,7157*s^3}\n",
    "\\end{equation*}\n",
    "\n",
    "##\n",
    "##### Agrupamos los coeficientes según los términos correspondientes:\n",
    "##\n",
    "\n",
    "\\begin{equation*}\n",
    "T_{BP}(s)= \\frac{0,7157*s^3}{Q^3*s^6 +1,2529*Q^2*s^5 +(3*Q^3 +1,5349*Q)*s^4 +(2*1,2529*Q^2 +0,7157)*s^3 +(3*Q^3 +1,5349*Q)*s^2 +1,2529*Q^2*s +Q^3}\n",
    "\\end{equation*}\n",
    "\n",
    "##\n",
    "##### Dejamos mónico el polinimio denominador: dividimos numerador y denominador por $Q^3$:\n",
    "##\n",
    "\n",
    "\\begin{equation*}\n",
    "T_{BP}(s)= \\frac{\\frac{0,7157*s^3}{Q^3}}{\\frac{Q^3*s^6 +1,2529*Q^2*s^5 +(3*Q^3 +1,5349*Q)*s^4 +(2*1,2529*Q^2 +0,7157)*s^3 +(3*Q^3 +1,5349*Q)*s^2 +1,2529*Q^2*s +Q^3}{Q^3}}\n",
    "\\end{equation*}\n",
    "\n",
    "##\n",
    "\n",
    "\\begin{equation*}\n",
    "T_{BP}(s)= \\frac{\\frac{0,7157}{Q^3}*s^3}{\\frac{Q^3}{Q^3}*s^6 +\\frac{1,2529*Q^2}{Q^3}*s^5 +\\left(\\frac{3*Q^3 +1,5349*Q}{Q^3}\\right)*s^4 +\\left(\\frac{2*1,2529*Q^2 +0,7157}{Q^3}\\right)*s^3 +\\left(\\frac{3*Q^3 +1,5349*Q}{Q^3}\\right)*s^2 +\\frac{1,2529*Q^2}{Q^3}*s +\\frac{Q^3}{{Q^3}}}\n",
    "\\end{equation*}\n",
    "\n",
    "##\n",
    "\n",
    "\\begin{equation*}\n",
    "T_{BP}(s)= \\frac{\\frac{0,7157}{Q^3}*s^3} {s^6 +\\frac{1,2529}{Q}*s^5 +\\left(3 +\\frac{1,5349}{Q^2}\\right)*s^4 +\\left(\\frac{2*1,2529}{Q} +\\frac{0,7157}{Q^3}\\right)*s^3 +\\left(3 +\\frac{1,5349}{Q^2}\\right)*s^2 +\\frac{1,2529}{Q}*s +1}\n",
    "\\end{equation*}\n",
    "\n",
    "##\n",
    "##### Reemplazamos el valor de $Q$ en la ecuación anterior y resolvemos:\n",
    "##\n",
    "\n",
    "\\begin{equation*}\n",
    "T_{BP}(s)= \\frac{\\frac{0,7157}{5^3}*s^3} {s^6 +\\frac{1,2529}{5}*s^5 +\\left(3 +\\frac{1,5349}{5^2}\\right)*s^4 +\\left(\\frac{2*1,2529}{5} +\\frac{0,7157}{5^3}\\right)*s^3 +\\left(3 +\\frac{1,5349}{5^2}\\right)*s^2 +\\frac{1,2529}{5}*s +1}\n",
    "\\end{equation*}\n",
    "\n",
    "##\n",
    "\n",
    "\\begin{equation*}\n",
    "\\boxed{T_{BP}(s)= \\frac{5,7256*10^{-3}*s^3} {s^6 +0,2506*s^5 +3,0614*s^4 +0,5069*s^3 +3,0614*s^2 +0,2506*s +1}}\n",
    "\\end{equation*}\n",
    "\n",
    "##\n",
    "##### Expresamos $T_{BP}(s)$ en términos de SOS teniendo en consideración las singularidades del denominador:\n",
    "##\n",
    "\n",
    "\\begin{equation*}\n",
    "p_1= -0,0624 +j*0,9981 \\; , \\quad p_2= -0,0624 +j*0,9981\n",
    "\\end{equation*}\n",
    "\n",
    "##\n",
    "\n",
    "\\begin{equation*}\n",
    "p_3= -0,0347 +j*1,1069 \\; , \\quad p_4= -0,0347 -j*1,1069\n",
    "\\end{equation*}\n",
    "\n",
    "##\n",
    "\n",
    "\\begin{equation*}\n",
    "p_5= -0,0283 +j*0,9026 \\; , \\quad p_6= -0,0283 -j*0,9026\n",
    "\\end{equation*}\n",
    "\n",
    "##\n",
    "\n",
    "\\begin{equation*}\n",
    "T_{BP}(s)= \\frac{5,7256*10^{-3}*s^3} {(s-p_1)*(s-p_2)*(s-p_3)*(s-p_4)*(s-p_5)*(s-p_6)}\n",
    "\\end{equation*}\n",
    "\n",
    "##\n",
    "\n",
    "\\begin{equation*}\n",
    "T_{BP}(s)= \\frac{5,7256*10^{-3}*s^3} {[s-(-0,0624 +j*0,9981)]*[s-(-0,0624 -j*0,9981)]*[s-(-0,0347 +j*1,1069)]*[s-(-0,0347 -j*1,1069)]*[s-(-0,0283 +j*0,9026)]*[s-(-0,0283 -j*0,9026)]}\n",
    "\\end{equation*}\n",
    "\n",
    "##\n",
    "\n",
    "\\begin{equation*}\n",
    "T_{BP}(s)= \\frac{5,7256*10^{-3}*s^3} {\\left(s^2 +0,0624*s +j*0,9981*s +0,0624*s +0,0624^2 +j*0,0624*0,9981 -j*0,9981 -j*0,9981*0,0624 -j^2*0,9981^2\\right)*\\left(s^2 +0,0347*s +j*1,1069*s +0,0347*s +0,0347^2 +j*0,0347*1,1069 -j*1,1069 -j*1,1069*0,0347 -j^2*1,1069^2\\right)*\\left(s^2 +0,0283*s +j*0,9026*s +0,0283*s +0,0283^2 +j*0,0283*0,9026 -j*0,9026 -j*0,9026*0,0283 -j^2*0,9026^2\\right)}\n",
    "\\end{equation*}\n",
    "\n",
    "##\n",
    "\n",
    "\\begin{equation*}\n",
    "T_{BP}(s)= \\frac{5,7256*10^{-3}*s^3} {\\left[s^2 +(0,0624 +0,0624)*s +0,0624^2 +0,9981^2\\right]*\\left[s^2 +(0,0347 +0,0347)*s +0,0347^2 +1,1069^2\\right]*\\left[s^2 +(0,0283 +0,0283)*s +0,0283^2 +0,9026^2\\right]}\n",
    "\\end{equation*}\n",
    "\n",
    "##\n",
    "\n",
    "\\begin{equation*}\n",
    "T_{BP}(s)= \\frac{5,7256*10^{-3}*s^3} {\\left(s^2 +0,1248*s +1\\right)*\\left(s^2 +0,0694*s +1,2264\\right)*\\left(s^2 +0,0566*s +0,8155\\right)}\n",
    "\\end{equation*}\n",
    "\n",
    "##\n",
    "##### Considerando $T_{BP}(s)$ en términos de $\\omega_0$ y $Q$, podemos expresarla de forma general de la siguiente manera:\n",
    "##\n",
    "\n",
    "\\begin{equation*}\n",
    "T_{BP}(s)= \n",
    "\\frac{k_1*\\frac{\\omega_{0_{1}}}{Q_1}*s} {s^2 + \\frac{\\omega_{0_{1}}}{Q_1}*s + \\omega_{0_{1}}^2} \\; * \\;\n",
    "\\frac{k_2*\\frac{\\omega_{0_{2}}}{Q_2}*s} {s^2 + \\frac{\\omega_{0_{2}}}{Q_2}*s + \\omega_{0_{2}}^2} \\; * \\;\n",
    "\\frac{k_3*\\frac{\\omega_{0_{3}}}{Q_3}*s} {s^2 + \\frac{\\omega_{0_{3}}}{Q_3}*s + \\omega_{0_{3}}^2}\n",
    "\\end{equation*}\n",
    "\n",
    "##\n",
    "##### Obtenemos los valores de $\\omega_0$ y $Q$ para este caso particular:\n",
    "##\n",
    "\n",
    "\\begin{equation*}\n",
    "\\omega_{0_{1}}^2= 1 \\; , \\quad \\omega_{0_{2}}^2= 1,2264 \\; , \\quad \\omega_{0_{3}}^2= 0,8155\n",
    "\\end{equation*}\n",
    "\n",
    "##\n",
    "\n",
    "\\begin{equation*}\n",
    "\\omega_{0_{1}}= 1 \\; , \\quad \\omega_{0_{2}}= 1,1074 \\; , \\quad \\omega_{0_{3}}= 0,9031\n",
    "\\end{equation*}\n",
    "\n",
    "##\n",
    "\n",
    "\\begin{equation*}\n",
    "\\frac{\\omega_{0_{1}}}{Q_1}= 0,1248 \\; , \\quad \\frac{\\omega_{0_{2}}}{Q_2}= 0,0694 \\; , \\quad \\frac{\\omega_{0_{3}}}{Q_3}= 0,0566\n",
    "\\end{equation*}\n",
    "\n",
    "##\n",
    "\n",
    "\\begin{equation*}\n",
    "Q_1= \\frac{\\omega_{0_{1}}}{0,1248}= 8,0128 \\; , \\quad Q_2= \\frac{\\omega_{0_{2}}}{0,0694}= 15,9568 \\; , \\quad Q_3= \\frac{\\omega_{0_{3}}}{0,0566}= 15,9558\n",
    "\\end{equation*}\n",
    "\n",
    "##\n",
    "##### Obtenemos $T_{BP}(s)$ en términos de $\\omega_0$ y $Q$, para este caso particular:\n",
    "##\n",
    "\n",
    "\\begin{equation*}\n",
    "T_{BP}(s)= \n",
    "\\frac{k_1*\\frac{1}{8,0128}*s} {s^2 + \\frac{1}{8,0128}*s + 1} \\; * \\;\n",
    "\\frac{k_2*\\frac{1,1074}{15,9568}*s} {s^2 + \\frac{1,1074}{15,9568}*s + 1,2264} \\; * \\;\n",
    "\\frac{k_3*\\frac{0,9031}{15,9558}*s} {s^2 + \\frac{0,9031}{15,9558}*s + 0,8155}\n",
    "\\end{equation*}\n",
    "\n",
    "##\n",
    "##### Obtenemos los coeficientes $k$ de $T_{BP}(s)$:\n",
    "##\n",
    "\n",
    "\\begin{equation*}\n",
    "k_1*\\frac{1}{8,0128}= k_1*0,1248= \\sqrt[3]{5,7256*10^{-3}} \\rightarrow k_1= 1,4435 \n",
    "\\end{equation*}\n",
    "\n",
    "##\n",
    "\n",
    "\\begin{equation*}\n",
    "k_2*\\frac{1,1074}{15,9568}= k_2*0,0694= \\sqrt[3]{5,7256*10^{-3}} \\rightarrow k_2= 2,5778 \n",
    "\\end{equation*}\n",
    "\n",
    "##\n",
    "\n",
    "\\begin{equation*}\n",
    "k_3*\\frac{0,9031}{15,9588}= k_3*0,0566= \\sqrt[3]{5,7256*10^{-3}} \\rightarrow k_3= 3,1608 \n",
    "\\end{equation*}\n",
    "\n",
    "##\n",
    "##### Finalmente obtenemos $T_{BP}(s)$ con los valores de $k$, $\\omega_0$ y $Q$ correspondientes a cada sección:\n",
    "##\n",
    "\n",
    "\\begin{equation*}\n",
    "\\boxed{T_{BP}(s)= \n",
    "\\frac{1,4435*\\frac{1}{8,0128}*s} {s^2 + \\frac{1}{8,0128}*s + 1} \\; * \\;\n",
    "\\frac{2,5778*\\frac{1,1074}{15,9568}*s} {s^2 + \\frac{1,1074}{15,9568}*s + 1,2264} \\; * \\;\n",
    "\\frac{3,1608*\\frac{0,9031}{15,9558}*s} {s^2 + \\frac{0,9031}{15,9558}*s + 0,8155}}\n",
    "\\end{equation*}\n",
    "\n",
    "##"
   ]
  },
  {
   "cell_type": "markdown",
   "id": "640d19dc-ef6b-4c1b-9609-c8879772d263",
   "metadata": {},
   "source": [
    "#\n",
    "\n",
    "***\n",
    "***\n",
    "\n",
    "#\n",
    "<a id=\"simulacion_numerica\"></a>\n",
    "### <span style=\"text-decoration: underline;\">Simulación numérica</span>\n",
    "\n",
    "#"
   ]
  },
  {
   "cell_type": "code",
   "execution_count": 2,
   "id": "3976f577-4d81-4d3a-8a0d-1ddfac7efc09",
   "metadata": {
    "tags": []
   },
   "outputs": [],
   "source": [
    "# ------------------------------------------------------------------ #\n",
    "# Librerias utilizadas\n",
    "# ------------------------------------------------------------------ #\n",
    "\n",
    "import scipy.signal as sig\n",
    "import sympy as sp\n",
    "import numpy as np\n",
    "from numpy import pi\n",
    "\n",
    "import matplotlib as mpl\n",
    "from IPython.display import display, Markdown\n",
    "\n",
    "from pytc2.sistemas_lineales import tf2sos_analog\n",
    "from pytc2.sistemas_lineales import pretty_print_lti\n",
    "from pytc2.sistemas_lineales import pretty_print_SOS\n",
    "from pytc2.sistemas_lineales import analyze_sys\n",
    "\n",
    "# ------------------------------------------------------------------ #"
   ]
  },
  {
   "cell_type": "code",
   "execution_count": 4,
   "id": "21053e16-cb26-4756-8963-e0430a52ed40",
   "metadata": {
    "tags": []
   },
   "outputs": [],
   "source": [
    "# ------------------------------------------------------------------ #\n",
    "# Ajustes de visualización\n",
    "# ------------------------------------------------------------------ #\n",
    "\n",
    "fig_sz_x = 10\n",
    "fig_sz_y = 9\n",
    "fig_dpi = 150 # dpi\n",
    "\n",
    "fig_font_size = 12\n",
    "\n",
    "mpl.rcParams['figure.figsize'] = (fig_sz_x, fig_sz_y)\n",
    "mpl.rcParams['figure.dpi'] = fig_dpi\n",
    "#plt.rcParams.update({'font.size':fig_font_size})\n",
    "\n",
    "# ------------------------------------------------------------------ #"
   ]
  },
  {
   "cell_type": "code",
   "execution_count": 5,
   "id": "33006df1-f0e5-46bd-bb6f-e46dbdd1edd9",
   "metadata": {
    "tags": []
   },
   "outputs": [],
   "source": [
    "# ------------------------------------------------------------------ #\n",
    "# Datos de plantilla\n",
    "# ------------------------------------------------------------------ #\n",
    "\n",
    "omega_0 = 2*pi*22e3                  # rad/s\n",
    "Q = 5\n",
    "\n",
    "alfa_max = 0.5                       # dB\n",
    "alfa_min_s1 = 16                     # dB\n",
    "alfa_min_s2 = 24                     # dB\n",
    "\n",
    "f_s1_plantilla = 17e3                # Hz\n",
    "f_s2_plantilla = 36e3                # Hz\n",
    "\n",
    "# ------------------------------------------------------------------ #"
   ]
  },
  {
   "cell_type": "code",
   "execution_count": 6,
   "id": "6a01ff50-38d4-40da-8d02-63150c8023dd",
   "metadata": {
    "tags": []
   },
   "outputs": [],
   "source": [
    "# ------------------------------------------------------------------ #\n",
    "# Obtenemos omega_s1 y omega_s2\n",
    "# ------------------------------------------------------------------ #\n",
    "\n",
    "omega_s1 = 2*pi*f_s1_plantilla       # rad/s\n",
    "omega_s2 = 2*pi*f_s2_plantilla       # rad/s\n",
    "\n",
    "# ------------------------------------------------------------------ #"
   ]
  },
  {
   "cell_type": "code",
   "execution_count": 7,
   "id": "a77c8a9d-c409-454c-99b9-0c96a64fb3dd",
   "metadata": {
    "tags": []
   },
   "outputs": [],
   "source": [
    "# ------------------------------------------------------------------ #\n",
    "# Planteamos las ecuaciones para obtener omega_1 y omega_2:\n",
    "# ------------------------------------------------------------------ #\n",
    "\n",
    "omega_1, omega_2= sp.symbols(\"w1, w2\")\n",
    "\n",
    "sistema= sp.solve([ \n",
    "                  ((omega_0)/Q) +omega_1 -omega_2,\n",
    "                  ((omega_0**2)/omega_1) -omega_2\n",
    "                  ], \n",
    "                  [omega_1, omega_2])\n",
    "\n",
    "omega_1 = float(sistema[1][0])\n",
    "omega_2 = float(sistema[1][1])\n",
    "\n",
    "# ------------------------------------------------------------------ #"
   ]
  },
  {
   "cell_type": "code",
   "execution_count": 8,
   "id": "626d1f60-2ff7-4534-9a0d-af8a07394019",
   "metadata": {
    "tags": []
   },
   "outputs": [
    {
     "name": "stdout",
     "output_type": "stream",
     "text": [
      "omega_s1 = 0.7727\n",
      "omega_1 = 0.905\n",
      "omega_0 = 1.0\n",
      "omega_2 = 1.105\n",
      "omega_s2 = 1.6364\n"
     ]
    }
   ],
   "source": [
    "# ------------------------------------------------------------------ #\n",
    "# Tomamos con norma de pulsación omega_0:\n",
    "# ------------------------------------------------------------------ #\n",
    "\n",
    "Omega_omega= omega_0\n",
    "omega_s1= omega_s1 / Omega_omega\n",
    "omega_1= omega_1 / Omega_omega\n",
    "omega_0= omega_0 / Omega_omega\n",
    "omega_2= omega_2 / Omega_omega\n",
    "omega_s2= omega_s2 / Omega_omega\n",
    "\n",
    "omega_s1= round(omega_s1, 4)\n",
    "omega_1= round(omega_1, 4)\n",
    "omega_0= round(omega_0, 4)\n",
    "omega_2= round(omega_2, 4)\n",
    "omega_s2= round(omega_s2, 4)\n",
    "\n",
    "print(\"omega_s1 = {}\".format(omega_s1))\n",
    "print(\"omega_1 = {}\".format(omega_1))\n",
    "print(\"omega_0 = {}\".format(omega_0))\n",
    "print(\"omega_2 = {}\".format(omega_2))\n",
    "print(\"omega_s2 = {}\".format(omega_s2))\n",
    "\n",
    "# ------------------------------------------------------------------ #"
   ]
  },
  {
   "cell_type": "code",
   "execution_count": 9,
   "id": "6fc3b520-87c4-4a14-9be4-5e8517955345",
   "metadata": {
    "tags": []
   },
   "outputs": [
    {
     "name": "stdout",
     "output_type": "stream",
     "text": [
      "Omega_s1 = 2.6073\n",
      "Omega_s2 = 5.1265\n"
     ]
    }
   ],
   "source": [
    "# ------------------------------------------------------------------ #\n",
    "# Aplicamos núcleo de transformación pasabanda\n",
    "# ------------------------------------------------------------------ #\n",
    "\n",
    "Omega_s1= Q*(omega_s1**2-1)/omega_s1\n",
    "Omega_s2= Q*(omega_s2**2-1)/omega_s2\n",
    "\n",
    "# Desestimamos el signo (-) por ser |T_LP| una función par\n",
    "Omega_s1= -Omega_s1\n",
    "\n",
    "print(\"Omega_s1 = {:.4f}\".format(Omega_s1))\n",
    "print(\"Omega_s2 = {:.4f}\".format(Omega_s2))\n",
    "\n",
    "# ------------------------------------------------------------------ #"
   ]
  },
  {
   "cell_type": "code",
   "execution_count": 14,
   "id": "3c949fb9-74e2-48ff-87fb-f16cd188fe5a",
   "metadata": {
    "tags": []
   },
   "outputs": [
    {
     "name": "stdout",
     "output_type": "stream",
     "text": [
      "ε = 0.3493\n",
      "ε^2 = 0.122\n"
     ]
    }
   ],
   "source": [
    "# ------------------------------------------------------------------ #\n",
    "# Calculamos e^2\n",
    "# ------------------------------------------------------------------ #\n",
    "\n",
    "# ε: Grado de libertad de la funcion\n",
    "# ε= sqrt(10^(α_max/10)-1)\n",
    "\n",
    "eps = calculoEpsilonFiltro(alfa_max)\n",
    "eps_2 = round(eps**2, 4)\n",
    "\n",
    "print('ε = {}'.format(eps))\n",
    "print('ε^2 = {}'.format(eps_2))\n",
    "\n",
    "# ------------------------------------------------------------------ #"
   ]
  },
  {
   "cell_type": "code",
   "execution_count": 15,
   "id": "b5c599f3-d285-4e20-89e3-b2625f2e0312",
   "metadata": {
    "tags": []
   },
   "outputs": [
    {
     "name": "stdout",
     "output_type": "stream",
     "text": [
      "N= 3\n"
     ]
    }
   ],
   "source": [
    "# ------------------------------------------------------------------ #\n",
    "# Calculamos N para Omega_s1 iterando alfa_min\n",
    "# ------------------------------------------------------------------ #\n",
    "\n",
    "# N: Orden del filtro\n",
    "# α_min = 10*log(1 + ε^2*C_n^2) con C_n^2= cosh^2(N*cosh^(-1)(ω_s))\n",
    "\n",
    "# Elegimos N de forma tal que cumple con ambos requerimientos α_min \n",
    "# simultáneamente:\n",
    "\n",
    "N = calculoOrdenFiltro(alfa_min_s1, Omega_s1, alfa_min_s2, Omega_s2)\n",
    "print('N= {:d}'.format(N))\n",
    "\n",
    "# ------------------------------------------------------------------ #"
   ]
  },
  {
   "cell_type": "code",
   "execution_count": 17,
   "id": "98840bc4-e271-4007-80d2-9a644683e87e",
   "metadata": {
    "tags": []
   },
   "outputs": [
    {
     "data": {
      "text/markdown": [
       "#####"
      ],
      "text/plain": [
       "<IPython.core.display.Markdown object>"
      ]
     },
     "metadata": {},
     "output_type": "display_data"
    },
    {
     "data": {
      "text/markdown": [
       "##### Función transferencia $T_{LP}(s)$:"
      ],
      "text/plain": [
       "<IPython.core.display.Markdown object>"
      ]
     },
     "metadata": {},
     "output_type": "display_data"
    },
    {
     "data": {
      "text/markdown": [
       "#####"
      ],
      "text/plain": [
       "<IPython.core.display.Markdown object>"
      ]
     },
     "metadata": {},
     "output_type": "display_data"
    },
    {
     "data": {
      "text/latex": [
       "$\\displaystyle \\frac{0.7157 }{s^3 + s^2 \\,\\, 1.253 + s \\,\\, 1.535 + 0.7157 }$"
      ],
      "text/plain": [
       "<IPython.core.display.Math object>"
      ]
     },
     "metadata": {},
     "output_type": "display_data"
    },
    {
     "data": {
      "text/markdown": [
       "#####"
      ],
      "text/plain": [
       "<IPython.core.display.Markdown object>"
      ]
     },
     "metadata": {},
     "output_type": "display_data"
    },
    {
     "data": {
      "text/markdown": [
       "***"
      ],
      "text/plain": [
       "<IPython.core.display.Markdown object>"
      ]
     },
     "metadata": {},
     "output_type": "display_data"
    },
    {
     "data": {
      "text/markdown": [
       "#####"
      ],
      "text/plain": [
       "<IPython.core.display.Markdown object>"
      ]
     },
     "metadata": {},
     "output_type": "display_data"
    },
    {
     "data": {
      "text/markdown": [
       "##### $T_{LP}(s)$ en términos de secciones de primer y segundo orden:"
      ],
      "text/plain": [
       "<IPython.core.display.Markdown object>"
      ]
     },
     "metadata": {},
     "output_type": "display_data"
    },
    {
     "data": {
      "text/markdown": [
       "#####"
      ],
      "text/plain": [
       "<IPython.core.display.Markdown object>"
      ]
     },
     "metadata": {},
     "output_type": "display_data"
    },
    {
     "data": {
      "text/latex": [
       "$\\displaystyle   \\frac{0.6264 }{s + 0.6265 } . \\frac{1.143 }{s^2 + s \\,\\, 0.6265 + 1.142 }$"
      ],
      "text/plain": [
       "<IPython.core.display.Math object>"
      ]
     },
     "metadata": {},
     "output_type": "display_data"
    },
    {
     "data": {
      "text/markdown": [
       "#####"
      ],
      "text/plain": [
       "<IPython.core.display.Markdown object>"
      ]
     },
     "metadata": {},
     "output_type": "display_data"
    },
    {
     "data": {
      "text/markdown": [
       "***"
      ],
      "text/plain": [
       "<IPython.core.display.Markdown object>"
      ]
     },
     "metadata": {},
     "output_type": "display_data"
    },
    {
     "data": {
      "text/markdown": [
       "#####"
      ],
      "text/plain": [
       "<IPython.core.display.Markdown object>"
      ]
     },
     "metadata": {},
     "output_type": "display_data"
    },
    {
     "data": {
      "text/markdown": [
       "##### $T_{LP}(s)$ en función de $\\Omega_0$ y $Q$:"
      ],
      "text/plain": [
       "<IPython.core.display.Markdown object>"
      ]
     },
     "metadata": {},
     "output_type": "display_data"
    },
    {
     "data": {
      "text/markdown": [
       "#####"
      ],
      "text/plain": [
       "<IPython.core.display.Markdown object>"
      ]
     },
     "metadata": {},
     "output_type": "display_data"
    },
    {
     "data": {
      "text/latex": [
       "$\\displaystyle   \\frac{0.6264 }{s + 0.6265 } . \\frac{1.143 }{s^2 + s \\frac{1.069}{1.706} + 1.069^2}$"
      ],
      "text/plain": [
       "<IPython.core.display.Math object>"
      ]
     },
     "metadata": {},
     "output_type": "display_data"
    },
    {
     "data": {
      "text/markdown": [
       "#####"
      ],
      "text/plain": [
       "<IPython.core.display.Markdown object>"
      ]
     },
     "metadata": {},
     "output_type": "display_data"
    },
    {
     "data": {
      "text/markdown": [
       "***"
      ],
      "text/plain": [
       "<IPython.core.display.Markdown object>"
      ]
     },
     "metadata": {},
     "output_type": "display_data"
    },
    {
     "data": {
      "text/markdown": [
       "#####"
      ],
      "text/plain": [
       "<IPython.core.display.Markdown object>"
      ]
     },
     "metadata": {},
     "output_type": "display_data"
    }
   ],
   "source": [
    "# ---------------------------------------------------------------------------------------------------- #\n",
    "# A partir del polinomio de Chevyshev correspondiente al orden del filtro N, calculamos |T_LP(s)|:\n",
    "# ---------------------------------------------------------------------------------------------------- #\n",
    "\n",
    "Cn3 = [4, 0, -3, 0]             # Coeficientes del polinomio grado 3 de Chevyshev\n",
    "Cn6 = np.polymul(Cn3, Cn3)      # Elevamos al cuadrado el denominador\n",
    "Cn6 = Cn6 * eps**2              # Multiplicamos por ε^2\n",
    "Cn6[6]= Cn6[6] + 1              # Sumamos 1 al término independiente\n",
    "num_T_lp= [np.sqrt(1/Cn6[0])]   # Hacemos mónico el polinomio numerador\n",
    "Cn6 = Cn6 / Cn6[0]              # Hacemos mónico el polinomio denominador\n",
    "Cn6[4]= -Cn6[4]                 # Cambiamos de signo al coeficiente del término cuadrático producto \n",
    "                                # del reeemplazo de w^2= s^2/j^2\n",
    "Cn6[0]= -Cn6[0]                 # Cambiamos de signo al coeficiente del término séxtico producto \n",
    "                                # del reeemplazo de w^2= s^2/j^2\n",
    "\n",
    "p_T_lp = np.roots(Cn6)        \n",
    "den_T_lp= np.poly([p_T_lp for p_T_lp in p_T_lp if p_T_lp.real < 0])\n",
    "\n",
    "display(Markdown('#####'))\n",
    "display(Markdown('##### Función transferencia $T_{LP}(s)$:'))\n",
    "display(Markdown('#####'))\n",
    "\n",
    "pretty_print_lti(num_T_lp, den_T_lp)\n",
    "\n",
    "display(Markdown('#####'))\n",
    "display(Markdown('***'))\n",
    "display(Markdown('#####'))\n",
    "\n",
    "T_lp_sos = tf2sos_analog(num_T_lp, den_T_lp)\n",
    "\n",
    "display(Markdown('##### $T_{LP}(s)$ en términos de secciones de primer y segundo orden:'))\n",
    "display(Markdown('#####'))\n",
    "\n",
    "pretty_print_SOS(T_lp_sos)\n",
    "\n",
    "display(Markdown('#####'))\n",
    "display(Markdown('***'))\n",
    "display(Markdown('#####'))\n",
    "\n",
    "display(Markdown('##### $T_{LP}(s)$ en función de $\\Omega_0$ y $Q$:'))\n",
    "display(Markdown('#####'))\n",
    "\n",
    "pretty_print_SOS(T_lp_sos, mode='omegayq')\n",
    "\n",
    "display(Markdown('#####'))\n",
    "display(Markdown('***'))\n",
    "display(Markdown('#####'))\n",
    "\n",
    "# ---------------------------------------------------------------------------------------------------- #"
   ]
  },
  {
   "cell_type": "code",
   "execution_count": 19,
   "id": "2fb91a71-1dcf-43e1-8a27-2cfbf7a00c1a",
   "metadata": {
    "tags": []
   },
   "outputs": [
    {
     "data": {
      "text/markdown": [
       "#####"
      ],
      "text/plain": [
       "<IPython.core.display.Markdown object>"
      ]
     },
     "metadata": {},
     "output_type": "display_data"
    },
    {
     "data": {
      "text/markdown": [
       "##### Función transferencia $T_{BP}(s)$:"
      ],
      "text/plain": [
       "<IPython.core.display.Markdown object>"
      ]
     },
     "metadata": {},
     "output_type": "display_data"
    },
    {
     "data": {
      "text/markdown": [
       "#####"
      ],
      "text/plain": [
       "<IPython.core.display.Markdown object>"
      ]
     },
     "metadata": {},
     "output_type": "display_data"
    },
    {
     "data": {
      "text/latex": [
       "$\\displaystyle \\frac{s^3 \\,\\, 0.005726 }{s^6 + s^5 \\,\\, 0.2506 + s^4 \\,\\, 3.061 + s^3 \\,\\, 0.5069 + s^2 \\,\\, 3.061 + s \\,\\, 0.2506 +   1 }$"
      ],
      "text/plain": [
       "<IPython.core.display.Math object>"
      ]
     },
     "metadata": {},
     "output_type": "display_data"
    },
    {
     "data": {
      "text/markdown": [
       "#####"
      ],
      "text/plain": [
       "<IPython.core.display.Markdown object>"
      ]
     },
     "metadata": {},
     "output_type": "display_data"
    },
    {
     "data": {
      "text/markdown": [
       "***"
      ],
      "text/plain": [
       "<IPython.core.display.Markdown object>"
      ]
     },
     "metadata": {},
     "output_type": "display_data"
    },
    {
     "data": {
      "text/markdown": [
       "#####"
      ],
      "text/plain": [
       "<IPython.core.display.Markdown object>"
      ]
     },
     "metadata": {},
     "output_type": "display_data"
    },
    {
     "data": {
      "text/markdown": [
       "#####"
      ],
      "text/plain": [
       "<IPython.core.display.Markdown object>"
      ]
     },
     "metadata": {},
     "output_type": "display_data"
    },
    {
     "data": {
      "text/markdown": [
       "##### $T_{BP}(s)$ en términos de secciones de segundo orden:"
      ],
      "text/plain": [
       "<IPython.core.display.Markdown object>"
      ]
     },
     "metadata": {},
     "output_type": "display_data"
    },
    {
     "data": {
      "text/markdown": [
       "#####"
      ],
      "text/plain": [
       "<IPython.core.display.Markdown object>"
      ]
     },
     "metadata": {},
     "output_type": "display_data"
    },
    {
     "data": {
      "text/latex": [
       "$\\displaystyle   \\frac{s \\,\\, 0.1512 }{s^2 + s \\,\\, 0.1253 +   1 } . \\frac{s \\,\\, 0.1151 }{s^2 + s \\,\\, 0.05627 + 0.8154 } . \\frac{s \\,\\, 0.3291 }{s^2 + s \\,\\, 0.06902 + 1.226 }$"
      ],
      "text/plain": [
       "<IPython.core.display.Math object>"
      ]
     },
     "metadata": {},
     "output_type": "display_data"
    },
    {
     "data": {
      "text/markdown": [
       "#####"
      ],
      "text/plain": [
       "<IPython.core.display.Markdown object>"
      ]
     },
     "metadata": {},
     "output_type": "display_data"
    },
    {
     "data": {
      "text/markdown": [
       "***"
      ],
      "text/plain": [
       "<IPython.core.display.Markdown object>"
      ]
     },
     "metadata": {},
     "output_type": "display_data"
    },
    {
     "data": {
      "text/markdown": [
       "#####"
      ],
      "text/plain": [
       "<IPython.core.display.Markdown object>"
      ]
     },
     "metadata": {},
     "output_type": "display_data"
    },
    {
     "data": {
      "text/markdown": [
       "##### $T_{BP}(s)$ en función de $\\Omega_0$ y $Q$:"
      ],
      "text/plain": [
       "<IPython.core.display.Markdown object>"
      ]
     },
     "metadata": {},
     "output_type": "display_data"
    },
    {
     "data": {
      "text/markdown": [
       "#####"
      ],
      "text/plain": [
       "<IPython.core.display.Markdown object>"
      ]
     },
     "metadata": {},
     "output_type": "display_data"
    },
    {
     "data": {
      "text/latex": [
       "$\\displaystyle   \\frac{s\\,1.207\\,\\frac{  1}{7.981}}{s^2 + s \\frac{  1}{7.981} +   1^2} . \\frac{s\\,2.045\\,\\frac{0.903}{16.05}}{s^2 + s \\frac{0.903}{16.05} + 0.903^2} . \\frac{s\\,4.768\\,\\frac{1.107}{16.05}}{s^2 + s \\frac{1.107}{16.05} + 1.107^2}$"
      ],
      "text/plain": [
       "<IPython.core.display.Math object>"
      ]
     },
     "metadata": {},
     "output_type": "display_data"
    },
    {
     "data": {
      "text/markdown": [
       "#####"
      ],
      "text/plain": [
       "<IPython.core.display.Markdown object>"
      ]
     },
     "metadata": {},
     "output_type": "display_data"
    },
    {
     "data": {
      "text/markdown": [
       "***"
      ],
      "text/plain": [
       "<IPython.core.display.Markdown object>"
      ]
     },
     "metadata": {},
     "output_type": "display_data"
    },
    {
     "data": {
      "text/markdown": [
       "#####"
      ],
      "text/plain": [
       "<IPython.core.display.Markdown object>"
      ]
     },
     "metadata": {},
     "output_type": "display_data"
    }
   ],
   "source": [
    "# ---------------------------------------------------------------------------------------------------- #\n",
    "# Obtenemos |T_BP(s)| aplicando la función transformación lp2bp:\n",
    "# ---------------------------------------------------------------------------------------------------- #\n",
    "\n",
    "num_T_bp, den_T_bp= sig.lp2bp(num_T_lp, den_T_lp, omega_0, bw= 1/Q)\n",
    "\n",
    "display(Markdown('#####'))\n",
    "display(Markdown('##### Función transferencia $T_{BP}(s)$:'))\n",
    "display(Markdown('#####'))\n",
    "\n",
    "pretty_print_lti(num_T_bp, den_T_bp)\n",
    "\n",
    "display(Markdown('#####'))\n",
    "display(Markdown('***'))\n",
    "display(Markdown('#####'))\n",
    "\n",
    "# Expresamos la T_BP(s) en términos de SOS:\n",
    "T_bp_sos = tf2sos_analog(num_T_bp, den_T_bp)\n",
    "\n",
    "display(Markdown('#####'))\n",
    "display(Markdown('##### $T_{BP}(s)$ en términos de secciones de segundo orden:'))\n",
    "display(Markdown('#####'))\n",
    "\n",
    "pretty_print_SOS(T_bp_sos)\n",
    "\n",
    "display(Markdown('#####'))\n",
    "display(Markdown('***'))\n",
    "display(Markdown('#####'))\n",
    "\n",
    "display(Markdown('##### $T_{BP}(s)$ en función de $\\Omega_0$ y $Q$:'))\n",
    "display(Markdown('#####'))\n",
    "\n",
    "pretty_print_SOS(T_bp_sos, mode='omegayq')\n",
    "\n",
    "display(Markdown('#####'))\n",
    "display(Markdown('***'))\n",
    "display(Markdown('#####'))\n",
    "\n",
    "# ---------------------------------------------------------------------------------------------------- #"
   ]
  },
  {
   "cell_type": "code",
   "execution_count": null,
   "id": "547a8a87-ddbe-4104-ae43-eeeb5cc0c95f",
   "metadata": {
    "tags": []
   },
   "outputs": [],
   "source": [
    "# ---------------------------------------------------------------------------------------------------- #\n",
    "# Representamos gráficamente módulo y fase, diagrama de polos y ceros y retardo de grupo de |T_BP(s)|\n",
    "# ---------------------------------------------------------------------------------------------------- #\n",
    "\n",
    "analyze_sys(T_bp_sos, sys_name='Filtro pasa banda Chevyshev orden 3')\n",
    "\n",
    "# ---------------------------------------------------------------------------------------------------- #"
   ]
  },
  {
   "cell_type": "markdown",
   "id": "deaae848-56a2-4748-bf3b-ef9879ed3087",
   "metadata": {},
   "source": [
    "<img src=\"TS5_Respuesta_Modulo.png\" style=\"margin-left:auto; margin-right:auto\"/>"
   ]
  },
  {
   "cell_type": "markdown",
   "id": "6ec50efa-507d-499e-831d-bad11539d91b",
   "metadata": {
    "tags": []
   },
   "source": [
    "##\n",
    "##### En la figura se observa el aporte de cada una de las SOS's como así también la respuesta de módulo total de $T_{BP}(s)$. \n",
    "##"
   ]
  },
  {
   "cell_type": "markdown",
   "id": "376dfd5c-3986-4ac9-a97d-ed137b34cfc8",
   "metadata": {},
   "source": [
    "<img src=\"TS5_Respuesta_Modulo_Ampliada_Aporte_SOS.png\" style=\"margin-left:auto; margin-right:auto\"/>"
   ]
  },
  {
   "cell_type": "markdown",
   "id": "2bf1b514-3e5f-4ab7-8c06-27e4cf5c3bae",
   "metadata": {},
   "source": [
    "##\n",
    "##### Se observa que la pendiente de salida de la banda de paso de cada SOS es de $-20\\frac{dB}{dec}$ debido al aporte de la singularidad del numerador: el cero simple aporta $+20\\frac{dB}{dec}$ mientras que el par de polos complejos conjugados aporta $-40\\frac {dB}{dec}$.\n",
    "##"
   ]
  },
  {
   "cell_type": "markdown",
   "id": "c220ca4b-025f-4e19-846c-cfd666ce37fd",
   "metadata": {},
   "source": [
    "<img src=\"TS5_Respuesta_Modulo_Ampliada_n_20_dB_dec.png\" style=\"margin-left:auto; margin-right:auto\"/>"
   ]
  },
  {
   "cell_type": "markdown",
   "id": "94d90966-4688-487f-875b-dd4392f84652",
   "metadata": {},
   "source": [
    "##\n",
    "##### En la figura se muestra la pendiente producto del aporte de cada una de las SOS's: $-60\\frac{dB}{dec}$ en total.\n",
    "##"
   ]
  },
  {
   "cell_type": "markdown",
   "id": "1795e74d-529c-4e5d-b4f2-034a376ff7e5",
   "metadata": {},
   "source": [
    "<img src=\"TS5_Respuesta_Modulo_Ampliada_alfa_max.png\" style=\"margin-left:auto; margin-right:auto\"/>"
   ]
  },
  {
   "cell_type": "markdown",
   "id": "f26748ea-54d5-468a-9ef5-02ead033c84c",
   "metadata": {},
   "source": [
    "##\n",
    "##### En la figura se visualiza el máximo ripple en la banda de paso dado por $\\alpha_{máx}= 0,5dB$.\n",
    "##"
   ]
  },
  {
   "cell_type": "markdown",
   "id": "abf7c90f-c11e-428a-8bda-72c70758c909",
   "metadata": {},
   "source": [
    "<img src=\"TS5_Respuesta_Modulo_Ampliada_alfa_min.png\" style=\"margin-left:auto; margin-right:auto\"/>"
   ]
  },
  {
   "cell_type": "markdown",
   "id": "06e6790d-05d6-49a1-9700-75591acfbcd7",
   "metadata": {},
   "source": [
    "##\n",
    "##### En la figura se visualiza la atenuación mínima en las bandas de detenidas dados por $\\alpha_{mín}$ correspondientes a cada una de las $f_s$.\n",
    "##"
   ]
  },
  {
   "cell_type": "markdown",
   "id": "541b069c-b236-44c8-bfa3-307154ea62f0",
   "metadata": {},
   "source": [
    "<img src=\"TS5_Respuesta_Fase.png\" style=\"margin-left:auto; margin-right:auto\"/>"
   ]
  },
  {
   "cell_type": "markdown",
   "id": "249de797-42c6-49af-8260-ed3e077bcc90",
   "metadata": {},
   "source": [
    "##\n",
    "##### En la figura se observa el aporte de fase de cada una de las SOS's y el aporte total de $T_{BP}(s)$: $\\pi$ $rad$ y $3\\pi$ $rad$ respectivamente.\n",
    "##"
   ]
  },
  {
   "cell_type": "markdown",
   "id": "9a4614e4-7541-4f6e-beb6-9f84fc86f458",
   "metadata": {},
   "source": [
    "<img src=\"TS5_Respuesta_Fase_Ampliada.png\" style=\"margin-left:auto; margin-right:auto\"/>"
   ]
  },
  {
   "cell_type": "markdown",
   "id": "ae1eb9ac-daf0-4ed3-b30f-be1358ffa813",
   "metadata": {},
   "source": [
    "##\n",
    "##### Se trata de funciones sigmoideas monótonamente decrecientes cuyo cruce se encuentran en las $\\omega$ correspondiente a cada SOS's, por caso, $\\omega_1$, $\\omega_2$, frecuencias de corte inferior y superior y en $\\omega_0$, frecuencia central.\n",
    "##"
   ]
  },
  {
   "cell_type": "markdown",
   "id": "9489b563-c480-4920-a632-c636da62e748",
   "metadata": {},
   "source": [
    "<img src=\"TS5_Diagrama_Polos_Ceros.png\" style=\"margin-left:auto; margin-right:auto\"/>"
   ]
  },
  {
   "cell_type": "markdown",
   "id": "d3d7af29-cbc5-4533-9780-470aae56dd21",
   "metadata": {},
   "source": [
    "##\n",
    "##### En la figura se observa el diagrama de singularidades de $T_{BP}(s)$.\n",
    "##\n",
    "##### Observamos un cero triple en el origen que se corresponde con los tres pares de polos complejos conjugados, es decir, cada cero simple está asociado a un par de polos complejos conjugados como bien puede observarse en la estructura de cada una de las $T_{BP_{n}}(s)$ que componen la $T_{BP}(s)$.\n",
    "##\n",
    "##### Además notamos que un par de polos complejos congujados se encuentra sobre la circunsferencia de radio unitario, que se corresponde con $\\omega_0$, y los otros pares sobre circunsferencias de radio que verifican la relación recíproca $\\omega_1= \\frac{1}{\\omega_2}$\n",
    "##"
   ]
  },
  {
   "cell_type": "markdown",
   "id": "341fc977-4bfe-45d6-b7a2-ff160a845c7a",
   "metadata": {},
   "source": [
    "<img src=\"TS5_Respuesta_Retardo_Grupo.png\" style=\"margin-left:auto; margin-right:auto\"/>"
   ]
  },
  {
   "cell_type": "markdown",
   "id": "1ee78708-6d75-463d-a6a7-5a94aedf2451",
   "metadata": {},
   "source": [
    "##\n",
    "##### En la figura se observa el retado de grupo de cada SOS y el total de $T_{BP}(s)$.\n",
    "##\n",
    "##### Entendemos que los aportes parciales se visualizan erróneamente debido a que deberían ser máximos en las frecuencias correspondientes a cada SOS.\n",
    "##\n",
    "##### De todas formas, esto no afecta al retardo de grupo total de $T_{BP}(s)$ que es máximo en $\\omega_0$.\n",
    "##"
   ]
  },
  {
   "cell_type": "code",
   "execution_count": 12,
   "id": "0ba06dfb-7c2f-4f8b-9ae7-d6a416bff063",
   "metadata": {
    "tags": []
   },
   "outputs": [],
   "source": [
    "def calculoEpsilonFiltro (alfa_max):\n",
    "    \n",
    "    return round(np.sqrt(10**(alfa_max/10)-1), 4)"
   ]
  },
  {
   "cell_type": "code",
   "execution_count": 13,
   "id": "468a0035-33d1-4d11-911b-af53b8a0d826",
   "metadata": {
    "tags": []
   },
   "outputs": [],
   "source": [
    "def calculoOrdenFiltro(alfa_min_s1, Omega_s1, alfa_min_s2, Omega_s2):\n",
    "    \n",
    "    for N_s1 in range(1,10):\n",
    "        C_nn = (np.cosh(N_s1*(np.arccosh(Omega_s1))))**2\n",
    "        att = 10*np.log10(1+(eps**2)*C_nn)\n",
    "        #print('Para N_s1= {:d}: ¿att = {:3.4f} dB >= α_min= {:d}?'.format(N_s1, att, alfa_min_s1))\n",
    "        if att >= alfa_min_s1:\n",
    "            break\n",
    "    \n",
    "    for N_s2 in range(1,10):\n",
    "        C_nn = (np.cosh(N_s2*(np.arccosh(Omega_s2))))**2\n",
    "        att = 10*np.log10(1+(eps**2)*C_nn)\n",
    "        #print('Para N_s2= {:d}: ¿att = {:3.4f} dB >= α_min= {:d}?'.format(N_s2, att, alfa_min_s2))\n",
    "        if att >= alfa_min_s1:\n",
    "            break\n",
    "    \n",
    "    if N_s1 >= N_s2:\n",
    "        N= N_s1\n",
    "    else:\n",
    "        N= N_s2\n",
    "    return N"
   ]
  },
  {
   "cell_type": "markdown",
   "id": "8d0cedd1-0463-4f35-991e-503841983e53",
   "metadata": {},
   "source": [
    "***\n",
    "#\n",
    "<a id=\"simulacion_circuital\"></a>\n",
    "### <span style=\"text-decoration: underline;\">Simulación circuital</span>\n",
    "#"
   ]
  },
  {
   "cell_type": "markdown",
   "id": "b6075ce4-3f00-4818-b708-3feb01ccae20",
   "metadata": {},
   "source": [
    "#### <span style=\"text-decoration: underline;\">Implementación mediante secciones pasivas separadas por seguidores de tensión activos:</span>\n",
    "##\n",
    "##### El circuito a simular constará de secciones pasivas cuya cantidad está determinada por el orden del filtro.\n",
    "##\n",
    "##### Procedemos entonces a determinar los valores necesarios de cada una de las SOS para la simulación.\n",
    "##\n",
    "##### Recordando la $T_{BP}(s)$ en términos de $\\omega_0$ y $Q$ obtenida, establecemos la parametrización correspondiente a cada SOS:\n",
    "##\n",
    "\n",
    "\\begin{equation*}\n",
    "T_{BP}(s)= \n",
    "\\frac{k_1*\\frac{\\omega_{0_{1}}}{Q_1}*s} {s^2 + \\frac{\\omega_{0_{1}}}{Q_1}*s + \\omega_{0_{1}}^2} \\; * \\;\n",
    "\\frac{k_2*\\frac{\\omega_{0_{2}}}{Q_2}*s} {s^2 + \\frac{\\omega_{0_{2}}}{Q_2}*s + \\omega_{0_{2}}^2} \\; * \\;\n",
    "\\frac{k_3*\\frac{\\omega_{0_{3}}}{Q_3}*s} {s^2 + \\frac{\\omega_{0_{3}}}{Q_3}*s + \\omega_{0_{3}}^2}\n",
    "\\end{equation*}\n",
    "\n",
    "##\n",
    "\n",
    "\\begin{equation*}\n",
    "T_{BP}(s)=\n",
    "\\frac{k_1*\\frac{1}{8,0128}*s} {s^2 + \\frac{1}{8,0128}*s + 1} \\; * \\;\n",
    "\\frac{k_2*\\frac{1,1074}{15,9568}*s} {s^2 + \\frac{1,1074}{15,9568}*s + 1,2264} \\; * \\;\n",
    "\\frac{k_3*\\frac{0,9031}{15,9558}*s} {s^2 + \\frac{0,9031}{15,9558}*s + 0,8155}\n",
    "\\end{equation*}\n",
    "\n",
    "##\n",
    "##### Establecemos $T_{BP_{n}}(s)$ para cada SOS:\n",
    "##\n",
    "\n",
    "\\begin{equation*}\n",
    "T_{BP}(s)= T_{BP_{1}}(s) * T_{BP_{2}}(s) * T_{BP_{3}}(s)\n",
    "\\end{equation*}\n",
    "\n",
    "##\n",
    "##### Proponemos una SOS cuya $T(s)$ tenga la forma de cada una de SOS's de $T_{BP}(s)$, es decir R en serie con el paralelo de C y L en derivación.\n",
    "##\n",
    "##### De esta manera, y recordando que en dicho caso la $T_{BP}(s)= \\frac{s*\\frac{1}{R*C}}{s^2 +s*\\frac{1}{R*C} +\\frac{1}{L*C}}$, podemos igualar cada término de la siguiente forma: \n",
    "##\n",
    "\n",
    "\\begin{equation*}\n",
    "\\omega_0^2= \\frac{1}{L*C} \\quad ; \\quad \\frac{\\omega_0}{Q}=\\frac{1}{R*C}\n",
    "\\end{equation*}\n",
    "\n",
    "##\n",
    "##### Elegimos como norma de impedancia $\\Omega_z = C$ y obtenemos $L$ de la primera ecuación como:\n",
    "##\n",
    "\n",
    "\\begin{equation*}\n",
    "L= \\frac{1}{C*\\omega_0^2}\n",
    "\\end{equation*}\n",
    "\n",
    "##\n",
    "##### Como $C$ es norma de impedancia:\n",
    "##\n",
    "\n",
    "\\begin{equation*}\n",
    "L= \\frac{1}{\\omega_0^2}\n",
    "\\end{equation*}\n",
    "\n",
    "##\n",
    "##### De forma similar, obtenemos $R$:\n",
    "##\n",
    "\n",
    "\\begin{equation*}\n",
    "R= \\frac{Q}{C*\\omega_0}\n",
    "\\end{equation*}\n",
    "\n",
    "##\n",
    "##### Nuevamente como $C$ es norma de impedancia:\n",
    "##\n",
    "\n",
    "\\begin{equation*}\n",
    "R= \\frac{Q}{\\omega_0}\n",
    "\\end{equation*}\n",
    "\n",
    "##"
   ]
  },
  {
   "cell_type": "markdown",
   "id": "807d8a2c-b010-4508-9e8d-0a0369d57d34",
   "metadata": {},
   "source": [
    "##### Para $T_{BP_{1}}(s)$ y dado que $\\omega_{0_{1}}= 1$ obtenemos sencillamente:\n",
    "##\n",
    "\n",
    "\\begin{equation*}\n",
    "L_1= \\frac{1}{\\omega_{0_{1}}^2}= 1\n",
    "\\end{equation*}\n",
    "\n",
    "##\n",
    "\n",
    "\\begin{equation*}\n",
    "R_1= \\frac{Q_1}{\\omega_{0_{1}}}= Q_1= 8,0128\n",
    "\\end{equation*}\n",
    "\n",
    "##"
   ]
  },
  {
   "cell_type": "markdown",
   "id": "b101d483-b891-44d3-9695-ccec22f11043",
   "metadata": {},
   "source": [
    "<img src=\"TS5_LTSpice_Red_Pasiva_SOS_1_Circuito.png\" style=\"margin-left:auto; margin-right:auto\"/>"
   ]
  },
  {
   "cell_type": "markdown",
   "id": "c481fbee-c559-424d-9466-c8eabc7686db",
   "metadata": {},
   "source": [
    "<img src=\"TS5_LTSpice_Red_Pasiva_SOS_1_Respuesta_Modulo.png\" style=\"margin-left:auto; margin-right:auto\"/>"
   ]
  },
  {
   "cell_type": "markdown",
   "id": "03b0ef25-a3b3-4267-9377-e3ebe55169b6",
   "metadata": {},
   "source": [
    "##\n",
    "##### En la figura observamos la respuesta de módulo de $T_{BP_{1}}(s)$.\n",
    "##\n",
    "##### Como esperábamos, obtenemos en continua, es decir para $s= j*\\omega= 0$, $\\left|T_{BP_{1}}(s)\\right| \\rightarrow 0 dB$ debido a que se trata de una red pasiva.\n",
    "##\n",
    "##### Podemos adjudicar la diferencia a las aproximaciones realizadas en los cálculos para la obtención de $T_{BP_{1}}(s)$ y por consiguiente, de $\\omega_{0_{1}}$ y $Q_1$.\n",
    "##\n",
    "##### Aceptamos la diferencia de $~70mdB$ en la respuesta de módulo y por este motivo consideramos válido el modelo de red pasiva adoptado.\n",
    "##"
   ]
  },
  {
   "cell_type": "markdown",
   "id": "5c4c5526-db23-4e00-86c0-e6c5c9447764",
   "metadata": {},
   "source": [
    "<img src=\"TS5_LTSpice_Red_Pasiva_SOS_1_Respuesta_Modulo_Ampliada.png\" style=\"margin-left:auto; margin-right:auto\"/>"
   ]
  },
  {
   "cell_type": "markdown",
   "id": "c5b4565e-158a-44d4-a201-55e19efda613",
   "metadata": {},
   "source": [
    "##\n",
    "##### En la figura observamos la respuesta de módulo de $T_{BP_{1}}(s)$ ampliada en el entorno de interés.\n",
    "##\n",
    "##### Podemos verificar el valor obtenido de $B$, ancho de banda, y por tanto de $Q$, factor de calidad, a través de su relación con $\\omega_0$ como la diferencia entre las frecuencias cuya respuesta de módulo desciende $3 dB$ respecto de la frecuencia central $f_0$.\n",
    "##\n",
    "\n",
    "\\begin{equation*}\n",
    "f_{0_{1}}= \\frac{\\omega_{0_{1}}}{2*\\pi}= \\frac{1}{2*\\pi} \\approx 159,1549mHz\n",
    "\\end{equation*}\n",
    "\n",
    "##\n",
    "\n",
    "\\begin{equation*}\n",
    "\\Delta\\left|T_{BP_{1}}(s)\\right|_{1}= \\left| \\left|T_{BP_{1}}(s)\\right|_{f_{1_{1}}} - \\left|T_{BP_{1}}(s)\\right|_{f_{0_{1}}} \\right|= \\left| -3,0685dB -(-69,3209mdB) \\right| \\approx -2,9992 dB\n",
    "\\end{equation*}\n",
    "\n",
    "##\n",
    "\n",
    "\\begin{equation*}\n",
    "\\Delta\\left|T_{BP_{1}}(s)\\right|_{2}= \\left| \\left|T_{BP_{1}}(s)\\right|_{f_{2_{1}}} - \\left|T_{BP_{1}}(s)\\right|_{f_{0_{1}}} \\right|= \\left| -3,0724dB -(-69,3209mdB) \\right| \\approx -3,0031 dB\n",
    "\\end{equation*}\n",
    "\n",
    "##\n",
    "\n",
    "\\begin{equation*}\n",
    "B_1= \\omega_{2_{\\Delta\\left|T_{BP_{1}}(s)\\right|_{2_{1}}}} - \\omega_{1_{\\Delta\\left|T_{BP_{1}}(s)\\right|_{1_{1}}}}= 2*\\pi*f_{2_{\\Delta\\left|T_{BP_{1}}(s)\\right|_{2_{1}}}} - 2*\\pi*f_{1_{\\Delta\\left|T_{BP_{1}}(s)\\right|_{1_{1}}}}= 2*\\pi*169,4733mHz - 2*\\pi*149,4921mHz= 2*\\pi*19,9812mHz\n",
    "\\end{equation*}\n",
    "\n",
    "##\n",
    "\n",
    "\\begin{equation*}\n",
    "Q_1= \\frac{\\omega_{0_{1}}}{B_1}= \\frac{1}{2*\\pi*19,9812mHz} \\approx 7,9652\n",
    "\\end{equation*}\n",
    "\n",
    "##\n"
   ]
  },
  {
   "cell_type": "markdown",
   "id": "a7c00611-8014-44c3-a52e-ca917d15f3dc",
   "metadata": {},
   "source": [
    "<img src=\"TS5_LTSpice_Red_Pasiva_SOS_1_Respuesta_Fase.png\" style=\"margin-left:auto; margin-right:auto\"/>"
   ]
  },
  {
   "cell_type": "markdown",
   "id": "7dfefc17-d25d-40b4-ac6b-e84f241be6a1",
   "metadata": {},
   "source": [
    "##\n",
    "##### En la figura observamos la respuesta de fase de $T_{BP_{1}}(s)$.\n",
    "##\n",
    "##### La gráfica de la respuesta de fase está representada por una función sigmoidea cuyo desarrollo está comprendido aproximadamente entre $\\frac{\\pi}{2}$ y -$\\frac{\\pi}{2}$ que se condice con el aporte de fase de una SOS recordando que este está dado por $N*\\frac{\\pi}{2}$ con $N=2$.\n",
    "##\n",
    "##### Colocamos dos cursores justamente para ponerlo de manifiesto: elegimos las frecuencias que se encuentran una década antes y una después de la frecuencia central, es decir, $0,1*f_{0_{1}}$ y $10*f_{0_{1}}$.\n",
    "##"
   ]
  },
  {
   "cell_type": "markdown",
   "id": "abcc58d1-fdf2-4e67-848f-ef77ae83cae0",
   "metadata": {},
   "source": [
    "<img src=\"TS5_LTSpice_Red_Pasiva_SOS_1_Respuesta_Retardo_Grupo.png\" style=\"margin-left:auto; margin-right:auto\"/>"
   ]
  },
  {
   "cell_type": "markdown",
   "id": "d087de19-dabe-4022-88b8-8554f8ce4adf",
   "metadata": {},
   "source": [
    "##\n",
    "##### En la figura observamos la respuesta de retardo de grupo de $T_{BP_{1}}(s)$.\n",
    "##\n",
    "##### El retardo de grupo $\\tau$ está dado por la variación de la respuesta de fase respecto a la frecuencia a través de su derivada de signo opuesto: $\\tau = -\\frac{\\partial\\Phi}{\\partial\\omega}$\n",
    "##\n",
    "##### Observamos que en la frecuencia central, el retardo es máximo en concordancia con la pendiente de la recta tangente en ese punto.\n",
    "##\n",
    "##### A medida que nos desplazamos de la frecuencia central, el retardo disminuye hasta anularse en los puntos en los que la pendiente de la recta tangente es mínima.\n",
    "##"
   ]
  },
  {
   "cell_type": "markdown",
   "id": "1fb5cb91-1de9-448b-8ca3-a8fab508d106",
   "metadata": {},
   "source": [
    "##\n",
    "##### Para $T_{BP_{2}}(s)$ obtenemos:\n",
    "##\n",
    "\n",
    "\\begin{equation*}\n",
    "L_2= \\frac{1}{\\omega_{0_{2}}^2}= \\frac{1}{1,2264}= 0,8154\n",
    "\\end{equation*}\n",
    "\n",
    "##\n",
    "\n",
    "\\begin{equation*}\n",
    "R_2= \\frac{Q_2}{\\omega_{0_{2}}}= \\frac{15,9568}{1,1074}= 14,4092\n",
    "\\end{equation*}\n",
    "\n",
    "##"
   ]
  },
  {
   "cell_type": "markdown",
   "id": "1ee73afa-93c7-47a3-874d-09620b29d2dd",
   "metadata": {},
   "source": [
    "<img src=\"TS5_LTSpice_Red_Pasiva_SOS_2_Circuito.png\" style=\"margin-left:auto; margin-right:auto\"/>"
   ]
  },
  {
   "cell_type": "markdown",
   "id": "2091910a-3b8b-4443-830b-52737ed8a6b4",
   "metadata": {},
   "source": [
    "<img src=\"TS5_LTSpice_Red_Pasiva_SOS_2_Respuesta_Modulo.png\" style=\"margin-left:auto; margin-right:auto\"/>"
   ]
  },
  {
   "cell_type": "markdown",
   "id": "542f5f7e-d583-4a75-bac0-6da18633969f",
   "metadata": {},
   "source": [
    "##\n",
    "##### En la figura observamos la respuesta de módulo de $T_{BP_{2}}(s)$.\n",
    "##\n",
    "##### Como esperábamos, obtenemos en continua, es decir para $s= j*\\omega= 0$, $\\left|T_{BP_{2}}(s)\\right| \\rightarrow 0 dB$ debido a que se trata de una red pasiva.\n",
    "##\n",
    "##### Podemos adjudicar la diferencia a las aproximaciones realizadas en los cálculos para la obtención de $T_{BP_{2}}(s)$ y por consiguiente, de $\\omega_{0_{2}}$ y $Q_2$.\n",
    "##\n",
    "##### Aceptamos la diferencia de $~60mdB$ en la respuesta de módulo y por este motivo consideramos válido el modelo de red pasiva adoptado.\n",
    "##"
   ]
  },
  {
   "cell_type": "markdown",
   "id": "e0af96d9-b7c7-476a-a2d8-8f5ff11adc82",
   "metadata": {},
   "source": [
    "<img src=\"TS5_LTSpice_Red_Pasiva_SOS_2_Respuesta_Modulo_Ampliada.png\" style=\"margin-left:auto; margin-right:auto\"/>"
   ]
  },
  {
   "cell_type": "markdown",
   "id": "ef6d5433-26d1-4cfd-99fc-9bb91c17f5d7",
   "metadata": {},
   "source": [
    "##\n",
    "##### En la figura observamos la respuesta de módulo de $T_{BP_{2}}(s)$ ampliada en el entorno de interés.\n",
    "##\n",
    "##### Podemos verificar el valor obtenido de $B$, ancho de banda, y por tanto de $Q$, factor de calidad, a través de su relación con $\\omega_0$ como la diferencia entre las frecuencias cuya respuesta de módulo desciende $3 dB$ respecto de la frecuencia central $f_0$.\n",
    "##\n",
    "\n",
    "\\begin{equation*}\n",
    "f_{0_{2}}= \\frac{\\omega_{0_{1}}}{2*\\pi}= \\frac{1,1074}{2*\\pi} \\approx 176,2482mHz\n",
    "\\end{equation*}\n",
    "\n",
    "##\n",
    "\n",
    "\\begin{equation*}\n",
    "\\Delta\\left|T_{BP_{2}}(s)\\right|_{1}= \\left| \\left|T_{BP_{2}}(s)\\right|_{f_{1_{2}}} - \\left|T_{BP_{2}}(s)\\right|_{f_{0_{2}}} \\right|= \\left| -3,1567dB -(-152,1440mdB) \\right| \\approx -3,0046dB\n",
    "\\end{equation*}\n",
    "\n",
    "##\n",
    "\n",
    "\\begin{equation*}\n",
    "\\Delta\\left|T_{BP_{2}}(s)\\right|_{2}= \\left| \\left|T_{BP_{2}}(s)\\right|_{f_{2_{2}}} - \\left|T_{BP_{2}}(s)\\right|_{f_{0_{2}}} \\right|= \\left| -3,1706dB -(-152,1440mdB) \\right| \\approx -3,0148dB\n",
    "\\end{equation*}\n",
    "\n",
    "##\n",
    "\n",
    "\\begin{equation*}\n",
    "B_2= \\omega_{2_{\\Delta\\left|T_{BP_{2}}(s)\\right|_{2_{2}}}} - \\omega_{1_{\\Delta\\left|T_{BP_{2}}(s)\\right|_{1_{2}}}}= 2*\\pi*f_{2_{\\Delta\\left|T_{BP_{2}}(s)\\right|_{2_{2}}}} - 2*\\pi*f_{1_{\\Delta\\left|T_{BP_{2}}(s)\\right|_{1_{2}}}}= 2*\\pi*181,9758mHz - 2*\\pi*170,7299mHz= 2*\\pi*11,2459mHz\n",
    "\\end{equation*}\n",
    "\n",
    "##\n",
    "\n",
    "\\begin{equation*}\n",
    "Q_2= \\frac{\\omega_{0_{2}}}{B_2}= \\frac{1,1074}{2*\\pi*11,2459mHz} \\approx 15,6722\n",
    "\\end{equation*}\n",
    "\n",
    "##\n"
   ]
  },
  {
   "cell_type": "markdown",
   "id": "07b740e3-f4c6-4235-86f4-4e44157242bf",
   "metadata": {},
   "source": [
    "<img src=\"TS5_LTSpice_Red_Pasiva_SOS_2_Respuesta_Fase.png\" style=\"margin-left:auto; margin-right:auto\"/>"
   ]
  },
  {
   "cell_type": "markdown",
   "id": "3ccd19c5-6bbb-4ab6-9b57-0db3a2b485bb",
   "metadata": {},
   "source": [
    "##\n",
    "##### En la figura observamos la respuesta de fase de $T_{BP_{2}}(s)$.\n",
    "##\n",
    "##### La gráfica de la respuesta de fase está representada por una función sigmoidea cuyo desarrollo está comprendido aproximadamente entre $\\frac{\\pi}{2}$ y -$\\frac{\\pi}{2}$ que se condice con el aporte de fase de una SOS recordando que este está dado por $N*\\frac{\\pi}{2}$ con $N=2$.\n",
    "##\n",
    "##### Colocamos dos cursores justamente para ponerlo de manifiesto: elegimos las frecuencias que se encuentran una década antes y una después de la frecuencia central, es decir, $0,1*f_{0_{2}}$ y $10*f_{0_{2}}$.\n",
    "##"
   ]
  },
  {
   "cell_type": "markdown",
   "id": "80438e36-3f6f-41b9-abf4-fb98db674ac8",
   "metadata": {},
   "source": [
    "<img src=\"TS5_LTSpice_Red_Pasiva_SOS_2_Respuesta_Retardo_Grupo.png\" style=\"margin-left:auto; margin-right:auto\"/>"
   ]
  },
  {
   "cell_type": "markdown",
   "id": "ca8fbcc3-9b74-4e1b-8ec3-621a69b15cde",
   "metadata": {},
   "source": [
    "##\n",
    "##### En la figura observamos la respuesta de retardo de grupo de $T_{BP_{2}}(s)$.\n",
    "##\n",
    "##### El retardo de grupo $\\tau$ está dado por la variación de la respuesta de fase respecto a la frecuencia a través de su derivada de signo opuesto: $\\tau = -\\frac{\\partial\\Phi}{\\partial\\omega}$\n",
    "##\n",
    "##### Observamos que en la frecuencia central, el retardo es máximo en concordancia con la pendiente de la recta tangente en ese punto.\n",
    "##\n",
    "##### A medida que nos desplazamos de la frecuencia central, el retardo disminuye hasta anularse en los puntos en los que la pendiente de la recta tangente es mínima.\n",
    "##"
   ]
  },
  {
   "cell_type": "markdown",
   "id": "1cc9c2b0-1eab-4c57-be7e-1f2b910e866a",
   "metadata": {},
   "source": [
    "##\n",
    "##### Para $T_{BP_{3}}(s)$ obtenemos:\n",
    "##\n",
    "\n",
    "\\begin{equation*}\n",
    "L_3= \\frac{1}{\\omega_{0_{3}}^2}= \\frac{1}{0,8156}= 1,2261\n",
    "\\end{equation*}\n",
    "\n",
    "##\n",
    "\n",
    "\\begin{equation*}\n",
    "R_3= \\frac{Q_3}{\\omega_{0_{3}}}= \\frac{15,9558}{0,9031}= 17,6678\n",
    "\\end{equation*}\n",
    "\n",
    "##"
   ]
  },
  {
   "cell_type": "markdown",
   "id": "4f553a84-4844-403d-9c26-2a8e5489338c",
   "metadata": {},
   "source": [
    "<img src=\"TS5_LTSpice_Red_Pasiva_SOS_3_Circuito.png\" style=\"margin-left:auto; margin-right:auto\"/>"
   ]
  },
  {
   "cell_type": "markdown",
   "id": "9c65fff7-618a-4c02-a00f-0b00a5c337cb",
   "metadata": {},
   "source": [
    "<img src=\"TS5_LTSpice_Red_Pasiva_SOS_3_Respuesta_Modulo.png\" style=\"margin-left:auto; margin-right:auto\"/>"
   ]
  },
  {
   "cell_type": "markdown",
   "id": "9bb40931-116a-4289-b40b-69f1ecde19c7",
   "metadata": {},
   "source": [
    "##\n",
    "##### En la figura observamos la respuesta de módulo de $T_{BP_{3}}(s)$.\n",
    "##\n",
    "##### Como esperábamos, obtenemos en continua, es decir para $s= j*\\omega= 0$, $\\left|T_{BP_{3}}(s)\\right| \\rightarrow 0 dB$ debido a que se trata de una red pasiva.\n",
    "##\n",
    "##### Podemos adjudicar la diferencia a las aproximaciones realizadas en los cálculos para la obtención de $T_{BP_{3}}(s)$ y por consiguiente, de $\\omega_{0_{3}}$ y $Q_3$.\n",
    "##\n",
    "##### Aceptamos la diferencia de $~125mdB$ en la respuesta de módulo y por este motivo consideramos válido el modelo de red pasiva adoptado.\n",
    "##"
   ]
  },
  {
   "cell_type": "markdown",
   "id": "fe71f538-e0e5-4f26-9397-27927b4ca4ee",
   "metadata": {},
   "source": [
    "<img src=\"TS5_LTSpice_Red_Pasiva_SOS_3_Respuesta_Modulo_Ampliada.png\" style=\"margin-left:auto; margin-right:auto\"/>"
   ]
  },
  {
   "cell_type": "markdown",
   "id": "be1c2e42-0c06-47af-88ad-e443a6a43d41",
   "metadata": {},
   "source": [
    "##\n",
    "##### En la figura observamos la respuesta de módulo de $T_{BP_{3}}(s)$ ampliada en el entorno de interés.\n",
    "##\n",
    "##### Podemos verificar el valor obtenido de $B$, ancho de banda, y por tanto de $Q$, factor de calidad, a través de su relación con $\\omega_0$ como la diferencia entre las frecuencias cuya respuesta de módulo desciende $3 dB$ respecto de la frecuencia central $f_0$.\n",
    "##\n",
    "\n",
    "\\begin{equation*}\n",
    "f_{0_{3}}= \\frac{\\omega_{0_{3}}}{2*\\pi}= \\frac{0,9031}{2*\\pi} \\approx 143,7328mHz\n",
    "\\end{equation*}\n",
    "\n",
    "##\n",
    "\n",
    "\\begin{equation*}\n",
    "\\Delta\\left|T_{BP_{3}}(s)\\right|_{1}= \\left| \\left|T_{BP_{3}}(s)\\right|_{f_{1_{3}}} - \\left|T_{BP_{3}}(s)\\right|_{f_{0_{3}}} \\right|= \\left| -3,1436dB -(-124,2676mdB) \\right| \\approx -3,0194dB\n",
    "\\end{equation*}\n",
    "\n",
    "##\n",
    "\n",
    "\\begin{equation*}\n",
    "\\Delta\\left|T_{BP_{3}}(s)\\right|_{2}= \\left| \\left|T_{BP_{3}}(s)\\right|_{f_{2_{3}}} - \\left|T_{BP_{3}}(s)\\right|_{f_{0_{3}}} \\right|= \\left| -3,1274dB -(-124,2676mdB) \\right| \\approx -3,0031dB\n",
    "\\end{equation*}\n",
    "\n",
    "##\n",
    "\n",
    "\\begin{equation*}\n",
    "B_3= \\omega_{2_{\\Delta\\left|T_{BP_{3}}(s)\\right|_{2_{3}}}} - \\omega_{1_{\\Delta\\left|T_{BP_{3}}(s)\\right|_{1_{3}}}}= 2*\\pi*f_{2_{\\Delta\\left|T_{BP_{3}}(s)\\right|_{2_{3}}}} - 2*\\pi*f_{1_{\\Delta\\left|T_{BP_{3}}(s)\\right|_{1_{3}}}}= 2*\\pi*148,3717mHz - 2*\\pi*139,2305mHz= 2*\\pi*9,1412mHz\n",
    "\\end{equation*}\n",
    "\n",
    "##\n",
    "\n",
    "\\begin{equation*}\n",
    "Q_3= \\frac{\\omega_{0_{3}}}{B_3}= \\frac{0,9031}{2*\\pi*9,1412mHz} \\approx 15,7236 \n",
    "\\end{equation*}\n",
    "\n",
    "##\n"
   ]
  },
  {
   "cell_type": "markdown",
   "id": "0d366a67-a534-4116-8b81-4021d1752a3d",
   "metadata": {},
   "source": [
    "<img src=\"TS5_LTSpice_Red_Pasiva_SOS_3_Respuesta_Fase.png\" style=\"margin-left:auto; margin-right:auto\"/>"
   ]
  },
  {
   "cell_type": "markdown",
   "id": "6e4e23df-f786-4c36-b43e-21b916c0f250",
   "metadata": {},
   "source": [
    "##\n",
    "##### En la figura observamos la respuesta de fase de $T_{BP_{2}}(s)$.\n",
    "##\n",
    "##### La gráfica de la respuesta de fase está representada por una función sigmoidea cuyo desarrollo está comprendido aproximadamente entre $\\frac{\\pi}{2}$ y -$\\frac{\\pi}{2}$ que se condice con el aporte de fase de una SOS recordando que este está dado por $N*\\frac{\\pi}{2}$ con $N=2$.\n",
    "##\n",
    "##### Colocamos dos cursores justamente para ponerlo de manifiesto: elegimos las frecuencias que se encuentran una década antes y una después de la frecuencia central, es decir, $0,1*f_{0_{3}}$ y $10*f_{0_{3}}$.\n",
    "##"
   ]
  },
  {
   "cell_type": "markdown",
   "id": "f8be9996-70ec-4729-9382-a8d108caedf3",
   "metadata": {},
   "source": [
    "<img src=\"TS5_LTSpice_Red_Pasiva_SOS_3_Respuesta_Retardo_Grupo.png\" style=\"margin-left:auto; margin-right:auto\"/>"
   ]
  },
  {
   "cell_type": "markdown",
   "id": "d90c7ba6-0cbf-429b-93e3-b164a631f00e",
   "metadata": {},
   "source": [
    "##\n",
    "##### En la figura observamos la respuesta de retardo de grupo de $T_{BP_{3}}(s)$.\n",
    "##\n",
    "##### El retardo de grupo $\\tau$ está dado por la variación de la respuesta de fase respecto a la frecuencia a través de su derivada de signo opuesto: $\\tau = -\\frac{\\partial\\Phi}{\\partial\\omega}$\n",
    "##\n",
    "##### Observamos que en la frecuencia central, el retardo es máximo en concordancia con la pendiente de la recta tangente en ese punto.\n",
    "##\n",
    "##### A medida que nos desplazamos de la frecuencia central, el retardo disminuye hasta anularse en los puntos en los que la pendiente de la recta tangente es mínima.\n",
    "##"
   ]
  },
  {
   "cell_type": "markdown",
   "id": "bda518c0-d1db-412d-8741-8a51ae2638c4",
   "metadata": {},
   "source": [
    "##\n",
    "##### En la figura observamos la respuesta de retardo de grupo de $T_{BP_{3}}(s)$.\n",
    "##\n",
    "##### El retardo de grupo $\\tau$ está dado por la variación de la respuesta de fase respecto a la frecuencia a través de su derivada de signo opuesto: $\\tau = -\\frac{\\partial\\Phi}{\\partial\\omega}$\n",
    "##\n",
    "##### Observamos que en la frecuencia central, el retardo es máximo en concordancia con la pendiente de la recta tangente en ese punto.\n",
    "##\n",
    "##### A medida que nos desplazamos de la frecuencia central, el retardo disminuye hasta anularse en los puntos en los que la pendiente de la recta tangente es mínima.\n",
    "##"
   ]
  },
  {
   "cell_type": "markdown",
   "id": "b6ee1a99-418e-4e7b-bad0-2b0cc9d04bf6",
   "metadata": {},
   "source": [
    "##\n",
    "##### Procedemos a separar cada SOS por un seguidor de tensión activo de la siguiente forma:\n",
    "##\n",
    "\n",
    "<img src=\"TS5_LTSpice_Red_Pasiva_SOSs_Acopladas_Circuito.png\" style=\"margin-left:auto; margin-right:auto\"/>\n",
    "\n",
    "##\n",
    "##### Obtenemos la siguiente respuesta de módulo $T_{BP}(s)$:\n",
    "##\n",
    "\n",
    "<img src=\"TS5_LTSpice_Red_Pasiva_SOSs_Acopladas_Respuesta_Modulo.png\" style=\"margin-left:auto; margin-right:auto\"/>\n",
    "\n",
    "##\n",
    "##### Notamos que en continua, a diferencia del estudio de cada SOS en particular, $\\left|T_{BP}(s)\\right|$ no tiende a $0dB$. \n",
    "##### Por este motivo y para que compensar dicho efecto, colocamos a la entrada del filtro en cuestión una etapa de ganancia en configuración no inversora para que evitar que introduzca cambios en la fase.\n",
    "##### Recordando que la ganancia de un OPAMP en dicha configuración está dada por $A_{V_{NI}}= 1 + \\frac{R_2}{R_1}$ cuyo valor es conocido y siendo $R_2$ de forma general la resistencia de realimentación y $R_1$ aquella que se encuentra en derivación, obtenemos los valores de resistencia a colocar:\n",
    "##\n",
    "\n",
    "\\begin{equation*}\n",
    "\\Delta\\left|T_{BP}(s)\\right|_{dB}= 21,4031 dB\n",
    "\\end{equation*}\n",
    "\n",
    "##\n",
    "##### Expresado en veces:\n",
    "##\n",
    "\n",
    "\\begin{equation*}\n",
    "20*log_{10}\\left(\\Delta\\left|T_{BP}(s)\\right|\\right)= \\Delta\\left|T_{BP}(s)\\right|_{dB}\n",
    "\\end{equation*}\n",
    "\n",
    "##\n",
    "\n",
    "\\begin{equation*}\n",
    "\\Delta\\left|T_{BP}(s)\\right|= 10^\\left(\\frac{\\Delta\\left|T_{BP}(s)\\right|_{dB}}{20}\\right)\n",
    "\\end{equation*}\n",
    "\n",
    "##\n",
    "##### Reemplazando valores:\n",
    "##\n",
    "\n",
    "\\begin{equation*}\n",
    "\\Delta\\left|T_BP(s)\\right|= 10^\\frac{21,4031}{20}= 11,7532\n",
    "\\end{equation*}\n",
    "\n",
    "##\n",
    "##### Obtenemos entonces las resistencias nomencladas en correspondencia con el circuito de la figura de la siguiente forma:\n",
    "##\n",
    "\n",
    "\\begin{equation*}\n",
    "A_{V_{NI}}= 1 + \\frac{R_4}{R_5}\n",
    "\\end{equation*}\n",
    "\n",
    "##\n",
    "##### Adoptando $R_5= 1$ arbitrariamente:\n",
    "##\n",
    "\n",
    "\\begin{equation*}\n",
    "R_4= R_5*(A_{V_{NI}} -1)\n",
    "\\end{equation*}\n",
    "\n",
    "##\n",
    "\n",
    "\\begin{equation*}\n",
    "R_4= 10,7532\n",
    "\\end{equation*}\n",
    "\n",
    "##\n",
    "\n",
    "<img src=\"TS5_LTSpice_Red_Pasiva_SOSs_Acopladas_Circuito_Con_Ajuste.png\" style=\"margin-left:auto; margin-right:auto\"/>\n",
    "\n",
    "##\n",
    "\n",
    "<img src=\"TS5_LTSpice_Red_Pasiva_SOSs_Acopladas_Respuesta_Modulo_Ajustada.png\" style=\"margin-left:auto; margin-right:auto\"/>\n",
    "\n",
    "##\n",
    "##### Procedemos a verificar los parámetros obtenidos correspondientes:\n",
    "##\n",
    "\n",
    "<img src=\"TS5_LTSpice_Red_Pasiva_SOSs_Acopladas_Respuesta_Modulo_Ajustada_alfa_max.png\" style=\"margin-left:auto; margin-right:auto\"/>\n",
    "\n",
    "##\n",
    "##### En la figura, se observa que no se cumple con el requerimiento de plantilla de máximo ripple en la banda de paso $\\alpha_{máx}= 0,5dB$ para ambas frecuencias de corte $f_1$ y $f_2$: habiendo revisado el análisis previo no se detectaron errores por lo que queda para una posterior revisión establecer los motivos de tal diferencia.\n",
    "##\n",
    "##### Pueden obtenerse los valores de $B$ y $Q$ a través de los valores de las frecuencias central y de corte que surgen de la simulación:\n",
    "##\n",
    "\n",
    "\\begin{equation*}\n",
    "f_0= 159,1549mHz\n",
    "\\end{equation*}\n",
    "\n",
    "##\n",
    "\n",
    "\\begin{equation*}\n",
    "f_1= 143,8203mHz\n",
    "\\end{equation*}\n",
    "\n",
    "##\n",
    "\n",
    "\\begin{equation*}\n",
    "f_2= 176,2235mHz\n",
    "\\end{equation*}\n",
    "\n",
    "##\n",
    "\n",
    "\\begin{equation*}\n",
    "B= \\omega_2 - \\omega_1= 2*\\pi*f_2 - 2*\\pi*f_1= 2*\\pi*176,2235mHz - 2*\\pi*143,8203mHz= 2*\\pi*32,4032mHz\n",
    "\\end{equation*}\n",
    "\n",
    "##\n",
    "\n",
    "\\begin{equation*}\n",
    "Q= \\frac{\\omega_0}{B}= \\frac{1}{2*\\pi*32,4032mHz} \\approx 4,9117\n",
    "\\end{equation*}\n",
    "\n",
    "##\n",
    "\n",
    "<img src=\"TS5_LTSpice_Red_Pasiva_SOSs_Acopladas_Respuesta_Modulo_Ajustada_alfa_min.png\" style=\"margin-left:auto; margin-right:auto\"/>\n",
    "\n",
    "##\n",
    "##### En el caso de las atenuaciones mínimas en las bandas de detendida, se observa que se cumple con el requerimiento de plantilla de $\\alpha_{mín}$ tanto para $f_{s_{1}}$ como para $f_{s_{2}}$\n",
    "##\n",
    "\n",
    "***\n",
    "\n",
    "##\n",
    "#### <span style=\"text-decoration: underline;\">Activación de secciones pasivas separadas por seguidores de tensión activos según red propuesta:</span>\n",
    "##\n",
    "\n",
    "<img src=\"TS5_Activacion_Red_Pasiva_Grafica.png\" style=\"margin-left:auto; margin-right:auto\"/>\n",
    "\n",
    "##\n",
    "##### Nos referimos nuevamente al libro de Schaumann para realizar la implementación correspondiente [$^{(14)}$](#14):\n",
    "##\n",
    "\n",
    "<img src=\"TS5_General_Biquad_GIC_Circuit_Circuito.png\" style=\"margin-left:auto; margin-right:auto\"/>\n",
    "\n",
    "##\n",
    "##### Como podemos observar, la red propuesta para la activación de las redes pasivas de las SOS's, resulta ser el caso particular de una estructura general basada en el GIC en su versión girador, precisamente de filtro pasabanda. \n",
    "##\n",
    "\n",
    "<img src=\"TS5_General_Biquad_GIC_Circuit_Tabla.png\" style=\"margin-left:auto; margin-right:auto\"/>\n",
    "\n",
    "##\n",
    "##### La función transferencia para el caso más general responde a la Ec.5.36 del libro de Schaumann y puesto que precisamos un filtro pasa banda, realizamos el reemplazo de los coeficientes sugerido por la tabla, obteniendo para cada SOS:\n",
    "##\n",
    "\n",
    "\\begin{equation*}\n",
    "T_{BP_{n}}(s)= \n",
    "\\frac{\\frac{\\omega_{0_{n}}}{Q_n}*s*2a_n} {s^2 + \\frac{\\omega_{0_{n}}}{Q_n}*s + \\omega_{0_{n}}^2}\n",
    "\\end{equation*}\n",
    "\n",
    "##\n",
    "##### <span style=\"text-decoration: underline;\">Nota:</span> Reemplazamos convenientemente el coeficiente $b$, de nuestro caso particular pasa banda de la Ec.5.36 del libro de Schaumann, para que coincida con el de la red propuesta. \n",
    "##\n",
    "##### Por lo tanto, expresaremos cada una de las SOS's en su forma parametrizada en función de $k_n$, $\\omega_{0_{n}}$ y $Q_n$, para obtener $R_b$ y $R_c$, resistencias que están relacionadas a través del coeficiente $a$.\n",
    "##### Dicho coeficiente indica el grado de proporción de impedancia (o admitancia según corresponda) que estando flotante (ver R's en red pasiva), pasará a estar aterrizada: esto se conoce como levantamiento parcial de referencia.\n",
    "##\n",
    "\n",
    "\\begin{equation*}\n",
    "T_{BP_{m}}(s)= \n",
    "\\frac{k_m*\\frac{\\omega_{0_{m}}}{Q_m}*s} {s^2 + \\frac{\\omega_{0_{m}}}{Q_m}*s + \\omega_{0_{m}}^2}\n",
    "\\end{equation*}\n",
    "\n",
    "##\n",
    "##### Por igualación de ambas ecuaciones para cada una de las SOS's, obtenemos:\n",
    "##\n",
    "\n",
    "\\begin{equation*}\n",
    "k_m= 2*a_n\n",
    "\\end{equation*}\n",
    "\n",
    "##\n",
    "\n",
    "\\begin{equation*}\n",
    "k_1= 2*a_1 \\rightarrow a_1= \\frac{k_1}{2}= \\frac{1,4435}{2}= 0,7218\n",
    "\\end{equation*}\n",
    "\n",
    "##\n",
    "\n",
    "\\begin{equation*}\n",
    "k_2= 2*a_2 \\rightarrow a_2= \\frac{k_2}{2}= \\frac{2,5578}{2}= 1,2789\n",
    "\\end{equation*}\n",
    "\n",
    "##\n",
    "\n",
    "\\begin{equation*}\n",
    "k_3= 2*a_3 \\rightarrow a_3= \\frac{k_3}{2}= \\frac{3,1608}{2}= 1,5804\n",
    "\\end{equation*}\n",
    "\n",
    "##\n",
    "##### Por definición, $0 < a < 1$, por lo tanto debemos reconsiderar los valores obtenidos de $a_2$ y $a_3$.\n",
    "##\n",
    "##### Procedemos entonces a adoptar un valor de $a$ que no sólo cumpla con la definición sino que además nos resulte conveniente para poder ajustar el valor de ganancia con la estrategia previamente utilizada.\n",
    "##\n",
    "##### Arbitrariamente elegimos $a_2= a_3= 0,5$: de esta forma $k_2$ y $k_3$ serán unitarios y la ganancia será impuesta en su totalidad por el OPAMP en configuración no inversora.\n",
    "##\n",
    "##### Por otro lado, recordando que la $Z_{in_{GIC}}= \\frac{Z_1*Z_3*Z_5}{Z_2*Z_4}$ y que en caso de que $Z_1$, $Z_3$, $Z_5$ y $Z_2$ o bien $Z_4$ sean resistencias y que por lo tanto la restante sea un capacitor, obtendremos una $Z_{in_{GIC}}= s*C*R^2= s*L_{eq}$: la red propuesta nos impone que $Z_2= \\frac{1}{s*C}$ y que adoptemos $Z_1= Z_3= Z_4= Z_5= R$.\n",
    "##\n",
    "##### Asumiendo que $R= 1$, $C$ toma el valor de $L_{eq}$ correspondiente a cada SOS y de esta manera nos permite listar los valores obtenidos:\n",
    "##\n",
    "##### Para SOS 1: Siendo $L_1= 1$, adoptamos $R_{11}= R_{31}= R_{41}= R_{51}= 1$ y obtenemos $C_{21}= 1$\n",
    "##\n",
    "##### Para SOS 2: Siendo $L_2= 0,8154$, adoptamos $R_{12}= R_{32}= R_{42}= R_{52}= 1$ y obtenemos $C_{22}= 0,8154$\n",
    "##\n",
    "##### Para SOS 3: Siendo $L_3= 1,2261$, adoptamos $R_{13}= R_{33}= R_{43}= R_{53}= 1$ y obtenemos $C_{23}= 1,2261$\n",
    "##\n",
    "\n",
    "<img src=\"TS5_LTSpice_Red_Pasiva_SOSs_Acopladas_Activada_Circuito.png\" style=\"margin-left:auto; margin-right:auto\"/>\n",
    "\n",
    "##\n",
    "\n",
    "<img src=\"TS5_LTSpice_Red_Pasiva_SOSs_Acopladas_Activada_Respuesta_Modulo.png\" style=\"margin-left:auto; margin-right:auto\"/>\n",
    "\n",
    "##\n",
    "##### Procedemos a verificar los parámetros obtenidos correspondientes:\n",
    "##\n",
    "\n",
    "<img src=\"TS5_LTSpice_Red_Pasiva_SOSs_Acopladas_Activada_Respuesta_Modulo_alfa_max.png\" style=\"margin-left:auto; margin-right:auto\"/>\n",
    "\n",
    "##\n",
    "##### En la figura, se observa que no se cumple con el requerimiento de plantilla de máximo ripple en la banda de paso $\\alpha_{máx}= 0,5dB$ para ambas frecuencias de corte $f_1$ y $f_2$: habiendo revisado el análisis previo no se detectaron errores por lo que queda para una posterior revisión establecer los motivos de tal diferencia.\n",
    "##\n",
    "##### Pueden obtenerse los valores de $B$ y $Q$ a través de los valores de las frecuencias central y de corte que surgen de la simulación:\n",
    "##\n",
    "\n",
    "\\begin{equation*}\n",
    "f_0= 159,1549mHz\n",
    "\\end{equation*}\n",
    "\n",
    "##\n",
    "\n",
    "\\begin{equation*}\n",
    "f_1= 143,8203mHz\n",
    "\\end{equation*}\n",
    "\n",
    "##\n",
    "\n",
    "\\begin{equation*}\n",
    "f_2= 176,1401mHz\n",
    "\\end{equation*}\n",
    "\n",
    "##\n",
    "\n",
    "\\begin{equation*}\n",
    "B= \\omega_2 - \\omega_1= 2*\\pi*f_2 - 2*\\pi*f_1= 2*\\pi*176,1401mHz - 2*\\pi*143,8203mHz= 2*\\pi*32,3198mHz\n",
    "\\end{equation*}\n",
    "\n",
    "##\n",
    "\n",
    "\\begin{equation*}\n",
    "Q= \\frac{\\omega_0}{B}= \\frac{1}{2*\\pi*32,3198mHz} \\approx 4,9244\n",
    "\\end{equation*}\n",
    "\n",
    "##\n",
    "\n",
    "<img src=\"TS5_LTSpice_Red_Pasiva_SOSs_Acopladas_Activada_Respuesta_Modulo_alfa_min.png\" style=\"margin-left:auto; margin-right:auto\"/>\n",
    "\n",
    "##\n",
    "##### En el caso de las atenuaciones mínimas en las bandas de detendida, se observa que se cumple con el requerimiento de plantilla de $\\alpha_{mín}$ tanto para $f_{s_{1}}$ como para $f_{s_{2}}$\n",
    "##"
   ]
  },
  {
   "cell_type": "markdown",
   "id": "d395cebf-23b7-43d2-860e-fce9b6d4c73d",
   "metadata": {},
   "source": [
    "***\n",
    "\n",
    "#####\n",
    "<a id=\"metodologia_de_trabajo\"></a>\n",
    "### <span style=\"text-decoration: underline;\">Metodología de trabajo:</span>\n",
    "#####\n",
    "\n",
    "##\n",
    "##### Todos los integrantes hemos colaborado en conjunto para la realización del presente trabajo discutiendo métodos y resultados obtenidos.\n",
    "##\n",
    "##### Sin embargo, en términos de la presentación y compaginación final, los aportes realizados estuvieron a cargo de Alejandro y David en lo que respecta a la resolución analítica, y de Facundo y David, en lo que respecta a las simulaciones numérica/simbólica y circuital.\n",
    "##"
   ]
  },
  {
   "cell_type": "markdown",
   "id": "89e277e5-57ac-47fa-9cd9-54f3e613cead",
   "metadata": {},
   "source": [
    "***\n",
    "\n",
    "#####\n",
    "<a id=\"referencias\"></a>\n",
    "### <span style=\"text-decoration: underline;\">Referencias:</span>\n",
    "#####\n",
    "\n",
    "<a id=\"1\"></a>\n",
    "###### (1) Schaumann, Van Valkenburg, [*\"Design of Analog Filters\"*](https://drive.google.com/file/d/1Kmho8kfFZ_OevvB3TFCWTYMwIvEbg-hR/view?usp=sharing), Cáp.9.2: \"Lowpass-To-Bandpass Transformation\", Pág.354\n",
    "\n",
    "<a id=\"2\"></a>\n",
    "###### (2) Schaumann, Van Valkenburg, [*\"Design of Analog Filters\"*](https://drive.google.com/file/d/1Kmho8kfFZ_OevvB3TFCWTYMwIvEbg-hR/view?usp=sharing), Cáp.9.2: \"Lowpass-To-Bandpass Transformation\", Pág.355\n",
    "\n",
    "<a id=\"3\"></a>\n",
    "###### (3) Schaumann, Van Valkenburg, [*\"Design of Analog Filters\"*](https://drive.google.com/file/d/1Kmho8kfFZ_OevvB3TFCWTYMwIvEbg-hR/view?usp=sharing), Cáp.9.2: \"Lowpass-To-Bandpass Transformation\", Pág.360\n",
    "\n",
    "<a id=\"4\"></a>\n",
    "###### (4) Schaumann, Van Valkenburg, [*\"Design of Analog Filters\"*](https://drive.google.com/file/d/1Kmho8kfFZ_OevvB3TFCWTYMwIvEbg-hR/view?usp=sharing), Cáp.9.2: \"Lowpass-To-Bandpass Transformation\", Pág.355\n",
    "\n",
    "<a id=\"5\"></a>\n",
    "###### (5) Schaumann, Van Valkenburg, [*\"Design of Analog Filters\"*](https://drive.google.com/file/d/1Kmho8kfFZ_OevvB3TFCWTYMwIvEbg-hR/view?usp=sharing), Cáp.9.2: \"Lowpass-To-Bandpass Transformation\", Pág.360\n",
    "\n",
    "<a id=\"6\"></a>\n",
    "###### (6) Schaumann, Van Valkenburg, [*\"Design of Analog Filters\"*](https://drive.google.com/file/d/1Kmho8kfFZ_OevvB3TFCWTYMwIvEbg-hR/view?usp=sharing), Cáp.9.2: \"Lowpass-To-Bandpass Transformation\", Pág.360\n",
    "\n",
    "<a id=\"7\"></a>\n",
    "###### (7) Schaumann, Van Valkenburg, [*\"Design of Analog Filters\"*](https://drive.google.com/file/d/1Kmho8kfFZ_OevvB3TFCWTYMwIvEbg-hR/view?usp=sharing), Cáp.6.2: \"Butterworth Response\", Pág.254, Ec.6.6\n",
    "\n",
    "<a id=\"8\"></a>\n",
    "###### (8) Schaumann, Van Valkenburg, [*\"Design of Analog Filters\"*](https://drive.google.com/file/d/1Kmho8kfFZ_OevvB3TFCWTYMwIvEbg-hR/view?usp=sharing), Cáp.7.2: \"The Chevyshev Magnitude Response\", Pág.280, Ec.7.8\n",
    "\n",
    "<a id=\"9\"></a>\n",
    "###### (9) Schaumann, Van Valkenburg, [*\"Design of Analog Filters\"*](https://drive.google.com/file/d/1Kmho8kfFZ_OevvB3TFCWTYMwIvEbg-hR/view?usp=sharing), Cáp.7.2: \"The Chevyshev Magnitude Response\", Pág.281, Ec.7.14\n",
    "\n",
    "<a id=\"10\"></a>\n",
    "###### (10) Schaumann, Van Valkenburg, [*\"Design of Analog Filters\"*](https://drive.google.com/file/d/1Kmho8kfFZ_OevvB3TFCWTYMwIvEbg-hR/view?usp=sharing), Cáp.7.2: \"The Chevyshev Magnitude Response\", Pág.282, Ec.7.17\n",
    "\n",
    "<a id=\"11\"></a>\n",
    "###### (11) Schaumann, Van Valkenburg, [*\"Design of Analog Filters\"*](https://drive.google.com/file/d/1Kmho8kfFZ_OevvB3TFCWTYMwIvEbg-hR/view?usp=sharing), Cáp.9.2: \"Lowpass-To-Bandpass Transformation\", Pág.360\n",
    "\n",
    "<a id=\"12\"></a>\n",
    "###### (12) Schaumann, Van Valkenburg, [*\"Design of Analog Filters\"*](https://drive.google.com/file/d/1Kmho8kfFZ_OevvB3TFCWTYMwIvEbg-hR/view?usp=sharing), Cáp.7.1: \"The Chevyshev Polinomial\", Pág.279, Ec.7.7\n",
    "\n",
    "<a id=\"13\"></a>\n",
    "###### (13) Schaumann, Van Valkenburg, [*\"Design of Analog Filters\"*](https://drive.google.com/file/d/1Kmho8kfFZ_OevvB3TFCWTYMwIvEbg-hR/view?usp=sharing), Cáp.9.2: \"Lowpass-To-Bandpass Transformation\", Pág.355\n",
    "\n",
    "<a id=\"14\"></a>\n",
    "###### (14) Schaumann, Van Valkenburg, [*\"Design of Analog Filters\"*](https://drive.google.com/file/d/1Kmho8kfFZ_OevvB3TFCWTYMwIvEbg-hR/view?usp=sharing), Cáp.5.2: \"By Voltage Feedforward\", Pág.216\n",
    "\n",
    "***\n",
    "\n",
    "##### Otros documentos consultados:\n",
    "###### Llamedo Soria, [*\"Teoría de Filtrado Moderna: Funciones de aproximación\"*](https://pytc2.readthedocs.io/en/latest/ComparativaOrdenes.html), Aproximaciones de Chevyshev.\n",
    "###### Llamedo Soria, [*\"Transformación pasabanda\"*](https://pytc2.readthedocs.io/en/latest/transformacion_pasabanda.html)\n",
    "\n",
    "###\n",
    "\n",
    "***\n",
    "***\n",
    "\n",
    "###"
   ]
  },
  {
   "cell_type": "markdown",
   "id": "06873b81-4c32-44d7-ba95-3f37cd4140fc",
   "metadata": {},
   "source": [
    "##### © Copyright 2023, Moharos, David Santiago. Revision 1.0.0.\n",
    "***"
   ]
  }
 ],
 "metadata": {
  "kernelspec": {
   "display_name": "Python 3 (ipykernel)",
   "language": "python",
   "name": "python3"
  },
  "language_info": {
   "codemirror_mode": {
    "name": "ipython",
    "version": 3
   },
   "file_extension": ".py",
   "mimetype": "text/x-python",
   "name": "python",
   "nbconvert_exporter": "python",
   "pygments_lexer": "ipython3",
   "version": "3.11.1"
  }
 },
 "nbformat": 4,
 "nbformat_minor": 5
}
