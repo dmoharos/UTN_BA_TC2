{
 "cells": [
  {
   "cell_type": "markdown",
   "id": "7faa6083-f960-4feb-9dc7-f1591f990ebc",
   "metadata": {},
   "source": [
    "\n",
    "##### Para imagenes:\n",
    "<img src=\"./.png\" style=\"margin-left:auto; margin-right:auto\"/>\n"
   ]
  },
  {
   "cell_type": "code",
   "execution_count": null,
   "id": "8e850805-bfdc-47b8-8c6f-511526533e2c",
   "metadata": {},
   "outputs": [],
   "source": [
    "\n",
    "##### Para pdf: \n",
    "from IPython.display import IFrame\n",
    "IFrame(\"./.pdf\", width= 1000, height= 3750)\n"
   ]
  },
  {
   "cell_type": "markdown",
   "id": "fe6391be-a170-486e-a523-4b61bebafe9a",
   "metadata": {},
   "source": [
    "<img src=\"./TS_1P_Logo_UTN.svg\" align=\"right\" width=\"150\" />\n",
    "\n",
    "##\n",
    "\n",
    "***\n",
    "\n",
    "## (950431) Teoría de Circuitos II\n",
    "\n",
    "***\n",
    "\n",
    "#### Profesor: Mariano Llamedo Soria  <llamedom@frba.utn.edu.ar>\n",
    "#### Jefe de TPs: César Fuoco  <cfuoco@frba.utn.edu.ar>\n",
    "#### Ayudante de TPs: Israel Pavelek <pavel@frba.utn.edu.ar>\n",
    "\n",
    "####\n",
    "***"
   ]
  },
  {
   "cell_type": "markdown",
   "id": "f0591f37-00d7-491c-bcfc-65f2020076c1",
   "metadata": {},
   "source": [
    "# Primer parcial modalidad TS\n",
    "\n",
    "#### Autor: *Moharos, David Santiago* <dmoharos@frba.utn.edu.ar>\n",
    "\n",
    "####\n",
    "\n",
    "***"
   ]
  },
  {
   "cell_type": "markdown",
   "id": "bcba5f48-721e-4f35-b95d-0d14accac865",
   "metadata": {},
   "source": []
  },
  {
   "cell_type": "code",
   "execution_count": 2,
   "id": "836a4bb7-8155-40c1-9977-035f9a9f5ab4",
   "metadata": {
    "tags": []
   },
   "outputs": [
    {
     "name": "stdout",
     "output_type": "stream",
     "text": [
      "#---------------------------------------------------------------------------------------------#\n",
      " \n",
      "-- ε: Grado de libertad de la funcion --\n",
      " \n",
      "ε = sqrt(10^(α_max/10)-1)\n",
      " \n",
      "ε = 0.349\n",
      "ε^2 = 0.122\n",
      " \n",
      "#---------------------------------------------------------------------------------------------#\n",
      " \n",
      "-- N: Orden del filtro --\n",
      " \n",
      "α_min = 10*log(1 + ε^2*ω_s^(2*N))\n",
      "Para N= 1: ¿att = 3.218 dB >= α_min= 16?\n",
      "Para N= 2: ¿att = 10.368 dB >= α_min= 16?\n",
      "Para N= 3: ¿att = 19.540 dB >= α_min= 16?\n",
      " \n",
      "N= 3\n",
      " \n",
      "#---------------------------------------------------------------------------------------------#\n"
     ]
    }
   ],
   "source": [
    "# Inicializamos e importamos módulos\n",
    "\n",
    "# Módulos externos\n",
    "import matplotlib as mpl\n",
    "import matplotlib.pyplot as plt\n",
    "import numpy as np\n",
    "import math as m\n",
    "import scipy.signal as sig\n",
    "\n",
    "fig_sz_x = 10\n",
    "fig_sz_y = 9\n",
    "fig_dpi = 150 # dpi\n",
    "\n",
    "fig_font_size = 12\n",
    "\n",
    "mpl.rcParams['figure.figsize'] = (fig_sz_x, fig_sz_y)\n",
    "mpl.rcParams['figure.dpi'] = fig_dpi\n",
    "#plt.rcParams.update({'font.size':fig_font_size})\n",
    "\n",
    "#-------------------------------------------------------------------------------------------------------------------#\n",
    "\n",
    "# Importamos las funciones de PyTC2\n",
    "\n",
    "from pytc2.sistemas_lineales import analyze_sys\n",
    "from pytc2.sistemas_lineales import pretty_print_bicuad_omegayq\n",
    "from pytc2.sistemas_lineales import tf2sos_analog\n",
    "from pytc2.sistemas_lineales import pretty_print_SOS\n",
    "from pytc2.general import print_subtitle\n",
    "\n",
    "#-------------------------------------------------------------------------------------------------------------------#\n",
    "\n",
    "# Calculamos e^2\n",
    "alfa_max = 0.5    # dB\n",
    "alfa_min = 16   # dB\n",
    "omega_p = 1     # norm omega_p\n",
    "omega_s = 3     # norm omega_s\n",
    "\n",
    "eps = np.sqrt(10**(alfa_max/10)-1)\n",
    "\n",
    "print('#---------------------------------------------------------------------------------------------#')\n",
    "print(' ')\n",
    "print('-- ε: Grado de libertad de la funcion --')\n",
    "print(' ')\n",
    "\n",
    "print('ε = sqrt(10^(α_max/10)-1)')\n",
    "\n",
    "print(' ')\n",
    "\n",
    "print('ε = {:3.3f}'.format(eps))\n",
    "print('ε^2 = {:3.3f}'.format(eps**2))\n",
    "\n",
    "print(' ')\n",
    "print('#---------------------------------------------------------------------------------------------#')\n",
    "\n",
    "#-------------------------------------------------------------------------------------------------------------------#\n",
    "\n",
    "# Calculamos N\n",
    "# Iteramos alfa_min\n",
    "print(' ')\n",
    "print('-- N: Orden del filtro --')\n",
    "print(' ')\n",
    "\n",
    "# -- Para máxima planicidad --\n",
    "\n",
    "print('α_min = 10*log(1 + ε^2*ω_s^(2*N))')\n",
    "\n",
    "for N in range(1,10):\n",
    "    att = 10 * np.log10(1 + eps**2*omega_s**(2*N))\n",
    "    print('Para N= {:d}: ¿att = {:3.3f} dB >= α_min= {:d}?'.format(N, att, alfa_min))\n",
    "    if att >= alfa_min:\n",
    "        break\n",
    "print(' ')\n",
    "\n",
    "print('N= {:d}'.format(N))\n",
    "\n",
    "print(' ')\n",
    "print('#---------------------------------------------------------------------------------------------#')\n",
    "\n"
   ]
  },
  {
   "cell_type": "code",
   "execution_count": null,
   "id": "b5c51a3c-397a-4a15-b8cd-788c4e044530",
   "metadata": {},
   "outputs": [],
   "source": []
  }
 ],
 "metadata": {
  "kernelspec": {
   "display_name": "Python 3 (ipykernel)",
   "language": "python",
   "name": "python3"
  },
  "language_info": {
   "codemirror_mode": {
    "name": "ipython",
    "version": 3
   },
   "file_extension": ".py",
   "mimetype": "text/x-python",
   "name": "python",
   "nbconvert_exporter": "python",
   "pygments_lexer": "ipython3",
   "version": "3.11.1"
  }
 },
 "nbformat": 4,
 "nbformat_minor": 5
}
