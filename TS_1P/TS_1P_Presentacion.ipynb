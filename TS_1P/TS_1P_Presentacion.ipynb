{
 "cells": [
  {
   "cell_type": "markdown",
   "id": "7faa6083-f960-4feb-9dc7-f1591f990ebc",
   "metadata": {},
   "source": [
    "\n",
    "##### Para imagenes:\n",
    "<img src=\"./.png\" style=\"margin-left:auto; margin-right:auto\"/>\n"
   ]
  },
  {
   "cell_type": "code",
   "execution_count": null,
   "id": "8e850805-bfdc-47b8-8c6f-511526533e2c",
   "metadata": {},
   "outputs": [],
   "source": [
    "\n",
    "##### Para pdf: \n",
    "from IPython.display import IFrame\n",
    "IFrame(\"./.pdf\", width= 1000, height= 3750)\n"
   ]
  },
  {
   "cell_type": "markdown",
   "id": "fe6391be-a170-486e-a523-4b61bebafe9a",
   "metadata": {},
   "source": [
    "<img src=\"./TS_1P_Logo_UTN.svg\" align=\"right\" width=\"150\" />\n",
    "\n",
    "##\n",
    "\n",
    "***\n",
    "\n",
    "## (950431) Teoría de Circuitos II\n",
    "\n",
    "***\n",
    "\n",
    "#### Profesor: Mariano Llamedo Soria  <llamedom@frba.utn.edu.ar>\n",
    "#### Jefe de TPs: César Fuoco  <cfuoco@frba.utn.edu.ar>\n",
    "#### Ayudante de TPs: Israel Pavelek <pavel@frba.utn.edu.ar>\n",
    "\n",
    "####\n",
    "***"
   ]
  },
  {
   "cell_type": "markdown",
   "id": "f0591f37-00d7-491c-bcfc-65f2020076c1",
   "metadata": {},
   "source": [
    "# Primer parcial modalidad TS\n",
    "\n",
    "#### Autor: *Moharos, David Santiago* <dmoharos@frba.utn.edu.ar>\n",
    "\n",
    "####\n",
    "\n",
    "***"
   ]
  },
  {
   "cell_type": "markdown",
   "id": "bcba5f48-721e-4f35-b95d-0d14accac865",
   "metadata": {},
   "source": []
  }
 ],
 "metadata": {
  "kernelspec": {
   "display_name": "Python 3 (ipykernel)",
   "language": "python",
   "name": "python3"
  },
  "language_info": {
   "codemirror_mode": {
    "name": "ipython",
    "version": 3
   },
   "file_extension": ".py",
   "mimetype": "text/x-python",
   "name": "python",
   "nbconvert_exporter": "python",
   "pygments_lexer": "ipython3",
   "version": "3.11.1"
  }
 },
 "nbformat": 4,
 "nbformat_minor": 5
}
