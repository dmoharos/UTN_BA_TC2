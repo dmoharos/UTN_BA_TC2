{
 "cells": [
  {
   "cell_type": "markdown",
   "id": "df564735-ef16-40da-bfb6-631004911eac",
   "metadata": {},
   "source": [
    "<img src=\"TS11_En_construcción.png\" style=\"margin-left:auto; margin-right:auto\"/>"
   ]
  },
  {
   "cell_type": "markdown",
   "id": "8c4df20e-c353-44c2-a0e8-386019619e80",
   "metadata": {
    "tags": []
   },
   "source": [
    "<img src=\"TS11_Logo_UTN.svg\" align=\"right\" width=\"150\" /> \n",
    "\n",
    "##\n",
    "\n",
    "***\n",
    "\n",
    "## (950431) Teoría de Circuitos II\n",
    "\n",
    "***\n",
    "\n",
    "##\n",
    "#### Profesor: Mariano Llamedo Soria  <llamedom@frba.utn.edu.ar>\n",
    "#### Jefe de TPs: César Fuoco  <cfuoco@frba.utn.edu.ar>\n",
    "#### Ayudante de TPs: Israel Pavelek <pavel@frba.utn.edu.ar>\n",
    "##\n"
   ]
  },
  {
   "cell_type": "markdown",
   "id": "e1a0cebe-061e-4999-9fc4-c42b13ffe556",
   "metadata": {},
   "source": [
    "***\n",
    "***\n",
    "\n",
    "##\n",
    "## Trabajo Semanal # 11 - Funciones de excitación disipativas\n",
    "##\n",
    "\n",
    "***\n",
    "***\n",
    "\n",
    "##\n",
    "### <span style=\"text-decoration: underline;\">Autor</span>\n",
    "#### *Moharos, David Santiago* <dmoharos@frba.utn.edu.ar>\n",
    "##\n",
    "\n",
    "***"
   ]
  },
  {
   "cell_type": "markdown",
   "id": "58fa111d-b8d2-4ff2-8862-a28a3dde2d5f",
   "metadata": {},
   "source": [
    "##\n",
    "<a id=\"indice\"></a>\n",
    "### <span style=\"text-decoration: underline;\">Indice</span>\n",
    "##\n",
    "##### [Ejercicio # 1](#ejercicio_1)\n",
    "###\n",
    "##### [Ejercicio # 2](#ejercicio_2)\n",
    "###\n",
    "##### [Bibliografía sugerida](#bibliografia)\n",
    "##\n",
    "\n",
    "***"
   ]
  },
  {
   "cell_type": "markdown",
   "id": "89d86cc1-e1f8-4f0f-9fcb-072575a8398b",
   "metadata": {},
   "source": [
    "***\n",
    "##\n",
    "\n",
    "<a id=\"ejercicio_1\"></a>\n",
    "<img src=\"TS11_Ejercicio_1.png\" style=\"margin-left:auto; margin-right:auto\"/>\n",
    "\n",
    "###### [Volver al índice](#indice)"
   ]
  },
  {
   "cell_type": "markdown",
   "id": "8a561e2b-7eb8-4b3e-91ce-9930ee77e432",
   "metadata": {},
   "source": []
  },
  {
   "cell_type": "markdown",
   "id": "5e3b7add-ecbe-401e-a74f-e302c1687756",
   "metadata": {},
   "source": [
    "***\n",
    "##\n",
    "\n",
    "<a id=\"ejercicio_2\"></a>\n",
    "<img src=\"TS11_Ejercicio_2.png\" style=\"margin-left:auto; margin-right:auto\"/>\n",
    "\n",
    "###### [Volver al índice](#indice)"
   ]
  },
  {
   "cell_type": "markdown",
   "id": "8e228bb0-b956-4414-a393-e2aa57567768",
   "metadata": {},
   "source": []
  },
  {
   "cell_type": "markdown",
   "id": "b39f4525-6a4d-45f9-ad2f-f3c6f37dbb66",
   "metadata": {},
   "source": [
    "***\n",
    "\n",
    "##\n",
    "<a id=\"bibliografia\"></a>\n",
    "### <span style=\"text-decoration: underline;\">Bibliografía sugerida:</span>\n",
    "##\n",
    "\n",
    "###### Araujo, [*\"Análisis y Síntesis de Redes Lineales I\"*](https://drive.google.com/file/d/1LMrdMPUB0KsCBBYTuvpXFqYCaDdjYmyM/view?usp=sharing), Cap. 4: Métodos de síntesis de dipolos pasivos\n",
    "\n",
    "###### Kuo, [*\"Network Analysis and Synthesis\"*](https://drive.google.com/file/d/1WZEsKhywwb5SJqR7fEId6gJI8eIU8dB-/view?usp=sharing), Cap. 11: Synthesis of One-Port Networks With Two Kinds Of Elements\n",
    "\n",
    "###### Cogollos Borrás, [*\"Fundamentos de la Teoría de Filtros\"*](https://drive.google.com/file/d/1g4pgNS1m9dF43ZyR6LdkE-HAntfswhwh/view?usp=sharing)\n",
    "\n",
    "##\n",
    "### <span style=\"text-decoration: underline;\">Otros documentos consultados:</span>\n",
    "##\n",
    "\n",
    "###### Llamedo Soria, [*\"Síntesis de funciones de excitación no disipativas\"*](https://pytc2.readthedocs.io/en/latest/funciones_excitacion.html)\n",
    "\n",
    "###### Llamedo Soria, [*\"Remoción parcial de componentes\"*](https://pytc2.readthedocs.io/en/latest/remociones_parciales.html)\n",
    "\n",
    "##\n",
    "### <span style=\"text-decoration: underline;\">Lista de reproducción:</span>\n",
    "##\n",
    "\n",
    "###### Llamedo Soria, [*\"Clase 11 - Síntesis de Funciones de Excitación - Teoría de Circuitos 2 - UTN FRBA - Ingeniería Electrónica\"*](https://www.youtube.com/playlist?list=PLlD2eDv5CIe9u97ufE5TWxoS8PwZdGEqt)\n",
    "\n",
    "###\n",
    "\n",
    "###### [Volver al índice](#indice)\n",
    "\n",
    "***\n"
   ]
  },
  {
   "cell_type": "markdown",
   "id": "06873b81-4c32-44d7-ba95-3f37cd4140fc",
   "metadata": {},
   "source": [
    "##### © Copyright 2023, Moharos, David Santiago. Revision 1.0.0.\n",
    "***"
   ]
  }
 ],
 "metadata": {
  "kernelspec": {
   "display_name": "Python 3 (ipykernel)",
   "language": "python",
   "name": "python3"
  },
  "language_info": {
   "codemirror_mode": {
    "name": "ipython",
    "version": 3
   },
   "file_extension": ".py",
   "mimetype": "text/x-python",
   "name": "python",
   "nbconvert_exporter": "python",
   "pygments_lexer": "ipython3",
   "version": "3.11.1"
  }
 },
 "nbformat": 4,
 "nbformat_minor": 5
}
