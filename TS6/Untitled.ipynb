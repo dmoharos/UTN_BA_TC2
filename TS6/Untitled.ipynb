{
 "cells": [
  {
   "cell_type": "code",
   "execution_count": 2,
   "id": "9f051dc0-fc95-46b6-b9b7-71b2f397de3e",
   "metadata": {
    "tags": []
   },
   "outputs": [
    {
     "data": {
      "text/latex": [
       "$\\displaystyle  T_{HPN_{SOS}}(s)= \\frac{V_o}{V_i} = 1 \\frac{s^{2} + \\frac{- G_{1} G_{5} + G_{2} G_{5}}{C^{2}}}{s^{2} + \\frac{G_{1} s}{C} + \\frac{G_{2} G_{5}}{C^{2}}}$"
      ],
      "text/plain": [
       "<IPython.core.display.Math object>"
      ]
     },
     "metadata": {},
     "output_type": "display_data"
    },
    {
     "data": {
      "text/latex": [
       "$\\displaystyle \\frac{C^{2} s^{2} - G_{1} G_{5} + G_{2} G_{5}}{C^{2} s^{2} + C G_{1} s + G_{2} G_{5}}$"
      ],
      "text/plain": [
       "(C**2*s**2 - G_1*G_5 + G_2*G_5)/(C**2*s**2 + C*G_1*s + G_2*G_5)"
      ]
     },
     "metadata": {},
     "output_type": "display_data"
    }
   ],
   "source": [
    "import sympy as sp\n",
    "from sympy.abc import s\n",
    "from IPython.display import display, Math, Markdown\n",
    "from pytc2.sistemas_lineales import parametrize_sos\n",
    "\n",
    "# Variables simbólicas\n",
    "s = sp.symbols('s', complex=True)\n",
    "Va, Vb, Vi, Vo = sp.symbols(\"Va, Vb, Vi, Vo\")\n",
    "G_1, G_2, G_5, G, C = sp.symbols(\"G_1, G_2, G_5, G, C\")\n",
    "\n",
    "# Sistemas de ecuaciones\n",
    "sistema= sp.solve([ \n",
    "                  Va*(s*C +G_1 +G_2) - Vi*(s*C) - Vb*(G_2), \n",
    "                  Va*(2*G) - Vb*(G) - Vo*(G),\n",
    "                  Va*(s*C + G_5) - Vi*(G_5) - Vo*(s*C)\n",
    "                  ], \n",
    "                  [Vo, Vi, Va, Vb])\n",
    "\n",
    "T_lpn_SOS = sistema[Vo]/sistema[Vi]\n",
    "\n",
    "num_T_lpn_SOS, den_T_lpn_SOS = sp.fraction(sp.simplify(sp.expand(T_lpn_SOS)))\n",
    "num_T_lpn_SOS= sp.Poly(num_T_lpn_SOS, s)\n",
    "den_T_lpn_SOS= sp.Poly(den_T_lpn_SOS, s)\n",
    "num_T_lpn_SOS, den_T_lpn_SOS, omega_0_n, Q_n, omega_0_d, Q_d, k1= parametrize_sos(num_T_lpn_SOS, den_T_lpn_SOS)\n",
    "\n",
    "display(Math( r' T_{HPN_{SOS}}(s)= \\frac{V_o}{V_i} = ' + sp.latex(sp.Mul(k1,num_T_lpn_SOS/den_T_lpn_SOS, evaluate=False)) ))"
   ]
  },
  {
   "cell_type": "code",
   "execution_count": null,
   "id": "08900209-fe4c-4ec0-a6d9-f618cc3202a8",
   "metadata": {},
   "outputs": [],
   "source": []
  }
 ],
 "metadata": {
  "kernelspec": {
   "display_name": "Python 3 (ipykernel)",
   "language": "python",
   "name": "python3"
  },
  "language_info": {
   "codemirror_mode": {
    "name": "ipython",
    "version": 3
   },
   "file_extension": ".py",
   "mimetype": "text/x-python",
   "name": "python",
   "nbconvert_exporter": "python",
   "pygments_lexer": "ipython3",
   "version": "3.11.1"
  }
 },
 "nbformat": 4,
 "nbformat_minor": 5
}
