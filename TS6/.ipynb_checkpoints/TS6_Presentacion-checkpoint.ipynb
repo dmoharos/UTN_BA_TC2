{
 "cells": [
  {
   "cell_type": "markdown",
   "id": "cb9392a7-f57b-4ffa-931e-84c580fc51a4",
   "metadata": {},
   "source": [
    "\n",
    "#####  y para asegurar el cero de transmisión, debemos procurar que sea transferencia de segundo orden.\n",
    "\n",
    "##### Colocar imagen/ejemplo de Schaumann\n",
    "\n",
    "\\begin{equation*}\n",
    "T_{LPN}(s)= \\frac{s^2 +k^2*\\omega_0^2}{s^2 +s*\\frac{\\omega_0}{Q} +\\omega_0^2}\n",
    "\\end{equation*}\n",
    "\n",
    "##### El enunciado no impone restricciones respecto de $\\alpha_{max}$ y $¿\\alpha_{min}?$ sin embargo podemos intuir de la gráfica de $T_{LP}(s)$ y en primera aproximación asumir que la atenuación a la frecuencia de corte sea de 3 dB.\n",
    "##### Por lo tanto y por implicidad elegimos una transferencia de máxima planicidad en su versión Butterworth por caso $\\epsilon = 1$.\n",
    "\n",
    "\\begin{equation*}\n",
    "T_{Butter}(s)\\Bigr|_{N=2}= \\frac{\\omega_0^2}{s^2 +s*\\frac{\\omega_0}{Q} +\\omega_0^2}= \\frac{1}{s^2 +s +1}\n",
    "\\end{equation*}\n",
    "\n",
    "##### En primer lugar, para cumplir con la estructura de la $T_{LPN}(s)$, debemos modificar el numerador de la $T_{Butter}(s)\\Bigr|_{N=2}$ de forma tal de obtener el cero de transmisión requerido y como $\\omega_0^2= 1$, planteamos:\n",
    "\n",
    "\\begin{equation*}\n",
    "T_{LPN}(s)\\Bigr|_{N=2}= \\frac{s^2 +k^2*\\omega_0^2}{s^2 +s +1}= \\frac{s^2 +k^2}{s^2 +s +1}\n",
    "\\end{equation*}\n",
    "\n",
    "##### Además el término $k^2*\\omega_0^2$ de la $T_{LPN}(s)$ corresponde al término $\\omega_z^2$ que guarda relación justamente con el cero de transmisión, por lo tanto y como $\\omega_0= 1$, obtenemos la relación $\\omega_z^2= k^2$.\n",
    "\n",
    "\\begin{equation*}\n",
    "T_{LPN}(s)\\Bigr|_{N=2}= \\frac{s^2 +k^2}{s^2 +s +1}= \\frac{s^2 +\\omega_z^2}{s^2 +s +1}\n",
    "\\end{equation*}\n",
    "\n",
    "##### En segundo lugar, se requiere además que la frecuencia de corte de la $T_{HPN}(s)$ sea de 300 Hz: recordando que dicha frecuencia se utiliza como norma de frecuencia, o bien en términos de $\\Omega$, como norma de pulsación, $\\Omega_c$ será unitaria, por lo que el cero de transimisión de la $T_{HPN}(s)$ se hallará en $\\Omega_z= \\frac{1}{3}$, en correspondencia con los 100 Hz requeridos.\n",
    "\n",
    "##### Por lo tanto, y recordando que el núcleo de transformación $K_{LP \\rightarrow HP}(\\$)\\Bigr|_{\\$=j\\Omega}= \\Omega =\\frac{1}{\\omega}$, la frecuencia del cero de transmisión, en el prototipo de $T_{LPN}(s)$, será $\\omega_z= 3$.\n",
    "\n",
    "\\begin{equation*}\n",
    "T_{LPN}(s)\\Bigr|_{N=2}= \\frac{s^2 +\\omega_z^2}{s^2 +s +1}= \\frac{s^2 +9}{s^2 +s +1}\n",
    "\\end{equation*}\n",
    "\n"
   ]
  },
  {
   "cell_type": "code",
   "execution_count": null,
   "id": "f49e7649-5ea2-4486-87cf-186f700afa8b",
   "metadata": {},
   "outputs": [],
   "source": []
  },
  {
   "cell_type": "markdown",
   "id": "75ac561b-ba5a-424c-809d-0b7f790776a5",
   "metadata": {},
   "source": [
    "##### Notamos que la $T_{LPN}(s)$ obtenida cumple con lo previsto por Schaumann pero no precisamente con el prototipo del enunciado motivo por el cual debemos tener en consideración realizar las siguientes modificaciones.\n",
    "##### Diferencia respecto del valor de $T_{LPN}(s)\\Bigr|_{s=j\\omega}$ para $\\omega= 0$:\n",
    "##### Como se puede observar, $T_{LPN}(s)\\Bigr|_{s=j\\omega}$ para $\\omega= 0$ toma el valor de $\\omega_z= 9$ que difiere del requerido por la plantilla: $T_{LPN}(s)\\Bigr|_{s=j\\omega}$ para $\\omega= 0$ tiene que ser unitario.\n",
    "##### Por lo tanto introducimos una constante de $\\frac{1}{9}$ que nos permita compensar la diferencia y lograr el valor deseado $T_{LPN}(s)\\Bigr|_{s=j\\omega}= 1$ para $\\omega= 0$.\n",
    "\n",
    "\\begin{equation*}\n",
    "T_{LPN}(s)\\Bigr|_{N=2}= \\frac{1}{9}*\\frac{s^2 +9}{s^2 +s +1}\n",
    "\\end{equation*}"
   ]
  },
  {
   "cell_type": "code",
   "execution_count": null,
   "id": "ad88b096-e17f-4d31-b98d-c43471b7a001",
   "metadata": {},
   "outputs": [],
   "source": []
  },
  {
   "cell_type": "markdown",
   "id": "22909166-c49c-4d65-9367-75207bfba375",
   "metadata": {},
   "source": [
    "##### Diferencia respecto del valor de $T_{LPN}(s)\\Bigr|_{s=j\\omega}$ para $\\omega\\rightarrow \\infty$:\n",
    "##### Como se puede observar $T_{LPN}(s)\\Bigr|_{s=j\\omega} \\rightarrow 1$ para $\\omega \\rightarrow \\infty$ que difiere del requerido por la plantilla: $T_{LPN}(s)\\Bigr|_{s=j\\omega}$ tiene una pendiente de salida de la banda de paso de $-20\\frac{dB}{dec}$.\n",
    "##### Por lo tanto introducimos una sección de primer orden cuya pendiente está dada por el $-20\\frac{dB}{dec}*N$, con $N$ orden de la sección, para obtener la pendiente deseada: recordemos que los aportes de las singularidades de la sección de segundo orden de $T_{LPN}(s)\\Bigr|_{s=j\\omega}$ se ven compensados.\n",
    "\n",
    "\\begin{equation*}\n",
    "T_{LPN}(s)\\Bigr|_{N=3}= \\frac{1}{9}*\\frac{s^2 +9}{s^2 +s +1} * \\frac{1}{s +1}\n",
    "\\end{equation*}"
   ]
  },
  {
   "cell_type": "code",
   "execution_count": null,
   "id": "25651948-8782-46f1-89ed-74edc497029e",
   "metadata": {},
   "outputs": [],
   "source": []
  }
 ],
 "metadata": {
  "kernelspec": {
   "display_name": "Python 3 (ipykernel)",
   "language": "python",
   "name": "python3"
  },
  "language_info": {
   "codemirror_mode": {
    "name": "ipython",
    "version": 3
   },
   "file_extension": ".py",
   "mimetype": "text/x-python",
   "name": "python",
   "nbconvert_exporter": "python",
   "pygments_lexer": "ipython3",
   "version": "3.11.1"
  }
 },
 "nbformat": 4,
 "nbformat_minor": 5
}
