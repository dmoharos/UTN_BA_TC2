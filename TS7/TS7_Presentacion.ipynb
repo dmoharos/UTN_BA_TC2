{
 "cells": [
  {
   "cell_type": "markdown",
   "id": "8c4df20e-c353-44c2-a0e8-386019619e80",
   "metadata": {
    "tags": []
   },
   "source": [
    "<img src=\"TS7_Logo_UTN.svg\" align=\"right\" width=\"150\" /> \n",
    "\n",
    "##\n",
    "\n",
    "***\n",
    "\n",
    "## (950431) Teoría de Circuitos II\n",
    "\n",
    "***\n",
    "\n",
    "##\n",
    "#### Profesor: Mariano Llamedo Soria  <llamedom@frba.utn.edu.ar>\n",
    "#### Jefe de TPs: César Fuoco  <cfuoco@frba.utn.edu.ar>\n",
    "#### Ayudante de TPs: Israel Pavelek <pavel@frba.utn.edu.ar>\n",
    "##\n"
   ]
  },
  {
   "cell_type": "markdown",
   "id": "e1a0cebe-061e-4999-9fc4-c42b13ffe556",
   "metadata": {},
   "source": [
    "***\n",
    "***\n",
    "\n",
    "##\n",
    "## Trabajo Semanal # 7 - Cuadripolos: parámetros Z y MAI\n",
    "##\n",
    "\n",
    "***\n",
    "***\n",
    "\n",
    "##\n",
    "### <span style=\"text-decoration: underline;\">Autor</span>\n",
    "#### *Moharos, David Santiago* <dmoharos@frba.utn.edu.ar>\n",
    "##\n",
    "\n",
    "***"
   ]
  },
  {
   "cell_type": "markdown",
   "id": "58fa111d-b8d2-4ff2-8862-a28a3dde2d5f",
   "metadata": {},
   "source": [
    "##\n",
    "<a id=\"indice\"></a>\n",
    "### <span style=\"text-decoration: underline;\">Indice</span>\n",
    "##\n",
    "##### [Ejercicio # 1](#ejercicio_1)\n",
    "##### > [Inciso bonus 1)](#ejercicio_1_bonus_1)\n",
    "##### > [Inciso bonus 2)](#ejercicio_1_bonus_2)\n",
    "###\n",
    "##### [Ejercicio # 2](#ejercicio_2)\n",
    "##### > [Inciso 1)](#ejercicio_2_1)\n",
    "##### > [Inciso 2)](#ejercicio_2_2)\n",
    "##### > [Inciso 3)](#ejercicio_2_3)\n",
    "##### > [Inciso bonus 1)](#ejercicio_2_bonus_1)\n",
    "##### > [Inciso bonus 2)](#ejercicio_2_bonus_2)\n",
    "###\n",
    "##### [Bibliografía sugerida](#bibliografia)\n",
    "##\n",
    "\n",
    "***"
   ]
  },
  {
   "cell_type": "markdown",
   "id": "4d098bb6-80a1-419e-a70d-b38d63c4efd3",
   "metadata": {},
   "source": [
    "***\n",
    "##\n",
    "\n",
    "<img src=\"TS7_En_construcción.png\" style=\"margin-left:auto; margin-right:auto\"/>\n",
    "\n",
    "##"
   ]
  },
  {
   "cell_type": "markdown",
   "id": "89d86cc1-e1f8-4f0f-9fcb-072575a8398b",
   "metadata": {},
   "source": [
    "***\n",
    "##\n",
    "\n",
    "<a id=\"ejercicio_1\"></a>\n",
    "<img src=\"TS7_Ejercicio_1.png\" style=\"margin-left:auto; margin-right:auto\"/>\n",
    "\n",
    "###### [Volver al índice](#indice)"
   ]
  },
  {
   "cell_type": "markdown",
   "id": "306e91fb-bdba-4c95-bac8-9eb00fee47fc",
   "metadata": {},
   "source": [
    "***\n",
    "##\n",
    "\n",
    "<a id=\"ejercicio_1_bonus_1\"></a>\n",
    "<img src=\"TS7_Ejercicio_1_Bonus_1.png\" style=\"margin-left:auto; margin-right:auto\"/>\n",
    "\n",
    "###### [Volver al índice](#indice)"
   ]
  },
  {
   "cell_type": "markdown",
   "id": "4bcbdbc0-d545-4daf-ba58-4109691112ad",
   "metadata": {},
   "source": [
    "***\n",
    "##\n",
    "\n",
    "<a id=\"ejercicio_1_bonus_2\"></a>\n",
    "<img src=\"TS7_Ejercicio_1_Bonus_2.png\" style=\"margin-left:auto; margin-right:auto\"/>\n",
    "\n",
    "###### [Volver al índice](#indice)"
   ]
  },
  {
   "cell_type": "markdown",
   "id": "e00fafcf-d823-428c-ac5c-9100379e2764",
   "metadata": {},
   "source": [
    "***\n",
    "##\n",
    "\n",
    "<a id=\"ejercicio_2\"></a>\n",
    "<img src=\"TS7_Ejercicio_2.png\" style=\"margin-left:auto; margin-right:auto\"/>\n",
    "\n",
    "###### [Volver al índice](#indice)"
   ]
  },
  {
   "cell_type": "markdown",
   "id": "f1af0255-7d9e-4948-955d-bcee958c189a",
   "metadata": {},
   "source": [
    "***\n",
    "##\n",
    "\n",
    "<a id=\"ejercicio_2_1\"></a>\n",
    "<img src=\"TS7_Ejercicio_2_1.png\" style=\"margin-left:auto; margin-right:auto\"/>\n",
    "\n",
    "###### [Volver al índice](#indice)"
   ]
  },
  {
   "cell_type": "markdown",
   "id": "7b126548-0cea-48c4-be51-f3973f0e46db",
   "metadata": {},
   "source": [
    "***\n",
    "##\n",
    "\n",
    "<a id=\"ejercicio_2_2\"></a>\n",
    "<img src=\"TS7_Ejercicio_2_2.png\" style=\"margin-left:auto; margin-right:auto\"/>\n",
    "\n",
    "###### [Volver al índice](#indice)"
   ]
  },
  {
   "cell_type": "markdown",
   "id": "ec86899a-dc0f-4370-bb9e-1b61e74da615",
   "metadata": {},
   "source": [
    "***\n",
    "##\n",
    "\n",
    "<a id=\"ejercicio_2_3\"></a>\n",
    "<img src=\"TS7_Ejercicio_2_3.png\" style=\"margin-left:auto; margin-right:auto\"/>\n",
    "\n",
    "###### [Volver al índice](#indice)"
   ]
  },
  {
   "cell_type": "markdown",
   "id": "5b2ff0b4-e559-49b9-9f8e-26cffc256089",
   "metadata": {},
   "source": [
    "***\n",
    "##\n",
    "\n",
    "<a id=\"ejercicio_2_bonus_1\"></a>\n",
    "<img src=\"TS7_Ejercicio_2_bonus_1.png\" style=\"margin-left:auto; margin-right:auto\"/>\n",
    "\n",
    "###### [Volver al índice](#indice)"
   ]
  },
  {
   "cell_type": "markdown",
   "id": "d45a9ef1-cb52-4d37-b2fb-c794e96086f0",
   "metadata": {},
   "source": [
    "***\n",
    "##\n",
    "\n",
    "<a id=\"ejercicio_2_bonus_2\"></a>\n",
    "<img src=\"TS7_Ejercicio_2_bonus_2.png\" style=\"margin-left:auto; margin-right:auto\"/>\n",
    "\n",
    "###### [Volver al índice](#indice)"
   ]
  },
  {
   "cell_type": "markdown",
   "id": "89e277e5-57ac-47fa-9cd9-54f3e613cead",
   "metadata": {},
   "source": [
    "***\n",
    "\n",
    "##\n",
    "<a id=\"bibliografia\"></a>\n",
    "### <span style=\"text-decoration: underline;\">Bibliografía sugerida:</span>\n",
    "##\n",
    "\n",
    "###### Lyons, [*\"Understanding Digital Signal Processing\"*](https://drive.google.com/file/d/1PDNFr9de3-_c6uRD2sepIixniRLMPzrp/view)\n",
    "\n",
    "###### Oppenheim, Schafer, [*\"Discrete-Time Signal Processing\"*](https://drive.google.com/file/d/13OdVgtTGmj7kQaMddhhEpaXHubxqDZua/view)\n",
    "\n",
    "##\n",
    "### <span style=\"text-decoration: underline;\">Otros documentos consultados:</span>\n",
    "##\n",
    "\n",
    "###### Llamedo Soria, [*\"Filtros digitales a partir de filtros analógicos\"*](https://nbviewer.org/github/marianux/pytc2/blob/master/docs/sintesis_digital_bilineal.ipynb)\n",
    "\n",
    "###### Llamedo Soria, [*\"Filtros de respuesta al impulso finita o no recursivos (FIR)\"*](https://nbviewer.org/github/marianux/pytc2/blob/master/docs/filtros_FIR.ipynb)\n",
    "\n",
    "###### Llamedo Soria, [*\"Filtros recursivos, o de respuesta al impulso infinita (IIR)\"*](https://nbviewer.org/github/marianux/pytc2/blob/master/docs/filtros_IIR.ipynb)\n",
    "\n",
    "###### Sascha Spors, [*\"Digital Signal Processing - Lecture notes featuring computational examples: Design of Digital Filters\"*](https://nbviewer.org/github/spatialaudio/digital-signal-processing-lecture/blob/master/filter_design/bilinear_transform.ipynb)\n",
    "\n",
    "###### Sascha Spors, [*\"Digital Signal Processing - Lecture notes featuring computational examples: Realization of Recursive Filters\"*](https://nbviewer.org/github/spatialaudio/digital-signal-processing-lecture/blob/master/recursive_filters/direct_forms.ipynb)\n",
    "\n",
    "##\n",
    "### <span style=\"text-decoration: underline;\">Lista de reproducción:</span>\n",
    "##\n",
    "\n",
    "###### Llamedo Soria, [*\"Clase 18 - Filtros Digitales - Teoría de Circuitos 2 - UTN FRBA - Ingeniería Electrónica\"*](https://www.youtube.com/watch?v=RHIQ7O6TR3Q&list=PLlD2eDv5CIe9_QZtKGEPw5LtQRD3xaAnV)\n",
    "\n",
    "###\n",
    "\n",
    "###### [Volver al índice](#indice)\n",
    "\n",
    "***\n",
    "***\n",
    "\n",
    "#####"
   ]
  },
  {
   "cell_type": "markdown",
   "id": "06873b81-4c32-44d7-ba95-3f37cd4140fc",
   "metadata": {},
   "source": [
    "##### © Copyright 2023, Moharos, David Santiago. Revision 1.0.0.\n",
    "***"
   ]
  }
 ],
 "metadata": {
  "kernelspec": {
   "display_name": "Python 3 (ipykernel)",
   "language": "python",
   "name": "python3"
  },
  "language_info": {
   "codemirror_mode": {
    "name": "ipython",
    "version": 3
   },
   "file_extension": ".py",
   "mimetype": "text/x-python",
   "name": "python",
   "nbconvert_exporter": "python",
   "pygments_lexer": "ipython3",
   "version": "3.11.1"
  }
 },
 "nbformat": 4,
 "nbformat_minor": 5
}
