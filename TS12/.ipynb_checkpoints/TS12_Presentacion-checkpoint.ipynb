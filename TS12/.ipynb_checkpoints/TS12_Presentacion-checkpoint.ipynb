{
 "cells": [
  {
   "cell_type": "markdown",
   "id": "8c4df20e-c353-44c2-a0e8-386019619e80",
   "metadata": {
    "tags": []
   },
   "source": [
    "<img src=\"TS12_Logo_UTN.svg\" align=\"right\" width=\"150\" /> \n",
    "\n",
    "##\n",
    "\n",
    "***\n",
    "\n",
    "## (950431) Teoría de Circuitos II\n",
    "\n",
    "***\n",
    "\n",
    "##\n",
    "#### Profesor: Mariano Llamedo Soria  <llamedom@frba.utn.edu.ar>\n",
    "#### Jefe de TPs: César Fuoco  <cfuoco@frba.utn.edu.ar>\n",
    "#### Ayudante de TPs: Israel Pavelek <pavel@frba.utn.edu.ar>\n",
    "##\n"
   ]
  },
  {
   "cell_type": "markdown",
   "id": "e1a0cebe-061e-4999-9fc4-c42b13ffe556",
   "metadata": {},
   "source": [
    "***\n",
    "***\n",
    "\n",
    "##\n",
    "## Trabajo Semanal # 12 - Síntesis de cuadripolos\n",
    "##\n",
    "\n",
    "***\n",
    "***\n",
    "\n",
    "##\n",
    "### <span style=\"text-decoration: underline;\">Autor</span>\n",
    "#### *Moharos, David Santiago* <dmoharos@frba.utn.edu.ar>\n",
    "##\n",
    "\n",
    "***"
   ]
  },
  {
   "cell_type": "markdown",
   "id": "58fa111d-b8d2-4ff2-8862-a28a3dde2d5f",
   "metadata": {},
   "source": [
    "##\n",
    "<a id=\"indice\"></a>\n",
    "### <span style=\"text-decoration: underline;\">Indice</span>\n",
    "##\n",
    "##### [Ejercicio # 1](#ejercicio_1)\n",
    "##### &nbsp;&nbsp;&nbsp;&nbsp;&nbsp;&nbsp;&nbsp;&nbsp;&nbsp;&nbsp;[Ejercicio # 1a](#ejercicio_1a)\n",
    "##### &nbsp;&nbsp;&nbsp;&nbsp;&nbsp;&nbsp;&nbsp;&nbsp;&nbsp;&nbsp;[Ejercicio # 1b](#ejercicio_1b)\n",
    "###\n",
    "##### [Ejercicio # 2](#ejercicio_2)\n",
    "##### &nbsp;&nbsp;&nbsp;&nbsp;&nbsp;&nbsp;&nbsp;&nbsp;&nbsp;&nbsp;[Ejercicio # 2a](#ejercicio_2a)\n",
    "##### &nbsp;&nbsp;&nbsp;&nbsp;&nbsp;&nbsp;&nbsp;&nbsp;&nbsp;&nbsp;[Ejercicio # 2b](#ejercicio_2b)\n",
    "###\n",
    "##### [Bibliografía sugerida](#bibliografia)\n",
    "##\n",
    "\n",
    "***"
   ]
  },
  {
   "cell_type": "markdown",
   "id": "89d86cc1-e1f8-4f0f-9fcb-072575a8398b",
   "metadata": {},
   "source": [
    "***\n",
    "##\n",
    "\n",
    "<a id=\"ejercicio_1\"></a>\n",
    "<img src=\"TS12_Ejercicio_1.png\" style=\"margin-left:auto; margin-right:auto\"/>\n",
    "\n",
    "###### [Volver al índice](#indice)"
   ]
  },
  {
   "cell_type": "markdown",
   "id": "d714c08e-2cb8-44a3-833f-52314e3effc4",
   "metadata": {},
   "source": [
    "###\n",
    "##### Como se puede observar, todas las singularidades se encuentran sobre el eje $j\\omega$, por lo tanto podemos anticipar que se tratará de funciones no disipativa cuya sintésis estará dadas por elementos $L$ y $C$.\n",
    "###\n",
    "##### Podemos intuir que se trata de una transferencia de corriente dado que nos dan como dato los parámetros $Y_{11}$ e $Y_{21}$ cuyos polinonios denominador son iguales\n",
    "###\n",
    "##### Se deberá procurar cumplir con los ceros de la transferencia ya que de esta manera cumpliremos con ambos parámetros $Y$.\n",
    "###\n",
    "\n",
    "***"
   ]
  },
  {
   "cell_type": "markdown",
   "id": "64de3962-7176-4ed5-b534-5fd335a0513e",
   "metadata": {},
   "source": [
    "***\n",
    "##\n",
    "\n",
    "<a id=\"ejercicio_1a\"></a>\n",
    "<img src=\"TS12_Ejercicio_1a.png\" style=\"margin-left:auto; margin-right:auto\"/>\n",
    "\n",
    "###### [Volver al índice](#indice)"
   ]
  },
  {
   "cell_type": "markdown",
   "id": "7ce4f6d9-3e3a-407c-9c84-630c11d437a3",
   "metadata": {},
   "source": [
    "***\n",
    "###\n",
    "\n",
    "\\begin{equation*}\n",
    "T(s) = \\frac{ \\frac{ P(s) }{ D(s) } }{ \\frac{ Q(s) }{ D(s) } } = -\\frac{ Y_{21} }{ Y_{11} } = \\frac{ \\frac{ s \\cdot ( s^2 + 1 ) }{ ( s^2 + 2 ) \\cdot ( s^2 + 5 ) } }{ \\frac{ 3s \\cdot ( s^2 + \\frac{ 7 }{ 3 } ) }{ ( s^2 + 2 ) \\cdot ( s^2 + 5 ) } } = \\frac{ s \\cdot ( s^2 + 1 ) }{ 3s \\cdot ( s^2 + \\frac{ 7 }{ 3 } ) }\n",
    "\\end{equation*}\n",
    "\n",
    "###\n",
    "##### Como se puede observar, la función transferencia $T(s)$ presenta:\n",
    "###### -Un cero simple en $\\omega = 0$,\n",
    "###### -Un cero imaginario conjugado en $\\omega = \\sqrt{2}$,\n",
    "###### -Un polo simple en $\\omega \\rightarrow \\infty$,\n",
    "###### -Un polo imaginario conjugado en $\\omega = \\sqrt{\\frac{7}{3}}$\n",
    "###\n",
    "##### Realizamos un estudio de la función en los extremos para ver su comportamiento:\n",
    "###\n",
    "\n",
    "\\begin{equation*}\n",
    "\\lim_{s -> 0} T(s) = \\lim_{s -> 0} \\frac{ ( s^2 + 1 ) }{ 3 \\cdot ( s^2 + \\frac{ 7 }{ 3 } ) } = \\frac{ 1 }{ 7 }\n",
    "\\end{equation*}\n",
    "\n",
    "###\n",
    "\n",
    "\\begin{equation*}\n",
    "\\lim_{ s -> \\infty } T(s) = \\lim_{ s -> \\infty } \\frac{ ( s^2 + 1 ) }{ 3 \\cdot ( s^2 + \\frac{ 7 }{ 3 } ) } = \\frac{ 1 }{ 3 }\n",
    "\\end{equation*}\n",
    "\n",
    "###\n",
    "##### Para cumplir con los ceros de la función transferencia $T(s)$, y por tanto, con los ceros del parámetro transmisión $Y_{21}(s)$, realizaremos la síntesis de la función excitación $Y_{11}$:\n",
    "###\n",
    "##### <u>Diagrama de singularidades de $Y_{11}$</u>\n",
    "###\n",
    "\n",
    "<img src=\"TS12_Ejercicio_1_PZmap_Y11.png\" style=\"margin-left:auto; margin-right:auto\"/>\n",
    "\n",
    "###\n",
    "##### Como se puede observar, la función excitación $Y_{11}$ presenta:\n",
    "###### -Un cero simple en $\\omega = 0$,\n",
    "###### -Un cero imaginario conjugado en $\\omega = \\sqrt{\\frac{7}{3}}$,\n",
    "###### -Un cero simple implícito en $\\omega \\rightarrow \\infty$\n",
    "###### -Un polo imaginario conjugado en $\\omega = \\sqrt{2}$,\n",
    "###### -Un polo imaginario conjugado en $\\omega = \\sqrt{5}$\n",
    "###\n",
    "##### <u>Paso 1:</u> Inversión del parámetro $Y_{11}$: los ceros se reemplazan por polos y viceversa. Obtenemos $Z(s)$.\n",
    "###\n",
    "\n",
    "<img src=\"TS12_Ejercicio_1_PZmap_Paso_1.png\" style=\"margin-left:auto; margin-right:auto\"/>\n",
    "\n",
    "### \n",
    "##### <u>Paso 2:</u> Remoción en continua para sintonizar el cero a $\\omega= 1$ para cumplir con los ceros del parámetro $Y_{21}$. Removemos el capacitor $C_1$ en serie y obtenemos $Z_2(s)$.\n",
    "###\n",
    "\n",
    "<img src=\"TS12_Ejercicio_1_PZmap_Paso_2.png\" style=\"margin-left:auto; margin-right:auto\"/>\n",
    "\n",
    "###\n",
    "##### <u>Paso 3:</u> Inversión de $Z_2(s)$: los ceros se reemplazan por polos y viceversa. Obtenemos $Y_2(s)$.\n",
    "###\n",
    "\n",
    "<img src=\"TS12_Ejercicio_1_PZmap_Paso_3.png\" style=\"margin-left:auto; margin-right:auto\"/>\n",
    "\n",
    "###\n",
    "##### <u>Paso 4:</u> Remoción finita en $\\omega = 1$: el cero en $\\omega = \\sqrt{ \\frac{ 7 }{ 3 } }$ se cancela con el polo en $\\omega = 1$. Removemos el tanque en derivación compuesto por $L_1$ y $C_2$ y obtenemos $Y_4(s)$.\n",
    "###\n",
    "\n",
    "<img src=\"TS12_Ejercicio_1_PZmap_Paso_4.png\" style=\"margin-left:auto; margin-right:auto\"/>\n",
    "\n",
    "###\n",
    "##### <u>Paso 5:</u> Inversión de $Y_4(s)$: los ceros se reemplazan por polos y viceversa. Obtenemos $Z_4(s)$.\n",
    "###\n",
    "\n",
    "<img src=\"TS12_Ejercicio_1_PZmap_Paso_5.png\" style=\"margin-left:auto; margin-right:auto\"/>\n",
    "\n",
    "###\n",
    "##### <u>Paso 6:</u> Remoción en infinito. Removemos la bobina $L_2$ en serie y obtenemos $Z_6(s)$.\n",
    "###\n",
    "\n",
    "<img src=\"TS12_Ejercicio_1_PZmap_Paso_6.png\" style=\"margin-left:auto; margin-right:auto\"/>\n",
    "\n",
    "###\n",
    "##### <u>Paso 7:</u> Remoción en cero. Removemos el capacitor $C_3$ en serie y obtenemos $Z_8(s)$ finalizando así la síntesis.\n",
    "###\n",
    "\n",
    "<img src=\"TS12_Ejercicio_1_PZmap_Paso_7.png\" style=\"margin-left:auto; margin-right:auto\"/>\n",
    "\n",
    "###"
   ]
  },
  {
   "cell_type": "markdown",
   "id": "de4d7ce3-76e0-432e-bc3f-4e4b9b1b1339",
   "metadata": {},
   "source": [
    "***\n",
    "##\n",
    "\n",
    "<a id=\"ejercicio_1b\"></a>\n",
    "<img src=\"TS12_Ejercicio_1b.png\" style=\"margin-left:auto; margin-right:auto\"/>\n",
    "\n",
    "###### [Volver al índice](#indice)"
   ]
  },
  {
   "cell_type": "markdown",
   "id": "5e0c5b34-481d-4161-af69-e8d8d4abe0b5",
   "metadata": {},
   "source": [
    "***\n",
    "###\n",
    "##### <u>Paso 1:</u> Inversión del parámetro $Y_{11}$: los ceros se reemplazan por polos y viceversa. Obtenemos $Z(s)$.\n",
    "###\n",
    "\n",
    "<a id=\"Z(s)_analítica\"></a>\n",
    "\n",
    "\\begin{equation*}\n",
    "Z(s) = \\frac{ 1 }{ Y_{11} } = \\frac{ 1 }{ \\frac{ 3s \\cdot ( s^2 + \\frac{ 7 }{ 3 } ) }{ ( s^2 + 2 ) \\cdot ( s^2 + 5 ) } } = \\frac{ ( s^2 + 2 ) \\cdot ( s^2 + 5 ) }{ 3s \\cdot ( s^2 + \\frac{ 7 }{ 3 } )  }\n",
    "\\end{equation*}\n",
    "\n",
    "### \n",
    "###### [Ver $Z(s)$ simbólica](#Z(s)_simbólica)\n",
    "###\n",
    "\n",
    "<img src=\"TS12_Ejercicio_1_PZmap_Paso_1.png\" style=\"margin-left:auto; margin-right:auto\"/>\n",
    "\n",
    "### \n",
    "##### <u>Paso 2:</u> Remoción en continua para sintonizar el cero a $\\omega= 1$ para cumplir con los ceros del parámetro $Y_{21}$. Removemos el capacitor $C_1$ en serie y obtenemos $Z_2(s)$.\n",
    "###\n",
    "##### Previamente verificamos de qué tipo de remoción se trata (total o parcial).\n",
    "###\n",
    "##### Supongamos en primer lugar el caso de una remoción total en continua:\n",
    "###\n",
    "\n",
    "\\begin{equation*}\n",
    "k_0 = \\lim_{ s \\rightarrow 0 } s \\cdot Z(s) = \n",
    "\\lim_{ s \\rightarrow 0 } s \\cdot \\frac{ ( s^2 + 2 ) \\cdot ( s^2 + 5 ) }{ 3s \\cdot ( s^2 + \\frac{ 7 }{ 3 } ) } =\n",
    "\\lim_{ s \\rightarrow 0 } \\frac{ ( s^2 + 2 ) \\cdot ( s^2 + 5 ) }{ 3 \\cdot ( s^2 + \\frac{ 7 }{ 3 } ) } =\n",
    "\\frac{ ( 0^2 + 2 ) \\cdot ( 0^2 + 5 ) }{ 3 \\cdot ( 0^2 + \\frac{ 7 }{ 3 } ) } = \\frac{ 10 }{ 7 }\n",
    "\\end{equation*}\n",
    "\n",
    "###\n",
    "##### Producto de la <u>remoción total</u>, obtenemos la siguiente impedancia:\n",
    "###\n",
    "\n",
    "\\begin{equation*}\n",
    "Z_2(s) = Z(s) - Z_1(s) = Z(s) - \\frac{ k_0 }{ s } = \\frac{ ( s^2 + 2 ) \\cdot ( s^2 + 5 ) }{ 3s \\cdot \\left( s^2 + \\frac{ 7 }{ 3 } \\right) } - \\frac{ \\frac{ 10 }{ 7 } }{ s }\n",
    "\\end{equation*}\n",
    "\n",
    "###\n",
    "\n",
    "\\begin{equation*}\n",
    "Z_2(s) = \\frac{ ( s^2 + 2 ) \\cdot ( s^2 + 5 ) - 3 \\cdot \\left( s^2 + \\frac{ 7 }{ 3 } \\right) \\cdot \\frac{ 10 }{ 7 } }{ 3s \\cdot \\left( s^2 + \\frac{ 7 }{ 3 } \\right) }\n",
    "\\end{equation*}\n",
    "\n",
    "###\n",
    "\n",
    "\\begin{equation*}\n",
    "Z_2(s) = \\frac{ s^4 + 7s^2 + 10 - \\frac{ 30 }{ 7 }s^2 - 10 }{ 3s \\cdot \\left( s^2 + \\frac{ 7 }{ 3 } \\right) }\n",
    "\\end{equation*}\n",
    "\n",
    "###\n",
    "\n",
    "\\begin{equation*}\n",
    "Z_2(s) = \\frac{ s^4 + \\frac{ 19 }{ 7 }s^2 }{ 3s \\cdot \\left( s^2 + \\frac{ 7 }{ 3 } \\right) }\n",
    "\\end{equation*}\n",
    "\n",
    "###\n",
    "\n",
    "\\begin{equation*}\n",
    "Z_2(s) = \\frac{ s^2 \\cdot \\left( s^2 + \\frac{ 19 }{ 7 } \\right) }{ 3s \\cdot \\left( s^2 + \\frac{ 7 }{ 3 } \\right) }\n",
    "\\end{equation*}\n",
    "\n",
    "###\n",
    "##### Como se puede observar, realizando una remoción total del residuo en continua, no obtenemos el resultado que precisamos: el cero en $\\omega = \\sqrt{2}$ se desplaza hacia la zona de remoción reforzando su aporte en continua, superando la cota de $\\omega = 1$, que es en definitiva donde debemos sintonizar el cero.\n",
    "###\n",
    "##### Por lo tanto, deberemos realizar una remoción parcial del residuo:\n",
    "###\n",
    "\n",
    "\\begin{equation*}\n",
    "k_0' = \n",
    "\\lim_{ s^2 \\rightarrow (-1) } s \\cdot Z(s) = \n",
    "\\lim_{ s^2 \\rightarrow (-1) } s \\cdot \\frac{ ( s^2 + 2 ) \\cdot ( s^2 + 5 ) }{ 3s \\cdot ( s^2 + \\frac{ 7 }{ 3 } ) } =\n",
    "\\lim_{ s^2 \\rightarrow (-1) } \\frac{ ( s^2 + 2 ) \\cdot ( s^2 + 5 ) }{ 3 \\cdot ( s^2 + \\frac{ 7 }{ 3 } ) } =\n",
    "\\frac{ ( -1 + 2 ) \\cdot ( -1 + 5 ) }{ 3 \\cdot ( -1 + \\frac{ 7 }{ 3 } ) } = 1\n",
    "\\end{equation*}\n",
    "\n",
    "###\n",
    "##### Producto de la <u>remoción parcial</u>, obtenemos la siguiente impedancia:\n",
    "###\n",
    "\n",
    "\\begin{equation*}\n",
    "Z_2(s) = Z(s) - Z_1(s) = Z(s) - \\frac{ k_0' }{ s } = \\frac{ ( s^2 + 2 ) \\cdot ( s^2 + 5 ) }{ 3s \\cdot \\left( s^2 + \\frac{ 7 }{ 3 } \\right) } - \\frac{ 1 }{ s }\n",
    "\\end{equation*}\n",
    "\n",
    "###\n",
    "\n",
    "\\begin{equation*}\n",
    "Z_2(s) = \\frac{ ( s^2 + 2 ) \\cdot ( s^2 + 5 ) - 3 \\cdot \\left( s^2 + \\frac{ 7 }{ 3 } \\right) }{ 3s \\cdot \\left( s^2 + \\frac{ 7 }{ 3 } \\right) }\n",
    "\\end{equation*}\n",
    "\n",
    "###\n",
    "\n",
    "\\begin{equation*}\n",
    "Z_2(s) = \\frac{ s^4 + 7s^2 + 10 - 3s^2 - 7 }{ 3s \\cdot \\left( s^2 + \\frac{ 7 }{ 3 } \\right) }\n",
    "\\end{equation*}\n",
    "\n",
    "###\n",
    "\n",
    "\\begin{equation*}\n",
    "Z_2(s) = \\frac{ s^4 + 4s^2 + 3 }{ 3s \\cdot \\left( s^2 + \\frac{ 7 }{ 3 } \\right) }\n",
    "\\end{equation*}\n",
    "\n",
    "<a id=\"Z_2(s)_analítica\"></a>\n",
    "\n",
    "\\begin{equation*}\n",
    "Z_2(s) = \\frac{ ( s^2 + 1 ) \\cdot ( s^2 + 3 ) }{ 3s \\cdot \\left( s^2 + \\frac{ 7 }{ 3 } \\right) }\n",
    "\\end{equation*}\n",
    "\n",
    "###\n",
    "###### [Ver $Z_2(s)$ simbólica](#Z_2(s)_simbólica)\n",
    "###\n",
    "##### Gráficamente, la disposición de las singularidades al momento queda de la siguiente manera:\n",
    "###\n",
    "\n",
    "<img src=\"TS12_Ejercicio_1_PZmap_Paso_2_b.png\" style=\"margin-left:auto; margin-right:auto\"/>\n",
    "\n",
    "###\n",
    "##### Como se puede observar, efectivamente obtenemos el cero sintonizado en $\\omega = 1$.\n",
    "###\n",
    "##### Circuitalmente, remover un residuo en continua de una impedancia, parcialmente en este caso, implica un capacitor en serie cuyo valor queda determinado justamente por el valor del residuo:\n",
    "###\n",
    "\n",
    "<a id=\"Z_1(s)_analítica\"></a>\n",
    "\n",
    "\\begin{equation*}\n",
    "Z_1(s) = \\frac{ k_0' }{ s } = \\frac{ 1 }{ \\frac{ s }{ k_0' } } = \\frac{ 1 }{ s \\cdot \\frac{ 1 }{ k_0' } } = \\frac{ 1 }{ s }\n",
    "\\end{equation*}\n",
    "\n",
    "###\n",
    "###### [Ver $Z_1(s)$ simbólica](#Z_1(s)_simbólica)\n",
    "###\n",
    "\n",
    "<a id=\"C_1_analítica\"></a>\n",
    "\n",
    "\\begin{equation*}\n",
    "C_1 = \\frac{ 1 }{ k_0' } = 1\n",
    "\\end{equation*}\n",
    "\n",
    "###\n",
    "###### [Ver $C_1$ simbólica](#C_1_simbólica)\n",
    "###\n",
    "\n",
    "<img src=\"TS12_Ejercicio_1_PZmap_Paso_2_b_Circuito.png\" style=\"margin-left:auto; margin-right:auto\"/>\n",
    "\n",
    "###\n",
    "##### <u>Paso 3:</u> Inversión de $Z_2(s)$: los ceros se reemplazan por polos y viceversa. Obtenemos $Y_2(s)$.\n",
    "###\n",
    "\n",
    "<a id=\"Y_2(s)_analítica\"></a>\n",
    "\n",
    "\\begin{equation*}\n",
    "Y_2(s) = \\frac{ 1 }{ Z_2(s) } = \\frac{ 1 }{ \\frac{ ( s^2 + 1 ) \\cdot ( s^2 + 3 ) }{ 3s \\cdot \\left( s^2 + \\frac{ 7 }{ 3 } \\right) } } = \\frac{ 3s \\cdot \\left( s^2 + \\frac{ 7 }{ 3 } \\right) }{ ( s^2 + 1 ) \\cdot ( s^2 + 3 ) }\n",
    "\\end{equation*}\n",
    "\n",
    "###\n",
    "###### [Ver $Y_2(s)$ simbólica](#Y_2(s)_simbólica)\n",
    "###\n",
    "\n",
    "<img src=\"TS12_Ejercicio_1_PZmap_Paso_3_b.png\" style=\"margin-left:auto; margin-right:auto\"/>\n",
    "\n",
    "###\n",
    "##### <u>Paso 4:</u> Remoción finita en $\\omega = 1$: el cero en $\\omega = \\sqrt{ \\frac{ 7 }{ 3 } }$ se cancela con el polo en $\\omega = 1$. Removemos el tanque en derivación compuesto por $L_1$ y $C_2$ y obtenemos $Y_4(s)$.\n",
    "###\n",
    "##### Definimos $Y_3(s)$ de la siguiente forma:\n",
    "###\n",
    "\n",
    "\\begin{equation*}\n",
    "Y_3(s) = \\lim_{ s^2 \\rightarrow (-1) } Y_2(s) = \\frac{ 2 \\cdot k_3 \\cdot s }{ s^2 + 1 }\n",
    "\\end{equation*}\n",
    "\n",
    "###\n",
    "\n",
    "\\begin{equation*}\n",
    "2 \\cdot k_3 = \\lim_{ s^2 \\rightarrow (-1) } \\frac{ s^2 + 1 }{ s } \\cdot Y_2(s)\n",
    "\\end{equation*}\n",
    "\n",
    "###\n",
    "\n",
    "\\begin{equation*}\n",
    "2 \\cdot k_3 = \\lim_{ s^2 \\rightarrow (-1) } \\frac{ s^2 + 1 }{ s } \\cdot \\frac{ 3s \\cdot \\left( s^2 + \\frac{ 7 }{ 3 } \\right) }{ ( s^2 + 1 ) \\cdot ( s^2 + 3 ) }\n",
    "\\end{equation*}\n",
    "\n",
    "###\n",
    "\n",
    "\\begin{equation*}\n",
    "2 \\cdot k_3 = \\lim_{ s^2 \\rightarrow (-1) } \\frac{ 3 \\cdot \\left( s^2 + \\frac{ 7 }{ 3 } \\right) }{ ( s^2 + 3 ) }\n",
    "\\end{equation*}\n",
    "\n",
    "###\n",
    "\n",
    "\\begin{equation*}\n",
    "2 \\cdot k_3 = \\frac{ 3 \\cdot \\left( -1 + \\frac{ 7 }{ 3 } \\right) }{ ( -1 + 3 ) } = \\frac{ 4 }{ 2 } = 2\n",
    "\\end{equation*}\n",
    "\n",
    "###\n",
    "##### Definido el residuo $k_3$, quedan definidas todas las características del tanque en derivación removido: $Y_3(s)$, $L_1$ y $C_2$.\n",
    "###\n",
    "\n",
    "<a id=\"Y_3(s)_analítica\"></a>\n",
    "\n",
    "\\begin{equation*}\n",
    "Y_3(s) = \\frac{ 2 \\cdot s }{ s^2 + 1 } = \\frac{ 1 }{ \\frac{ s^2 + 1 }{ 2 \\cdot s } } = \\frac{ 1 }{ \\frac{ s^2 }{ 2 \\cdot s } + \\frac{ 1 }{ 2 \\cdot s } } = \\frac{ 1 }{ \\frac{ s }{ 2 } + \\frac{ 1 }{ 2 \\cdot s } } = \\frac{ 1 }{ s \\cdot \\frac{ 1 }{ 2 } + \\frac{ 1 }{ 2 \\cdot s } } = \\frac{ 1 }{ s \\cdot L_1 + \\frac{ 1 }{ s \\cdot C_2 } }\n",
    "\\end{equation*}\n",
    "\n",
    "###\n",
    "###### [Ver $Y_3(s)$ simbólica](#Y_3(s)_simbólica)\n",
    "###\n",
    "\n",
    "<a id=\"L_1_analítica\"></a>\n",
    "\n",
    "\\begin{equation*}\n",
    "L_1 = \\frac{ 1 }{ 2 }\n",
    "\\end{equation*}\n",
    "\n",
    "###\n",
    "###### [Ver $L_1$ simbólica](#L_1_simbólica)\n",
    "###\n",
    "\n",
    "<a id=\"C_2_analítica\"></a>\n",
    "\n",
    "\\begin{equation*}\n",
    "C_2 = 2\n",
    "\\end{equation*}\n",
    "\n",
    "###\n",
    "###### [Ver $C_2$ simbólica](#C_2_simbólica)\n",
    "###\n",
    "\n",
    "<img src=\"TS12_Ejercicio_1_PZmap_Paso_4_b_Circuito.png\" style=\"margin-left:auto; margin-right:auto\"/>\n",
    "\n",
    "###\n",
    "##### Definimos entonces $Y_4(s)$ como:\n",
    "###\n",
    "\n",
    "\\begin{equation*}\n",
    "Y_4(s) = Y_2(s) - Y_3(s) = \\frac{ 3s \\cdot \\left( s^2 + \\frac{ 7 }{ 3 } \\right) }{ ( s^2 + 1 ) \\cdot ( s^2 + 3 ) } - \\frac{ 2 \\cdot s }{ s^2 + 1 }\n",
    "\\end{equation*}\n",
    "\n",
    "###\n",
    "\n",
    "\\begin{equation*}\n",
    "Y_4(s) = \\frac{ 3s \\cdot \\left( s^2 + \\frac{ 7 }{ 3 } \\right) - 2 \\cdot s \\cdot ( s^2 + 3 ) }{ ( s^2 + 1 ) \\cdot ( s^2 + 3 ) }\n",
    "\\end{equation*}\n",
    "\n",
    "###\n",
    "\n",
    "\\begin{equation*}\n",
    "Y_4(s) = \\frac{ 3s^3 + 7s - 2s^3 - 6s }{ ( s^2 + 1 ) \\cdot ( s^2 + 3 ) }\n",
    "\\end{equation*}\n",
    "\n",
    "###\n",
    "\n",
    "\\begin{equation*}\n",
    "Y_4(s) = \\frac{ s^3 + s }{ ( s^2 + 1 ) \\cdot ( s^2 + 3 ) }\n",
    "\\end{equation*}\n",
    "\n",
    "###\n",
    "\n",
    "\\begin{equation*}\n",
    "Y_4(s) = \\frac{ s \\cdot ( s^2 + 1 )  }{ ( s^2 + 1 ) \\cdot ( s^2 + 3 ) }\n",
    "\\end{equation*}\n",
    "\n",
    "###\n",
    "\n",
    "<a id=\"Y_4(s)_analítica\"></a>\n",
    "\n",
    "\\begin{equation*}\n",
    "Y_4(s) = \\frac{ s }{ s^2 + 3 }\n",
    "\\end{equation*}\n",
    "\n",
    "###\n",
    "###### [Ver $Y_4(s)$ simbólica](#Y_4(s)_simbólica)\n",
    "###\n",
    "\n",
    "<img src=\"TS12_Ejercicio_1_PZmap_Paso_4_b.png\" style=\"margin-left:auto; margin-right:auto\"/>\n",
    "\n",
    "###\n",
    "##### <u>Paso 5:</u> Inversión de $Y_4(s)$: los ceros se reemplazan por polos y viceversa. Obtenemos $Z_4(s)$.\n",
    "###\n",
    "\n",
    "<a id=\"Z_4(s)_analítica\"></a>\n",
    "\n",
    "\\begin{equation*}\n",
    "Z_4(s) = \\frac{ 1 }{ Y_4(s) } = \\frac{ 1 }{ \\frac{ s }{ s^2 + 3 } } = \\frac{ s^2 + 3 }{ s }\n",
    "\\end{equation*}\n",
    "\n",
    "###\n",
    "###### [Ver $Z_4(s)$ simbólica](#Z_4(s)_simbólica)\n",
    "###\n",
    "\n",
    "<img src=\"TS12_Ejercicio_1_PZmap_Paso_5_b.png\" style=\"margin-left:auto; margin-right:auto\"/>\n",
    "\n",
    "###\n",
    "##### <u>Paso 6:</u> Remoción en infinito. Removemos la bobina $L_2$ en serie y obtenemos $Z_6(s)$.\n",
    "###\n",
    "##### Definimos $Z_5(s)$ de la siguiente forma:\n",
    "###\n",
    "\n",
    "\\begin{equation*}\n",
    "Z_5(s) = \\lim_{ s \\rightarrow \\infty } Z_4(s) = s \\cdot k_{\\infty} = s \\cdot L_2\n",
    "\\end{equation*}\n",
    "\n",
    "###\n",
    "\n",
    "\\begin{equation*}\n",
    "k_{\\infty} = \\lim_{ s \\rightarrow \\infty } \\frac{ Z_4(s) }{ s }\n",
    "\\end{equation*}\n",
    "\n",
    "###\n",
    "\n",
    "\\begin{equation*}\n",
    "k_{\\infty} = \\lim_{ s \\rightarrow \\infty } \\frac{ \\frac{ s^2 + 3 }{ s } }{ s }\n",
    "\\end{equation*}\n",
    "\n",
    "###\n",
    "\n",
    "\\begin{equation*}\n",
    "k_{\\infty} = \\lim_{ s \\rightarrow \\infty } \\frac{ s^2 + 3 }{ s^2 } = 1\n",
    "\\end{equation*}\n",
    "\n",
    "###\n",
    "##### Definido el residuo $k_{\\infty}$, quedan definidas todas las características de la impedancia removida: $Z_5(s)$ y $L_2$.\n",
    "###\n",
    "\n",
    "<a id=\"Z_5(s)_analítica\"></a>\n",
    "\n",
    "\\begin{equation*}\n",
    "Z_5(s) = s \\cdot k_{\\infty} = s\n",
    "\\end{equation*}\n",
    "\n",
    "###\n",
    "###### [Ver $Z_5(s)$ simbólica](#Z_5(s)_simbólica)\n",
    "###\n",
    "\n",
    "<a id=\"L_2_analítica\"></a>\n",
    "\n",
    "\\begin{equation*}\n",
    "L_2 = 1\n",
    "\\end{equation*}\n",
    "\n",
    "###\n",
    "###### [Ver $L_2$ simbólica](#L_2_simbólica)\n",
    "###\n",
    "\n",
    "<img src=\"TS12_Ejercicio_1_PZmap_Paso_6_b_Circuito.png\" style=\"margin-left:auto; margin-right:auto\"/>\n",
    "\n",
    "###\n",
    "##### Definimos entonces $Z_6(s)$ como:\n",
    "###\n",
    "\n",
    "\\begin{equation*}\n",
    "Z_6(s) = Z_4(s) - Z_5(s) = \\frac{ s^2 + 3 }{ s } - s\n",
    "\\end{equation*}\n",
    "\n",
    "###\n",
    "\n",
    "\\begin{equation*}\n",
    "Z_6(s) = \\frac{ s^2 + 3 - s^2 }{ s }\n",
    "\\end{equation*}\n",
    "\n",
    "###\n",
    "\n",
    "<a id=\"Z_6(s)_analítica\"></a>\n",
    "\n",
    "\\begin{equation*}\n",
    "Z_6(s) = \\frac{ 3 }{ s }\n",
    "\\end{equation*}\n",
    "\n",
    "###\n",
    "###### [Ver $Z_6(s)$ simbólica](#Z_6(s)_simbólica)\n",
    "###\n",
    "\n",
    "<img src=\"TS12_Ejercicio_1_PZmap_Paso_6_b.png\" style=\"margin-left:auto; margin-right:auto\"/>\n",
    "\n",
    "###\n",
    "##### <u>Paso 7:</u> Remoción en cero. Removemos el capacitor $C_3$ en serie y obtenemos $Z_8(s)$ finalizando así la síntesis.\n",
    "###\n",
    "##### Definimos $Z_7(s)$ de la siguiente forma:\n",
    "###\n",
    "\n",
    "\\begin{equation*}\n",
    "Z_7(s) = \\lim_{ s \\rightarrow 0 } Z_6(s) = \\frac{ k_0 }{ s } = \\frac{ 1 }{ \\frac{ s }{ k_0 } } = \\frac{ 1 }{ s \\cdot \\frac{ 1 }{ k_0 } } = \\frac{ 1 }{ s \\cdot C_3 } \n",
    "\\end{equation*}\n",
    "\n",
    "###\n",
    "\n",
    "\\begin{equation*}\n",
    "k_0 = \\lim_{ s \\rightarrow 0 } s \\cdot Z_6(s)\n",
    "\\end{equation*}\n",
    "\n",
    "###\n",
    "\n",
    "\\begin{equation*}\n",
    "k_0 = \\lim_{ s \\rightarrow 0 } s \\cdot \\frac{ 3 }{ s } = 3\n",
    "\\end{equation*}\n",
    "\n",
    "###\n",
    "##### Definido el residuo $k_0$, quedan definidas todas las características de la impedancia removida: $Z_7(s)$ y $C_3$.\n",
    "###\n",
    "\n",
    "<a id=\"Z_7(s)_analítica\"></a>\n",
    "\n",
    "\\begin{equation*}\n",
    "Z_7(s) = \\frac{ 3 }{ s }\n",
    "\\end{equation*}\n",
    "\n",
    "###\n",
    "###### [Ver $Z_7(s)$ simbólica](#Z_7(s)_simbólica)\n",
    "###\n",
    "\n",
    "<a id=\"C_3_analítica\"></a>\n",
    "\n",
    "\\begin{equation*}\n",
    "C_3 = \\frac{ 1 }{ 3 }\n",
    "\\end{equation*}\n",
    "\n",
    "###\n",
    "###### [Ver $C_3$ simbólica](#C_3_simbólica)\n",
    "###\n",
    "\n",
    "<img src=\"TS12_Ejercicio_1_PZmap_Paso_7_b_Circuito.png\" style=\"margin-left:auto; margin-right:auto\"/>\n",
    "\n",
    "###\n",
    "##### Definimos entonces $Z_8(s)$ como:\n",
    "###\n",
    "\n",
    "\\begin{equation*}\n",
    "Z_8(s) = Z_6(s) - Z_7(s) = \\frac{ 3 }{ s } - \\frac{ 3 }{ s }\n",
    "\\end{equation*}\n",
    "\n",
    "###\n",
    "\n",
    "<a id=\"Z_8(s)_analítica\"></a>\n",
    "\n",
    "\\begin{equation*}\n",
    "Z_8(s) = 0\n",
    "\\end{equation*}\n",
    "\n",
    "###\n",
    "###### [Ver $Z_8(s)$ simbólica](#Z_8(s)_simbólica)\n",
    "###\n",
    "\n",
    "<img src=\"TS12_Ejercicio_1_PZmap_Paso_7_b_Circuito_bis.png\" style=\"margin-left:auto; margin-right:auto\"/>\n",
    "\n",
    "###\n",
    "\n",
    "<img src=\"TS12_Ejercicio_1_PZmap_Paso_7_b.png\" style=\"margin-left:auto; margin-right:auto\"/>\n",
    "\n",
    "###"
   ]
  },
  {
   "cell_type": "markdown",
   "id": "07c25ad0-a2b2-479f-a9ba-ae997ccdb40a",
   "metadata": {},
   "source": [
    "***\n",
    "###\n",
    "#### <u>Simulación circuital</u>\n",
    "###\n",
    "***\n",
    "\n",
    "<img src=\"TS12_Ejercicio_1_Circuito_LTSpice.png\" style=\"margin-left:auto; margin-right:auto\"/>\n",
    "\n",
    "###\n",
    "##### <u>Respuesta de módulo de $T(s)$</u>\n",
    "###\n",
    "\n",
    "<img src=\"TS12_Ejercicio_1_Ts_Respuesta_Modulo.png\" style=\"margin-left:auto; margin-right:auto\"/>\n",
    "\n",
    "###\n",
    "##### Nos valemos de los cursores que nos ofrece LTSpice para ver con mayor precisión los resultados obtenidos.\n",
    "###\n",
    "##### Recordar que debemos afectar a la frecuencia por un factor de $2\\pi$ debido a que los diagramas de singularidades anteriores fueron hechos respecto al eje $j\\omega$.\n",
    "###\n",
    "##### Por caso:\n",
    "###\n",
    "\n",
    "\\begin{equation*}\n",
    "\\omega_{z_{1}} = 2 \\cdot \\pi \\cdot f_{z_{1}} = 2 \\cdot \\pi \\cdot 159,22087 mHz \\approx 1,0004 \\approx 1\n",
    "\\end{equation*}\n",
    "\n",
    "###\n",
    "\n",
    "\\begin{equation*}\n",
    "\\omega_{p_{1}} = 2 \\cdot \\pi \\cdot f_{p_{1}} = 2 \\cdot \\pi \\cdot 243,2204 mHz \\approx 1,5282 \\approx \\sqrt{ \\frac{ 7 }{ 3 } }\n",
    "\\end{equation*}\n",
    "\n",
    "###\n",
    "##### Como se puede observar, se verifican singularidades de la función transferencia $T(s) = \\frac{ s \\cdot ( s^2 + 1 ) }{ 3s \\cdot \\left( s^2 + \\frac{ 7 }{ 3 } \\right) }$ y podemos intuir que también se cumple la tendencia de los valores que toma la función en sus extremos.\n",
    "###\n",
    "##### Hacemos lo propio con los parámetros $Y_{11}$ e $Y_{21}$: \n",
    "###\n",
    "##### <u>Respuesta de módulo de $Y_{11}$</u>\n",
    "###\n",
    "\n",
    "<img src=\"TS12_Ejercicio_1_Y11_Respuesta_Modulo.png\" style=\"margin-left:auto; margin-right:auto\"/>\n",
    "\n",
    "###\n",
    "\n",
    "\\begin{equation*}\n",
    "\\omega_{p_{1}} = 2 \\cdot \\pi \\cdot f_{p_{1}} = 2 \\cdot \\pi \\cdot 224,90546 mHz \\approx 1,4131 \\approx \\sqrt{ 2 }\n",
    "\\end{equation*}\n",
    "\n",
    "###\n",
    "\n",
    "\\begin{equation*}\n",
    "\\omega_{z_{1}} = 2 \\cdot \\pi \\cdot f_{z_{1}} = 2 \\cdot \\pi \\cdot 243,2204 mHz \\approx 1,5282 \\approx \\sqrt{ \\frac{ 7 }{ 3 } }\n",
    "\\end{equation*}\n",
    "\n",
    "###\n",
    "\n",
    "\\begin{equation*}\n",
    "\\omega_{p_{2}} = 2 \\cdot \\pi \\cdot f_{p_{2}} = 2 \\cdot \\pi \\cdot 355,63132 mHz \\approx 2,2345 \\approx \\sqrt{ 5 }\n",
    "\\end{equation*}\n",
    "\n",
    "###\n",
    "##### Como se puede observar, se verifican singularidades de $Y_{11} = \\frac{ 3s \\cdot \\left( s^2 + \\frac{ 7 }{ 3 } \\right) }{ ( s^2 + 2 ) \\cdot ( s^2 + 5 ) }$\n",
    "###\n",
    "##### <u>Respuesta de módulo de $Y_{21}$</u>\n",
    "###\n",
    "\n",
    "<img src=\"TS12_Ejercicio_1_Y21_Respuesta_Modulo.png\" style=\"margin-left:auto; margin-right:auto\"/>\n",
    "\n",
    "###\n",
    "\n",
    "\\begin{equation*}\n",
    "\\omega_{z_{1}} = 2 \\cdot \\pi \\cdot f_{z_{1}} = 2 \\cdot \\pi \\cdot 159,22087 mHz \\approx 1,0004 \\approx 1\n",
    "\\end{equation*}\n",
    "\n",
    "###\n",
    "\n",
    "\\begin{equation*}\n",
    "\\omega_{p_{1}} = 2 \\cdot \\pi \\cdot f_{p_{1}} = 2 \\cdot \\pi \\cdot 224,90546 mHz \\approx 1,4131 \\approx \\sqrt{ 2 }\n",
    "\\end{equation*}\n",
    "\n",
    "###\n",
    "\n",
    "\\begin{equation*}\n",
    "\\omega_{p_{2}} = 2 \\cdot \\pi \\cdot f_{p_{2}} = 2 \\cdot \\pi \\cdot 355,63132 mHz \\approx 2,2345 \\approx \\sqrt{ 5 }\n",
    "\\end{equation*}\n",
    "\n",
    "###\n",
    "##### Como se puede observar, se verifican singularidades de $Y_{21} = \\frac{ s \\cdot ( s^2 + 1 ) }{ ( s^2 + 2 ) \\cdot ( s^2 + 5 ) }$.\n",
    "###\n",
    "\n",
    "***\n",
    "\n",
    "###\n",
    "#### <u>Simulación simbólica/numérica</u>\n",
    "###\n",
    "\n",
    "***"
   ]
  },
  {
   "cell_type": "code",
   "execution_count": 128,
   "id": "a4ecb82b-179f-495c-b7f9-328be38645e4",
   "metadata": {
    "tags": []
   },
   "outputs": [],
   "source": [
    "from schemdraw          import Drawing\n",
    "from schemdraw.elements import Line\n",
    "\n",
    "def dibujar_cierre( d ):\n",
    "    if not isinstance( d, Drawing ):\n",
    "        d = Drawing( unit = 4 )  # unit=2 makes elements have shorter than normal leads\n",
    "\n",
    "    d += Line().right().length( d.unit * .5 )\n",
    "    d.push()\n",
    "    d += Line().down()\n",
    "    d += Line().left().length( d.unit * .5 )\n",
    "    d.pop()\n",
    "\n",
    "    return( d )"
   ]
  },
  {
   "cell_type": "code",
   "execution_count": 2,
   "id": "e79e3327-af4b-4a9d-8cef-8ebf8b7ad228",
   "metadata": {
    "tags": []
   },
   "outputs": [],
   "source": [
    "#---------------------------------------------------------------------------------------------------------------------#\n",
    "#-- Resolución simbólica --\n",
    "#---------------------------------------------------------------------------------------------------------------------#\n",
    "\n",
    "import sympy            as     sp\n",
    "from   pytc2.dibujar    import dibujar_puerto_entrada, dibujar_puerto_salida, dibujar_funcion_exc_abajo\n",
    "from   pytc2.dibujar    import dibujar_elemento_serie, dibujar_elemento_derivacion, dibujar_espacio_derivacion\n",
    "from   pytc2.dibujar    import dibujar_tanque_derivacion, display, Resistor, Capacitor, Inductor\n",
    "from   pytc2.general    import print_latex, a_equal_b_latex_s\n",
    "from   pytc2.remociones import remover_polo_dc, remover_polo_jw, remover_polo_infinito\n",
    "from   IPython.display  import display, Markdown, Math\n",
    "\n",
    "#---------------------------------------------------------------------------------------------------------------------#"
   ]
  },
  {
   "cell_type": "code",
   "execution_count": 3,
   "id": "05b85698-1079-4b79-9a9d-513c2adaf277",
   "metadata": {
    "tags": []
   },
   "outputs": [
    {
     "data": {
      "text/latex": [
       "$\\displaystyle Y_{11}=\\frac{3 s \\left(s^{2} + \\frac{7}{3}\\right)}{\\left(s^{2} + 2\\right) \\left(s^{2} + 5\\right)}$"
      ],
      "text/plain": [
       "<IPython.core.display.Math object>"
      ]
     },
     "metadata": {},
     "output_type": "display_data"
    },
    {
     "data": {
      "text/markdown": [
       "###"
      ],
      "text/plain": [
       "<IPython.core.display.Markdown object>"
      ]
     },
     "metadata": {},
     "output_type": "display_data"
    },
    {
     "data": {
      "text/latex": [
       "$\\displaystyle Y_{21}=\\frac{s \\left(s^{2} + 1\\right)}{\\left(s^{2} + 2\\right) \\left(s^{2} + 5\\right)}$"
      ],
      "text/plain": [
       "<IPython.core.display.Math object>"
      ]
     },
     "metadata": {},
     "output_type": "display_data"
    },
    {
     "data": {
      "text/markdown": [
       "###"
      ],
      "text/plain": [
       "<IPython.core.display.Markdown object>"
      ]
     },
     "metadata": {},
     "output_type": "display_data"
    }
   ],
   "source": [
    "#---------------------------------------------------------------------------------------------------------------------#\n",
    "#-- Parámetros Y_{11} e Y_{21} --\n",
    "#---------------------------------------------------------------------------------------------------------------------#\n",
    "\n",
    "s = sp.symbols( 's', complex = True )\n",
    "\n",
    "Y11 = ( 3*s * ( s**2 + sp.Rational( 7, 3 ) ) ) / ( ( s**2 + 2 ) * ( s**2 + 5 ) )\n",
    "print_latex( a_equal_b_latex_s( 'Y_{11}', Y11 ) )\n",
    "display( Markdown( '###' ) )\n",
    "\n",
    "Y21 = ( s * ( s**2 + 1 ) ) / ( ( s**2 + 2 ) * ( s**2 + 5 ) )\n",
    "print_latex( a_equal_b_latex_s( 'Y_{21}', Y21 ) )\n",
    "display( Markdown( '###' ) )\n",
    "\n",
    "#---------------------------------------------------------------------------------------------------------------------#"
   ]
  },
  {
   "cell_type": "markdown",
   "id": "8f6229cd-07d3-4b6e-b603-820f802ddeaa",
   "metadata": {},
   "source": [
    "<a id=\"Z(s)_simbólica\"></a>"
   ]
  },
  {
   "cell_type": "code",
   "execution_count": 4,
   "id": "967ff039-99fa-40f1-a4c0-e823fe035e1e",
   "metadata": {
    "tags": []
   },
   "outputs": [
    {
     "data": {
      "text/markdown": [
       "###"
      ],
      "text/plain": [
       "<IPython.core.display.Markdown object>"
      ]
     },
     "metadata": {},
     "output_type": "display_data"
    },
    {
     "data": {
      "text/latex": [
       "$\\displaystyle Z(s) = \\frac{ 1 }{ Y_{11} }=\\frac{\\left(s^{2} + 2\\right) \\left(s^{2} + 5\\right)}{3 s \\left(s^{2} + \\frac{7}{3}\\right)}$"
      ],
      "text/plain": [
       "<IPython.core.display.Math object>"
      ]
     },
     "metadata": {},
     "output_type": "display_data"
    }
   ],
   "source": [
    "#---------------------------------------------------------------------------------------------------------------------#\n",
    "#-- <u>Paso 1:</u> Inversión del parámetro $Y_{11}$: los ceros se reemplazan por polos y viceversa. Obtenemos $Z(s)$.\n",
    "#---------------------------------------------------------------------------------------------------------------------#\n",
    "\n",
    "Z = 1 / Y11\n",
    "display( Markdown( '###' ) )\n",
    "print_latex( a_equal_b_latex_s( 'Z(s) = \\\\frac{ 1 }{ Y_{11} }', Z ) )\n",
    "\n",
    "#---------------------------------------------------------------------------------------------------------------------#"
   ]
  },
  {
   "cell_type": "markdown",
   "id": "20e74a23-47c4-4480-ad6e-95d9679aaf02",
   "metadata": {},
   "source": [
    "###\n",
    "###### [Ver $Z(s)$ analítica](#Z(s)_analítica)\n",
    "###\n",
    "<a id=\"Z_1(s)_simbólica\"></a>"
   ]
  },
  {
   "cell_type": "code",
   "execution_count": 5,
   "id": "6f1af7aa-7b7b-473b-9e5c-1dbcf3771bbd",
   "metadata": {
    "tags": []
   },
   "outputs": [
    {
     "data": {
      "text/markdown": [
       "###"
      ],
      "text/plain": [
       "<IPython.core.display.Markdown object>"
      ]
     },
     "metadata": {},
     "output_type": "display_data"
    },
    {
     "data": {
      "text/latex": [
       "$\\displaystyle Z_1(s) = \\frac{ k_0 }{ s } = \\frac{ 1 }{ s \\cdot C_1 }=\\frac{1}{s}$"
      ],
      "text/plain": [
       "<IPython.core.display.Math object>"
      ]
     },
     "metadata": {},
     "output_type": "display_data"
    }
   ],
   "source": [
    "#---------------------------------------------------------------------------------------------------------------------#\n",
    "#-- <u>Paso 2:</u> Remoción en continua para sintonizar el cero a $\\omega= 1$ para cumplir con los ceros del \n",
    "#-- parámetro $Y_{21}$. Removemos el capacitor $C_1$ en serie y obtenemos $Z_2(s)$.\n",
    "#---------------------------------------------------------------------------------------------------------------------#\n",
    "\n",
    "Z2, Z1 = remover_polo_dc( Z , omega_zero = 1 )\n",
    "\n",
    "display( Markdown( '###' ) )\n",
    "print_latex( a_equal_b_latex_s( 'Z_1(s) = \\\\frac{ k_0 }{ s } = \\\\frac{ 1 }{ s \\cdot C_1 }', Z1 ) )\n"
   ]
  },
  {
   "cell_type": "markdown",
   "id": "980d2b0b-13ac-4ed4-a2cd-e599fcbf98d9",
   "metadata": {},
   "source": [
    "###\n",
    "###### [Ver $Z_1(s)$ analítica](#Z_1(s)_analítica)\n",
    "###\n",
    "<a id=\"C_1_simbólica\"></a>"
   ]
  },
  {
   "cell_type": "code",
   "execution_count": 6,
   "id": "28ff60b5-cf44-4ab2-a69c-24d760091435",
   "metadata": {
    "tags": []
   },
   "outputs": [
    {
     "data": {
      "text/markdown": [
       "###"
      ],
      "text/plain": [
       "<IPython.core.display.Markdown object>"
      ]
     },
     "metadata": {},
     "output_type": "display_data"
    },
    {
     "data": {
      "text/latex": [
       "$\\displaystyle C_1=1$"
      ],
      "text/plain": [
       "<IPython.core.display.Math object>"
      ]
     },
     "metadata": {},
     "output_type": "display_data"
    }
   ],
   "source": [
    "C1 = 1/s/Z1\n",
    "\n",
    "display( Markdown( '###' ) )\n",
    "print_latex( a_equal_b_latex_s( 'C_1', C1 ) )\n"
   ]
  },
  {
   "cell_type": "markdown",
   "id": "f92c7947-4f37-433a-916c-d543bb318dff",
   "metadata": {},
   "source": [
    "###\n",
    "###### [Ver $C_1$ analítica](#C_1_analítica)\n",
    "###\n",
    "<a id=\"Z_2(s)_simbólica\"></a>"
   ]
  },
  {
   "cell_type": "code",
   "execution_count": 7,
   "id": "b73239b9-1a22-4500-96a3-d70c7bfa89e6",
   "metadata": {
    "tags": []
   },
   "outputs": [
    {
     "data": {
      "text/markdown": [
       "###"
      ],
      "text/plain": [
       "<IPython.core.display.Markdown object>"
      ]
     },
     "metadata": {},
     "output_type": "display_data"
    },
    {
     "data": {
      "text/latex": [
       "$\\displaystyle Z_2(s) = Z(s) - Z_1(s) = \\frac{ ( s^2 + 2 ) \\cdot ( s^2 + 5 ) }{ 3 \\cdot s \\cdot ( s^2 + \\frac{ 7 }{ 3 } ) } - \\frac{ 1 }{ s }=\\frac{\\left(s^{2} + 1\\right) \\left(s^{2} + 3\\right)}{s \\left(3 s^{2} + 7\\right)}$"
      ],
      "text/plain": [
       "<IPython.core.display.Math object>"
      ]
     },
     "metadata": {},
     "output_type": "display_data"
    }
   ],
   "source": [
    "display( Markdown( '###' ) )\n",
    "print_latex( a_equal_b_latex_s( 'Z_2(s) = Z(s) - Z_1(s) = \\\\frac{ ( s^2 + 2 ) \\cdot ( s^2 + 5 ) }{ 3 \\cdot s \\cdot ( s^2 + \\\\frac{ 7 }{ 3 } ) } - \\\\frac{ 1 }{ s }', Z2 ) )\n",
    "\n",
    "#---------------------------------------------------------------------------------------------------------------------#"
   ]
  },
  {
   "cell_type": "markdown",
   "id": "e904302f-31aa-43a5-884f-c6fd9b0f09d0",
   "metadata": {},
   "source": [
    "###\n",
    "###### [Ver $Z_2(s)$ analítica](#Z_2(s)_analítica)\n",
    "###\n",
    "<a id=\"Y_2(s)_simbólica\"></a>"
   ]
  },
  {
   "cell_type": "code",
   "execution_count": 8,
   "id": "21288f9c-345a-443f-b84b-894927b7a384",
   "metadata": {
    "tags": []
   },
   "outputs": [
    {
     "data": {
      "text/markdown": [
       "###"
      ],
      "text/plain": [
       "<IPython.core.display.Markdown object>"
      ]
     },
     "metadata": {},
     "output_type": "display_data"
    },
    {
     "data": {
      "text/latex": [
       "$\\displaystyle Y_2(s) = \\frac{ 1 }{ Z_2(s) } = \\frac{ 1 }{ \\frac{ ( s^2 + 1 ) \\cdot ( s^2 + 3 ) }{ s \\cdot ( s^2 + \\frac{ 7 }{ 3 } ) } }=\\frac{s \\left(3 s^{2} + 7\\right)}{\\left(s^{2} + 1\\right) \\left(s^{2} + 3\\right)}$"
      ],
      "text/plain": [
       "<IPython.core.display.Math object>"
      ]
     },
     "metadata": {},
     "output_type": "display_data"
    }
   ],
   "source": [
    "#---------------------------------------------------------------------------------------------------------------------#\n",
    "#-- <u>Paso 3:</u> Inversión de $Z_2(s)$: los ceros se reemplazan por polos y viceversa. Obtenemos $Y_2(s)$.\n",
    "#---------------------------------------------------------------------------------------------------------------------#\n",
    "\n",
    "Y2 = 1/Z2\n",
    "\n",
    "display( Markdown( '###' ) )\n",
    "print_latex( a_equal_b_latex_s( 'Y_2(s) = \\\\frac{ 1 }{ Z_2(s) } = \\\\frac{ 1 }{ \\\\frac{ ( s^2 + 1 ) \\cdot ( s^2 + 3 ) }{ s \\cdot ( s^2 + \\\\frac{ 7 }{ 3 } ) } }', Y2 ) )\n",
    "\n",
    "#---------------------------------------------------------------------------------------------------------------------#"
   ]
  },
  {
   "cell_type": "markdown",
   "id": "8c8d428d-0324-426e-91f0-ecf3af9f59ae",
   "metadata": {},
   "source": [
    "###\n",
    "###### [Ver $Y_2(s)$ analítica](#Y_2(s)_analítica)\n",
    "###\n",
    "<a id=\"Y_3(s)_simbólica\"></a>"
   ]
  },
  {
   "cell_type": "code",
   "execution_count": 14,
   "id": "b133f4c4-ede1-4834-939d-3902d6f6b3c3",
   "metadata": {
    "tags": []
   },
   "outputs": [
    {
     "data": {
      "text/markdown": [
       "###"
      ],
      "text/plain": [
       "<IPython.core.display.Markdown object>"
      ]
     },
     "metadata": {},
     "output_type": "display_data"
    },
    {
     "data": {
      "text/latex": [
       "$\\displaystyle Y_3(s) = \\frac{2 s}{s^{2} + 1} = \\frac{ 1 }{ \\frac{ s^2 + 1 }{ 2 \\cdot s } } = \\frac{ 1 }{ \\frac{ s^2 }{ 2 \\cdot s } + \\frac{ 1 }{ 2 \\cdot s } } = \\frac{ 1 }{ \\frac{ s }{ 2 } + \\frac{ 1 }{ s \\cdot 2 } } = \\frac{ 1 }{ s \\cdot L_1 + \\frac{ 1 }{ s \\cdot C_2 } }$"
      ],
      "text/plain": [
       "<IPython.core.display.Math object>"
      ]
     },
     "metadata": {},
     "output_type": "display_data"
    }
   ],
   "source": [
    "#---------------------------------------------------------------------------------------------------------------------#\n",
    "#-- <u>Paso 4:</u> Remoción finita en $\\omega = 1$: el cero en $\\omega = \\sqrt{ \\frac{ 7 }{ 3 } }$ se cancela \n",
    "#-- con el polo en $\\omega = 1$. Removemos el tanque en derivación compuesto por $L_1$ y $C_2$ y obtenemos $Y_4(s)$.\n",
    "#---------------------------------------------------------------------------------------------------------------------#\n",
    "\n",
    "Y4, Y3, L1, C2 = remover_polo_jw ( Y2, omega = 1, isImpedance = False )\n",
    "\n",
    "display( Markdown( '###' ) )\n",
    "print_latex( 'Y_3(s) = ' + sp.latex( Y3 ) + ' = \\\\frac{ 1 }{ \\\\frac{ s^2 + 1 }{ 2 \\cdot s } } = \\\\frac{ 1 }{ \\\\frac{ s^2 }{ 2 \\cdot s } + \\\\frac{ 1 }{ 2 \\cdot s } } = \\\\frac{ 1 }{ \\\\frac{ s }{ 2 } + \\\\frac{ 1 }{ s \\cdot 2 } } = \\\\frac{ 1 }{ s \\cdot L_1 + \\\\frac{ 1 }{ s \\cdot C_2 } }' )\n"
   ]
  },
  {
   "cell_type": "markdown",
   "id": "f48ea8ed-4c55-4a0b-884a-81013de6890f",
   "metadata": {},
   "source": [
    "###\n",
    "###### [Ver $Y_3(s)$ analítica](#Y_3(s)_analítica)\n",
    "###\n",
    "<a id=\"L_1_simbólica\"></a>"
   ]
  },
  {
   "cell_type": "code",
   "execution_count": 10,
   "id": "3040bacf-9a04-4801-9250-078dccd6d31f",
   "metadata": {
    "tags": []
   },
   "outputs": [
    {
     "data": {
      "text/markdown": [
       "###"
      ],
      "text/plain": [
       "<IPython.core.display.Markdown object>"
      ]
     },
     "metadata": {},
     "output_type": "display_data"
    },
    {
     "data": {
      "text/latex": [
       "$\\displaystyle L_1=\\frac{1}{2}$"
      ],
      "text/plain": [
       "<IPython.core.display.Math object>"
      ]
     },
     "metadata": {},
     "output_type": "display_data"
    }
   ],
   "source": [
    "display( Markdown( '###' ) )\n",
    "print_latex( a_equal_b_latex_s( 'L_1', L1 ) )\n"
   ]
  },
  {
   "cell_type": "markdown",
   "id": "483b580e-6b0e-46a1-b3bc-69ac66a2e45a",
   "metadata": {},
   "source": [
    "###\n",
    "###### [Ver $L_1$ analítica](#L_1_analítica)\n",
    "###\n",
    "<a id=\"C_2_simbólica\"></a>"
   ]
  },
  {
   "cell_type": "code",
   "execution_count": 11,
   "id": "12d93cdc-59ef-42a9-afd4-638e36bbef29",
   "metadata": {
    "tags": []
   },
   "outputs": [
    {
     "data": {
      "text/markdown": [
       "###"
      ],
      "text/plain": [
       "<IPython.core.display.Markdown object>"
      ]
     },
     "metadata": {},
     "output_type": "display_data"
    },
    {
     "data": {
      "text/latex": [
       "$\\displaystyle C_2=2$"
      ],
      "text/plain": [
       "<IPython.core.display.Math object>"
      ]
     },
     "metadata": {},
     "output_type": "display_data"
    }
   ],
   "source": [
    "display( Markdown( '###' ) )\n",
    "print_latex( a_equal_b_latex_s( 'C_2', C2 ) )\n"
   ]
  },
  {
   "cell_type": "markdown",
   "id": "d16d6963-6056-4a82-b101-861b797a7dd6",
   "metadata": {},
   "source": [
    "###\n",
    "###### [Ver $C_2$ analítica](#C_2_analítica)\n",
    "###\n",
    "<a id=\"Y_4(s)_simbólica\"></a>"
   ]
  },
  {
   "cell_type": "code",
   "execution_count": 12,
   "id": "c3cebd3f-6b7f-4188-bdcf-c2bf18725c63",
   "metadata": {
    "tags": []
   },
   "outputs": [
    {
     "data": {
      "text/markdown": [
       "###"
      ],
      "text/plain": [
       "<IPython.core.display.Markdown object>"
      ]
     },
     "metadata": {},
     "output_type": "display_data"
    },
    {
     "data": {
      "text/latex": [
       "$\\displaystyle Y_4(s) = Y_2(s) - Y_3(s) = \\frac{s \\left(3 s^{2} + 7\\right)}{\\left(s^{2} + 1\\right) \\left(s^{2} + 3\\right)} - \\frac{2 s}{s^{2} + 1} = \\frac{s}{s^{2} + 3}$"
      ],
      "text/plain": [
       "<IPython.core.display.Math object>"
      ]
     },
     "metadata": {},
     "output_type": "display_data"
    }
   ],
   "source": [
    "display( Markdown( '###' ) )\n",
    "print_latex( 'Y_4(s) = Y_2(s) - Y_3(s) = ' + sp.latex( Y2 ) + ' - ' + sp.latex( Y3 ) + ' = ' + sp.latex( Y4 ) )\n",
    "\n",
    "#---------------------------------------------------------------------------------------------------------------------#"
   ]
  },
  {
   "cell_type": "markdown",
   "id": "69eb53ab-d5da-4e5e-9302-4ac610d463e7",
   "metadata": {},
   "source": [
    "###\n",
    "###### [Ver $Y_4(s)$ analítica](#Y_4(s)_analítica)\n",
    "###\n",
    "<a id=\"Z_4(s)_simbólica\"></a>"
   ]
  },
  {
   "cell_type": "code",
   "execution_count": 15,
   "id": "0e5a1ab6-8eac-4ce2-af78-d216bf08af6c",
   "metadata": {
    "tags": []
   },
   "outputs": [
    {
     "data": {
      "text/markdown": [
       "###"
      ],
      "text/plain": [
       "<IPython.core.display.Markdown object>"
      ]
     },
     "metadata": {},
     "output_type": "display_data"
    },
    {
     "data": {
      "text/latex": [
       "$\\displaystyle Z_4(s) = \\frac{ 1 }{ Y_4(s) } = \\frac{ 1 }{ \\frac{s}{s^{2} + 3} } = \\frac{s^{2} + 3}{s}$"
      ],
      "text/plain": [
       "<IPython.core.display.Math object>"
      ]
     },
     "metadata": {},
     "output_type": "display_data"
    }
   ],
   "source": [
    "#---------------------------------------------------------------------------------------------------------------------#\n",
    "#-- <u>Paso 5:</u> Inversión de $Y_4(s)$: los ceros se reemplazan por polos y viceversa. Obtenemos $Z_4(s)$.\n",
    "#---------------------------------------------------------------------------------------------------------------------#\n",
    "\n",
    "Z4 = 1/Y4\n",
    "\n",
    "display( Markdown( '###' ) )\n",
    "print_latex( 'Z_4(s) = \\\\frac{ 1 }{ Y_4(s) } = ' + '\\\\frac{ 1 }{ ' + sp.latex( Y4 ) + ' } = ' + sp.latex( Z4 ) )\n",
    "\n",
    "#---------------------------------------------------------------------------------------------------------------------#"
   ]
  },
  {
   "cell_type": "markdown",
   "id": "8067326e-e085-4029-95d2-34e0c45e966a",
   "metadata": {},
   "source": [
    "###\n",
    "###### [Ver $Z_4(s)$ analítica](#Z_4(s)_analítica)\n",
    "###\n",
    "<a id=\"Z_5(s)_simbólica\"></a>"
   ]
  },
  {
   "cell_type": "code",
   "execution_count": 16,
   "id": "3c93377b-46f9-4eef-ad71-547a3a4bf252",
   "metadata": {
    "tags": []
   },
   "outputs": [
    {
     "data": {
      "text/markdown": [
       "###"
      ],
      "text/plain": [
       "<IPython.core.display.Markdown object>"
      ]
     },
     "metadata": {},
     "output_type": "display_data"
    },
    {
     "data": {
      "text/latex": [
       "$\\displaystyle Z_5(s) = s \\cdot L_2 = s$"
      ],
      "text/plain": [
       "<IPython.core.display.Math object>"
      ]
     },
     "metadata": {},
     "output_type": "display_data"
    }
   ],
   "source": [
    "#---------------------------------------------------------------------------------------------------------------------#\n",
    "#-- <u>Paso 6:</u> Remoción en infinito. Removemos la bobina $L_2$ en serie y obtenemos $Z_6(s)$.\n",
    "#---------------------------------------------------------------------------------------------------------------------#\n",
    "\n",
    "Z6, Z5 = remover_polo_infinito( Z4 )\n",
    "\n",
    "display( Markdown( '###' ) )\n",
    "print_latex( 'Z_5(s) = s \\cdot L_2 = ' + sp.latex( Z5 ) )\n"
   ]
  },
  {
   "cell_type": "markdown",
   "id": "3b1d4f8a-3a25-4322-bbb0-9d655b17712d",
   "metadata": {},
   "source": [
    "###\n",
    "###### [Ver $Z_5(s)$ analítica](#Z_5(s)_analítica)\n",
    "###\n",
    "<a id=\"L_2_simbólica\"></a>"
   ]
  },
  {
   "cell_type": "code",
   "execution_count": 17,
   "id": "572b9c00-f561-4920-9882-f3557faa5911",
   "metadata": {
    "tags": []
   },
   "outputs": [
    {
     "data": {
      "text/markdown": [
       "###"
      ],
      "text/plain": [
       "<IPython.core.display.Markdown object>"
      ]
     },
     "metadata": {},
     "output_type": "display_data"
    },
    {
     "data": {
      "text/latex": [
       "$\\displaystyle L_2=1$"
      ],
      "text/plain": [
       "<IPython.core.display.Math object>"
      ]
     },
     "metadata": {},
     "output_type": "display_data"
    }
   ],
   "source": [
    "L2 = Z5/s\n",
    "\n",
    "display( Markdown( '###' ) )\n",
    "print_latex( a_equal_b_latex_s( 'L_2', L2 ) )\n"
   ]
  },
  {
   "cell_type": "markdown",
   "id": "20175b7a-2f7f-4e27-8e86-1e187cf97cb6",
   "metadata": {},
   "source": [
    "###\n",
    "###### [Ver $L_2$ analítica](#L_2_analítica)\n",
    "###\n",
    "<a id=\"Z_6(s)_simbólica\"></a>"
   ]
  },
  {
   "cell_type": "code",
   "execution_count": 19,
   "id": "59665e31-0738-41b3-a91b-6fdcfbeee1db",
   "metadata": {
    "tags": []
   },
   "outputs": [
    {
     "data": {
      "text/markdown": [
       "###"
      ],
      "text/plain": [
       "<IPython.core.display.Markdown object>"
      ]
     },
     "metadata": {},
     "output_type": "display_data"
    },
    {
     "data": {
      "text/latex": [
       "$\\displaystyle Z_6(s) = Z_4(s) - Z_5(s) = \\frac{s^{2} + 3}{s} - s = \\frac{3}{s}$"
      ],
      "text/plain": [
       "<IPython.core.display.Math object>"
      ]
     },
     "metadata": {},
     "output_type": "display_data"
    }
   ],
   "source": [
    "display( Markdown( '###' ) )\n",
    "print_latex( 'Z_6(s) = Z_4(s) - Z_5(s) = ' + sp.latex( Z4 ) + ' - ' + sp.latex( Z5 ) + ' = ' + sp.latex( Z6 ) )\n",
    "\n",
    "#---------------------------------------------------------------------------------------------------------------------#"
   ]
  },
  {
   "cell_type": "markdown",
   "id": "fcf6881f-38ec-4f66-82de-ae63bbd9b9bf",
   "metadata": {},
   "source": [
    "###\n",
    "###### [Ver $Z_6(s)$ analítica](#Z_6(s)_analítica)\n",
    "###\n",
    "<a id=\"Z_7(s)_simbólica\"></a>"
   ]
  },
  {
   "cell_type": "code",
   "execution_count": 20,
   "id": "8da640e2-dbcd-40a5-9373-234b032c5c4d",
   "metadata": {
    "tags": []
   },
   "outputs": [
    {
     "data": {
      "text/markdown": [
       "###"
      ],
      "text/plain": [
       "<IPython.core.display.Markdown object>"
      ]
     },
     "metadata": {},
     "output_type": "display_data"
    },
    {
     "data": {
      "text/latex": [
       "$\\displaystyle Z_7(s) = \\frac{ 1 }{ C_3 }=\\frac{3}{s}$"
      ],
      "text/plain": [
       "<IPython.core.display.Math object>"
      ]
     },
     "metadata": {},
     "output_type": "display_data"
    }
   ],
   "source": [
    "#---------------------------------------------------------------------------------------------------------------------#\n",
    "#-- <u>Paso 7:</u> Remoción en cero. Removemos el capacitor $C_3$ en serie y obtenemos $Z_8(s)$ finalizando \n",
    "#-- así la síntesis.\n",
    "#---------------------------------------------------------------------------------------------------------------------#\n",
    "\n",
    "Z8, Z7 = remover_polo_dc( Z6 )\n",
    "\n",
    "display( Markdown( '###' ) )\n",
    "print_latex( a_equal_b_latex_s( 'Z_7(s) = \\\\frac{ 1 }{ C_3 }', Z7 ) )\n"
   ]
  },
  {
   "cell_type": "markdown",
   "id": "d276a3da-2fdd-474e-abbf-4204815f204d",
   "metadata": {},
   "source": [
    "###\n",
    "###### [Ver $Z_7(s)$ analítica](#Z_7(s)_analítica)\n",
    "###\n",
    "<a id=\"C_3_simbólica\"></a>"
   ]
  },
  {
   "cell_type": "code",
   "execution_count": 21,
   "id": "eef51991-50a8-47e0-a3e8-4036bdab747f",
   "metadata": {
    "tags": []
   },
   "outputs": [
    {
     "data": {
      "text/markdown": [
       "###"
      ],
      "text/plain": [
       "<IPython.core.display.Markdown object>"
      ]
     },
     "metadata": {},
     "output_type": "display_data"
    },
    {
     "data": {
      "text/latex": [
       "$\\displaystyle C_3=\\frac{1}{3}$"
      ],
      "text/plain": [
       "<IPython.core.display.Math object>"
      ]
     },
     "metadata": {},
     "output_type": "display_data"
    }
   ],
   "source": [
    "C3 = 1/s/Z7\n",
    "\n",
    "display( Markdown( '###' ) )\n",
    "print_latex( a_equal_b_latex_s( 'C_3', C3 ) )\n"
   ]
  },
  {
   "cell_type": "markdown",
   "id": "51b37b05-dcb1-4676-ac52-9ff561a4d17c",
   "metadata": {},
   "source": [
    "###\n",
    "###### [Ver $C_3$ analítica](#C_3_analítica)\n",
    "###\n",
    "<a id=\"Z_8(s)_simbólica\"></a>"
   ]
  },
  {
   "cell_type": "code",
   "execution_count": 22,
   "id": "9e77b02e-ae74-4ccc-b4ee-5f2740f1699d",
   "metadata": {
    "tags": []
   },
   "outputs": [
    {
     "data": {
      "text/markdown": [
       "###"
      ],
      "text/plain": [
       "<IPython.core.display.Markdown object>"
      ]
     },
     "metadata": {},
     "output_type": "display_data"
    },
    {
     "data": {
      "text/latex": [
       "$\\displaystyle Z_8(s) = Z_6(s) - Z_7(s) = \\frac{3}{s} - \\frac{3}{s} = 0$"
      ],
      "text/plain": [
       "<IPython.core.display.Math object>"
      ]
     },
     "metadata": {},
     "output_type": "display_data"
    }
   ],
   "source": [
    "display( Markdown( '###' ) )\n",
    "print_latex( 'Z_8(s) = Z_6(s) - Z_7(s) = ' + sp.latex( Z6 ) + ' - ' + sp.latex( Z7 ) +  ' = ' + sp.latex( Z8 ) )\n",
    "\n",
    "#---------------------------------------------------------------------------------------------------------------------#"
   ]
  },
  {
   "cell_type": "markdown",
   "id": "eb5cfeaa-3e0c-4db8-b41e-6ad2f2f4748c",
   "metadata": {},
   "source": [
    "###\n",
    "###### [Ver $Z_8(s)$ analítica](#Z_8(s)_analítica)\n",
    "###"
   ]
  },
  {
   "cell_type": "code",
   "execution_count": 24,
   "id": "6758cc20-2ded-4e8c-a60d-c15562927966",
   "metadata": {
    "tags": []
   },
   "outputs": [
    {
     "data": {
      "image/png": "[encoded data removed]",
      "image/svg+xml": [
       "<?xml version=\"1.0\" encoding=\"utf-8\" standalone=\"no\"?>\n",
       "<!DOCTYPE svg PUBLIC \"-//W3C//DTD SVG 1.1//EN\"\n",
       "  \"http://www.w3.org/Graphics/SVG/1.1/DTD/svg11.dtd\">\n",
       "<svg xmlns:xlink=\"http://www.w3.org/1999/xlink\" width=\"1182.8253pt\" height=\"237.95pt\" viewBox=\"0 0 1182.8253 237.95\" xmlns=\"http://www.w3.org/2000/svg\" version=\"1.1\">\n",
       " <metadata>\n",
       "  <rdf:RDF xmlns:dc=\"http://purl.org/dc/elements/1.1/\" xmlns:cc=\"http://creativecommons.org/ns#\" xmlns:rdf=\"http://www.w3.org/1999/02/22-rdf-syntax-ns#\">\n",
       "   <cc:Work>\n",
       "    <dc:type rdf:resource=\"http://purl.org/dc/dcmitype/StillImage\"/>\n",
       "    <dc:date>2023-11-15T10:34:41.255875</dc:date>\n",
       "    <dc:format>image/svg+xml</dc:format>\n",
       "    <dc:creator>\n",
       "     <cc:Agent>\n",
       "      <dc:title>Matplotlib v3.7.1, https://matplotlib.org/</dc:title>\n",
       "     </cc:Agent>\n",
       "    </dc:creator>\n",
       "   </cc:Work>\n",
       "  </rdf:RDF>\n",
       " </metadata>\n",
       " <defs>\n",
       "  <style type=\"text/css\">*{stroke-linejoin: round; stroke-linecap: butt}</style>\n",
       " </defs>\n",
       " <g id=\"figure_1\">\n",
       "  <g id=\"patch_1\">\n",
       "   <path d=\"M 0 237.95 \n",
       "L 1182.8253 237.95 \n",
       "L 1182.8253 0 \n",
       "L 0 0 \n",
       "z\n",
       "\" style=\"fill: #ffffff\"/>\n",
       "  </g>\n",
       "  <g id=\"axes_1\">\n",
       "   <g id=\"patch_2\">\n",
       "    <path d=\"M 488.589 128.24 \n",
       "C 489.603064 128.24 490.576632 127.836735 491.293683 127.119683 \n",
       "C 492.010735 126.402632 492.414 125.429064 492.414 124.415 \n",
       "C 492.414 123.400936 492.010735 122.427368 491.293683 121.710317 \n",
       "C 490.576632 120.993265 489.603064 120.59 488.589 120.59 \n",
       "\" clip-path=\"url(#pf332761e10)\" style=\"fill: none; stroke: #000000; stroke-width: 2; stroke-linejoin: miter\"/>\n",
       "   </g>\n",
       "   <g id=\"patch_3\">\n",
       "    <path d=\"M 488.589 135.89 \n",
       "C 489.603064 135.89 490.576632 135.486735 491.293683 134.769683 \n",
       "C 492.010735 134.052632 492.414 133.079064 492.414 132.065 \n",
       "C 492.414 131.050936 492.010735 130.077368 491.293683 129.360317 \n",
       "C 490.576632 128.643265 489.603064 128.24 488.589 128.24 \n",
       "\" clip-path=\"url(#pf332761e10)\" style=\"fill: none; stroke: #000000; stroke-width: 2; stroke-linejoin: miter\"/>\n",
       "   </g>\n",
       "   <g id=\"patch_4\">\n",
       "    <path d=\"M 488.589 143.54 \n",
       "C 489.603064 143.54 490.576632 143.136735 491.293683 142.419683 \n",
       "C 492.010735 141.702632 492.414 140.729064 492.414 139.715 \n",
       "C 492.414 138.700936 492.010735 137.727368 491.293683 137.010317 \n",
       "C 490.576632 136.293265 489.603064 135.89 488.589 135.89 \n",
       "\" clip-path=\"url(#pf332761e10)\" style=\"fill: none; stroke: #000000; stroke-width: 2; stroke-linejoin: miter\"/>\n",
       "   </g>\n",
       "   <g id=\"patch_5\">\n",
       "    <path d=\"M 488.589 151.19 \n",
       "C 489.603064 151.19 490.576632 150.786735 491.293683 150.069683 \n",
       "C 492.010735 149.352632 492.414 148.379064 492.414 147.365 \n",
       "C 492.414 146.350936 492.010735 145.377368 491.293683 144.660317 \n",
       "C 490.576632 143.943265 489.603064 143.54 488.589 143.54 \n",
       "\" clip-path=\"url(#pf332761e10)\" style=\"fill: none; stroke: #000000; stroke-width: 2; stroke-linejoin: miter\"/>\n",
       "   </g>\n",
       "   <g id=\"patch_6\">\n",
       "    <path d=\"M 542.139 44.09 \n",
       "C 542.139 43.075936 541.735735 42.102368 541.018683 41.385317 \n",
       "C 540.301632 40.668265 539.328064 40.265 538.314 40.265 \n",
       "C 537.299936 40.265 536.326368 40.668265 535.609317 41.385317 \n",
       "C 534.892265 42.102368 534.489 43.075936 534.489 44.09 \n",
       "\" clip-path=\"url(#pf332761e10)\" style=\"fill: none; stroke: #000000; stroke-width: 2; stroke-linejoin: miter\"/>\n",
       "   </g>\n",
       "   <g id=\"patch_7\">\n",
       "    <path d=\"M 549.789 44.09 \n",
       "C 549.789 43.075936 549.385735 42.102368 548.668683 41.385317 \n",
       "C 547.951632 40.668265 546.978064 40.265 545.964 40.265 \n",
       "C 544.949936 40.265 543.976368 40.668265 543.259317 41.385317 \n",
       "C 542.542265 42.102368 542.139 43.075936 542.139 44.09 \n",
       "\" clip-path=\"url(#pf332761e10)\" style=\"fill: none; stroke: #000000; stroke-width: 2; stroke-linejoin: miter\"/>\n",
       "   </g>\n",
       "   <g id=\"patch_8\">\n",
       "    <path d=\"M 557.439 44.09 \n",
       "C 557.439 43.075936 557.035735 42.102368 556.318683 41.385317 \n",
       "C 555.601632 40.668265 554.628064 40.265 553.614 40.265 \n",
       "C 552.599936 40.265 551.626368 40.668265 550.909317 41.385317 \n",
       "C 550.192265 42.102368 549.789 43.075936 549.789 44.09 \n",
       "\" clip-path=\"url(#pf332761e10)\" style=\"fill: none; stroke: #000000; stroke-width: 2; stroke-linejoin: miter\"/>\n",
       "   </g>\n",
       "   <g id=\"patch_9\">\n",
       "    <path d=\"M 565.089 44.09 \n",
       "C 565.089 43.075936 564.685735 42.102368 563.968683 41.385317 \n",
       "C 563.251632 40.668265 562.278064 40.265 561.264 40.265 \n",
       "C 560.249936 40.265 559.276368 40.668265 558.559317 41.385317 \n",
       "C 557.842265 42.102368 557.439 43.075936 557.439 44.09 \n",
       "\" clip-path=\"url(#pf332761e10)\" style=\"fill: none; stroke: #000000; stroke-width: 2; stroke-linejoin: miter\"/>\n",
       "   </g>\n",
       "   <g id=\"line2d_1\">\n",
       "    <path d=\"M 243.789 166.49 \n",
       "L 274.389 166.49 \n",
       "L 304.989 166.49 \n",
       "\" clip-path=\"url(#pf332761e10)\" style=\"fill: none; stroke: #000000; stroke-width: 2; stroke-linecap: round\"/>\n",
       "   </g>\n",
       "   <g id=\"line2d_2\">\n",
       "    <path d=\"M 304.989 44.09 \n",
       "L 289.689 44.09 \n",
       "L 274.389 44.09 \n",
       "\" clip-path=\"url(#pf332761e10)\" style=\"fill: none; stroke: #000000; stroke-width: 2; stroke-linecap: round\"/>\n",
       "   </g>\n",
       "   <g id=\"line2d_3\">\n",
       "    <path d=\"M 266.739 44.09 \n",
       "L 259.089 44.09 \n",
       "L 243.789 44.09 \n",
       "\" clip-path=\"url(#pf332761e10)\" style=\"fill: none; stroke: #000000; stroke-width: 2; stroke-linecap: round\"/>\n",
       "   </g>\n",
       "   <g id=\"patch_10\">\n",
       "    <path d=\"M 266.739 41.795 \n",
       "L 274.389 44.09 \n",
       "L 266.739 46.385 \n",
       "z\n",
       "\" clip-path=\"url(#pf332761e10)\"/>\n",
       "   </g>\n",
       "   <g id=\"line2d_4\">\n",
       "    <path d=\"M 304.989 44.09 \n",
       "L 320.289 44.09 \n",
       "L 335.589 44.09 \n",
       "\" clip-path=\"url(#pf332761e10)\" style=\"fill: none; stroke: #000000; stroke-width: 2; stroke-linecap: round\"/>\n",
       "   </g>\n",
       "   <g id=\"line2d_5\">\n",
       "    <path d=\"M 335.589 172.61 \n",
       "L 335.589 157.31 \n",
       "L 335.589 142.01 \n",
       "\" clip-path=\"url(#pf332761e10)\" style=\"fill: none; stroke: #000000; stroke-linecap: round\"/>\n",
       "   </g>\n",
       "   <g id=\"line2d_6\">\n",
       "    <path d=\"M 335.589 142.01 \n",
       "L 343.239 142.01 \n",
       "L 343.239 142.01 \n",
       "\" clip-path=\"url(#pf332761e10)\" style=\"fill: none; stroke: #000000; stroke-linecap: round\"/>\n",
       "   </g>\n",
       "   <g id=\"patch_11\">\n",
       "    <path d=\"M 343.239 139.715 \n",
       "L 350.889 142.01 \n",
       "L 343.239 144.305 \n",
       "z\n",
       "\" clip-path=\"url(#pf332761e10)\"/>\n",
       "   </g>\n",
       "   <g id=\"line2d_7\">\n",
       "    <path d=\"M 335.589 166.49 \n",
       "L 320.289 166.49 \n",
       "L 304.989 166.49 \n",
       "\" clip-path=\"url(#pf332761e10)\" style=\"fill: none; stroke: #000000; stroke-width: 2; stroke-linecap: round\"/>\n",
       "   </g>\n",
       "   <g id=\"line2d_8\">\n",
       "    <path d=\"M 335.589 166.49 \n",
       "L 350.889 166.49 \n",
       "L 366.189 166.49 \n",
       "\" clip-path=\"url(#pf332761e10)\" style=\"fill: none; stroke: #000000; stroke-width: 2; stroke-linecap: round\"/>\n",
       "   </g>\n",
       "   <g id=\"line2d_9\">\n",
       "    <path d=\"M 335.589 44.09 \n",
       "L 350.889 44.09 \n",
       "L 366.189 44.09 \n",
       "\" clip-path=\"url(#pf332761e10)\" style=\"fill: none; stroke: #000000; stroke-width: 2; stroke-linecap: round\"/>\n",
       "   </g>\n",
       "   <g id=\"line2d_10\">\n",
       "    <path d=\"M 366.189 44.09 \n",
       "L 424.635 44.09 \n",
       "M 424.635 36.44 \n",
       "L 424.635 51.74 \n",
       "M 430.143 36.44 \n",
       "L 430.143 51.74 \n",
       "M 430.143 44.09 \n",
       "L 488.589 44.09 \n",
       "\" clip-path=\"url(#pf332761e10)\" style=\"fill: none; stroke: #000000; stroke-width: 2; stroke-linecap: round\"/>\n",
       "   </g>\n",
       "   <g id=\"line2d_11\">\n",
       "    <path d=\"M 488.589 166.49 \n",
       "L 427.389 166.49 \n",
       "L 366.189 166.49 \n",
       "\" clip-path=\"url(#pf332761e10)\" style=\"fill: none; stroke: #000000; stroke-width: 2; stroke-linecap: round\"/>\n",
       "   </g>\n",
       "   <g id=\"line2d_12\">\n",
       "    <path d=\"M 488.589 44.09 \n",
       "L 488.589 71.936 \n",
       "M 496.239 71.936 \n",
       "L 480.939 71.936 \n",
       "M 496.239 77.444 \n",
       "L 480.939 77.444 \n",
       "M 488.589 77.444 \n",
       "L 488.589 105.29 \n",
       "\" clip-path=\"url(#pf332761e10)\" style=\"fill: none; stroke: #000000; stroke-width: 2; stroke-linecap: round\"/>\n",
       "   </g>\n",
       "   <g id=\"line2d_13\">\n",
       "    <path d=\"M 488.589 105.29 \n",
       "L 488.589 120.59 \n",
       "M 488.589 151.19 \n",
       "L 488.589 166.49 \n",
       "\" clip-path=\"url(#pf332761e10)\" style=\"fill: none; stroke: #000000; stroke-width: 2; stroke-linecap: round\"/>\n",
       "   </g>\n",
       "   <g id=\"line2d_14\">\n",
       "    <path d=\"M 488.589 44.09 \n",
       "L 534.489 44.09 \n",
       "M 565.089 44.09 \n",
       "L 610.989 44.09 \n",
       "\" clip-path=\"url(#pf332761e10)\" style=\"fill: none; stroke: #000000; stroke-width: 2; stroke-linecap: round\"/>\n",
       "   </g>\n",
       "   <g id=\"line2d_15\">\n",
       "    <path d=\"M 610.989 166.49 \n",
       "L 549.789 166.49 \n",
       "L 488.589 166.49 \n",
       "\" clip-path=\"url(#pf332761e10)\" style=\"fill: none; stroke: #000000; stroke-width: 2; stroke-linecap: round\"/>\n",
       "   </g>\n",
       "   <g id=\"line2d_16\">\n",
       "    <path d=\"M 610.989 44.09 \n",
       "L 641.589 44.09 \n",
       "L 672.189 44.09 \n",
       "\" clip-path=\"url(#pf332761e10)\" style=\"fill: none; stroke: #000000; stroke-width: 2; stroke-linecap: round\"/>\n",
       "   </g>\n",
       "   <g id=\"line2d_17\">\n",
       "    <path d=\"M 672.189 166.49 \n",
       "L 641.589 166.49 \n",
       "L 610.989 166.49 \n",
       "\" clip-path=\"url(#pf332761e10)\" style=\"fill: none; stroke: #000000; stroke-width: 2; stroke-linecap: round\"/>\n",
       "   </g>\n",
       "   <g id=\"line2d_18\">\n",
       "    <path d=\"M 672.189 44.09 \n",
       "L 730.635 44.09 \n",
       "M 730.635 36.44 \n",
       "L 730.635 51.74 \n",
       "M 736.143 36.44 \n",
       "L 736.143 51.74 \n",
       "M 736.143 44.09 \n",
       "L 794.589 44.09 \n",
       "\" clip-path=\"url(#pf332761e10)\" style=\"fill: none; stroke: #000000; stroke-width: 2; stroke-linecap: round\"/>\n",
       "   </g>\n",
       "   <g id=\"line2d_19\">\n",
       "    <path d=\"M 794.589 166.49 \n",
       "L 733.389 166.49 \n",
       "L 672.189 166.49 \n",
       "\" clip-path=\"url(#pf332761e10)\" style=\"fill: none; stroke: #000000; stroke-width: 2; stroke-linecap: round\"/>\n",
       "   </g>\n",
       "   <g id=\"line2d_20\">\n",
       "    <path d=\"M 794.589 44.09 \n",
       "L 809.889 44.09 \n",
       "L 825.189 44.09 \n",
       "\" clip-path=\"url(#pf332761e10)\" style=\"fill: none; stroke: #000000; stroke-width: 2; stroke-linecap: round\"/>\n",
       "   </g>\n",
       "   <g id=\"line2d_21\">\n",
       "    <path d=\"M 832.839 44.09 \n",
       "L 840.489 44.09 \n",
       "L 855.789 44.09 \n",
       "\" clip-path=\"url(#pf332761e10)\" style=\"fill: none; stroke: #000000; stroke-width: 2; stroke-linecap: round\"/>\n",
       "   </g>\n",
       "   <g id=\"patch_12\">\n",
       "    <path d=\"M 832.839 46.385 \n",
       "L 825.189 44.09 \n",
       "L 832.839 41.795 \n",
       "z\n",
       "\" clip-path=\"url(#pf332761e10)\"/>\n",
       "   </g>\n",
       "   <g id=\"line2d_22\">\n",
       "    <path d=\"M 855.789 166.49 \n",
       "L 825.189 166.49 \n",
       "L 794.589 166.49 \n",
       "\" clip-path=\"url(#pf332761e10)\" style=\"fill: none; stroke: #000000; stroke-width: 2; stroke-linecap: round\"/>\n",
       "   </g>\n",
       "   <g id=\"line2d_23\">\n",
       "    <path d=\"M 855.789 44.09 \n",
       "L 871.089 44.09 \n",
       "L 886.389 44.09 \n",
       "\" clip-path=\"url(#pf332761e10)\" style=\"fill: none; stroke: #000000; stroke-width: 2; stroke-linecap: round\"/>\n",
       "   </g>\n",
       "   <g id=\"line2d_24\">\n",
       "    <path d=\"M 886.389 172.61 \n",
       "L 886.389 157.31 \n",
       "L 886.389 142.01 \n",
       "\" clip-path=\"url(#pf332761e10)\" style=\"fill: none; stroke: #000000; stroke-linecap: round\"/>\n",
       "   </g>\n",
       "   <g id=\"line2d_25\">\n",
       "    <path d=\"M 886.389 142.01 \n",
       "L 878.739 142.01 \n",
       "L 878.739 142.01 \n",
       "\" clip-path=\"url(#pf332761e10)\" style=\"fill: none; stroke: #000000; stroke-linecap: round\"/>\n",
       "   </g>\n",
       "   <g id=\"patch_13\">\n",
       "    <path d=\"M 878.739 144.305 \n",
       "L 871.089 142.01 \n",
       "L 878.739 139.715 \n",
       "z\n",
       "\" clip-path=\"url(#pf332761e10)\"/>\n",
       "   </g>\n",
       "   <g id=\"line2d_26\">\n",
       "    <path d=\"M 886.389 166.49 \n",
       "L 871.089 166.49 \n",
       "L 855.789 166.49 \n",
       "\" clip-path=\"url(#pf332761e10)\" style=\"fill: none; stroke: #000000; stroke-width: 2; stroke-linecap: round\"/>\n",
       "   </g>\n",
       "   <g id=\"line2d_27\">\n",
       "    <path d=\"M 886.389 166.49 \n",
       "L 901.689 166.49 \n",
       "L 916.989 166.49 \n",
       "\" clip-path=\"url(#pf332761e10)\" style=\"fill: none; stroke: #000000; stroke-width: 2; stroke-linecap: round\"/>\n",
       "   </g>\n",
       "   <g id=\"line2d_28\">\n",
       "    <path d=\"M 886.389 44.09 \n",
       "L 901.689 44.09 \n",
       "L 916.989 44.09 \n",
       "\" clip-path=\"url(#pf332761e10)\" style=\"fill: none; stroke: #000000; stroke-width: 2; stroke-linecap: round\"/>\n",
       "   </g>\n",
       "   <g id=\"line2d_29\">\n",
       "    <path d=\"M 916.989 44.09 \n",
       "L 947.589 44.09 \n",
       "L 978.189 44.09 \n",
       "\" clip-path=\"url(#pf332761e10)\" style=\"fill: none; stroke: #000000; stroke-width: 2; stroke-linecap: round\"/>\n",
       "   </g>\n",
       "   <g id=\"line2d_30\">\n",
       "    <path d=\"M 978.189 44.09 \n",
       "L 978.189 105.29 \n",
       "L 978.189 166.49 \n",
       "\" clip-path=\"url(#pf332761e10)\" style=\"fill: none; stroke: #000000; stroke-width: 2; stroke-linecap: round\"/>\n",
       "   </g>\n",
       "   <g id=\"line2d_31\">\n",
       "    <path d=\"M 978.189 166.49 \n",
       "L 947.589 166.49 \n",
       "L 916.989 166.49 \n",
       "\" clip-path=\"url(#pf332761e10)\" style=\"fill: none; stroke: #000000; stroke-width: 2; stroke-linecap: round\"/>\n",
       "   </g>\n",
       "   <g id=\"text_1\">\n",
       "    <g clip-path=\"url(#pf332761e10)\">\n",
       "     <!-- + -->\n",
       "     <g transform=\"translate(237.713727 78.691094) scale(0.145 -0.145)\">\n",
       "      <defs>\n",
       "       <path id=\"DejaVuSans-2b\" d=\"M 2944 4013 \n",
       "L 2944 2272 \n",
       "L 4684 2272 \n",
       "L 4684 1741 \n",
       "L 2944 1741 \n",
       "L 2944 0 \n",
       "L 2419 0 \n",
       "L 2419 1741 \n",
       "L 678 1741 \n",
       "L 678 2272 \n",
       "L 2419 2272 \n",
       "L 2419 4013 \n",
       "L 2944 4013 \n",
       "z\n",
       "\" transform=\"scale(0.015625)\"/>\n",
       "      </defs>\n",
       "      <use xlink:href=\"#DejaVuSans-2b\"/>\n",
       "     </g>\n",
       "    </g>\n",
       "   </g>\n",
       "   <g id=\"text_2\">\n",
       "    <g clip-path=\"url(#pf332761e10)\">\n",
       "     <!-- $V1$ -->\n",
       "     <g transform=\"translate(234.1465 109.291094) scale(0.145 -0.145)\">\n",
       "      <defs>\n",
       "       <path id=\"DejaVuSans-Oblique-56\" d=\"M 1319 0 \n",
       "L 500 4666 \n",
       "L 1119 4666 \n",
       "L 1797 653 \n",
       "L 4063 4666 \n",
       "L 4750 4666 \n",
       "L 2053 0 \n",
       "L 1319 0 \n",
       "z\n",
       "\" transform=\"scale(0.015625)\"/>\n",
       "       <path id=\"DejaVuSans-31\" d=\"M 794 531 \n",
       "L 1825 531 \n",
       "L 1825 4091 \n",
       "L 703 3866 \n",
       "L 703 4441 \n",
       "L 1819 4666 \n",
       "L 2450 4666 \n",
       "L 2450 531 \n",
       "L 3481 531 \n",
       "L 3481 0 \n",
       "L 794 0 \n",
       "L 794 531 \n",
       "z\n",
       "\" transform=\"scale(0.015625)\"/>\n",
       "      </defs>\n",
       "      <use xlink:href=\"#DejaVuSans-Oblique-56\" transform=\"translate(0 0.09375)\"/>\n",
       "      <use xlink:href=\"#DejaVuSans-31\" transform=\"translate(68.408203 0.09375)\"/>\n",
       "     </g>\n",
       "    </g>\n",
       "   </g>\n",
       "   <g id=\"text_3\">\n",
       "    <g clip-path=\"url(#pf332761e10)\">\n",
       "     <!-- - -->\n",
       "     <g transform=\"translate(241.173336 139.891094) scale(0.145 -0.145)\">\n",
       "      <defs>\n",
       "       <path id=\"DejaVuSans-2d\" d=\"M 313 2009 \n",
       "L 1997 2009 \n",
       "L 1997 1497 \n",
       "L 313 1497 \n",
       "L 313 2009 \n",
       "z\n",
       "\" transform=\"scale(0.015625)\"/>\n",
       "      </defs>\n",
       "      <use xlink:href=\"#DejaVuSans-2d\"/>\n",
       "     </g>\n",
       "    </g>\n",
       "   </g>\n",
       "   <g id=\"text_4\">\n",
       "    <g clip-path=\"url(#pf332761e10)\">\n",
       "     <!-- $I1$ -->\n",
       "     <g transform=\"translate(252.274 38.014453) scale(0.145 -0.145)\">\n",
       "      <defs>\n",
       "       <path id=\"DejaVuSans-Oblique-49\" d=\"M 1081 4666 \n",
       "L 1716 4666 \n",
       "L 806 0 \n",
       "L 172 0 \n",
       "L 1081 4666 \n",
       "z\n",
       "\" transform=\"scale(0.015625)\"/>\n",
       "      </defs>\n",
       "      <use xlink:href=\"#DejaVuSans-Oblique-49\" transform=\"translate(0 0.09375)\"/>\n",
       "      <use xlink:href=\"#DejaVuSans-31\" transform=\"translate(29.492188 0.09375)\"/>\n",
       "     </g>\n",
       "    </g>\n",
       "   </g>\n",
       "   <g id=\"text_5\">\n",
       "    <g clip-path=\"url(#pf332761e10)\">\n",
       "     <!-- $ Y_{11} = \\frac{3 s \\left(s^{2} + \\frac{7}{3}\\right)}{\\left(s^{2} + 2\\right) \\left(s^{2} + 5\\right)} $ -->\n",
       "     <g transform=\"translate(253.179 210.285) scale(0.205 -0.205)\">\n",
       "      <defs>\n",
       "       <path id=\"DejaVuSans-Oblique-59\" d=\"M 403 4666 \n",
       "L 1081 4666 \n",
       "L 1953 2747 \n",
       "L 3616 4666 \n",
       "L 4325 4666 \n",
       "L 2209 2222 \n",
       "L 1778 0 \n",
       "L 1147 0 \n",
       "L 1575 2222 \n",
       "L 403 4666 \n",
       "z\n",
       "\" transform=\"scale(0.015625)\"/>\n",
       "       <path id=\"DejaVuSans-3d\" d=\"M 678 2906 \n",
       "L 4684 2906 \n",
       "L 4684 2381 \n",
       "L 678 2381 \n",
       "L 678 2906 \n",
       "z\n",
       "M 678 1631 \n",
       "L 4684 1631 \n",
       "L 4684 1100 \n",
       "L 678 1100 \n",
       "L 678 1631 \n",
       "z\n",
       "\" transform=\"scale(0.015625)\"/>\n",
       "       <path id=\"DejaVuSans-33\" d=\"M 2597 2516 \n",
       "Q 3050 2419 3304 2112 \n",
       "Q 3559 1806 3559 1356 \n",
       "Q 3559 666 3084 287 \n",
       "Q 2609 -91 1734 -91 \n",
       "Q 1441 -91 1130 -33 \n",
       "Q 819 25 488 141 \n",
       "L 488 750 \n",
       "Q 750 597 1062 519 \n",
       "Q 1375 441 1716 441 \n",
       "Q 2309 441 2620 675 \n",
       "Q 2931 909 2931 1356 \n",
       "Q 2931 1769 2642 2001 \n",
       "Q 2353 2234 1838 2234 \n",
       "L 1294 2234 \n",
       "L 1294 2753 \n",
       "L 1863 2753 \n",
       "Q 2328 2753 2575 2939 \n",
       "Q 2822 3125 2822 3475 \n",
       "Q 2822 3834 2567 4026 \n",
       "Q 2313 4219 1838 4219 \n",
       "Q 1578 4219 1281 4162 \n",
       "Q 984 4106 628 3988 \n",
       "L 628 4550 \n",
       "Q 988 4650 1302 4700 \n",
       "Q 1616 4750 1894 4750 \n",
       "Q 2613 4750 3031 4423 \n",
       "Q 3450 4097 3450 3541 \n",
       "Q 3450 3153 3228 2886 \n",
       "Q 3006 2619 2597 2516 \n",
       "z\n",
       "\" transform=\"scale(0.015625)\"/>\n",
       "       <path id=\"DejaVuSans-Oblique-73\" d=\"M 3200 3397 \n",
       "L 3091 2853 \n",
       "Q 2863 2978 2609 3040 \n",
       "Q 2356 3103 2088 3103 \n",
       "Q 1634 3103 1373 2948 \n",
       "Q 1113 2794 1113 2528 \n",
       "Q 1113 2219 1719 2053 \n",
       "Q 1766 2041 1788 2034 \n",
       "L 1972 1978 \n",
       "Q 2547 1819 2739 1644 \n",
       "Q 2931 1469 2931 1166 \n",
       "Q 2931 609 2489 259 \n",
       "Q 2047 -91 1331 -91 \n",
       "Q 1053 -91 747 -37 \n",
       "Q 441 16 72 128 \n",
       "L 184 722 \n",
       "Q 500 559 806 475 \n",
       "Q 1113 391 1394 391 \n",
       "Q 1816 391 2080 572 \n",
       "Q 2344 753 2344 1031 \n",
       "Q 2344 1331 1650 1516 \n",
       "L 1591 1531 \n",
       "L 1394 1581 \n",
       "Q 956 1697 753 1886 \n",
       "Q 550 2075 550 2369 \n",
       "Q 550 2928 970 3256 \n",
       "Q 1391 3584 2113 3584 \n",
       "Q 2397 3584 2667 3537 \n",
       "Q 2938 3491 3200 3397 \n",
       "z\n",
       "\" transform=\"scale(0.015625)\"/>\n",
       "       <path id=\"STIXSizeTwoSym-Regular-28\" d=\"M 3219 -1555 \n",
       "L 3219 -1786 \n",
       "Q 2144 -774 1517 730 \n",
       "Q 890 2234 890 4115 \n",
       "Q 890 6003 1533 7593 \n",
       "Q 2176 9184 3219 10022 \n",
       "L 3219 9811 \n",
       "Q 2490 9062 1994 7606 \n",
       "Q 1498 6150 1498 4115 \n",
       "Q 1498 563 3219 -1555 \n",
       "z\n",
       "\" transform=\"scale(0.015625)\"/>\n",
       "       <path id=\"DejaVuSans-32\" d=\"M 1228 531 \n",
       "L 3431 531 \n",
       "L 3431 0 \n",
       "L 469 0 \n",
       "L 469 531 \n",
       "Q 828 903 1448 1529 \n",
       "Q 2069 2156 2228 2338 \n",
       "Q 2531 2678 2651 2914 \n",
       "Q 2772 3150 2772 3378 \n",
       "Q 2772 3750 2511 3984 \n",
       "Q 2250 4219 1831 4219 \n",
       "Q 1534 4219 1204 4116 \n",
       "Q 875 4013 500 3803 \n",
       "L 500 4441 \n",
       "Q 881 4594 1212 4672 \n",
       "Q 1544 4750 1819 4750 \n",
       "Q 2544 4750 2975 4387 \n",
       "Q 3406 4025 3406 3419 \n",
       "Q 3406 3131 3298 2873 \n",
       "Q 3191 2616 2906 2266 \n",
       "Q 2828 2175 2409 1742 \n",
       "Q 1991 1309 1228 531 \n",
       "z\n",
       "\" transform=\"scale(0.015625)\"/>\n",
       "       <path id=\"DejaVuSans-37\" d=\"M 525 4666 \n",
       "L 3525 4666 \n",
       "L 3525 4397 \n",
       "L 1831 0 \n",
       "L 1172 0 \n",
       "L 2766 4134 \n",
       "L 525 4134 \n",
       "L 525 4666 \n",
       "z\n",
       "\" transform=\"scale(0.015625)\"/>\n",
       "       <path id=\"STIXSizeTwoSym-Regular-29\" d=\"M 730 9792 \n",
       "L 730 10022 \n",
       "Q 1805 9011 2432 7507 \n",
       "Q 3059 6003 3059 4115 \n",
       "Q 3059 2234 2416 643 \n",
       "Q 1773 -947 730 -1786 \n",
       "L 730 -1574 \n",
       "Q 1459 -826 1955 633 \n",
       "Q 2451 2093 2451 4115 \n",
       "Q 2451 7674 730 9792 \n",
       "z\n",
       "\" transform=\"scale(0.015625)\"/>\n",
       "       <path id=\"DejaVuSans-28\" d=\"M 1984 4856 \n",
       "Q 1566 4138 1362 3434 \n",
       "Q 1159 2731 1159 2009 \n",
       "Q 1159 1288 1364 580 \n",
       "Q 1569 -128 1984 -844 \n",
       "L 1484 -844 \n",
       "Q 1016 -109 783 600 \n",
       "Q 550 1309 550 2009 \n",
       "Q 550 2706 781 3412 \n",
       "Q 1013 4119 1484 4856 \n",
       "L 1984 4856 \n",
       "z\n",
       "\" transform=\"scale(0.015625)\"/>\n",
       "       <path id=\"DejaVuSans-29\" d=\"M 513 4856 \n",
       "L 1013 4856 \n",
       "Q 1481 4119 1714 3412 \n",
       "Q 1947 2706 1947 2009 \n",
       "Q 1947 1309 1714 600 \n",
       "Q 1481 -109 1013 -844 \n",
       "L 513 -844 \n",
       "Q 928 -128 1133 580 \n",
       "Q 1338 1288 1338 2009 \n",
       "Q 1338 2731 1133 3434 \n",
       "Q 928 4138 513 4856 \n",
       "z\n",
       "\" transform=\"scale(0.015625)\"/>\n",
       "       <path id=\"DejaVuSans-35\" d=\"M 691 4666 \n",
       "L 3169 4666 \n",
       "L 3169 4134 \n",
       "L 1269 4134 \n",
       "L 1269 2991 \n",
       "Q 1406 3038 1543 3061 \n",
       "Q 1681 3084 1819 3084 \n",
       "Q 2600 3084 3056 2656 \n",
       "Q 3513 2228 3513 1497 \n",
       "Q 3513 744 3044 326 \n",
       "Q 2575 -91 1722 -91 \n",
       "Q 1428 -91 1123 -41 \n",
       "Q 819 9 494 109 \n",
       "L 494 744 \n",
       "Q 775 591 1075 516 \n",
       "Q 1375 441 1709 441 \n",
       "Q 2250 441 2565 725 \n",
       "Q 2881 1009 2881 1497 \n",
       "Q 2881 1984 2565 2268 \n",
       "Q 2250 2553 1709 2553 \n",
       "Q 1456 2553 1204 2497 \n",
       "Q 953 2441 691 2322 \n",
       "L 691 4666 \n",
       "z\n",
       "\" transform=\"scale(0.015625)\"/>\n",
       "      </defs>\n",
       "      <use xlink:href=\"#DejaVuSans-Oblique-59\" transform=\"translate(0 0.540156)\"/>\n",
       "      <use xlink:href=\"#DejaVuSans-31\" transform=\"translate(61.083984 -15.866094) scale(0.7)\"/>\n",
       "      <use xlink:href=\"#DejaVuSans-31\" transform=\"translate(105.620117 -15.866094) scale(0.7)\"/>\n",
       "      <use xlink:href=\"#DejaVuSans-3d\" transform=\"translate(172.373047 0.540156)\"/>\n",
       "      <use xlink:href=\"#DejaVuSans-33\" transform=\"translate(362.644531 72.618125) scale(0.7)\"/>\n",
       "      <use xlink:href=\"#DejaVuSans-Oblique-73\" transform=\"translate(407.180664 72.618125) scale(0.7)\"/>\n",
       "      <use xlink:href=\"#STIXSizeTwoSym-Regular-28\" transform=\"translate(443.650391 58.588594) scale(0.513078)\"/>\n",
       "      <use xlink:href=\"#DejaVuSans-Oblique-73\" transform=\"translate(473.85136 72.618125) scale(0.7)\"/>\n",
       "      <use xlink:href=\"#DejaVuSans-32\" transform=\"translate(513.576013 99.415) scale(0.49)\"/>\n",
       "      <use xlink:href=\"#DejaVuSans-2b\" transform=\"translate(560.303064 72.618125) scale(0.7)\"/>\n",
       "      <use xlink:href=\"#DejaVuSans-37\" transform=\"translate(632.593103 103.275937) scale(0.49)\"/>\n",
       "      <use xlink:href=\"#DejaVuSans-33\" transform=\"translate(632.593103 45.03375) scale(0.49)\"/>\n",
       "      <use xlink:href=\"#STIXSizeTwoSym-Regular-29\" transform=\"translate(672.518396 58.588594) scale(0.513078)\"/>\n",
       "      <use xlink:href=\"#DejaVuSans-28\" transform=\"translate(275.644531 -50.077031) scale(0.7)\"/>\n",
       "      <use xlink:href=\"#DejaVuSans-Oblique-73\" transform=\"translate(302.954102 -50.077031) scale(0.7)\"/>\n",
       "      <use xlink:href=\"#DejaVuSans-32\" transform=\"translate(342.678755 -23.280156) scale(0.49)\"/>\n",
       "      <use xlink:href=\"#DejaVuSans-2b\" transform=\"translate(389.405806 -50.077031) scale(0.7)\"/>\n",
       "      <use xlink:href=\"#DejaVuSans-32\" transform=\"translate(461.695845 -50.077031) scale(0.7)\"/>\n",
       "      <use xlink:href=\"#DejaVuSans-29\" transform=\"translate(506.231978 -50.077031) scale(0.7)\"/>\n",
       "      <use xlink:href=\"#DejaVuSans-28\" transform=\"translate(533.541548 -50.077031) scale(0.7)\"/>\n",
       "      <use xlink:href=\"#DejaVuSans-Oblique-73\" transform=\"translate(560.851118 -50.077031) scale(0.7)\"/>\n",
       "      <use xlink:href=\"#DejaVuSans-32\" transform=\"translate(600.575772 -23.280156) scale(0.49)\"/>\n",
       "      <use xlink:href=\"#DejaVuSans-2b\" transform=\"translate(647.302823 -50.077031) scale(0.7)\"/>\n",
       "      <use xlink:href=\"#DejaVuSans-35\" transform=\"translate(719.592862 -50.077031) scale(0.7)\"/>\n",
       "      <use xlink:href=\"#DejaVuSans-29\" transform=\"translate(764.128995 -50.077031) scale(0.7)\"/>\n",
       "      <path d=\"M 632.593103 85.775937 \n",
       "L 632.593103 90.150937 \n",
       "L 663.768396 90.150937 \n",
       "L 663.768396 85.775937 \n",
       "L 632.593103 85.775937 \n",
       "z\n",
       "\"/>\n",
       "      <path d=\"M 275.644531 19.337031 \n",
       "L 275.644531 25.587031 \n",
       "L 791.438565 25.587031 \n",
       "L 791.438565 19.337031 \n",
       "L 275.644531 19.337031 \n",
       "z\n",
       "\"/>\n",
       "     </g>\n",
       "    </g>\n",
       "   </g>\n",
       "   <g id=\"text_6\">\n",
       "    <g clip-path=\"url(#pf332761e10)\">\n",
       "     <!-- $1$ -->\n",
       "     <g transform=\"translate(422.749 30.364453) scale(0.145 -0.145)\">\n",
       "      <use xlink:href=\"#DejaVuSans-31\" transform=\"translate(0 0.09375)\"/>\n",
       "     </g>\n",
       "    </g>\n",
       "   </g>\n",
       "   <g id=\"text_7\">\n",
       "    <g clip-path=\"url(#pf332761e10)\">\n",
       "     <!-- $2$ -->\n",
       "     <g transform=\"translate(468.599 78.691094) scale(0.145 -0.145)\">\n",
       "      <use xlink:href=\"#DejaVuSans-32\" transform=\"translate(0 0.78125)\"/>\n",
       "     </g>\n",
       "    </g>\n",
       "   </g>\n",
       "   <g id=\"text_8\">\n",
       "    <g clip-path=\"url(#pf332761e10)\">\n",
       "     <!-- $\\frac{1}{2}$ -->\n",
       "     <g transform=\"translate(477.119 139.8775) scale(0.145 -0.145)\">\n",
       "      <use xlink:href=\"#DejaVuSans-31\" transform=\"translate(0 43.965625) scale(0.7)\"/>\n",
       "      <use xlink:href=\"#DejaVuSans-32\" transform=\"translate(0 -39.2375) scale(0.7)\"/>\n",
       "      <path d=\"M 0 18.965625 \n",
       "L 0 25.215625 \n",
       "L 44.536133 25.215625 \n",
       "L 44.536133 18.965625 \n",
       "L 0 18.965625 \n",
       "z\n",
       "\"/>\n",
       "     </g>\n",
       "    </g>\n",
       "   </g>\n",
       "   <g id=\"text_9\">\n",
       "    <g clip-path=\"url(#pf332761e10)\">\n",
       "     <!-- $1$ -->\n",
       "     <g transform=\"translate(545.149 34.189472) scale(0.145 -0.145)\">\n",
       "      <use xlink:href=\"#DejaVuSans-31\" transform=\"translate(0 0.09375)\"/>\n",
       "     </g>\n",
       "    </g>\n",
       "   </g>\n",
       "   <g id=\"text_10\">\n",
       "    <g clip-path=\"url(#pf332761e10)\">\n",
       "     <!-- $\\frac{1}{3}$ -->\n",
       "     <g transform=\"translate(729.184 27.435) scale(0.145 -0.145)\">\n",
       "      <use xlink:href=\"#DejaVuSans-31\" transform=\"translate(0 43.965625) scale(0.7)\"/>\n",
       "      <use xlink:href=\"#DejaVuSans-33\" transform=\"translate(0 -39.2375) scale(0.7)\"/>\n",
       "      <path d=\"M 0 18.965625 \n",
       "L 0 25.215625 \n",
       "L 44.536133 25.215625 \n",
       "L 44.536133 18.965625 \n",
       "L 0 18.965625 \n",
       "z\n",
       "\"/>\n",
       "     </g>\n",
       "    </g>\n",
       "   </g>\n",
       "   <g id=\"text_11\">\n",
       "    <g clip-path=\"url(#pf332761e10)\">\n",
       "     <!-- $I2$ -->\n",
       "     <g transform=\"translate(833.674 38.014453) scale(0.145 -0.145)\">\n",
       "      <use xlink:href=\"#DejaVuSans-Oblique-49\" transform=\"translate(0 0.78125)\"/>\n",
       "      <use xlink:href=\"#DejaVuSans-32\" transform=\"translate(29.492188 0.78125)\"/>\n",
       "     </g>\n",
       "    </g>\n",
       "   </g>\n",
       "   <g id=\"text_12\">\n",
       "    <g clip-path=\"url(#pf332761e10)\">\n",
       "     <!-- + -->\n",
       "     <g transform=\"translate(849.713727 78.691094) scale(0.145 -0.145)\">\n",
       "      <use xlink:href=\"#DejaVuSans-2b\"/>\n",
       "     </g>\n",
       "    </g>\n",
       "   </g>\n",
       "   <g id=\"text_13\">\n",
       "    <g clip-path=\"url(#pf332761e10)\">\n",
       "     <!-- $V2$ -->\n",
       "     <g transform=\"translate(846.1465 109.291094) scale(0.145 -0.145)\">\n",
       "      <use xlink:href=\"#DejaVuSans-Oblique-56\" transform=\"translate(0 0.78125)\"/>\n",
       "      <use xlink:href=\"#DejaVuSans-32\" transform=\"translate(68.408203 0.78125)\"/>\n",
       "     </g>\n",
       "    </g>\n",
       "   </g>\n",
       "   <g id=\"text_14\">\n",
       "    <g clip-path=\"url(#pf332761e10)\">\n",
       "     <!-- - -->\n",
       "     <g transform=\"translate(853.173336 139.891094) scale(0.145 -0.145)\">\n",
       "      <use xlink:href=\"#DejaVuSans-2d\"/>\n",
       "     </g>\n",
       "    </g>\n",
       "   </g>\n",
       "   <g id=\"text_15\">\n",
       "    <g clip-path=\"url(#pf332761e10)\">\n",
       "     <!-- $ Y_{21} = \\frac{s \\left(s^{2} + 1\\right)}{\\left(s^{2} + 2\\right) \\left(s^{2} + 5\\right)} $ -->\n",
       "     <g transform=\"translate(803.979 205.775) scale(0.205 -0.205)\">\n",
       "      <use xlink:href=\"#DejaVuSans-Oblique-59\" transform=\"translate(0 0.807813)\"/>\n",
       "      <use xlink:href=\"#DejaVuSans-32\" transform=\"translate(61.083984 -15.598437) scale(0.7)\"/>\n",
       "      <use xlink:href=\"#DejaVuSans-31\" transform=\"translate(105.620117 -15.598437) scale(0.7)\"/>\n",
       "      <use xlink:href=\"#DejaVuSans-3d\" transform=\"translate(172.373047 0.807813)\"/>\n",
       "      <use xlink:href=\"#DejaVuSans-Oblique-73\" transform=\"translate(386.644531 53.835938) scale(0.7)\"/>\n",
       "      <use xlink:href=\"#DejaVuSans-28\" transform=\"translate(423.114258 53.835938) scale(0.7)\"/>\n",
       "      <use xlink:href=\"#DejaVuSans-Oblique-73\" transform=\"translate(450.423828 53.835938) scale(0.7)\"/>\n",
       "      <use xlink:href=\"#DejaVuSans-32\" transform=\"translate(490.148482 80.632812) scale(0.49)\"/>\n",
       "      <use xlink:href=\"#DejaVuSans-2b\" transform=\"translate(536.875533 53.835938) scale(0.7)\"/>\n",
       "      <use xlink:href=\"#DejaVuSans-31\" transform=\"translate(609.165572 53.835938) scale(0.7)\"/>\n",
       "      <use xlink:href=\"#DejaVuSans-29\" transform=\"translate(653.701704 53.835938) scale(0.7)\"/>\n",
       "      <use xlink:href=\"#DejaVuSans-28\" transform=\"translate(275.644531 -49.809375) scale(0.7)\"/>\n",
       "      <use xlink:href=\"#DejaVuSans-Oblique-73\" transform=\"translate(302.954102 -49.809375) scale(0.7)\"/>\n",
       "      <use xlink:href=\"#DejaVuSans-32\" transform=\"translate(342.678755 -23.0125) scale(0.49)\"/>\n",
       "      <use xlink:href=\"#DejaVuSans-2b\" transform=\"translate(389.405806 -49.809375) scale(0.7)\"/>\n",
       "      <use xlink:href=\"#DejaVuSans-32\" transform=\"translate(461.695845 -49.809375) scale(0.7)\"/>\n",
       "      <use xlink:href=\"#DejaVuSans-29\" transform=\"translate(506.231978 -49.809375) scale(0.7)\"/>\n",
       "      <use xlink:href=\"#DejaVuSans-28\" transform=\"translate(533.541548 -49.809375) scale(0.7)\"/>\n",
       "      <use xlink:href=\"#DejaVuSans-Oblique-73\" transform=\"translate(560.851118 -49.809375) scale(0.7)\"/>\n",
       "      <use xlink:href=\"#DejaVuSans-32\" transform=\"translate(600.575772 -23.0125) scale(0.49)\"/>\n",
       "      <use xlink:href=\"#DejaVuSans-2b\" transform=\"translate(647.302823 -49.809375) scale(0.7)\"/>\n",
       "      <use xlink:href=\"#DejaVuSans-35\" transform=\"translate(719.592862 -49.809375) scale(0.7)\"/>\n",
       "      <use xlink:href=\"#DejaVuSans-29\" transform=\"translate(764.128995 -49.809375) scale(0.7)\"/>\n",
       "      <path d=\"M 275.644531 19.604688 \n",
       "L 275.644531 25.854688 \n",
       "L 791.438565 25.854688 \n",
       "L 791.438565 19.604688 \n",
       "L 275.644531 19.604688 \n",
       "z\n",
       "\"/>\n",
       "     </g>\n",
       "    </g>\n",
       "   </g>\n",
       "   <g id=\"patch_14\">\n",
       "    <path d=\"M 243.789 46.385 \n",
       "C 244.397641 46.385 244.981436 46.143184 245.41181 45.71281 \n",
       "C 245.842184 45.282436 246.084 44.698641 246.084 44.09 \n",
       "C 246.084 43.481359 245.842184 42.897564 245.41181 42.46719 \n",
       "C 244.981436 42.036816 244.397641 41.795 243.789 41.795 \n",
       "C 243.180359 41.795 242.596564 42.036816 242.16619 42.46719 \n",
       "C 241.735816 42.897564 241.494 43.481359 241.494 44.09 \n",
       "C 241.494 44.698641 241.735816 45.282436 242.16619 45.71281 \n",
       "C 242.596564 46.143184 243.180359 46.385 243.789 46.385 \n",
       "z\n",
       "\" clip-path=\"url(#pf332761e10)\" style=\"fill: #ffffff; stroke: #000000; stroke-width: 2; stroke-linejoin: miter\"/>\n",
       "   </g>\n",
       "   <g id=\"patch_15\">\n",
       "    <path d=\"M 243.789 168.785 \n",
       "C 244.397641 168.785 244.981436 168.543184 245.41181 168.11281 \n",
       "C 245.842184 167.682436 246.084 167.098641 246.084 166.49 \n",
       "C 246.084 165.881359 245.842184 165.297564 245.41181 164.86719 \n",
       "C 244.981436 164.436816 244.397641 164.195 243.789 164.195 \n",
       "C 243.180359 164.195 242.596564 164.436816 242.16619 164.86719 \n",
       "C 241.735816 165.297564 241.494 165.881359 241.494 166.49 \n",
       "C 241.494 167.098641 241.735816 167.682436 242.16619 168.11281 \n",
       "C 242.596564 168.543184 243.180359 168.785 243.789 168.785 \n",
       "z\n",
       "\" clip-path=\"url(#pf332761e10)\" style=\"fill: #ffffff; stroke: #000000; stroke-width: 2; stroke-linejoin: miter\"/>\n",
       "   </g>\n",
       "   <g id=\"patch_16\">\n",
       "    <path d=\"M 488.589 46.385 \n",
       "C 489.197641 46.385 489.781436 46.143184 490.21181 45.71281 \n",
       "C 490.642184 45.282436 490.884 44.698641 490.884 44.09 \n",
       "C 490.884 43.481359 490.642184 42.897564 490.21181 42.46719 \n",
       "C 489.781436 42.036816 489.197641 41.795 488.589 41.795 \n",
       "C 487.980359 41.795 487.396564 42.036816 486.96619 42.46719 \n",
       "C 486.535816 42.897564 486.294 43.481359 486.294 44.09 \n",
       "C 486.294 44.698641 486.535816 45.282436 486.96619 45.71281 \n",
       "C 487.396564 46.143184 487.980359 46.385 488.589 46.385 \n",
       "z\n",
       "\" clip-path=\"url(#pf332761e10)\" style=\"stroke: #000000; stroke-width: 2; stroke-linejoin: miter\"/>\n",
       "   </g>\n",
       "   <g id=\"patch_17\">\n",
       "    <path d=\"M 488.589 168.785 \n",
       "C 489.197641 168.785 489.781436 168.543184 490.21181 168.11281 \n",
       "C 490.642184 167.682436 490.884 167.098641 490.884 166.49 \n",
       "C 490.884 165.881359 490.642184 165.297564 490.21181 164.86719 \n",
       "C 489.781436 164.436816 489.197641 164.195 488.589 164.195 \n",
       "C 487.980359 164.195 487.396564 164.436816 486.96619 164.86719 \n",
       "C 486.535816 165.297564 486.294 165.881359 486.294 166.49 \n",
       "C 486.294 167.098641 486.535816 167.682436 486.96619 168.11281 \n",
       "C 487.396564 168.543184 487.980359 168.785 488.589 168.785 \n",
       "z\n",
       "\" clip-path=\"url(#pf332761e10)\" style=\"stroke: #000000; stroke-width: 2; stroke-linejoin: miter\"/>\n",
       "   </g>\n",
       "   <g id=\"patch_18\">\n",
       "    <path d=\"M 855.789 46.385 \n",
       "C 856.397641 46.385 856.981436 46.143184 857.41181 45.71281 \n",
       "C 857.842184 45.282436 858.084 44.698641 858.084 44.09 \n",
       "C 858.084 43.481359 857.842184 42.897564 857.41181 42.46719 \n",
       "C 856.981436 42.036816 856.397641 41.795 855.789 41.795 \n",
       "C 855.180359 41.795 854.596564 42.036816 854.16619 42.46719 \n",
       "C 853.735816 42.897564 853.494 43.481359 853.494 44.09 \n",
       "C 853.494 44.698641 853.735816 45.282436 854.16619 45.71281 \n",
       "C 854.596564 46.143184 855.180359 46.385 855.789 46.385 \n",
       "z\n",
       "\" clip-path=\"url(#pf332761e10)\" style=\"fill: #ffffff; stroke: #000000; stroke-width: 2; stroke-linejoin: miter\"/>\n",
       "   </g>\n",
       "   <g id=\"patch_19\">\n",
       "    <path d=\"M 855.789 168.785 \n",
       "C 856.397641 168.785 856.981436 168.543184 857.41181 168.11281 \n",
       "C 857.842184 167.682436 858.084 167.098641 858.084 166.49 \n",
       "C 858.084 165.881359 857.842184 165.297564 857.41181 164.86719 \n",
       "C 856.981436 164.436816 856.397641 164.195 855.789 164.195 \n",
       "C 855.180359 164.195 854.596564 164.436816 854.16619 164.86719 \n",
       "C 853.735816 165.297564 853.494 165.881359 853.494 166.49 \n",
       "C 853.494 167.098641 853.735816 167.682436 854.16619 168.11281 \n",
       "C 854.596564 168.543184 855.180359 168.785 855.789 168.785 \n",
       "z\n",
       "\" clip-path=\"url(#pf332761e10)\" style=\"fill: #ffffff; stroke: #000000; stroke-width: 2; stroke-linejoin: miter\"/>\n",
       "   </g>\n",
       "  </g>\n",
       " </g>\n",
       " <defs>\n",
       "  <clipPath id=\"pf332761e10\">\n",
       "   <rect x=\"7.2\" y=\"7.2\" width=\"1168.4253\" height=\"223.55\"/>\n",
       "  </clipPath>\n",
       " </defs>\n",
       "</svg>\n"
      ],
      "text/plain": [
       "<schemdraw.schemdraw.Drawing at 0x263b83f85d0>"
      ]
     },
     "metadata": {},
     "output_type": "display_data"
    }
   ],
   "source": [
    "#---------------------------------------------------------------------------------------------------------------------#\n",
    "#-- Síntesis circuital con valores\n",
    "#---------------------------------------------------------------------------------------------------------------------#\n",
    "\n",
    "d = dibujar_puerto_entrada( '', voltage_lbl = ('+', '$V1$', '-'), current_lbl = '$I1$' )\n",
    "d, yy_lbl = dibujar_funcion_exc_abajo( d, 'Y_{11}', Y11, hacia_salida = True, k_gap_width = 0.5 )\n",
    "d = dibujar_elemento_serie( d, Capacitor, C1 )\n",
    "d = dibujar_tanque_derivacion( d, L1, C2 )\n",
    "d = dibujar_elemento_serie( d, Inductor, L2 )\n",
    "d = dibujar_espacio_derivacion( d )\n",
    "d = dibujar_elemento_serie( d, Capacitor, C3 )\n",
    "d = dibujar_puerto_salida( d, voltage_lbl = ('+', '$V2$', '-'), current_lbl = '$I2$' )\n",
    "d, yy_lbl = dibujar_funcion_exc_abajo( d, 'Y_{21}', Y21, hacia_entrada = True, k_gap_width = 0.5 )\n",
    "d = dibujar_cierre( d )\n",
    "display( d )\n",
    "\n",
    "#---------------------------------------------------------------------------------------------------------------------#"
   ]
  },
  {
   "cell_type": "markdown",
   "id": "12ca4af2-bd06-40c9-9a03-7d389c30ef70",
   "metadata": {},
   "source": [
    "***\n",
    "##\n",
    "\n",
    "<a id=\"ejercicio_2\"></a>\n",
    "<img src=\"TS12_Ejercicio_2.png\" style=\"margin-left:auto; margin-right:auto\"/>\n",
    "\n",
    "###### [Volver al índice](#indice)"
   ]
  },
  {
   "cell_type": "markdown",
   "id": "ceefa023-7b9e-4f2a-95a5-ed72114ef001",
   "metadata": {},
   "source": [
    "###\n",
    "##### Las singularidades de la $T(s)$ están sobre el eje $\\sigma$ por lo tanto se tratará de funciones de excitación disipativas: elegimos realizar la síntesis con una implementación basada en $RC$ por practicidad además de no haber restricciones impuestas al respecto.\n",
    "###\n",
    "##### Podemos intuir además que la función $T(s)$ tiene una respuesta del tipo pasa bajos.\n",
    "###"
   ]
  },
  {
   "cell_type": "markdown",
   "id": "3efdc529-22c5-4260-b0d2-ce5cad71aefc",
   "metadata": {},
   "source": [
    "***\n",
    "##\n",
    "\n",
    "<a id=\"ejercicio_2a\"></a>\n",
    "<img src=\"TS12_Ejercicio_2a.png\" style=\"margin-left:auto; margin-right:auto\"/>\n",
    "\n",
    "###### [Volver al índice](#indice)"
   ]
  },
  {
   "cell_type": "markdown",
   "id": "b02c2bdf-67f2-42a9-9830-3b75f73f93d2",
   "metadata": {},
   "source": [
    "###\n",
    "#### <u>Parámetros $Z$:</u>\n",
    "###\n",
    "\n",
    "\\begin{equation*}\n",
    "\\left\\{\n",
    "\\begin{aligned}\n",
    "   V_1 = Z_{11} \\cdot I_1 + Z_{12} \\cdot I_2 \\\\\n",
    "   V_2 = Z_{21} \\cdot I_1 + Z_{22} \\cdot I_2 \\\\\n",
    "\\end{aligned}\n",
    "\\right.\n",
    "\\end{equation*}\n",
    "\n",
    "###\n",
    "\n",
    "\\begin{equation*}\n",
    "T(s) = \\frac{ V_2 }{ V_1 } \\Biggr|_{I_2 = 0} = \\frac{ Z_{21} }{ Z_{11} }\n",
    "\\end{equation*}\n",
    "\n",
    "###\n",
    "##### La función transferencia $T(s)$ podemos expresar como cociente de polinomios:\n",
    "###\n",
    "\n",
    "\\begin{equation*}\n",
    "T(s) = \\frac{ V_2 }{ V_1 } \\Biggr|_{I_2 = 0} = \\frac{ Z_{21} }{ Z_{11} } = \\frac{ P(s) }{ Q(s) }\n",
    "\\end{equation*}\n",
    "\n",
    "###\n",
    "##### Elegimos polinomio auxiliar $D(s)$ de forma tal de no afectar la $T(s)$ y que nos permita que la función excitación $Z_{11}$ dada por $\\frac{ Q(s) }{ D(s) }$ sea una función real positiva, logrando además que la función de parámetros transmisión $Z_{21}$, dada por $\\frac{ P(s) }{ D(s) }$, sea estable:\n",
    "###\n",
    "\n",
    "\\begin{equation*}\n",
    "T(s) = \\frac{ V_2 }{ V_1 } \\Biggr|_{I_2 = 0} = \\frac{ Z_{21} }{ Z_{11} } = \\frac{ P(s) }{ Q(s) } = \\frac{ \\frac{ P(s) }{ D(s) } }{ \\frac{ Q(s) }{ D(s) } }\n",
    "\\end{equation*}\n",
    "\n",
    "###\n",
    "##### La función $Z_{11}$ a sintetizar será de la forma $Z_{RC}$ y por lo tanto deberemos elegir el polinomio $D(s)$ de manera tal de cumplir con las condiciones necesarias y suficientes para una función de estas características, a saber:\n",
    "###\n",
    "##### 1. El valor de la función en continua deberá ser mayor al de la función cuando tienda a infinito: para que esto se cumpla, $Z_{RC}(0)$ deberá presentar o bien un polo o bien una sumatoria de resistencias, a diferencia de $Z_{RC}(\\infty)$ que presentará el valor del residuo $k_{\\infty}$ o bien un cero.\n",
    "###\n",
    "\n",
    "\\begin{equation*}\n",
    "Z_{RC}(0) > Z_{RC}(\\infty)\n",
    "\\end{equation*}\n",
    "\n",
    "###\n",
    "##### 2. Alternancia de singularidades:\n",
    "###\n",
    "\n",
    "\\begin{equation*}\n",
    "\\frac{ \\partial F(\\sigma) }{ \\partial \\sigma } < 0\n",
    "\\end{equation*}\n",
    "\n",
    "###\n",
    "##### Como se puede observar, los ceros de $Z_{11}$ vienen dados por los polos de $T(s)$, es decir que presentar ceros en $\\sigma = -2$ y $\\sigma = -4$. \n",
    "###\n",
    "##### Para lograr alternancia de singularidades, en primera aproximación debemos al menos incorporar un polo entre los ceros mencionados, por caso, $\\sigma = -3$.\n",
    "###\n",
    "##### Obtenemos entonces el siguiente polinomio auxiliar $D(s)$:\n",
    "###\n",
    "\n",
    "\\begin{equation*}\n",
    "D(s) = ( s + 3 )\n",
    "\\end{equation*}\n",
    "\n",
    "###\n",
    "##### Y por lo tanto, $Z_{11}$ vendrá dado por:\n",
    "###\n",
    "\n",
    "\\begin{equation*}\n",
    "Z_{11} = \\frac{ Q(s) }{ D(s) } = \\frac{ ( s + 2 ) \\cdot ( s + 4 ) }{ ( s + 3 ) }\n",
    "\\end{equation*}\n",
    "\n",
    "###\n",
    "##### Si bien este polinomio nos permite cumplir con la alternancia de singularidades, no así lo hacen sus valores en los extremos de banda: notar que $Z_{RC}(0)$ toma el valor $\\frac{8}{3}$ mientras que $Z_{RC}(\\infty)$ tiende a infinito. \n",
    "###\n",
    "##### Por lo tanto, y para seguir cumpliendo con la alternancia de singularidades, debemos incorporar un polo en algún lugar de eje $\\sigma$ entre $\\sigma = 0$ y $\\sigma = 2$, incluso entre $\\sigma = 0$ y $\\sigma = 1$, de forma tal de cumplir con el cero de $\\sigma = 1$ de $T(s)$.\n",
    "###\n",
    "##### Por caso, elegiremos colocarlo en el $\\sigma = 0$ aunque bien podría haber sido en cualquier lugar dentro del intervalo mencionado:\n",
    "###\n",
    "\n",
    "\\begin{equation*}\n",
    "D(s) = s \\cdot ( s + 3 )\n",
    "\\end{equation*}\n",
    "\n",
    "###\n",
    "##### De esta forma, se cumple las condiciones necesarias y suficientes para una función $Z_{RC}$.\n",
    "###\n",
    "##### Queda definido entonces ambos parámetros $Z_{11}$ y $Z_{21}$ y por tanto $T(s)$:\n",
    "###\n",
    "\n",
    "\\begin{equation*}\n",
    "Z_{11} = \\frac{ Q(s) }{ D(s) } = \\frac{ ( s + 2 ) \\cdot ( s + 4 ) }{ s \\cdot ( s + 3 ) }\n",
    "\\end{equation*}\n",
    "\n",
    "###\n",
    "\n",
    "\\begin{equation*}\n",
    "Z_{21} = \\frac{ P(s) }{ D(s) } = \\frac{ k \\cdot ( s + 1 ) }{ s \\cdot ( s + 3 ) }\n",
    "\\end{equation*}\n",
    "\n",
    "###\n",
    "\n",
    "\\begin{equation*}\n",
    "T(s) = \\frac{ V_2 }{ V_1 } \\Biggr|_{I_2 = 0} = \\frac{ Z_{21} }{ Z_{11} } = \\frac{ P(s) }{ Q(s) } = \\frac{ \\frac{ P(s) }{ D(s) } }{ \\frac{ Q(s) }{ D(s) } } = \\frac { \\frac{ k \\cdot ( s + 1 ) }{ s \\cdot ( s + 3 ) } }{ \\frac{ ( s + 2 ) \\cdot ( s + 4 ) }{ s \\cdot ( s + 3 ) } }\n",
    "\\end{equation*}\n",
    "\n",
    "###\n",
    "##### Podemos anticipar que:\n",
    "###\n",
    "###### 1. Debido a que $V_1$ es un generador ideal cuya tensión está impuesta, el primer elemento de la síntesis deberá estar dispuesto en serie para que forme parte de la función transferencia $T(s)$, caso contrario, es decir, si estuviese en derivación, sería inocuo puesto que su tensión sería justamente $V_1$.\n",
    "###\n",
    "###### 2. Debido a la condición de medición, condición de carga, la síntesis tiene que finalizar con un elemento en derivación, de lo contrario, si estuviese dispuesto en serie, ese elemento, o elementos, no formaría parte de la función $T(s)$ puesto que no circularía corriente por él dado que $I_2 = 0$. \n",
    "###\n",
    "##### Podemos advertir que la síntesis tendrá la forma de una red escalera: elementos en serie seguidos de elementos en derivación.\n",
    "###\n",
    "##### Comenzamos entonces con la síntesis de $Z_{11}$.\n",
    "###\n",
    "##### <u>Diagrama de singularidades de $Z_{11}$</u>\n",
    "###\n",
    "\n",
    "<img src=\"TS12_Ejercicio_2_PZmap_Paso_0_Z11.png\" style=\"margin-left:auto; margin-right:auto\"/>\n",
    "\n",
    "##### <u>Paso 1:</u> Remoción total de valor finito en $\\sigma$ tendiendo a infinito: los ceros se desplazan hacia la zona de remoción y los polos permanecen inmutables. Removemos una resistencia en serie $R_1$ de valor unitario, que será $Z_1$, y obtenemos $Z_2(s)$.\n",
    "###\n",
    "\n",
    "<img src=\"TS12_Ejercicio_2_PZmap_Paso_1_Z11.png\" style=\"margin-left:auto; margin-right:auto\"/>\n",
    "\n",
    "### \n",
    "##### <u>Paso 2:</u> Remoción en continua para sintonizar el cero a $\\sigma = 1$ para cumplir con el cero de $T(s)$. Removemos un capacitor $C_1$ en serie, que será $Z_3(s)$, y obtenemos $Z_4(s)$.\n",
    "###\n",
    "\n",
    "<img src=\"TS12_Ejercicio_2_PZmap_Paso_2_Z11.png\" style=\"margin-left:auto; margin-right:auto\"/>\n",
    "\n",
    "###\n",
    "##### <u>Paso 3:</u> Inversión de $Z_4(s)$: los ceros se reemplazan por polos y viceversa. Obtenemos $Y_4(s)$.\n",
    "###\n",
    "\n",
    "<img src=\"TS12_Ejercicio_2_PZmap_Paso_3_Z11.png\" style=\"margin-left:auto; margin-right:auto\"/>\n",
    "\n",
    "###\n",
    "##### <u>Paso 4:</u> Remoción finita en $\\sigma = 1$: el cero en $\\sigma = 3$ se cancela con el polo en $\\omega = 1$. Removemos un tanque en derivación compuesto por $R_2$ y $C_2$, que será $Y_5(s)$, y obtenemos $Y_6(s)$.\n",
    "###\n",
    "\n",
    "<img src=\"TS12_Ejercicio_2_PZmap_Paso_4_Z11.png\" style=\"margin-left:auto; margin-right:auto\"/>\n",
    "\n",
    "###\n",
    "##### <u>Paso 5:</u> Remoción en infinito. Removemos un capacitor $C_3$ en derivación, que será $Y_7(s)$, y obtenemos $Y_8(s)$ dando por finalizada la remoción.\n",
    "###\n",
    "\n",
    "<img src=\"TS12_Ejercicio_2_PZmap_Paso_5_Z11.png\" style=\"margin-left:auto; margin-right:auto\"/>\n",
    "\n",
    "###\n",
    "##### Podemos ver que $Y_8(s) = 0$ nos indica un camino de baja admitancia, o bien una alta impedancia, es decir circuito abierto, en correspondencia con la condición de medición $I_2 = 0$.\n",
    "###\n",
    "\n",
    "***"
   ]
  },
  {
   "cell_type": "markdown",
   "id": "7cb6e168-5a2f-4e6e-8623-d1f86544349c",
   "metadata": {},
   "source": [
    "###\n",
    "#### <u>Parámetros $Y$:</u>\n",
    "###\n",
    "\n",
    "\\begin{equation*}\n",
    "\\left\\{\n",
    "\\begin{aligned}\n",
    "   I_1 = Y_{11} \\cdot V_1 + Y_{12} \\cdot V_2 \\\\\n",
    "   I_2 = Y_{21} \\cdot V_1 + Y_{22} \\cdot V_2 \\\\\n",
    "\\end{aligned}\n",
    "\\right.\n",
    "\\end{equation*}\n",
    "\n",
    "###\n",
    "\n",
    "\\begin{equation*}\n",
    "T(s) = \\frac{ V_2 }{ V_1 } \\Biggr|_{I_2 = 0} = -\\frac{ Y_{21} }{ Y_{22} }\n",
    "\\end{equation*}\n",
    "\n",
    "###\n",
    "##### La función transferencia $T(s)$ podemos expresar como cociente de polinomios:\n",
    "###\n",
    "\n",
    "\\begin{equation*}\n",
    "T(s) = \\frac{ V_2 }{ V_1 } \\Biggr|_{I_2 = 0} = -\\frac{ Y_{21} }{ Y_{22} } = \\frac{ P(s) }{ Q(s) }\n",
    "\\end{equation*}\n",
    "\n",
    "###\n",
    "##### Elegimos polinomio auxiliar $D(s)$ de forma tal de no afectar la $T(s)$ y que nos permita que la función excitación $Y_{22}$ dada por $\\frac{ Q(s) }{ D(s) }$ sea una función real positiva, logrando además que la función de parámetros transmisión $Y_{21}$, dada por $\\frac{ P(s) }{ D(s) }$, sea estable:\n",
    "###\n",
    "\n",
    "\\begin{equation*}\n",
    "T(s) = \\frac{ V_2 }{ V_1 } \\Biggr|_{I_2 = 0} = -\\frac{ Y_{21} }{ Y_{22} } = \\frac{ P(s) }{ Q(s) } = \\frac{ \\frac{ P(s) }{ D(s) } }{ \\frac{ Q(s) }{ D(s) } }\n",
    "\\end{equation*}\n",
    "\n",
    "###\n",
    "##### La función $Y_{22}$ a sintetizar será de la forma $Y_{RC}$ y por lo tanto deberemos elegir el polinomio $D(s)$ de manera tal de cumplir con las condiciones necesarias y suficientes para una función de estas características, a saber:\n",
    "###\n",
    "##### 1. El valor de la función en continua deberá ser menor al de la función cuando tienda a infinito: para que esto se cumpla, $Y_{RC}(0)$ deberá presentar un cero o bien el valor del residuo $k_0$, a diferencia de $Y_{RC}(\\infty)$ que presentará una sumatoria de resistencias o bien un polo.\n",
    "###\n",
    "\n",
    "\\begin{equation*}\n",
    "Y_{RC}(0) < Y_{RC}(\\infty)\n",
    "\\end{equation*}\n",
    "\n",
    "###\n",
    "##### 2. Alternancia de singularidades:\n",
    "###\n",
    "\n",
    "\\begin{equation*}\n",
    "\\frac{ \\partial F(\\sigma) }{ \\partial \\sigma } > 0\n",
    "\\end{equation*}\n",
    "\n",
    "###\n",
    "##### Como se puede observar, los ceros de $Y_{22}$ vienen dados por los polos de $T(s)$, es decir que presentar ceros en $\\sigma = -2$ y $\\sigma = -4$. \n",
    "###\n",
    "##### Para lograr alternancia de singularidades, en primera aproximación debemos al menos incorporar un polo entre los ceros mencionados, por caso, $\\sigma = -3$.\n",
    "###\n",
    "##### Obtenemos entonces el siguiente polinomio auxiliar $D(s)$:\n",
    "###\n",
    "\n",
    "\\begin{equation*}\n",
    "D(s) = ( s + 3 )\n",
    "\\end{equation*}\n",
    "\n",
    "###\n",
    "##### Y por lo tanto, $Y_{22}$ vendrá dado por:\n",
    "###\n",
    "\n",
    "\\begin{equation*}\n",
    "Y_{22} = \\frac{ Q(s) }{ D(s) } = \\frac{ ( s + 2 ) \\cdot ( s + 4 ) }{ ( s + 3 ) }\n",
    "\\end{equation*}\n",
    "\n",
    "###\n",
    "##### De esta forma, se cumple las condiciones necesarias y suficientes para una función $Y_{RC}$.\n",
    "###\n",
    "##### Queda definido entonces ambos parámetros $Y_{21}$ y $Y_{22}$ y por tanto $T(s)$:\n",
    "###\n",
    "\n",
    "\\begin{equation*}\n",
    "Y_{21} = \\frac{ P(s) }{ D(s) } = \\frac{ k \\cdot ( s + 1 ) }{ s + 3 }\n",
    "\\end{equation*}\n",
    "\n",
    "###\n",
    "\n",
    "\\begin{equation*}\n",
    "Y_{22} = \\frac{ Q(s) }{ D(s) } = \\frac{ ( s + 2 ) \\cdot ( s + 4 ) }{ s + 3 }\n",
    "\\end{equation*}\n",
    "\n",
    "###\n",
    "\n",
    "\\begin{equation*}\n",
    "T(s) = \\frac{ V_2 }{ V_1 } \\Biggr|_{I_2 = 0} = -\\frac{ Y_{21} }{ Y_{22} } = \\frac{ P(s) }{ Q(s) } = \\frac{ \\frac{ P(s) }{ D(s) } }{ \\frac{ Q(s) }{ D(s) } } = \\frac { \\frac{ k \\cdot ( s + 1 ) }{ s + 3 } }{ \\frac{ ( s + 2 ) \\cdot ( s + 4 ) }{ s + 3 } }\n",
    "\\end{equation*}\n",
    "\n",
    "###\n",
    "##### Podemos anticipar que: \n",
    "###\n",
    "###### 1. Debido a la condición de medición, la síntesis tiene que comenzar con un elemento en derivación, de lo contrario, si estuviese dispuesto en serie, ese elemento, o elementos, no formaría parte de la función $T(s)$ puesto que no circularía corriente por él dado que $I_2 = 0$. \n",
    "###\n",
    "###### 2. Debido además a la condición de medición del parámetro a sintetizar $Y_{22}$, la síntesis deberá terminar en cortocircuito, $V_1 = 0$ por lo que el último elemento de la síntesis deberá estar dispuesto en serie para que forme parte de la función transferencia $T(s)$.\n",
    "###\n",
    "##### Podemos advertir que la síntesis tendrá la forma de una red escalera: elementos en derivación seguidos de elementos en serie.\n",
    "###\n",
    "##### Comenzamos entonces con la síntesis de $Y_{22}$.\n",
    "###\n",
    "##### <u>Diagrama de singularidades de $Y_{22}$</u>\n",
    "###\n",
    "\n",
    "<img src=\"TS12_Ejercicio_2_PZmap_Paso_0_Y22.png\" style=\"margin-left:auto; margin-right:auto\"/>\n",
    "\n",
    "###\n",
    "##### <u>Paso 1:</u> Remoción de valor finito en continua para sintonizar el cero a $\\sigma = 1$ para cumplir con el cero de $T(s)$: los ceros se desplazan hacia la zona de remoción y los polos permancen inmutables. Removemos una resistencia $R_1$ en derivación, que será $Y_1(s)$, y obtenemos $Y_2(s)$.\n",
    "###\n",
    "\n",
    "<img src=\"TS12_Ejercicio_2_PZmap_Paso_1_Y22.png\" style=\"margin-left:auto; margin-right:auto\"/>\n",
    "\n",
    "### \n",
    "##### <u>Paso 2:</u> Inversión de $Y_2(s)$: los ceros se reemplazan por polos y viceversa. Obtenemos $Z_2(s)$.\n",
    "###\n",
    "\n",
    "<img src=\"TS12_Ejercicio_2_PZmap_Paso_2_Y22.png\" style=\"margin-left:auto; margin-right:auto\"/>\n",
    "\n",
    "###\n",
    "##### <u>Paso 3:</u> Remoción finita en $\\sigma = \\frac{7}{2}$: el cero en $\\sigma = 3$ se cancela con el polo en $\\omega = \\frac{7}{2}$. Removemos un tanque en serie compuesto por $R_2$ y $C_1$, que será $Z_3(s)$, y obtenemos $Z_4(s)$.\n",
    "###\n",
    "\n",
    "<img src=\"TS12_Ejercicio_2_PZmap_Paso_3_Y22.png\" style=\"margin-left:auto; margin-right:auto\"/>\n",
    "\n",
    "###\n",
    "##### <u>Paso 4:</u> Inversión de $Z_4(s)$: los ceros se reemplazan por polos y viceversa. Obtenemos $Y_4(s)$.\n",
    "###\n",
    "\n",
    "<img src=\"TS12_Ejercicio_2_PZmap_Paso_4_Y22.png\" style=\"margin-left:auto; margin-right:auto\"/>\n",
    "\n",
    "###\n",
    "##### <u>Paso 5:</u> Remoción de valor finito en continua: los ceros se desplazan hacia la zona de remoción y los polos permanecen inmutables. Removemos una resistencia $R_3$ en derivación, que será $Y_5(s)$, y obtenemos $Y_6(s)$.\n",
    "###\n",
    "\n",
    "<img src=\"TS12_Ejercicio_2_PZmap_Paso_5_Y22.png\" style=\"margin-left:auto; margin-right:auto\"/>\n",
    "\n",
    "###\n",
    "##### <u>Paso 6:</u> Inversión de $Y_6(s)$: los ceros se reemplazan por polos y viceversa. Obtenemos $Z_6(s)$.\n",
    "###\n",
    "\n",
    "<img src=\"TS12_Ejercicio_2_PZmap_Paso_6_Y22.png\" style=\"margin-left:auto; margin-right:auto\"/>\n",
    "\n",
    "###\n",
    "##### <u>Paso 7:</u> Remoción en continua. Removemos un capacitor $C_2$ en serie, que será $Z_7(s)$, y obtenemos $Z_8(s)$ dando por finalizada la remoción.\n",
    "###\n",
    "\n",
    "<img src=\"TS12_Ejercicio_2_PZmap_Paso_7_Y22.png\" style=\"margin-left:auto; margin-right:auto\"/>\n",
    "\n",
    "###\n",
    "##### Podemos ver que $Z_8(s) = 0$ nos indica un camino de baja impedancia, es decir cortocircuito, en correspondencia con la condición de medición del parámetro $Y_{22}$ que es justamente $V_1 = 0$.\n",
    "###\n",
    "\n",
    "***"
   ]
  },
  {
   "cell_type": "markdown",
   "id": "7c5c00e9-78ae-424c-b231-9fd99488c25a",
   "metadata": {},
   "source": [
    "##\n",
    "\n",
    "<a id=\"ejercicio_2b\"></a>\n",
    "<img src=\"TS12_Ejercicio_2b.png\" style=\"margin-left:auto; margin-right:auto\"/>\n",
    "\n",
    "###### [Volver al índice](#indice)"
   ]
  },
  {
   "cell_type": "markdown",
   "id": "25fcae5c-1a21-4805-acbc-13b461185dc3",
   "metadata": {},
   "source": [
    "***\n",
    "###\n",
    "#### <u>Parámetros $Z$:</u>\n",
    "###\n",
    "##### <u>Paso 1:</u> Remoción total de valor finito en $\\sigma$ tendiendo a infinito: los ceros se desplazan hacia la zona de remoción y los polos permancen inmutables. Removemos una resistencia en serie $R_1$ de valor unitario, que será $Z_1$, y obtenemos $Z_2(s)$.\n",
    "###\n",
    "\n",
    "<a id=\"Z_1(s)_analítica_ejercicio_2\"></a>\n",
    "\n",
    "\\begin{equation*}\n",
    "Z_1(s) = R_1 = 1\n",
    "\\end{equation*}\n",
    "\n",
    "### \n",
    "###### [Ver $Z_1(s)$ simbólica](#Z_1(s)_simbólica_ejercicio_2)\n",
    "###\n",
    "\n",
    "\\begin{equation*}\n",
    "Z_2(s) = Z_{11} - Z_1(s)\n",
    "\\end{equation*}\n",
    "\n",
    "###\n",
    "\n",
    "\\begin{equation*}\n",
    "Z_2(s) = \\frac{ ( s + 2 ) \\cdot ( s + 4 ) }{ s \\cdot ( s + 3 ) } - 1\n",
    "\\end{equation*}\n",
    "\n",
    "###\n",
    "\n",
    "\\begin{equation*}\n",
    "Z_2(s) = \\frac{ ( s + 2 ) \\cdot ( s + 4 ) - s \\cdot ( s + 3 ) }{ s \\cdot ( s + 3 ) }\n",
    "\\end{equation*}\n",
    "\n",
    "###\n",
    "\n",
    "\\begin{equation*}\n",
    "Z_2(s) = \\frac{ s^2 + 4s + 2s + 8 - s^2 - 3s }{ s \\cdot ( s + 3 ) }\n",
    "\\end{equation*}\n",
    "\n",
    "###\n",
    "\n",
    "<a id=\"Z_2(s)_analítica_ejercicio_2\"></a>\n",
    "\n",
    "\\begin{equation*}\n",
    "Z_2(s) = \\frac{ 3s + 8 }{ s \\cdot ( s + 3 ) } = 3 \\cdot \\frac{ s + \\frac{ 8 }{ 3 } }{ s \\cdot ( s + 3 ) }\n",
    "\\end{equation*}\n",
    "\n",
    "### \n",
    "###### [Ver $Z_2(s)$ simbólica](#Z_2(s)_simbólica_ejercicio_2)\n",
    "###\n",
    "\n",
    "<img src=\"TS12_Ejercicio_2_PZmap_Paso_1_Z11_b.png\" style=\"margin-left:auto; margin-right:auto\"/>\n",
    "\n",
    "###\n",
    "\n",
    "<img src=\"TS12_Ejercicio_2_PZmap_Paso_1_Z11_Circuito.png\" style=\"margin-left:auto; margin-right:auto\"/>\n",
    "\n",
    "### \n",
    "##### <u>Paso 2:</u> Remoción en continua para sintonizar el cero a $\\sigma = 1$ para cumplir con el cero de $T(s)$. Removemos un capacitor $C_1$ en serie, que será $Z_3(s)$, y obtenemos $Z_4(s)$.\n",
    "###\n",
    "##### Previamente verificamos de qué tipo de remoción se trata (total o parcial).\n",
    "###\n",
    "##### Supongamos en primer lugar el caso de una remoción total en continua:\n",
    "###\n",
    "\n",
    "\\begin{equation*}\n",
    "k_0 = \\lim_{ s \\rightarrow 0 } s \\cdot Z_2(s) = \\lim_{ s \\rightarrow 0 } s \\cdot \\frac{ 3s + 8 }{ s \\cdot ( s + 3 ) } =\n",
    "\\lim_{ s \\rightarrow 0 } \\frac{ 3s + 8 }{ s + 3 } = \\frac{ 3 \\cdot 0 + 8 }{ 0 + 3 } = \\frac{ 8 }{ 3 }\n",
    "\\end{equation*}\n",
    "\n",
    "###\n",
    "##### Producto de la <u>remoción total</u>, obtenemos la siguiente impedancia:\n",
    "###\n",
    "\n",
    "\\begin{equation*}\n",
    "Z_4(s) = Z_2(s) - Z_3(s)\n",
    "\\end{equation*}\n",
    "\n",
    "###\n",
    "\n",
    "\\begin{equation*}\n",
    "Z_4(s) = Z_2(s) - \\frac{ k_0 }{ s }\n",
    "\\end{equation*}\n",
    "\n",
    "###\n",
    "\n",
    "\n",
    "\\begin{equation*}\n",
    "Z_4(s) = \\frac{ 3s + 8 }{ s \\cdot ( s + 3 ) } - \\frac{ \\frac{ 8 }{ 3 } }{ s }\n",
    "\\end{equation*}\n",
    "\n",
    "###\n",
    "\n",
    "\\begin{equation*}\n",
    "Z_4(s) = \\frac{ 3 \\cdot ( 3s + 8 ) - 8 \\cdot ( s + 3 ) }{ 3 \\cdot s \\cdot ( s + 3 ) }\n",
    "\\end{equation*}\n",
    "\n",
    "###\n",
    "\n",
    "\\begin{equation*}\n",
    "Z_4(s) = \\frac{ 9s + 24 - 8s - 24 }{ 3 \\cdot s \\cdot ( s + 3 ) }\n",
    "\\end{equation*}\n",
    "\n",
    "###\n",
    "\n",
    "\\begin{equation*}\n",
    "Z_4(s) = \\frac{ s }{ 3 \\cdot s \\cdot ( s + 3 ) } = \\frac{ 1 }{ 3 \\cdot ( s + 3 ) }\n",
    "\\end{equation*}\n",
    "\n",
    "###\n",
    "##### Como se puede observar, realizando una remoción total del residuo en continua, no obtenemos el resultado que precisamos: el cero en $\\sigma = \\frac{ 8 }{ 3 }$ se desplaza hacia la zona de remoción, superando la cota de $\\sigma = 1$, que es en definitiva donde debemos sintonizar el cero.\n",
    "###\n",
    "##### Por lo tanto, deberemos realizar una remoción parcial del residuo:\n",
    "###\n",
    "\n",
    "\\begin{equation*}\n",
    "k_0' = \n",
    "\\lim_{ s \\rightarrow (-1) } s \\cdot Z_2(s) = \\lim_{ s \\rightarrow (-1) } s \\cdot \\frac{ 3s + 8 }{ s \\cdot ( s + 3 ) } =\n",
    "\\lim_{ s \\rightarrow (-1) } \\frac{ 3s + 8 }{ s + 3 } = \\frac{ 3(-1) + 8 }{ -1 + 3 } = \\frac{ 5 }{ 2 }\n",
    "\\end{equation*}\n",
    "\n",
    "###\n",
    "##### Producto de la <u>remoción parcial</u>, obtenemos la siguiente impedancia:\n",
    "###\n",
    "\n",
    "\\begin{equation*}\n",
    "Z_4(s) = Z_2(s) - Z_3(s)\n",
    "\\end{equation*}\n",
    "\n",
    "###\n",
    "\n",
    "\\begin{equation*}\n",
    "Z_4(s) = Z_2(s) - \\frac{ k_0' }{ s }\n",
    "\\end{equation*}\n",
    "\n",
    "###\n",
    "\n",
    "\\begin{equation*}\n",
    "Z_4(s) = \\frac{ 3s + 8 }{ s \\cdot ( s + 3 ) } - \\frac{ \\frac{ 5 }{ 2 } }{ s }\n",
    "\\end{equation*}\n",
    "\n",
    "###\n",
    "\n",
    "\\begin{equation*}\n",
    "Z_4(s) = \\frac{ 3s + 8 }{ s \\cdot ( s + 3 ) } - \\frac{ 5 }{ 2 \\cdot s }\n",
    "\\end{equation*}\n",
    "\n",
    "###\n",
    "\n",
    "\\begin{equation*}\n",
    "Z_4(s) = \\frac{ 2 \\cdot ( 3s + 8 ) - 5 \\cdot ( s + 3 ) }{ 2 \\cdot s \\cdot ( s + 3 ) }\n",
    "\\end{equation*}\n",
    "\n",
    "###\n",
    "\n",
    "\\begin{equation*}\n",
    "Z_4(s) = \\frac{ 6s + 16 - 5s -15 ) }{ 2 \\cdot s \\cdot ( s + 3 ) }\n",
    "\\end{equation*}\n",
    "\n",
    "###\n",
    "\n",
    "<a id=\"Z_4(s)_analítica_ejercicio_2\"></a>\n",
    "\n",
    "\\begin{equation*}\n",
    "Z_4(s) = \\frac{ s + 1 }{ 2 \\cdot s \\cdot ( s + 3 ) }\n",
    "\\end{equation*}\n",
    "\n",
    "###\n",
    "###### [Ver $Z_4(s)$ simbólica](#Z_4(s)_simbólica_ejercicio_2)\n",
    "###\n",
    "##### Gráficamente, la disposición de las singularidades al momento queda de la siguiente manera:\n",
    "###\n",
    "\n",
    "<img src=\"TS12_Ejercicio_2_PZmap_Paso_2_Z11_b.png\" style=\"margin-left:auto; margin-right:auto\"/>\n",
    "\n",
    "###\n",
    "##### Como se puede observar, efectivamente obtenemos el cero sintonizado en $\\sigma = 1$.\n",
    "###\n",
    "##### Circuitalmente, remover un residuo en continua de una impedancia, parcialmente en este caso, implica un capacitor en serie cuyo valor queda determinado justamente por el valor del residuo:\n",
    "###\n",
    "\n",
    "<a id=\"Z_3(s)_analítica_ejercicio_2\"></a>\n",
    "\n",
    "\\begin{equation*}\n",
    "Z_3(s) = \\frac{ k_0' }{ s } = \\frac{ \\frac{ 5 }{ 2 } }{ s } = \\frac{ 5 }{ 2 \\cdot s }\n",
    "\\end{equation*}\n",
    "\n",
    "###\n",
    "###### [Ver $Z_3(s)$ simbólica](#Z_1(s)_simbólica_ejercicio_2)\n",
    "###\n",
    "\n",
    "<a id=\"C_1_analítica_ejercicio_2\"></a>\n",
    "\n",
    "\\begin{equation*}\n",
    "C_1 = \\frac{ 1 }{ k_0' } = \\frac{ 1 }{ \\frac{ 5 }{ 2 } } = \\frac{ 2 }{ 5 }\n",
    "\\end{equation*}\n",
    "\n",
    "###\n",
    "###### [Ver $C_1$ simbólica](#C_1_simbólica_ejercicio_2)\n",
    "###\n",
    "\n",
    "<img src=\"TS12_Ejercicio_2_PZmap_Paso_2_Z11_Circuito.png\" style=\"margin-left:auto; margin-right:auto\"/>\n",
    "\n",
    "###\n",
    "##### <u>Paso 3:</u> Inversión de $Z_4(s)$: los ceros se reemplazan por polos y viceversa. Obtenemos $Y_4(s)$.\n",
    "###\n",
    "\n",
    "<a id=\"Y_4(s)_analítica_ejercicio_2\"></a>\n",
    "\n",
    "\\begin{equation*}\n",
    "Y_4(s) = \\frac{ 1 }{ Z_4(s) } = \\frac{ 1 }{ \\frac{ s + 1 ) }{ 2 \\cdot s \\cdot ( s + 3 ) } } = \\frac{ 2 \\cdot s \\cdot ( s + 3 ) }{ s + 1 } \n",
    "\\end{equation*}\n",
    "\n",
    "###\n",
    "###### [Ver $Y_4(s)$ simbólica](#Y_4(s)_simbólica_ejercicio_2)\n",
    "###\n",
    "\n",
    "<img src=\"TS12_Ejercicio_2_PZmap_Paso_3_Z11_b.png\" style=\"margin-left:auto; margin-right:auto\"/>\n",
    "\n",
    "###\n",
    "##### <u>Paso 4:</u> Remoción finita en $\\sigma = 1$: el cero en $\\sigma = 3$ se cancela con el polo en $\\omega = 1$. Removemos un tanque en derivación compuesto por $R_2$ y $C_2$, que será $Y_5(s)$, y obtenemos $Y_6(s)$.\n",
    "###\n",
    "##### Definimos $Y_5(s)$ de la siguiente forma:\n",
    "###\n",
    "\n",
    "\\begin{equation*}\n",
    "Y_5(s) = \\lim_{ s \\rightarrow (-1) } Y_4(s) = \\frac{ s \\cdot k_i }{ s + \\sigma_i } = \\frac{ s \\cdot k_5 }{ s + 1 }\n",
    "\\end{equation*}\n",
    "\n",
    "###\n",
    "\n",
    "\\begin{equation*}\n",
    "k_5 = \\lim_{ s \\rightarrow (-1) } \\frac{ s + 1 }{ s } \\cdot Y_4(s)\n",
    "\\end{equation*}\n",
    "\n",
    "###\n",
    "\n",
    "\\begin{equation*}\n",
    "k_5 = \\lim_{ s \\rightarrow (-1) } \\frac{ s + 1 }{ s } \\cdot \\frac{ 2 \\cdot s \\cdot ( s + 3 ) }{ s + 1 }\n",
    "\\end{equation*}\n",
    "\n",
    "###\n",
    "\n",
    "\\begin{equation*}\n",
    "k_5 = \\lim_{ s \\rightarrow (-1) } 2 \\cdot ( s + 3 )\n",
    "\\end{equation*}\n",
    "\n",
    "###\n",
    "\n",
    "\\begin{equation*}\n",
    "k_5 = \\lim_{ s \\rightarrow (-1) } 2 \\cdot ( -1 + 3 ) = 4\n",
    "\\end{equation*}\n",
    "\n",
    "###\n",
    "##### Definido el residuo $k_5$, quedan definidas todas las características del tanque en derivación removido: $Y_5(s)$, $R_2$ y $C_2$.\n",
    "###\n",
    "\n",
    "<a id=\"Y_5(s)_analítica_ejercicio_2\"></a>\n",
    "\n",
    "\\begin{equation*}\n",
    "Y_5(s) = \\frac{ s \\cdot k_5 }{ s + 1 } = \\frac{ s \\cdot 4 }{ s + 1 } = \\frac{ 1 }{ \\frac{ s + 1 }{ s \\cdot 4 } } = \\frac{ 1 }{ \\frac{ s }{ s \\cdot 4 } + \\frac{ 1 }{ s \\cdot 4 } } = \\frac{ 1 }{ \\frac{ 1 }{ 4 } + \\frac{ 1 }{ s \\cdot 4 } } = \\frac{ 1 }{ R_2 + \\frac{ 1 }{ s \\cdot C_2 } }\n",
    "\\end{equation*}\n",
    "\n",
    "###\n",
    "###### [Ver $Y_5(s)$ simbólica](#Y_5(s)_simbólica_ejercicio_2)\n",
    "###\n",
    "\n",
    "<a id=\"R_2_analítica_ejercicio_2\"></a>\n",
    "\n",
    "\\begin{equation*}\n",
    "R_2 = \\frac{ 1 }{ 4 }\n",
    "\\end{equation*}\n",
    "\n",
    "###\n",
    "###### [Ver $R_2$ simbólica](#R_2_simbólica_ejercicio_2)\n",
    "###\n",
    "\n",
    "<a id=\"C_2_analítica_ejercicio_2\"></a>\n",
    "\n",
    "\\begin{equation*}\n",
    "C_2 = 4\n",
    "\\end{equation*}\n",
    "\n",
    "###\n",
    "###### [Ver $C_2$ simbólica](#C_2_simbólica_ejercicio_2)\n",
    "###\n",
    "\n",
    "<img src=\"TS12_Ejercicio_2_PZmap_Paso_4_Z11_Circuito.png\" style=\"margin-left:auto; margin-right:auto\"/>\n",
    "\n",
    "###\n",
    "##### Definimos entonces $Y_6(s)$ como:\n",
    "###\n",
    "\n",
    "\\begin{equation*}\n",
    "Y_6(s) = Y_4(s) - Y_5(s) = \\frac{ 2 \\cdot s \\cdot ( s + 3 ) }{ s + 1 } - \\frac{ 4 \\cdot s }{ s + 1 } \n",
    "\\end{equation*}\n",
    "\n",
    "###\n",
    "\n",
    "\\begin{equation*}\n",
    "Y_6(s) = \\frac{ 2 \\cdot s \\cdot ( s + 3 ) - 4 \\cdot s }{ s + 1 }\n",
    "\\end{equation*}\n",
    "\n",
    "###\n",
    "\n",
    "\\begin{equation*}\n",
    "Y_6(s) = \\frac{ 2 \\cdot s^2 + 6 \\cdot s - 4 \\cdot s }{ s + 1 }\n",
    "\\end{equation*}\n",
    "\n",
    "###\n",
    "\n",
    "\\begin{equation*}\n",
    "Y_6(s) = \\frac{ 2 \\cdot s^2 + 2 \\cdot s }{ s + 1 }\n",
    "\\end{equation*}\n",
    "\n",
    "###\n",
    "\n",
    "\\begin{equation*}\n",
    "Y_6(s) = \\frac{ 2 \\cdot s \\cdot ( s + 1 ) }{ s + 1 }\n",
    "\\end{equation*}\n",
    "\n",
    "###\n",
    "\n",
    "<a id=\"Y_6(s)_analítica_ejercicio_2\"></a>\n",
    "\n",
    "\\begin{equation*}\n",
    "Y_6(s) = 2 \\cdot s\n",
    "\\end{equation*}\n",
    "\n",
    "###\n",
    "###### [Ver $Y_6(s)$ simbólica](#Y_6(s)_simbólica_ejercicio_2)\n",
    "###\n",
    "\n",
    "<img src=\"TS12_Ejercicio_2_PZmap_Paso_4_Z11_b.png\" style=\"margin-left:auto; margin-right:auto\"/>\n",
    "\n",
    "###\n",
    "##### <u>Paso 5:</u> Remoción en infinito. Removemos un capacitor $C_3$ en derivación, que será $Y_7(s)$, y obtenemos $Y_8(s)$ dando por finalizada la remoción.\n",
    "###\n",
    "##### Definimos $Y_7(s)$ de la siguiente forma:\n",
    "###\n",
    "\n",
    "\\begin{equation*}\n",
    "Y_7(s) = \\lim_{ s \\rightarrow \\infty } Y_6(s) = k_{\\infty} \\cdot s\n",
    "\\end{equation*}\n",
    "\n",
    "###\n",
    "\n",
    "\\begin{equation*}\n",
    "k_{\\infty} = \\lim_{ s \\rightarrow \\infty } \\frac{ Y_6(s) }{ s }\n",
    "\\end{equation*}\n",
    "\n",
    "###\n",
    "\n",
    "\\begin{equation*}\n",
    "k_{\\infty} = \\lim_{ s \\rightarrow \\infty } \\frac{ 2 \\cdot s }{ s }\n",
    "\\end{equation*}\n",
    "\n",
    "###\n",
    "\n",
    "\\begin{equation*}\n",
    "k_{\\infty} = 2\n",
    "\\end{equation*}\n",
    "\n",
    "###\n",
    "##### Definido el residuo $k_{\\infty}$, quedan definidas todas las características de la admitancia removida: $Y_7(s)$ y $C_3$.\n",
    "###\n",
    "\n",
    "<a id=\"Y_7(s)_analítica_ejercicio_2\"></a>\n",
    "\n",
    "\\begin{equation*}\n",
    "Y_7(s) = k_{\\infty} \\cdot s = 2 \\cdot s\n",
    "\\end{equation*}\n",
    "\n",
    "###\n",
    "###### [Ver $Y_7(s)$ simbólica](#Y_7(s)_simbólica_ejercicio_2)\n",
    "###\n",
    "\n",
    "<a id=\"C_3(s)_analítica_ejercicio_2\"></a>\n",
    "\n",
    "\\begin{equation*}\n",
    "C_3(s) = k_{\\infty} = 2\n",
    "\\end{equation*}\n",
    "\n",
    "###\n",
    "###### [Ver $C_3(s)$ simbólica](#C_3(s)_simbólica_ejercicio_2)\n",
    "###\n",
    "\n",
    "<img src=\"TS12_Ejercicio_2_PZmap_Paso_5_Z11_Circuito.png\" style=\"margin-left:auto; margin-right:auto\"/>\n",
    "\n",
    "###\n",
    "##### Definimos entonces $Y_8(s)$ como:\n",
    "###\n",
    "\n",
    "\\begin{equation*}\n",
    "Y_8(s) = Y_6(s) - Y_7(s) = 2 \\cdot s - 2 \\cdot s\n",
    "\\end{equation*}\n",
    "\n",
    "###\n",
    "\n",
    "<a id=\"Y_8(s)_analítica_ejercicio_2\"></a>\n",
    "\n",
    "\\begin{equation*}\n",
    "Y_8(s) = 0\n",
    "\\end{equation*}\n",
    "\n",
    "###\n",
    "###### [Ver $Y_8(s)$ simbólica](#Y_8(s)_simbólica_ejercicio_2)\n",
    "###\n",
    "\n",
    "<img src=\"TS12_Ejercicio_2_PZmap_Paso_5_Z11_Circuito_bis.png\" style=\"margin-left:auto; margin-right:auto\"/>\n",
    "\n",
    "###\n",
    "\n",
    "<img src=\"TS12_Ejercicio_2_PZmap_Paso_5_Z11_b.png\" style=\"margin-left:auto; margin-right:auto\"/>\n",
    "\n",
    "###\n",
    "##### Finalmente obtenemos el valor de $k$ a partir de las condiciones del paramétro $Z_{21}$:\n",
    "###\n",
    "\n",
    "\\begin{equation*}\n",
    "Z_{21} = \\frac{ V_2 }{ I_1 } \\Biggr|_{I_2 = 0} = \\frac{ P(s) }{ D(s) } = \\frac{ k \\cdot ( s + 1 ) }{ s \\cdot ( s + 3 ) }\n",
    "\\end{equation*}\n",
    "\n",
    "###\n",
    "##### Podemos observar que $Z_{21}$ se corresponde con $Z_4(s)$, por lo tanto:\n",
    "###\n",
    "\n",
    "\\begin{equation*}\n",
    "Z_{21} = Z_4(s)\n",
    "\\end{equation*}\n",
    "\n",
    "###\n",
    "\n",
    "\\begin{equation*}\n",
    "\\frac{ k \\cdot ( s + 1 ) }{ s \\cdot ( s + 3 ) } = \\frac{ s + 1 }{ 2 \\cdot s \\cdot ( s + 3 ) }\n",
    "\\end{equation*}\n",
    "\n",
    "###\n",
    "\n",
    "\\begin{equation*}\n",
    "k = \\frac{ 1 }{ 2 }\n",
    "\\end{equation*}\n",
    "\n",
    "###\n",
    "##### De esta manera, queda definida $T(s)$:\n",
    "###\n",
    "\n",
    "\\begin{equation*}\n",
    "T(s) = \\frac{ V_2 }{ V_1 } \\Biggr|_{I_2 = 0} = \\frac{ 1 }{ 2 } \\cdot \\frac{ s + 1 }{ ( s + 2 ) \\cdot ( s + 4 ) }\n",
    "\\end{equation*}\n",
    "\n",
    "###\n",
    "\n",
    "***"
   ]
  },
  {
   "cell_type": "markdown",
   "id": "dbc201f1-9ab3-461c-8e08-532d270c56d2",
   "metadata": {},
   "source": [
    "***\n",
    "###\n",
    "#### <u>Simulación circuital</u>\n",
    "###\n",
    "***\n",
    "\n",
    "<img src=\"TS12_Ejercicio_2_Circuito_LTSpice_Z11.png\" style=\"margin-left:auto; margin-right:auto\"/>\n",
    "\n",
    "###\n",
    "##### <u>Respuesta de módulo de $T(s)$</u>\n",
    "###\n",
    "\n",
    "<img src=\"TS12_Ejercicio_2_Ts_Respuesta_Modulo_Z11.png\" style=\"margin-left:auto; margin-right:auto\"/>\n",
    "\n",
    "###\n",
    "##### Nos valemos de los cursores que nos ofrece LTSpice para ver con mayor precisión los resultados obtenidos.\n",
    "###\n",
    "##### Recordar que debemos afectar a la frecuencia por un factor de $2\\pi$ debido a que los diagramas de singularidades anteriores fueron hechos respecto al eje $\\sigma$.\n",
    "###\n",
    "##### Como se puede observar, obtenemos una transferencia cuya respuesta es del tipo pasa bajos en consonancia con lo anticipado anteriormente y cuyas características son propias del orden de la función: notar por caso la pendiente a la salida de la banda de paso producto del aporte de las singularidades del numerador y denominador.\n",
    "\n",
    "###\n",
    "##### Hacemos lo propio con los parámetros $Z_{11}$ e $Z_{21}$: \n",
    "###\n",
    "##### <u>Respuesta de módulo de $Z_{11}$ y $Z_{21}$</u>\n",
    "###\n",
    "\n",
    "<img src=\"TS12_Ejercicio_2_Respuesta_Modulo_Z11_Z21.png\" style=\"margin-left:auto; margin-right:auto\"/>\n",
    "\n",
    "###\n",
    "##### Se muestran en conjunto las respuestas de módulo de ambos parámetros, $Z_{11}$ en azul y $Z_{21}$ en magenta, para poner de manifiesto el aporte de cada una de ellas cumpliendo justamente con la función transferencia $T(s)$.\n",
    "###"
   ]
  },
  {
   "cell_type": "markdown",
   "id": "9ae58a87-32da-417c-b3b4-8f7caecd83c8",
   "metadata": {},
   "source": [
    "***\n",
    "###\n",
    "#### <u>Simulación simbólica / numérica</u>\n",
    "###\n",
    "***"
   ]
  },
  {
   "cell_type": "code",
   "execution_count": 129,
   "id": "5c829574-a2a0-4f51-84d9-c484d48d7edf",
   "metadata": {
    "tags": []
   },
   "outputs": [],
   "source": [
    "#------------------------------------------------------------------------------------------------#\n",
    "#-- Resolución simbólica --\n",
    "#---------------------------------------------------------------------------------------------------------------------#\n",
    "\n",
    "import sympy            as     sp\n",
    "from   pytc2.dibujar    import dibujar_puerto_entrada, dibujar_puerto_salida, dibujar_funcion_exc_abajo  \n",
    "from   pytc2.dibujar    import dibujar_elemento_serie, dibujar_elemento_derivacion, dibujar_espacio_derivacion\n",
    "from   pytc2.dibujar    import dibujar_tanque_RC_derivacion, dibujar_tanque_RC_serie\n",
    "from   pytc2.dibujar    import display, Resistor, Inductor, Capacitor\n",
    "from   pytc2.general    import print_latex, print_subtitle, a_equal_b_latex_s\n",
    "from   pytc2.remociones import remover_valor_en_dc, remover_valor_en_infinito \n",
    "from   pytc2.remociones import remover_polo_dc, remover_polo_sigma, remover_polo_infinito\n",
    "from   IPython.display  import display, Markdown, Math\n",
    "\n",
    "#---------------------------------------------------------------------------------------------------------------------#"
   ]
  },
  {
   "cell_type": "code",
   "execution_count": 21,
   "id": "a89947fb-699a-4c68-a556-6b166210f599",
   "metadata": {
    "tags": []
   },
   "outputs": [
    {
     "data": {
      "text/latex": [
       "$\\displaystyle Z_{11}=\\frac{\\left(s + 2\\right) \\left(s + 4\\right)}{s \\left(s + 3\\right)}$"
      ],
      "text/plain": [
       "<IPython.core.display.Math object>"
      ]
     },
     "metadata": {},
     "output_type": "display_data"
    },
    {
     "data": {
      "text/markdown": [
       "###"
      ],
      "text/plain": [
       "<IPython.core.display.Markdown object>"
      ]
     },
     "metadata": {},
     "output_type": "display_data"
    },
    {
     "data": {
      "text/latex": [
       "$\\displaystyle Z_{21}=\\frac{k \\left(s + 1\\right)}{s \\left(s + 3\\right)}$"
      ],
      "text/plain": [
       "<IPython.core.display.Math object>"
      ]
     },
     "metadata": {},
     "output_type": "display_data"
    },
    {
     "data": {
      "text/markdown": [
       "###"
      ],
      "text/plain": [
       "<IPython.core.display.Markdown object>"
      ]
     },
     "metadata": {},
     "output_type": "display_data"
    },
    {
     "data": {
      "text/latex": [
       "$\\displaystyle T(s) = \\frac{ Z_{21} }{ Z_{11} }=\\frac{k \\left(s + 1\\right)}{\\left(s + 2\\right) \\left(s + 4\\right)}$"
      ],
      "text/plain": [
       "<IPython.core.display.Math object>"
      ]
     },
     "metadata": {},
     "output_type": "display_data"
    },
    {
     "data": {
      "text/markdown": [
       "###"
      ],
      "text/plain": [
       "<IPython.core.display.Markdown object>"
      ]
     },
     "metadata": {},
     "output_type": "display_data"
    }
   ],
   "source": [
    "#---------------------------------------------------------------------------------------------------------------------#\n",
    "#-- Parámetros Z_{11}, Z_{21} y función T(s) --\n",
    "#---------------------------------------------------------------------------------------------------------------------#\n",
    "\n",
    "s = sp.symbols( 's', complex = True )\n",
    "k = sp.symbols( 'k', complex = False )\n",
    "\n",
    "Z11 = ( ( s + 2 ) * ( s + 4 ) ) / ( s * ( s + 3 ) )\n",
    "print_latex( a_equal_b_latex_s( 'Z_{11}', Z11 ) )\n",
    "display( Markdown( '###' ) )\n",
    "\n",
    "Z21 = ( k * ( s + 1 ) ) / ( s * ( s + 3 ) )\n",
    "print_latex( a_equal_b_latex_s( 'Z_{21}', Z21 ) )\n",
    "display( Markdown( '###' ) )\n",
    "\n",
    "Ts = Z21 / Z11\n",
    "print_latex( a_equal_b_latex_s( 'T(s) = \\\\frac{ Z_{21} }{ Z_{11} }', Ts ) )\n",
    "display( Markdown( '###' ) )\n",
    "\n",
    "#---------------------------------------------------------------------------------------------------------------------#"
   ]
  },
  {
   "cell_type": "code",
   "execution_count": 22,
   "id": "3cbb2925-ee59-444e-b4b9-7f73be3b3fad",
   "metadata": {
    "tags": []
   },
   "outputs": [
    {
     "data": {
      "text/markdown": [
       "###"
      ],
      "text/plain": [
       "<IPython.core.display.Markdown object>"
      ]
     },
     "metadata": {},
     "output_type": "display_data"
    },
    {
     "data": {
      "text/latex": [
       "$\\displaystyle Z_1(s)=1$"
      ],
      "text/plain": [
       "<IPython.core.display.Math object>"
      ]
     },
     "metadata": {},
     "output_type": "display_data"
    }
   ],
   "source": [
    "#---------------------------------------------------------------------------------------------------------------------#\n",
    "#-- <u>Paso 1:</u> Remoción total de valor finito en $\\sigma$ tendiendo a infinito: los ceros se desplazan hacia\n",
    "#-- la zona de remoción y los polos permancen inmutables. Removemos una resistencia en serie $R_1$ de valor \n",
    "#-- unitario, que será $Z_1$, y obtenemos $Z_2(s)$.\n",
    "#---------------------------------------------------------------------------------------------------------------------#\n",
    "\n",
    "Z2, Z1 = remover_valor_en_infinito( Z11 )\n",
    "display( Markdown( '###' ) )\n",
    "print_latex( a_equal_b_latex_s( 'Z_1(s)', Z1 ) )\n",
    "\n",
    "#---------------------------------------------------------------------------------------------------------------------#"
   ]
  },
  {
   "cell_type": "markdown",
   "id": "0709a77d-f192-46b2-a8ac-fb6cfd1ac323",
   "metadata": {},
   "source": [
    "###\n",
    "###### [Ver $Z_1(s)$ analítica](#Z_1(s)_analítica_ejercicio_2)\n",
    "###\n",
    "<a id=\"R_1_simbólica_ejercicio_2\"></a>"
   ]
  },
  {
   "cell_type": "code",
   "execution_count": 23,
   "id": "dd0bdbef-c4d2-42fc-a6d6-e2590ba9f68e",
   "metadata": {},
   "outputs": [
    {
     "data": {
      "text/markdown": [
       "###"
      ],
      "text/plain": [
       "<IPython.core.display.Markdown object>"
      ]
     },
     "metadata": {},
     "output_type": "display_data"
    },
    {
     "data": {
      "text/latex": [
       "$\\displaystyle R_1=1$"
      ],
      "text/plain": [
       "<IPython.core.display.Math object>"
      ]
     },
     "metadata": {},
     "output_type": "display_data"
    }
   ],
   "source": [
    "R1 = Z1\n",
    "\n",
    "display( Markdown( '###' ) )\n",
    "print_latex( a_equal_b_latex_s( 'R_1', R1 ) )\n"
   ]
  },
  {
   "cell_type": "markdown",
   "id": "49e06c06-5255-4a0b-99b0-c67efa28e89d",
   "metadata": {},
   "source": [
    "###\n",
    "###### [Ver $R_1$ analítica](#R_1_analítica_ejercicio_2)\n",
    "###\n",
    "<a id=\"Z_2(s)_simbólica_ejercicio_2\"></a>"
   ]
  },
  {
   "cell_type": "code",
   "execution_count": 24,
   "id": "5739262f-48af-447d-bc9c-82d18d469683",
   "metadata": {
    "tags": []
   },
   "outputs": [
    {
     "data": {
      "text/markdown": [
       "###"
      ],
      "text/plain": [
       "<IPython.core.display.Markdown object>"
      ]
     },
     "metadata": {},
     "output_type": "display_data"
    },
    {
     "data": {
      "text/latex": [
       "$\\displaystyle Z_2(s) = Z_{11} - Z_1(s) = \\frac{\\left(s + 2\\right) \\left(s + 4\\right)}{s \\left(s + 3\\right)} - 1 = \\frac{3 s + 8}{s \\left(s + 3\\right)}$"
      ],
      "text/plain": [
       "<IPython.core.display.Math object>"
      ]
     },
     "metadata": {},
     "output_type": "display_data"
    }
   ],
   "source": [
    "display( Markdown( '###' ) )\n",
    "print_latex( 'Z_2(s) = Z_{11} - Z_1(s) = ' + sp.latex( Z11 ) + ' - ' + sp.latex( Z1 ) + ' = ' + sp.latex( Z2 ) )\n",
    "\n",
    "#---------------------------------------------------------------------------------------------------------------------#"
   ]
  },
  {
   "cell_type": "markdown",
   "id": "8d29e441-a18d-4e52-ab0b-5e63b23131a8",
   "metadata": {},
   "source": [
    "###\n",
    "###### [Ver $Z_2(s)$ analítica](#Z_2(s)_analítica_ejercicio_2)\n",
    "###\n",
    "<a id=\"Z_3(s)_simbólica_ejercicio_2\"></a>"
   ]
  },
  {
   "cell_type": "code",
   "execution_count": 65,
   "id": "501f70c5-641b-4194-93f1-a54276acb468",
   "metadata": {
    "tags": []
   },
   "outputs": [],
   "source": [
    "#--------------------------------------------------------------------------------------------------------------#\n",
    "\n",
    "def remover_polo_dc( imit, omega_zero = None, isSigma = False ):\n",
    "    '''\n",
    "    Se removerá el residuo en continua (s=0) de la imitancia ($I$) de forma \n",
    "    completa, o parcial en el caso que se especifique una omega_zero. \n",
    "    Como resultado de la remoción, quedará otra función racional definida\n",
    "    como:\n",
    "        \n",
    "    $$ I_R = I - k_0/s  $$\n",
    "    \n",
    "    siendo \n",
    "\n",
    "    $$ k_0=\\lim\\limits _{s\\to0}I.s $$\n",
    "    \n",
    "    En cuanto se especifique omega_zero, la remoción parcial estará definida \n",
    "    como, siempre que isSigma = False\n",
    "\n",
    "    $$ I_{R}\\biggr\\rfloor_{s^{2}=-\\omega_z^{2}}=0=I-s.k_{0}^{'}\\biggr\\rfloor_{s^{2}=-\\omega_z^{2}} $$\n",
    "    \n",
    "    siendo \n",
    "    \n",
    "    $$ k_{0}^{'}=I.s\\biggr\\rfloor_{s^{2}=-\\omega_z^{2}} $$\n",
    "\n",
    "    De lo contrario, con isSigma = True\n",
    "\n",
    "    $$ I_{R}\\biggr\\rfloor_{s=-\\omega_z}=0=I-s.k_{0}^{'}\\biggr\\rfloor_{s=-\\omega_z} $$\n",
    "    \n",
    "    siendo \n",
    "    \n",
    "    $$ k_{0}^{'}=I.s\\biggr\\rfloor_{s=-\\omega_z} $$\n",
    "    \n",
    "\n",
    "    Parameters\n",
    "    ----------\n",
    "    imit : Symbolic\n",
    "        Imitancia que se utilizará para la remoción. Es una función racional \n",
    "        simbólica que tendrá un polo de orden 1 en 0, es decir la \n",
    "        diferencia de grados entre num y den será exactamente -1.\n",
    "    omega_zero : Symbolic\n",
    "        Frecuencia a la que la imitancia será cero luego de la remoción.\n",
    "\n",
    "    Returns\n",
    "    -------\n",
    "    imit_r : Symbolic\n",
    "        Imitancia luego de la remoción\n",
    "    k_inf : Symbolic\n",
    "        Valor del residuo en infinito\n",
    "    '''\n",
    "\n",
    "    if omega_zero is None:\n",
    "        # remoción total\n",
    "        k_cero = sp.limit(imit*s, s, 0)\n",
    "        \n",
    "    else:\n",
    "        # remoción parcial en el eje j\\omega\n",
    "        if isSigma is False:\n",
    "            k_cero = sp.simplify(sp.expand(imit*s)).subs(s**2, -(omega_zero**2) )\n",
    "\n",
    "        # remoción parcial en el eje \\sigma\n",
    "        else:\n",
    "            k_cero = sp.simplify(sp.expand(imit*s)).subs(s, -omega_zero )\n",
    "\n",
    "    k_cero = k_cero/s\n",
    "    \n",
    "    # extraigo C3\n",
    "    imit_r = sp.factor(sp.simplify(sp.expand(imit - k_cero)))\n",
    "\n",
    "    return( [imit_r, k_cero] )\n",
    "\n",
    "#--------------------------------------------------------------------------------------------------------------#"
   ]
  },
  {
   "cell_type": "code",
   "execution_count": 67,
   "id": "e75e5a84-16d4-4580-9ede-b20c728164e2",
   "metadata": {},
   "outputs": [
    {
     "data": {
      "text/markdown": [
       "###"
      ],
      "text/plain": [
       "<IPython.core.display.Markdown object>"
      ]
     },
     "metadata": {},
     "output_type": "display_data"
    },
    {
     "data": {
      "text/latex": [
       "$\\displaystyle Z_3(s)=\\frac{5}{2 s}$"
      ],
      "text/plain": [
       "<IPython.core.display.Math object>"
      ]
     },
     "metadata": {},
     "output_type": "display_data"
    }
   ],
   "source": [
    "#---------------------------------------------------------------------------------------------------------------------#\n",
    "#-- <u>Paso 2:</u> Remoción en continua para sintonizar el cero a $\\sigma = 1$ para cumplir con el cero de $T(s)$. \n",
    "#-- Removemos un capacitor $C_1$ en serie, que será $Z_3(s)$, y obtenemos $Z_4(s)$.\n",
    "#---------------------------------------------------------------------------------------------------------------------#\n",
    "\n",
    "Z4, Z3 = remover_polo_dc( Z2, omega_zero = 1, isSigma = True )\n",
    "\n",
    "display( Markdown( '###' ) )\n",
    "print_latex( a_equal_b_latex_s( 'Z_3(s)', Z3 ) )\n"
   ]
  },
  {
   "cell_type": "markdown",
   "id": "904be0e1-17b7-44a6-9aaf-7848d3d5e293",
   "metadata": {},
   "source": [
    "###\n",
    "###### [Ver $Z_3(s)$ analítica](#Z_3(s)_analítica_ejercicio_2)\n",
    "###\n",
    "<a id=\"C_1_simbólica_ejercicio_2\"></a>"
   ]
  },
  {
   "cell_type": "code",
   "execution_count": 68,
   "id": "9da2fbb8-c75e-4783-bde4-a57c8fde459d",
   "metadata": {},
   "outputs": [
    {
     "data": {
      "text/markdown": [
       "###"
      ],
      "text/plain": [
       "<IPython.core.display.Markdown object>"
      ]
     },
     "metadata": {},
     "output_type": "display_data"
    },
    {
     "data": {
      "text/latex": [
       "$\\displaystyle C_1=\\frac{2}{5}$"
      ],
      "text/plain": [
       "<IPython.core.display.Math object>"
      ]
     },
     "metadata": {},
     "output_type": "display_data"
    }
   ],
   "source": [
    "C1 = 1/s/Z3\n",
    "\n",
    "display( Markdown( '###' ) )\n",
    "print_latex( a_equal_b_latex_s( 'C_1', C1 ) )\n"
   ]
  },
  {
   "cell_type": "markdown",
   "id": "bc82d94f-1353-451a-a58f-d08755ada71c",
   "metadata": {},
   "source": [
    "###\n",
    "###### [Ver $C_1$ analítica](#C_1_analítica_ejercicio_2)\n",
    "###\n",
    "<a id=\"Z_4(s)_simbólica_ejercicio_2\"></a>"
   ]
  },
  {
   "cell_type": "code",
   "execution_count": 69,
   "id": "512b763c-5bb0-4693-ab71-7936246efef2",
   "metadata": {},
   "outputs": [
    {
     "data": {
      "text/markdown": [
       "###"
      ],
      "text/plain": [
       "<IPython.core.display.Markdown object>"
      ]
     },
     "metadata": {},
     "output_type": "display_data"
    },
    {
     "data": {
      "text/latex": [
       "$\\displaystyle Z_4(s) = Z_2(s) - Z_3(s) = \\frac{3 s + 8}{s \\left(s + 3\\right)} - \\frac{5}{2 s} = \\frac{s + 1}{2 s \\left(s + 3\\right)}$"
      ],
      "text/plain": [
       "<IPython.core.display.Math object>"
      ]
     },
     "metadata": {},
     "output_type": "display_data"
    }
   ],
   "source": [
    "display( Markdown( '###' ) )\n",
    "print_latex( 'Z_4(s) = Z_2(s) - Z_3(s) = ' + sp.latex( Z2 ) + ' - ' + sp.latex( Z3 ) + ' = ' + sp.latex( Z4 ) )\n",
    "\n",
    "#---------------------------------------------------------------------------------------------------------------------#"
   ]
  },
  {
   "cell_type": "markdown",
   "id": "61788e2f-ffdc-41b4-9877-6db5cc3bcc59",
   "metadata": {},
   "source": [
    "###\n",
    "###### [Ver $Z_4(s)$ analítica](#Z_4(s)_analítica_ejercicio_2)\n",
    "###\n",
    "<a id=\"Y_4(s)_simbólica_ejercicio_2\"></a>"
   ]
  },
  {
   "cell_type": "code",
   "execution_count": 70,
   "id": "d08a9a50-8d53-4baf-845b-0d444dbefbee",
   "metadata": {},
   "outputs": [
    {
     "data": {
      "text/markdown": [
       "###"
      ],
      "text/plain": [
       "<IPython.core.display.Markdown object>"
      ]
     },
     "metadata": {},
     "output_type": "display_data"
    },
    {
     "data": {
      "text/latex": [
       "$\\displaystyle Y_4(s) = \\frac{ 1 }{ Z_4(s) } = \\frac{ 1 }{ \\frac{s + 1}{2 s \\left(s + 3\\right)} } = \\frac{2 s \\left(s + 3\\right)}{s + 1}$"
      ],
      "text/plain": [
       "<IPython.core.display.Math object>"
      ]
     },
     "metadata": {},
     "output_type": "display_data"
    }
   ],
   "source": [
    "#---------------------------------------------------------------------------------------------------------------------#\n",
    "#-- <u>Paso 3:</u> Inversión de $Z_4(s)$: los ceros se reemplazan por polos y viceversa. Obtenemos $Y_4(s)$.\n",
    "#---------------------------------------------------------------------------------------------------------------------#\n",
    "\n",
    "Y4 = 1/Z4\n",
    "\n",
    "display( Markdown( '###' ) )\n",
    "print_latex( 'Y_4(s) = \\\\frac{ 1 }{ Z_4(s) } = \\\\frac{ 1 }{ ' + sp.latex( Z4 ) + ' } = ' + sp.latex( Y4 ) )\n",
    "\n",
    "#---------------------------------------------------------------------------------------------------------------------#"
   ]
  },
  {
   "cell_type": "markdown",
   "id": "7f3b13a7-10fb-4965-ae50-0dd4ec1e4ca2",
   "metadata": {},
   "source": [
    "###\n",
    "###### [Ver $Y_4(s)$ analítica](#Y_4(s)_analítica_ejercicio_2)\n",
    "###\n",
    "<a id=\"Y_5(s)_simbólica_ejercicio_2\"></a>"
   ]
  },
  {
   "cell_type": "code",
   "execution_count": 73,
   "id": "110ca381-8e3e-48ad-9239-4cb719cb44c1",
   "metadata": {},
   "outputs": [
    {
     "data": {
      "text/markdown": [
       "###"
      ],
      "text/plain": [
       "<IPython.core.display.Markdown object>"
      ]
     },
     "metadata": {},
     "output_type": "display_data"
    },
    {
     "data": {
      "text/latex": [
       "$\\displaystyle Y_5(s) = \\frac{4 s}{s + 1} = \\frac{ s \\cdot k_5 }{ s + 1 } = \\frac{ 1 }{ \\frac{ s + 1 }{ s \\cdot k_5 } } = \\frac{ 1 }{ \\frac{ s }{ s \\cdot k_5 } + \\frac{ 1 }{ s \\cdot k_5 } } = \\frac{ 1 }{ \\frac{ 1 }{ k_5 } + \\frac{ 1 }{ s \\cdot k_5 } } = \\frac{ 1 }{ R_2 + \\frac{ 1 }{ s \\cdot C_2 } }$"
      ],
      "text/plain": [
       "<IPython.core.display.Math object>"
      ]
     },
     "metadata": {},
     "output_type": "display_data"
    }
   ],
   "source": [
    "#---------------------------------------------------------------------------------------------------------------------#\n",
    "#-- <u>Paso 4:</u> Remoción finita en $\\sigma = 1$: el cero en $\\sigma = 3$ se cancela con el polo en $\\omega = 1$.\n",
    "#-- Removemos un tanque en derivación compuesto por $R_2$ y $C_2$, que será $Y_5(s)$, y obtenemos $Y_6(s)$.\n",
    "#---------------------------------------------------------------------------------------------------------------------#\n",
    "\n",
    "Y6, Y5, R2, C2 = remover_polo_sigma( Y4, sigma = 1, isImpedance = False, isRC= True )\n",
    "\n",
    "display( Markdown( '###' ) )\n",
    "print_latex( 'Y_5(s) = ' + sp.latex( Y5 ) + ' = \\\\frac{ s \\cdot k_5 }{ s + 1 } = \\\\frac{ 1 }{ \\\\frac{ s + 1 }{ s \\cdot k_5 } } = \\\\frac{ 1 }{ \\\\frac{ s }{ s \\cdot k_5 } + \\\\frac{ 1 }{ s \\cdot k_5 } } = \\\\frac{ 1 }{ \\\\frac{ 1 }{ k_5 } + \\\\frac{ 1 }{ s \\cdot k_5 } } = \\\\frac{ 1 }{ R_2 + \\\\frac{ 1 }{ s \\cdot C_2 } }' )\n"
   ]
  },
  {
   "cell_type": "markdown",
   "id": "89966036-f73d-4b23-8e6f-83b7e06bcb2c",
   "metadata": {},
   "source": [
    "###\n",
    "###### [Ver $Y_5(s)$ analítica](#Y_5(s)_analítica_ejercicio_2)\n",
    "###\n",
    "<a id=\"R_2_simbólica_ejercicio_2\"></a>"
   ]
  },
  {
   "cell_type": "code",
   "execution_count": 75,
   "id": "c71a9b49-0644-43a8-b7a1-97c610a9a30e",
   "metadata": {},
   "outputs": [
    {
     "data": {
      "text/markdown": [
       "###"
      ],
      "text/plain": [
       "<IPython.core.display.Markdown object>"
      ]
     },
     "metadata": {},
     "output_type": "display_data"
    },
    {
     "data": {
      "text/latex": [
       "$\\displaystyle R_2=\\frac{1}{4}$"
      ],
      "text/plain": [
       "<IPython.core.display.Math object>"
      ]
     },
     "metadata": {},
     "output_type": "display_data"
    }
   ],
   "source": [
    "display( Markdown( '###' ) )\n",
    "print_latex( a_equal_b_latex_s( 'R_2', R2 ) )\n"
   ]
  },
  {
   "cell_type": "markdown",
   "id": "415741b2-c139-4408-aaeb-dfa8a205badb",
   "metadata": {},
   "source": [
    "###\n",
    "###### [Ver $R_2$ analítica](#R_2_analítica_ejercicio_2)\n",
    "###\n",
    "<a id=\"C_2_simbólica_ejercicio_2\"></a>"
   ]
  },
  {
   "cell_type": "code",
   "execution_count": 76,
   "id": "26466c84-6b21-4ec1-b720-91f37060668e",
   "metadata": {},
   "outputs": [
    {
     "data": {
      "text/markdown": [
       "###"
      ],
      "text/plain": [
       "<IPython.core.display.Markdown object>"
      ]
     },
     "metadata": {},
     "output_type": "display_data"
    },
    {
     "data": {
      "text/latex": [
       "$\\displaystyle C_2=4$"
      ],
      "text/plain": [
       "<IPython.core.display.Math object>"
      ]
     },
     "metadata": {},
     "output_type": "display_data"
    }
   ],
   "source": [
    "display( Markdown( '###' ) )\n",
    "print_latex( a_equal_b_latex_s( 'C_2', C2 ) )\n"
   ]
  },
  {
   "cell_type": "markdown",
   "id": "58b080e0-06a3-4b4d-889c-d0d4b04b4adf",
   "metadata": {},
   "source": [
    "###\n",
    "###### [Ver $C_2$ analítica](#C_2_analítica_ejercicio_2)\n",
    "###\n",
    "<a id=\"Y_6(s)_simbólica_ejercicio_2\"></a>"
   ]
  },
  {
   "cell_type": "code",
   "execution_count": 77,
   "id": "0e703d79-c5fe-45cc-8b96-8636bfd2dd4a",
   "metadata": {},
   "outputs": [
    {
     "data": {
      "text/markdown": [
       "###"
      ],
      "text/plain": [
       "<IPython.core.display.Markdown object>"
      ]
     },
     "metadata": {},
     "output_type": "display_data"
    },
    {
     "data": {
      "text/latex": [
       "$\\displaystyle Y_6(s) = Y_4(s) - Y_5(s) = \\frac{2 s \\left(s + 3\\right)}{s + 1} - \\frac{4 s}{s + 1} = 2 s$"
      ],
      "text/plain": [
       "<IPython.core.display.Math object>"
      ]
     },
     "metadata": {},
     "output_type": "display_data"
    }
   ],
   "source": [
    "display( Markdown( '###' ) )\n",
    "print_latex( 'Y_6(s) = Y_4(s) - Y_5(s) = ' + sp.latex( Y4 ) + ' - ' + sp.latex( Y5 ) + ' = ' + sp.latex( Y6 ) )\n",
    "\n",
    "#---------------------------------------------------------------------------------------------------------------------#"
   ]
  },
  {
   "cell_type": "markdown",
   "id": "4064ff9b-dad9-4f58-b7a1-43a9538d80aa",
   "metadata": {},
   "source": [
    "###\n",
    "###### [Ver $Y_6(s)$ analítica](#Y_6(s)_analítica_ejercicio_2)\n",
    "###\n",
    "<a id=\"Y_7(s)_simbólica_ejercicio_2\"></a>"
   ]
  },
  {
   "cell_type": "code",
   "execution_count": 78,
   "id": "38fd44d4-6d7b-4877-a217-dbda0a6d7267",
   "metadata": {},
   "outputs": [
    {
     "data": {
      "text/markdown": [
       "###"
      ],
      "text/plain": [
       "<IPython.core.display.Markdown object>"
      ]
     },
     "metadata": {},
     "output_type": "display_data"
    },
    {
     "data": {
      "text/latex": [
       "$\\displaystyle Y_7(s) = 2 s = s \\cdot k_{\\infty} = s \\cdot C_3$"
      ],
      "text/plain": [
       "<IPython.core.display.Math object>"
      ]
     },
     "metadata": {},
     "output_type": "display_data"
    }
   ],
   "source": [
    "#---------------------------------------------------------------------------------------------------------------------#\n",
    "#-- <u>Paso 5:</u> Remoción en infinito. Removemos un capacitor $C_3$ en derivación, que será $Y_7(s)$,\n",
    "#-- y obtenemos $Y_8(s)$ dando por finalizada la remoción.\n",
    "#---------------------------------------------------------------------------------------------------------------------#\n",
    "\n",
    "Y8, Y7 = remover_polo_infinito ( Y6 )\n",
    "\n",
    "display( Markdown( '###' ) )\n",
    "print_latex( 'Y_7(s) = ' + sp.latex( Y7 ) + ' = s \\cdot k_{\\infty} = s \\cdot C_3' )\n"
   ]
  },
  {
   "cell_type": "markdown",
   "id": "89418f12-39d3-4d60-b0b5-65c54b9d8412",
   "metadata": {},
   "source": [
    "###\n",
    "###### [Ver $Y_7(s)$ analítica](#Y_7(s)_analítica_ejercicio_2)\n",
    "###\n",
    "<a id=\"C_3_simbólica_ejercicio_2\"></a>"
   ]
  },
  {
   "cell_type": "code",
   "execution_count": 79,
   "id": "6543087a-aa74-4cf6-b00e-2577122f9126",
   "metadata": {},
   "outputs": [
    {
     "data": {
      "text/markdown": [
       "###"
      ],
      "text/plain": [
       "<IPython.core.display.Markdown object>"
      ]
     },
     "metadata": {},
     "output_type": "display_data"
    },
    {
     "data": {
      "text/latex": [
       "$\\displaystyle C_3=2$"
      ],
      "text/plain": [
       "<IPython.core.display.Math object>"
      ]
     },
     "metadata": {},
     "output_type": "display_data"
    }
   ],
   "source": [
    "C3 = Y7/s\n",
    "\n",
    "display( Markdown( '###' ) )\n",
    "print_latex( a_equal_b_latex_s( 'C_3', C3 ) )\n"
   ]
  },
  {
   "cell_type": "markdown",
   "id": "4921d4ea-2e5c-4393-84dd-eba3afea8e3c",
   "metadata": {},
   "source": [
    "###\n",
    "###### [Ver $C_3$ analítica](#C_3_analítica_ejercicio_2)\n",
    "###\n",
    "<a id=\"Y_8(s)_simbólica_ejercicio_2\"></a>"
   ]
  },
  {
   "cell_type": "code",
   "execution_count": 80,
   "id": "a95c33f6-ca44-459c-8ec4-55845504b6cc",
   "metadata": {},
   "outputs": [
    {
     "data": {
      "text/markdown": [
       "###"
      ],
      "text/plain": [
       "<IPython.core.display.Markdown object>"
      ]
     },
     "metadata": {},
     "output_type": "display_data"
    },
    {
     "data": {
      "text/latex": [
       "$\\displaystyle Y_8(s) = Y_6(s) - Y_7(s) = 2 s - 2 s = 0$"
      ],
      "text/plain": [
       "<IPython.core.display.Math object>"
      ]
     },
     "metadata": {},
     "output_type": "display_data"
    }
   ],
   "source": [
    "display( Markdown( '###' ) )\n",
    "print_latex( 'Y_8(s) = Y_6(s) - Y_7(s) = ' + sp.latex( Y6 ) + ' - ' + sp.latex( Y7 ) + ' = ' + sp.latex( Y8 ) )\n",
    "\n",
    "#---------------------------------------------------------------------------------------------------------------------#"
   ]
  },
  {
   "cell_type": "markdown",
   "id": "e27fc57a-97d3-4de5-a648-964b1560426c",
   "metadata": {},
   "source": [
    "###\n",
    "###### [Ver $Y_8(s)$ analítica](#Y_8(s)_analítica_ejercicio_2)\n",
    "###"
   ]
  },
  {
   "cell_type": "code",
   "execution_count": 81,
   "id": "38a201f0-efe1-4401-8227-dd394eabcb0d",
   "metadata": {},
   "outputs": [
    {
     "data": {
      "image/png": "[encoded data removed]",
      "image/svg+xml": [
       "<?xml version=\"1.0\" encoding=\"utf-8\" standalone=\"no\"?>\n",
       "<!DOCTYPE svg PUBLIC \"-//W3C//DTD SVG 1.1//EN\"\n",
       "  \"http://www.w3.org/Graphics/SVG/1.1/DTD/svg11.dtd\">\n",
       "<svg xmlns:xlink=\"http://www.w3.org/1999/xlink\" width=\"928.9269pt\" height=\"237.95pt\" viewBox=\"0 0 928.9269 237.95\" xmlns=\"http://www.w3.org/2000/svg\" version=\"1.1\">\n",
       " <metadata>\n",
       "  <rdf:RDF xmlns:dc=\"http://purl.org/dc/elements/1.1/\" xmlns:cc=\"http://creativecommons.org/ns#\" xmlns:rdf=\"http://www.w3.org/1999/02/22-rdf-syntax-ns#\">\n",
       "   <cc:Work>\n",
       "    <dc:type rdf:resource=\"http://purl.org/dc/dcmitype/StillImage\"/>\n",
       "    <dc:date>2023-11-21T12:30:38.514313</dc:date>\n",
       "    <dc:format>image/svg+xml</dc:format>\n",
       "    <dc:creator>\n",
       "     <cc:Agent>\n",
       "      <dc:title>Matplotlib v3.7.1, https://matplotlib.org/</dc:title>\n",
       "     </cc:Agent>\n",
       "    </dc:creator>\n",
       "   </cc:Work>\n",
       "  </rdf:RDF>\n",
       " </metadata>\n",
       " <defs>\n",
       "  <style type=\"text/css\">*{stroke-linejoin: round; stroke-linecap: butt}</style>\n",
       " </defs>\n",
       " <g id=\"figure_1\">\n",
       "  <g id=\"patch_1\">\n",
       "   <path d=\"M 0 237.95 \n",
       "L 928.9269 237.95 \n",
       "L 928.9269 0 \n",
       "L 0 0 \n",
       "z\n",
       "\" style=\"fill: #ffffff\"/>\n",
       "  </g>\n",
       "  <g id=\"axes_1\">\n",
       "   <g id=\"line2d_1\">\n",
       "    <path d=\"M 184.9401 166.49 \n",
       "L 215.5401 166.49 \n",
       "L 246.1401 166.49 \n",
       "\" clip-path=\"url(#pa3099e34fe)\" style=\"fill: none; stroke: #000000; stroke-width: 2; stroke-linecap: round\"/>\n",
       "   </g>\n",
       "   <g id=\"line2d_2\">\n",
       "    <path d=\"M 246.1401 44.09 \n",
       "L 230.8401 44.09 \n",
       "L 215.5401 44.09 \n",
       "\" clip-path=\"url(#pa3099e34fe)\" style=\"fill: none; stroke: #000000; stroke-width: 2; stroke-linecap: round\"/>\n",
       "   </g>\n",
       "   <g id=\"line2d_3\">\n",
       "    <path d=\"M 207.8901 44.09 \n",
       "L 200.2401 44.09 \n",
       "L 184.9401 44.09 \n",
       "\" clip-path=\"url(#pa3099e34fe)\" style=\"fill: none; stroke: #000000; stroke-width: 2; stroke-linecap: round\"/>\n",
       "   </g>\n",
       "   <g id=\"patch_2\">\n",
       "    <path d=\"M 207.8901 41.795 \n",
       "L 215.5401 44.09 \n",
       "L 207.8901 46.385 \n",
       "z\n",
       "\" clip-path=\"url(#pa3099e34fe)\"/>\n",
       "   </g>\n",
       "   <g id=\"line2d_4\">\n",
       "    <path d=\"M 246.1401 44.09 \n",
       "L 261.4401 44.09 \n",
       "L 276.7401 44.09 \n",
       "\" clip-path=\"url(#pa3099e34fe)\" style=\"fill: none; stroke: #000000; stroke-width: 2; stroke-linecap: round\"/>\n",
       "   </g>\n",
       "   <g id=\"line2d_5\">\n",
       "    <path d=\"M 276.7401 172.61 \n",
       "L 276.7401 157.31 \n",
       "L 276.7401 142.01 \n",
       "\" clip-path=\"url(#pa3099e34fe)\" style=\"fill: none; stroke: #000000; stroke-linecap: round\"/>\n",
       "   </g>\n",
       "   <g id=\"line2d_6\">\n",
       "    <path d=\"M 276.7401 142.01 \n",
       "L 284.3901 142.01 \n",
       "L 284.3901 142.01 \n",
       "\" clip-path=\"url(#pa3099e34fe)\" style=\"fill: none; stroke: #000000; stroke-linecap: round\"/>\n",
       "   </g>\n",
       "   <g id=\"patch_3\">\n",
       "    <path d=\"M 284.3901 139.715 \n",
       "L 292.0401 142.01 \n",
       "L 284.3901 144.305 \n",
       "z\n",
       "\" clip-path=\"url(#pa3099e34fe)\"/>\n",
       "   </g>\n",
       "   <g id=\"line2d_7\">\n",
       "    <path d=\"M 276.7401 166.49 \n",
       "L 261.4401 166.49 \n",
       "L 246.1401 166.49 \n",
       "\" clip-path=\"url(#pa3099e34fe)\" style=\"fill: none; stroke: #000000; stroke-width: 2; stroke-linecap: round\"/>\n",
       "   </g>\n",
       "   <g id=\"line2d_8\">\n",
       "    <path d=\"M 276.7401 166.49 \n",
       "L 292.0401 166.49 \n",
       "L 307.3401 166.49 \n",
       "\" clip-path=\"url(#pa3099e34fe)\" style=\"fill: none; stroke: #000000; stroke-width: 2; stroke-linecap: round\"/>\n",
       "   </g>\n",
       "   <g id=\"line2d_9\">\n",
       "    <path d=\"M 276.7401 44.09 \n",
       "L 292.0401 44.09 \n",
       "L 307.3401 44.09 \n",
       "\" clip-path=\"url(#pa3099e34fe)\" style=\"fill: none; stroke: #000000; stroke-width: 2; stroke-linecap: round\"/>\n",
       "   </g>\n",
       "   <g id=\"line2d_10\">\n",
       "    <path d=\"M 307.3401 44.09 \n",
       "L 353.2401 44.09 \n",
       "L 355.7901 36.44 \n",
       "L 360.8901 51.74 \n",
       "L 365.9901 36.44 \n",
       "L 371.0901 51.74 \n",
       "L 376.1901 36.44 \n",
       "L 381.2901 51.74 \n",
       "L 383.8401 44.09 \n",
       "L 429.7401 44.09 \n",
       "\" clip-path=\"url(#pa3099e34fe)\" style=\"fill: none; stroke: #000000; stroke-width: 2; stroke-linecap: round\"/>\n",
       "   </g>\n",
       "   <g id=\"line2d_11\">\n",
       "    <path d=\"M 429.7401 166.49 \n",
       "L 368.5401 166.49 \n",
       "L 307.3401 166.49 \n",
       "\" clip-path=\"url(#pa3099e34fe)\" style=\"fill: none; stroke: #000000; stroke-width: 2; stroke-linecap: round\"/>\n",
       "   </g>\n",
       "   <g id=\"line2d_12\">\n",
       "    <path d=\"M 429.7401 44.09 \n",
       "L 488.1861 44.09 \n",
       "M 488.1861 36.44 \n",
       "L 488.1861 51.74 \n",
       "M 493.6941 36.44 \n",
       "L 493.6941 51.74 \n",
       "M 493.6941 44.09 \n",
       "L 552.1401 44.09 \n",
       "\" clip-path=\"url(#pa3099e34fe)\" style=\"fill: none; stroke: #000000; stroke-width: 2; stroke-linecap: round\"/>\n",
       "   </g>\n",
       "   <g id=\"line2d_13\">\n",
       "    <path d=\"M 552.1401 166.49 \n",
       "L 490.9401 166.49 \n",
       "L 429.7401 166.49 \n",
       "\" clip-path=\"url(#pa3099e34fe)\" style=\"fill: none; stroke: #000000; stroke-width: 2; stroke-linecap: round\"/>\n",
       "   </g>\n",
       "   <g id=\"line2d_14\">\n",
       "    <path d=\"M 552.1401 44.09 \n",
       "L 552.1401 71.936 \n",
       "M 559.7901 71.936 \n",
       "L 544.4901 71.936 \n",
       "M 559.7901 77.444 \n",
       "L 544.4901 77.444 \n",
       "M 552.1401 77.444 \n",
       "L 552.1401 105.29 \n",
       "\" clip-path=\"url(#pa3099e34fe)\" style=\"fill: none; stroke: #000000; stroke-width: 2; stroke-linecap: round\"/>\n",
       "   </g>\n",
       "   <g id=\"line2d_15\">\n",
       "    <path d=\"M 552.1401 105.29 \n",
       "L 552.1401 120.59 \n",
       "L 559.7901 123.14 \n",
       "L 544.4901 128.24 \n",
       "L 559.7901 133.34 \n",
       "L 544.4901 138.44 \n",
       "L 559.7901 143.54 \n",
       "L 544.4901 148.64 \n",
       "L 552.1401 151.19 \n",
       "L 552.1401 166.49 \n",
       "\" clip-path=\"url(#pa3099e34fe)\" style=\"fill: none; stroke: #000000; stroke-width: 2; stroke-linecap: round\"/>\n",
       "   </g>\n",
       "   <g id=\"line2d_16\">\n",
       "    <path d=\"M 552.1401 44.09 \n",
       "L 582.7401 44.09 \n",
       "L 613.3401 44.09 \n",
       "\" clip-path=\"url(#pa3099e34fe)\" style=\"fill: none; stroke: #000000; stroke-width: 2; stroke-linecap: round\"/>\n",
       "   </g>\n",
       "   <g id=\"line2d_17\">\n",
       "    <path d=\"M 613.3401 166.49 \n",
       "L 582.7401 166.49 \n",
       "L 552.1401 166.49 \n",
       "\" clip-path=\"url(#pa3099e34fe)\" style=\"fill: none; stroke: #000000; stroke-width: 2; stroke-linecap: round\"/>\n",
       "   </g>\n",
       "   <g id=\"line2d_18\">\n",
       "    <path d=\"M 613.3401 44.09 \n",
       "L 613.3401 102.536 \n",
       "M 620.9901 102.536 \n",
       "L 605.6901 102.536 \n",
       "M 620.9901 108.044 \n",
       "L 605.6901 108.044 \n",
       "M 613.3401 108.044 \n",
       "L 613.3401 166.49 \n",
       "\" clip-path=\"url(#pa3099e34fe)\" style=\"fill: none; stroke: #000000; stroke-width: 2; stroke-linecap: round\"/>\n",
       "   </g>\n",
       "   <g id=\"line2d_19\">\n",
       "    <path d=\"M 613.3401 44.09 \n",
       "L 628.6401 44.09 \n",
       "L 643.9401 44.09 \n",
       "\" clip-path=\"url(#pa3099e34fe)\" style=\"fill: none; stroke: #000000; stroke-width: 2; stroke-linecap: round\"/>\n",
       "   </g>\n",
       "   <g id=\"line2d_20\">\n",
       "    <path d=\"M 651.5901 44.09 \n",
       "L 659.2401 44.09 \n",
       "L 674.5401 44.09 \n",
       "\" clip-path=\"url(#pa3099e34fe)\" style=\"fill: none; stroke: #000000; stroke-width: 2; stroke-linecap: round\"/>\n",
       "   </g>\n",
       "   <g id=\"patch_4\">\n",
       "    <path d=\"M 651.5901 46.385 \n",
       "L 643.9401 44.09 \n",
       "L 651.5901 41.795 \n",
       "z\n",
       "\" clip-path=\"url(#pa3099e34fe)\"/>\n",
       "   </g>\n",
       "   <g id=\"line2d_21\">\n",
       "    <path d=\"M 674.5401 166.49 \n",
       "L 643.9401 166.49 \n",
       "L 613.3401 166.49 \n",
       "\" clip-path=\"url(#pa3099e34fe)\" style=\"fill: none; stroke: #000000; stroke-width: 2; stroke-linecap: round\"/>\n",
       "   </g>\n",
       "   <g id=\"line2d_22\">\n",
       "    <path d=\"M 674.5401 44.09 \n",
       "L 689.8401 44.09 \n",
       "L 705.1401 44.09 \n",
       "\" clip-path=\"url(#pa3099e34fe)\" style=\"fill: none; stroke: #000000; stroke-width: 2; stroke-linecap: round\"/>\n",
       "   </g>\n",
       "   <g id=\"line2d_23\">\n",
       "    <path d=\"M 705.1401 172.61 \n",
       "L 705.1401 157.31 \n",
       "L 705.1401 142.01 \n",
       "\" clip-path=\"url(#pa3099e34fe)\" style=\"fill: none; stroke: #000000; stroke-linecap: round\"/>\n",
       "   </g>\n",
       "   <g id=\"line2d_24\">\n",
       "    <path d=\"M 705.1401 142.01 \n",
       "L 697.4901 142.01 \n",
       "L 697.4901 142.01 \n",
       "\" clip-path=\"url(#pa3099e34fe)\" style=\"fill: none; stroke: #000000; stroke-linecap: round\"/>\n",
       "   </g>\n",
       "   <g id=\"patch_5\">\n",
       "    <path d=\"M 697.4901 144.305 \n",
       "L 689.8401 142.01 \n",
       "L 697.4901 139.715 \n",
       "z\n",
       "\" clip-path=\"url(#pa3099e34fe)\"/>\n",
       "   </g>\n",
       "   <g id=\"line2d_25\">\n",
       "    <path d=\"M 705.1401 166.49 \n",
       "L 689.8401 166.49 \n",
       "L 674.5401 166.49 \n",
       "\" clip-path=\"url(#pa3099e34fe)\" style=\"fill: none; stroke: #000000; stroke-width: 2; stroke-linecap: round\"/>\n",
       "   </g>\n",
       "   <g id=\"line2d_26\">\n",
       "    <path d=\"M 705.1401 166.49 \n",
       "L 720.4401 166.49 \n",
       "L 735.7401 166.49 \n",
       "\" clip-path=\"url(#pa3099e34fe)\" style=\"fill: none; stroke: #000000; stroke-width: 2; stroke-linecap: round\"/>\n",
       "   </g>\n",
       "   <g id=\"line2d_27\">\n",
       "    <path d=\"M 705.1401 44.09 \n",
       "L 720.4401 44.09 \n",
       "L 735.7401 44.09 \n",
       "\" clip-path=\"url(#pa3099e34fe)\" style=\"fill: none; stroke: #000000; stroke-width: 2; stroke-linecap: round\"/>\n",
       "   </g>\n",
       "   <g id=\"text_1\">\n",
       "    <g clip-path=\"url(#pa3099e34fe)\">\n",
       "     <!-- + -->\n",
       "     <g transform=\"translate(178.864827 78.691094) scale(0.145 -0.145)\">\n",
       "      <defs>\n",
       "       <path id=\"DejaVuSans-2b\" d=\"M 2944 4013 \n",
       "L 2944 2272 \n",
       "L 4684 2272 \n",
       "L 4684 1741 \n",
       "L 2944 1741 \n",
       "L 2944 0 \n",
       "L 2419 0 \n",
       "L 2419 1741 \n",
       "L 678 1741 \n",
       "L 678 2272 \n",
       "L 2419 2272 \n",
       "L 2419 4013 \n",
       "L 2944 4013 \n",
       "z\n",
       "\" transform=\"scale(0.015625)\"/>\n",
       "      </defs>\n",
       "      <use xlink:href=\"#DejaVuSans-2b\"/>\n",
       "     </g>\n",
       "    </g>\n",
       "   </g>\n",
       "   <g id=\"text_2\">\n",
       "    <g clip-path=\"url(#pa3099e34fe)\">\n",
       "     <!-- $V1$ -->\n",
       "     <g transform=\"translate(175.2976 109.291094) scale(0.145 -0.145)\">\n",
       "      <defs>\n",
       "       <path id=\"DejaVuSans-Oblique-56\" d=\"M 1319 0 \n",
       "L 500 4666 \n",
       "L 1119 4666 \n",
       "L 1797 653 \n",
       "L 4063 4666 \n",
       "L 4750 4666 \n",
       "L 2053 0 \n",
       "L 1319 0 \n",
       "z\n",
       "\" transform=\"scale(0.015625)\"/>\n",
       "       <path id=\"DejaVuSans-31\" d=\"M 794 531 \n",
       "L 1825 531 \n",
       "L 1825 4091 \n",
       "L 703 3866 \n",
       "L 703 4441 \n",
       "L 1819 4666 \n",
       "L 2450 4666 \n",
       "L 2450 531 \n",
       "L 3481 531 \n",
       "L 3481 0 \n",
       "L 794 0 \n",
       "L 794 531 \n",
       "z\n",
       "\" transform=\"scale(0.015625)\"/>\n",
       "      </defs>\n",
       "      <use xlink:href=\"#DejaVuSans-Oblique-56\" transform=\"translate(0 0.09375)\"/>\n",
       "      <use xlink:href=\"#DejaVuSans-31\" transform=\"translate(68.408203 0.09375)\"/>\n",
       "     </g>\n",
       "    </g>\n",
       "   </g>\n",
       "   <g id=\"text_3\">\n",
       "    <g clip-path=\"url(#pa3099e34fe)\">\n",
       "     <!-- - -->\n",
       "     <g transform=\"translate(182.324436 139.891094) scale(0.145 -0.145)\">\n",
       "      <defs>\n",
       "       <path id=\"DejaVuSans-2d\" d=\"M 313 2009 \n",
       "L 1997 2009 \n",
       "L 1997 1497 \n",
       "L 313 1497 \n",
       "L 313 2009 \n",
       "z\n",
       "\" transform=\"scale(0.015625)\"/>\n",
       "      </defs>\n",
       "      <use xlink:href=\"#DejaVuSans-2d\"/>\n",
       "     </g>\n",
       "    </g>\n",
       "   </g>\n",
       "   <g id=\"text_4\">\n",
       "    <g clip-path=\"url(#pa3099e34fe)\">\n",
       "     <!-- $I1$ -->\n",
       "     <g transform=\"translate(193.4251 38.014453) scale(0.145 -0.145)\">\n",
       "      <defs>\n",
       "       <path id=\"DejaVuSans-Oblique-49\" d=\"M 1081 4666 \n",
       "L 1716 4666 \n",
       "L 806 0 \n",
       "L 172 0 \n",
       "L 1081 4666 \n",
       "z\n",
       "\" transform=\"scale(0.015625)\"/>\n",
       "      </defs>\n",
       "      <use xlink:href=\"#DejaVuSans-Oblique-49\" transform=\"translate(0 0.09375)\"/>\n",
       "      <use xlink:href=\"#DejaVuSans-31\" transform=\"translate(29.492188 0.09375)\"/>\n",
       "     </g>\n",
       "    </g>\n",
       "   </g>\n",
       "   <g id=\"text_5\">\n",
       "    <g clip-path=\"url(#pa3099e34fe)\">\n",
       "     <!-- $ Z_{11} = \\frac{\\left(s + 2\\right) \\left(s + 4\\right)}{s \\left(s + 3\\right)} $ -->\n",
       "     <g transform=\"translate(200.9926 203.725) scale(0.205 -0.205)\">\n",
       "      <defs>\n",
       "       <path id=\"DejaVuSans-Oblique-5a\" d=\"M 838 4666 \n",
       "L 4500 4666 \n",
       "L 4409 4184 \n",
       "L 794 531 \n",
       "L 3769 531 \n",
       "L 3669 0 \n",
       "L -141 0 \n",
       "L -50 481 \n",
       "L 3566 4134 \n",
       "L 738 4134 \n",
       "L 838 4666 \n",
       "z\n",
       "\" transform=\"scale(0.015625)\"/>\n",
       "       <path id=\"DejaVuSans-3d\" d=\"M 678 2906 \n",
       "L 4684 2906 \n",
       "L 4684 2381 \n",
       "L 678 2381 \n",
       "L 678 2906 \n",
       "z\n",
       "M 678 1631 \n",
       "L 4684 1631 \n",
       "L 4684 1100 \n",
       "L 678 1100 \n",
       "L 678 1631 \n",
       "z\n",
       "\" transform=\"scale(0.015625)\"/>\n",
       "       <path id=\"DejaVuSans-28\" d=\"M 1984 4856 \n",
       "Q 1566 4138 1362 3434 \n",
       "Q 1159 2731 1159 2009 \n",
       "Q 1159 1288 1364 580 \n",
       "Q 1569 -128 1984 -844 \n",
       "L 1484 -844 \n",
       "Q 1016 -109 783 600 \n",
       "Q 550 1309 550 2009 \n",
       "Q 550 2706 781 3412 \n",
       "Q 1013 4119 1484 4856 \n",
       "L 1984 4856 \n",
       "z\n",
       "\" transform=\"scale(0.015625)\"/>\n",
       "       <path id=\"DejaVuSans-Oblique-73\" d=\"M 3200 3397 \n",
       "L 3091 2853 \n",
       "Q 2863 2978 2609 3040 \n",
       "Q 2356 3103 2088 3103 \n",
       "Q 1634 3103 1373 2948 \n",
       "Q 1113 2794 1113 2528 \n",
       "Q 1113 2219 1719 2053 \n",
       "Q 1766 2041 1788 2034 \n",
       "L 1972 1978 \n",
       "Q 2547 1819 2739 1644 \n",
       "Q 2931 1469 2931 1166 \n",
       "Q 2931 609 2489 259 \n",
       "Q 2047 -91 1331 -91 \n",
       "Q 1053 -91 747 -37 \n",
       "Q 441 16 72 128 \n",
       "L 184 722 \n",
       "Q 500 559 806 475 \n",
       "Q 1113 391 1394 391 \n",
       "Q 1816 391 2080 572 \n",
       "Q 2344 753 2344 1031 \n",
       "Q 2344 1331 1650 1516 \n",
       "L 1591 1531 \n",
       "L 1394 1581 \n",
       "Q 956 1697 753 1886 \n",
       "Q 550 2075 550 2369 \n",
       "Q 550 2928 970 3256 \n",
       "Q 1391 3584 2113 3584 \n",
       "Q 2397 3584 2667 3537 \n",
       "Q 2938 3491 3200 3397 \n",
       "z\n",
       "\" transform=\"scale(0.015625)\"/>\n",
       "       <path id=\"DejaVuSans-32\" d=\"M 1228 531 \n",
       "L 3431 531 \n",
       "L 3431 0 \n",
       "L 469 0 \n",
       "L 469 531 \n",
       "Q 828 903 1448 1529 \n",
       "Q 2069 2156 2228 2338 \n",
       "Q 2531 2678 2651 2914 \n",
       "Q 2772 3150 2772 3378 \n",
       "Q 2772 3750 2511 3984 \n",
       "Q 2250 4219 1831 4219 \n",
       "Q 1534 4219 1204 4116 \n",
       "Q 875 4013 500 3803 \n",
       "L 500 4441 \n",
       "Q 881 4594 1212 4672 \n",
       "Q 1544 4750 1819 4750 \n",
       "Q 2544 4750 2975 4387 \n",
       "Q 3406 4025 3406 3419 \n",
       "Q 3406 3131 3298 2873 \n",
       "Q 3191 2616 2906 2266 \n",
       "Q 2828 2175 2409 1742 \n",
       "Q 1991 1309 1228 531 \n",
       "z\n",
       "\" transform=\"scale(0.015625)\"/>\n",
       "       <path id=\"DejaVuSans-29\" d=\"M 513 4856 \n",
       "L 1013 4856 \n",
       "Q 1481 4119 1714 3412 \n",
       "Q 1947 2706 1947 2009 \n",
       "Q 1947 1309 1714 600 \n",
       "Q 1481 -109 1013 -844 \n",
       "L 513 -844 \n",
       "Q 928 -128 1133 580 \n",
       "Q 1338 1288 1338 2009 \n",
       "Q 1338 2731 1133 3434 \n",
       "Q 928 4138 513 4856 \n",
       "z\n",
       "\" transform=\"scale(0.015625)\"/>\n",
       "       <path id=\"DejaVuSans-34\" d=\"M 2419 4116 \n",
       "L 825 1625 \n",
       "L 2419 1625 \n",
       "L 2419 4116 \n",
       "z\n",
       "M 2253 4666 \n",
       "L 3047 4666 \n",
       "L 3047 1625 \n",
       "L 3713 1625 \n",
       "L 3713 1100 \n",
       "L 3047 1100 \n",
       "L 3047 0 \n",
       "L 2419 0 \n",
       "L 2419 1100 \n",
       "L 313 1100 \n",
       "L 313 1709 \n",
       "L 2253 4666 \n",
       "z\n",
       "\" transform=\"scale(0.015625)\"/>\n",
       "       <path id=\"DejaVuSans-33\" d=\"M 2597 2516 \n",
       "Q 3050 2419 3304 2112 \n",
       "Q 3559 1806 3559 1356 \n",
       "Q 3559 666 3084 287 \n",
       "Q 2609 -91 1734 -91 \n",
       "Q 1441 -91 1130 -33 \n",
       "Q 819 25 488 141 \n",
       "L 488 750 \n",
       "Q 750 597 1062 519 \n",
       "Q 1375 441 1716 441 \n",
       "Q 2309 441 2620 675 \n",
       "Q 2931 909 2931 1356 \n",
       "Q 2931 1769 2642 2001 \n",
       "Q 2353 2234 1838 2234 \n",
       "L 1294 2234 \n",
       "L 1294 2753 \n",
       "L 1863 2753 \n",
       "Q 2328 2753 2575 2939 \n",
       "Q 2822 3125 2822 3475 \n",
       "Q 2822 3834 2567 4026 \n",
       "Q 2313 4219 1838 4219 \n",
       "Q 1578 4219 1281 4162 \n",
       "Q 984 4106 628 3988 \n",
       "L 628 4550 \n",
       "Q 988 4650 1302 4700 \n",
       "Q 1616 4750 1894 4750 \n",
       "Q 2613 4750 3031 4423 \n",
       "Q 3450 4097 3450 3541 \n",
       "Q 3450 3153 3228 2886 \n",
       "Q 3006 2619 2597 2516 \n",
       "z\n",
       "\" transform=\"scale(0.015625)\"/>\n",
       "      </defs>\n",
       "      <use xlink:href=\"#DejaVuSans-Oblique-5a\" transform=\"translate(0 0.859375)\"/>\n",
       "      <use xlink:href=\"#DejaVuSans-31\" transform=\"translate(68.505859 -15.546875) scale(0.7)\"/>\n",
       "      <use xlink:href=\"#DejaVuSans-31\" transform=\"translate(113.041992 -15.546875) scale(0.7)\"/>\n",
       "      <use xlink:href=\"#DejaVuSans-3d\" transform=\"translate(179.794922 0.859375)\"/>\n",
       "      <use xlink:href=\"#DejaVuSans-28\" transform=\"translate(283.066406 53.8875) scale(0.7)\"/>\n",
       "      <use xlink:href=\"#DejaVuSans-Oblique-73\" transform=\"translate(310.375977 53.8875) scale(0.7)\"/>\n",
       "      <use xlink:href=\"#DejaVuSans-2b\" transform=\"translate(360.483398 53.8875) scale(0.7)\"/>\n",
       "      <use xlink:href=\"#DejaVuSans-32\" transform=\"translate(432.773438 53.8875) scale(0.7)\"/>\n",
       "      <use xlink:href=\"#DejaVuSans-29\" transform=\"translate(477.30957 53.8875) scale(0.7)\"/>\n",
       "      <use xlink:href=\"#DejaVuSans-28\" transform=\"translate(504.619141 53.8875) scale(0.7)\"/>\n",
       "      <use xlink:href=\"#DejaVuSans-Oblique-73\" transform=\"translate(531.928711 53.8875) scale(0.7)\"/>\n",
       "      <use xlink:href=\"#DejaVuSans-2b\" transform=\"translate(582.036133 53.8875) scale(0.7)\"/>\n",
       "      <use xlink:href=\"#DejaVuSans-34\" transform=\"translate(654.326172 53.8875) scale(0.7)\"/>\n",
       "      <use xlink:href=\"#DejaVuSans-29\" transform=\"translate(698.862305 53.8875) scale(0.7)\"/>\n",
       "      <use xlink:href=\"#DejaVuSans-Oblique-73\" transform=\"translate(376.066406 -39.70625) scale(0.7)\"/>\n",
       "      <use xlink:href=\"#DejaVuSans-28\" transform=\"translate(412.536133 -39.70625) scale(0.7)\"/>\n",
       "      <use xlink:href=\"#DejaVuSans-Oblique-73\" transform=\"translate(439.845703 -39.70625) scale(0.7)\"/>\n",
       "      <use xlink:href=\"#DejaVuSans-2b\" transform=\"translate(489.953125 -39.70625) scale(0.7)\"/>\n",
       "      <use xlink:href=\"#DejaVuSans-33\" transform=\"translate(562.243164 -39.70625) scale(0.7)\"/>\n",
       "      <use xlink:href=\"#DejaVuSans-29\" transform=\"translate(606.779297 -39.70625) scale(0.7)\"/>\n",
       "      <path d=\"M 283.066406 19.65625 \n",
       "L 283.066406 25.90625 \n",
       "L 726.171875 25.90625 \n",
       "L 726.171875 19.65625 \n",
       "L 283.066406 19.65625 \n",
       "z\n",
       "\"/>\n",
       "     </g>\n",
       "    </g>\n",
       "   </g>\n",
       "   <g id=\"text_6\">\n",
       "    <g clip-path=\"url(#pa3099e34fe)\">\n",
       "     <!-- $1$ -->\n",
       "     <g transform=\"translate(363.9001 30.364453) scale(0.145 -0.145)\">\n",
       "      <use xlink:href=\"#DejaVuSans-31\" transform=\"translate(0 0.09375)\"/>\n",
       "     </g>\n",
       "    </g>\n",
       "   </g>\n",
       "   <g id=\"text_7\">\n",
       "    <g clip-path=\"url(#pa3099e34fe)\">\n",
       "     <!-- $\\frac{2}{5}$ -->\n",
       "     <g transform=\"translate(486.7351 27.58) scale(0.145 -0.145)\">\n",
       "      <defs>\n",
       "       <path id=\"DejaVuSans-35\" d=\"M 691 4666 \n",
       "L 3169 4666 \n",
       "L 3169 4134 \n",
       "L 1269 4134 \n",
       "L 1269 2991 \n",
       "Q 1406 3038 1543 3061 \n",
       "Q 1681 3084 1819 3084 \n",
       "Q 2600 3084 3056 2656 \n",
       "Q 3513 2228 3513 1497 \n",
       "Q 3513 744 3044 326 \n",
       "Q 2575 -91 1722 -91 \n",
       "Q 1428 -91 1123 -41 \n",
       "Q 819 9 494 109 \n",
       "L 494 744 \n",
       "Q 775 591 1075 516 \n",
       "Q 1375 441 1709 441 \n",
       "Q 2250 441 2565 725 \n",
       "Q 2881 1009 2881 1497 \n",
       "Q 2881 1984 2565 2268 \n",
       "Q 2250 2553 1709 2553 \n",
       "Q 1456 2553 1204 2497 \n",
       "Q 953 2441 691 2322 \n",
       "L 691 4666 \n",
       "z\n",
       "\" transform=\"scale(0.015625)\"/>\n",
       "      </defs>\n",
       "      <use xlink:href=\"#DejaVuSans-32\" transform=\"translate(0 44.046875) scale(0.7)\"/>\n",
       "      <use xlink:href=\"#DejaVuSans-35\" transform=\"translate(0 -38.2375) scale(0.7)\"/>\n",
       "      <path d=\"M 0 19.046875 \n",
       "L 0 25.296875 \n",
       "L 44.536133 25.296875 \n",
       "L 44.536133 19.046875 \n",
       "L 0 19.046875 \n",
       "z\n",
       "\"/>\n",
       "     </g>\n",
       "    </g>\n",
       "   </g>\n",
       "   <g id=\"text_8\">\n",
       "    <g clip-path=\"url(#pa3099e34fe)\">\n",
       "     <!-- $4$ -->\n",
       "     <g transform=\"translate(532.1501 78.691094) scale(0.145 -0.145)\">\n",
       "      <use xlink:href=\"#DejaVuSans-34\" transform=\"translate(0 0.09375)\"/>\n",
       "     </g>\n",
       "    </g>\n",
       "   </g>\n",
       "   <g id=\"text_9\">\n",
       "    <g clip-path=\"url(#pa3099e34fe)\">\n",
       "     <!-- $\\frac{1}{4}$ -->\n",
       "     <g transform=\"translate(533.0201 139.95) scale(0.145 -0.145)\">\n",
       "      <use xlink:href=\"#DejaVuSans-31\" transform=\"translate(0 43.965625) scale(0.7)\"/>\n",
       "      <use xlink:href=\"#DejaVuSans-34\" transform=\"translate(0 -38.31875) scale(0.7)\"/>\n",
       "      <path d=\"M 0 18.965625 \n",
       "L 0 25.215625 \n",
       "L 44.536133 25.215625 \n",
       "L 44.536133 18.965625 \n",
       "L 0 18.965625 \n",
       "z\n",
       "\"/>\n",
       "     </g>\n",
       "    </g>\n",
       "   </g>\n",
       "   <g id=\"text_10\">\n",
       "    <g clip-path=\"url(#pa3099e34fe)\">\n",
       "     <!-- $2$ -->\n",
       "     <g transform=\"translate(593.3501 109.291094) scale(0.145 -0.145)\">\n",
       "      <use xlink:href=\"#DejaVuSans-32\" transform=\"translate(0 0.78125)\"/>\n",
       "     </g>\n",
       "    </g>\n",
       "   </g>\n",
       "   <g id=\"text_11\">\n",
       "    <g clip-path=\"url(#pa3099e34fe)\">\n",
       "     <!-- $I2$ -->\n",
       "     <g transform=\"translate(652.4251 38.014453) scale(0.145 -0.145)\">\n",
       "      <use xlink:href=\"#DejaVuSans-Oblique-49\" transform=\"translate(0 0.78125)\"/>\n",
       "      <use xlink:href=\"#DejaVuSans-32\" transform=\"translate(29.492188 0.78125)\"/>\n",
       "     </g>\n",
       "    </g>\n",
       "   </g>\n",
       "   <g id=\"text_12\">\n",
       "    <g clip-path=\"url(#pa3099e34fe)\">\n",
       "     <!-- + -->\n",
       "     <g transform=\"translate(668.464827 78.691094) scale(0.145 -0.145)\">\n",
       "      <use xlink:href=\"#DejaVuSans-2b\"/>\n",
       "     </g>\n",
       "    </g>\n",
       "   </g>\n",
       "   <g id=\"text_13\">\n",
       "    <g clip-path=\"url(#pa3099e34fe)\">\n",
       "     <!-- $V2$ -->\n",
       "     <g transform=\"translate(664.8976 109.291094) scale(0.145 -0.145)\">\n",
       "      <use xlink:href=\"#DejaVuSans-Oblique-56\" transform=\"translate(0 0.78125)\"/>\n",
       "      <use xlink:href=\"#DejaVuSans-32\" transform=\"translate(68.408203 0.78125)\"/>\n",
       "     </g>\n",
       "    </g>\n",
       "   </g>\n",
       "   <g id=\"text_14\">\n",
       "    <g clip-path=\"url(#pa3099e34fe)\">\n",
       "     <!-- - -->\n",
       "     <g transform=\"translate(671.924436 139.891094) scale(0.145 -0.145)\">\n",
       "      <use xlink:href=\"#DejaVuSans-2d\"/>\n",
       "     </g>\n",
       "    </g>\n",
       "   </g>\n",
       "   <g id=\"text_15\">\n",
       "    <g clip-path=\"url(#pa3099e34fe)\">\n",
       "     <!-- $ Z_{21} = \\frac{k \\left(s + 1\\right)}{s \\left(s + 3\\right)} $ -->\n",
       "     <g transform=\"translate(647.9451 203.725) scale(0.205 -0.205)\">\n",
       "      <defs>\n",
       "       <path id=\"DejaVuSans-Oblique-6b\" d=\"M 1172 4863 \n",
       "L 1747 4863 \n",
       "L 1197 2028 \n",
       "L 3169 3500 \n",
       "L 3916 3500 \n",
       "L 1716 1825 \n",
       "L 3322 0 \n",
       "L 2625 0 \n",
       "L 1131 1709 \n",
       "L 800 0 \n",
       "L 225 0 \n",
       "L 1172 4863 \n",
       "z\n",
       "\" transform=\"scale(0.015625)\"/>\n",
       "      </defs>\n",
       "      <use xlink:href=\"#DejaVuSans-Oblique-5a\" transform=\"translate(0 0.782813)\"/>\n",
       "      <use xlink:href=\"#DejaVuSans-32\" transform=\"translate(68.505859 -15.623437) scale(0.7)\"/>\n",
       "      <use xlink:href=\"#DejaVuSans-31\" transform=\"translate(113.041992 -15.623437) scale(0.7)\"/>\n",
       "      <use xlink:href=\"#DejaVuSans-3d\" transform=\"translate(179.794922 0.782813)\"/>\n",
       "      <use xlink:href=\"#DejaVuSans-Oblique-6b\" transform=\"translate(283.066406 53.810938) scale(0.7)\"/>\n",
       "      <use xlink:href=\"#DejaVuSans-28\" transform=\"translate(323.603516 53.810938) scale(0.7)\"/>\n",
       "      <use xlink:href=\"#DejaVuSans-Oblique-73\" transform=\"translate(350.913086 53.810938) scale(0.7)\"/>\n",
       "      <use xlink:href=\"#DejaVuSans-2b\" transform=\"translate(401.020508 53.810938) scale(0.7)\"/>\n",
       "      <use xlink:href=\"#DejaVuSans-31\" transform=\"translate(473.310547 53.810938) scale(0.7)\"/>\n",
       "      <use xlink:href=\"#DejaVuSans-29\" transform=\"translate(517.84668 53.810938) scale(0.7)\"/>\n",
       "      <use xlink:href=\"#DejaVuSans-Oblique-73\" transform=\"translate(285.066406 -39.782812) scale(0.7)\"/>\n",
       "      <use xlink:href=\"#DejaVuSans-28\" transform=\"translate(321.536133 -39.782812) scale(0.7)\"/>\n",
       "      <use xlink:href=\"#DejaVuSans-Oblique-73\" transform=\"translate(348.845703 -39.782812) scale(0.7)\"/>\n",
       "      <use xlink:href=\"#DejaVuSans-2b\" transform=\"translate(398.953125 -39.782812) scale(0.7)\"/>\n",
       "      <use xlink:href=\"#DejaVuSans-33\" transform=\"translate(471.243164 -39.782812) scale(0.7)\"/>\n",
       "      <use xlink:href=\"#DejaVuSans-29\" transform=\"translate(515.779297 -39.782812) scale(0.7)\"/>\n",
       "      <path d=\"M 283.066406 19.579688 \n",
       "L 283.066406 25.829688 \n",
       "L 545.15625 25.829688 \n",
       "L 545.15625 19.579688 \n",
       "L 283.066406 19.579688 \n",
       "z\n",
       "\"/>\n",
       "     </g>\n",
       "    </g>\n",
       "   </g>\n",
       "   <g id=\"patch_6\">\n",
       "    <path d=\"M 184.9401 46.385 \n",
       "C 185.548741 46.385 186.132536 46.143184 186.56291 45.71281 \n",
       "C 186.993284 45.282436 187.2351 44.698641 187.2351 44.09 \n",
       "C 187.2351 43.481359 186.993284 42.897564 186.56291 42.46719 \n",
       "C 186.132536 42.036816 185.548741 41.795 184.9401 41.795 \n",
       "C 184.331459 41.795 183.747664 42.036816 183.31729 42.46719 \n",
       "C 182.886916 42.897564 182.6451 43.481359 182.6451 44.09 \n",
       "C 182.6451 44.698641 182.886916 45.282436 183.31729 45.71281 \n",
       "C 183.747664 46.143184 184.331459 46.385 184.9401 46.385 \n",
       "z\n",
       "\" clip-path=\"url(#pa3099e34fe)\" style=\"fill: #ffffff; stroke: #000000; stroke-width: 2; stroke-linejoin: miter\"/>\n",
       "   </g>\n",
       "   <g id=\"patch_7\">\n",
       "    <path d=\"M 184.9401 168.785 \n",
       "C 185.548741 168.785 186.132536 168.543184 186.56291 168.11281 \n",
       "C 186.993284 167.682436 187.2351 167.098641 187.2351 166.49 \n",
       "C 187.2351 165.881359 186.993284 165.297564 186.56291 164.86719 \n",
       "C 186.132536 164.436816 185.548741 164.195 184.9401 164.195 \n",
       "C 184.331459 164.195 183.747664 164.436816 183.31729 164.86719 \n",
       "C 182.886916 165.297564 182.6451 165.881359 182.6451 166.49 \n",
       "C 182.6451 167.098641 182.886916 167.682436 183.31729 168.11281 \n",
       "C 183.747664 168.543184 184.331459 168.785 184.9401 168.785 \n",
       "z\n",
       "\" clip-path=\"url(#pa3099e34fe)\" style=\"fill: #ffffff; stroke: #000000; stroke-width: 2; stroke-linejoin: miter\"/>\n",
       "   </g>\n",
       "   <g id=\"patch_8\">\n",
       "    <path d=\"M 552.1401 46.385 \n",
       "C 552.748741 46.385 553.332536 46.143184 553.76291 45.71281 \n",
       "C 554.193284 45.282436 554.4351 44.698641 554.4351 44.09 \n",
       "C 554.4351 43.481359 554.193284 42.897564 553.76291 42.46719 \n",
       "C 553.332536 42.036816 552.748741 41.795 552.1401 41.795 \n",
       "C 551.531459 41.795 550.947664 42.036816 550.51729 42.46719 \n",
       "C 550.086916 42.897564 549.8451 43.481359 549.8451 44.09 \n",
       "C 549.8451 44.698641 550.086916 45.282436 550.51729 45.71281 \n",
       "C 550.947664 46.143184 551.531459 46.385 552.1401 46.385 \n",
       "z\n",
       "\" clip-path=\"url(#pa3099e34fe)\" style=\"stroke: #000000; stroke-width: 2; stroke-linejoin: miter\"/>\n",
       "   </g>\n",
       "   <g id=\"patch_9\">\n",
       "    <path d=\"M 552.1401 168.785 \n",
       "C 552.748741 168.785 553.332536 168.543184 553.76291 168.11281 \n",
       "C 554.193284 167.682436 554.4351 167.098641 554.4351 166.49 \n",
       "C 554.4351 165.881359 554.193284 165.297564 553.76291 164.86719 \n",
       "C 553.332536 164.436816 552.748741 164.195 552.1401 164.195 \n",
       "C 551.531459 164.195 550.947664 164.436816 550.51729 164.86719 \n",
       "C 550.086916 165.297564 549.8451 165.881359 549.8451 166.49 \n",
       "C 549.8451 167.098641 550.086916 167.682436 550.51729 168.11281 \n",
       "C 550.947664 168.543184 551.531459 168.785 552.1401 168.785 \n",
       "z\n",
       "\" clip-path=\"url(#pa3099e34fe)\" style=\"stroke: #000000; stroke-width: 2; stroke-linejoin: miter\"/>\n",
       "   </g>\n",
       "   <g id=\"patch_10\">\n",
       "    <path d=\"M 613.3401 46.385 \n",
       "C 613.948741 46.385 614.532536 46.143184 614.96291 45.71281 \n",
       "C 615.393284 45.282436 615.6351 44.698641 615.6351 44.09 \n",
       "C 615.6351 43.481359 615.393284 42.897564 614.96291 42.46719 \n",
       "C 614.532536 42.036816 613.948741 41.795 613.3401 41.795 \n",
       "C 612.731459 41.795 612.147664 42.036816 611.71729 42.46719 \n",
       "C 611.286916 42.897564 611.0451 43.481359 611.0451 44.09 \n",
       "C 611.0451 44.698641 611.286916 45.282436 611.71729 45.71281 \n",
       "C 612.147664 46.143184 612.731459 46.385 613.3401 46.385 \n",
       "z\n",
       "\" clip-path=\"url(#pa3099e34fe)\" style=\"stroke: #000000; stroke-width: 2; stroke-linejoin: miter\"/>\n",
       "   </g>\n",
       "   <g id=\"patch_11\">\n",
       "    <path d=\"M 613.3401 168.785 \n",
       "C 613.948741 168.785 614.532536 168.543184 614.96291 168.11281 \n",
       "C 615.393284 167.682436 615.6351 167.098641 615.6351 166.49 \n",
       "C 615.6351 165.881359 615.393284 165.297564 614.96291 164.86719 \n",
       "C 614.532536 164.436816 613.948741 164.195 613.3401 164.195 \n",
       "C 612.731459 164.195 612.147664 164.436816 611.71729 164.86719 \n",
       "C 611.286916 165.297564 611.0451 165.881359 611.0451 166.49 \n",
       "C 611.0451 167.098641 611.286916 167.682436 611.71729 168.11281 \n",
       "C 612.147664 168.543184 612.731459 168.785 613.3401 168.785 \n",
       "z\n",
       "\" clip-path=\"url(#pa3099e34fe)\" style=\"stroke: #000000; stroke-width: 2; stroke-linejoin: miter\"/>\n",
       "   </g>\n",
       "   <g id=\"patch_12\">\n",
       "    <path d=\"M 674.5401 46.385 \n",
       "C 675.148741 46.385 675.732536 46.143184 676.16291 45.71281 \n",
       "C 676.593284 45.282436 676.8351 44.698641 676.8351 44.09 \n",
       "C 676.8351 43.481359 676.593284 42.897564 676.16291 42.46719 \n",
       "C 675.732536 42.036816 675.148741 41.795 674.5401 41.795 \n",
       "C 673.931459 41.795 673.347664 42.036816 672.91729 42.46719 \n",
       "C 672.486916 42.897564 672.2451 43.481359 672.2451 44.09 \n",
       "C 672.2451 44.698641 672.486916 45.282436 672.91729 45.71281 \n",
       "C 673.347664 46.143184 673.931459 46.385 674.5401 46.385 \n",
       "z\n",
       "\" clip-path=\"url(#pa3099e34fe)\" style=\"fill: #ffffff; stroke: #000000; stroke-width: 2; stroke-linejoin: miter\"/>\n",
       "   </g>\n",
       "   <g id=\"patch_13\">\n",
       "    <path d=\"M 674.5401 168.785 \n",
       "C 675.148741 168.785 675.732536 168.543184 676.16291 168.11281 \n",
       "C 676.593284 167.682436 676.8351 167.098641 676.8351 166.49 \n",
       "C 676.8351 165.881359 676.593284 165.297564 676.16291 164.86719 \n",
       "C 675.732536 164.436816 675.148741 164.195 674.5401 164.195 \n",
       "C 673.931459 164.195 673.347664 164.436816 672.91729 164.86719 \n",
       "C 672.486916 165.297564 672.2451 165.881359 672.2451 166.49 \n",
       "C 672.2451 167.098641 672.486916 167.682436 672.91729 168.11281 \n",
       "C 673.347664 168.543184 673.931459 168.785 674.5401 168.785 \n",
       "z\n",
       "\" clip-path=\"url(#pa3099e34fe)\" style=\"fill: #ffffff; stroke: #000000; stroke-width: 2; stroke-linejoin: miter\"/>\n",
       "   </g>\n",
       "  </g>\n",
       " </g>\n",
       " <defs>\n",
       "  <clipPath id=\"pa3099e34fe\">\n",
       "   <rect x=\"7.2\" y=\"7.2\" width=\"914.5269\" height=\"223.55\"/>\n",
       "  </clipPath>\n",
       " </defs>\n",
       "</svg>\n"
      ],
      "text/plain": [
       "<schemdraw.schemdraw.Drawing at 0x233883fcb90>"
      ]
     },
     "metadata": {},
     "output_type": "display_data"
    }
   ],
   "source": [
    "#---------------------------------------------------------------------------------------------------------------------#\n",
    "#-- Síntesis circuital con valores\n",
    "#---------------------------------------------------------------------------------------------------------------------#\n",
    "\n",
    "d = dibujar_puerto_entrada( '', voltage_lbl = ('+', '$V1$', '-'), current_lbl = '$I1$' )\n",
    "d, zz_lbl = dibujar_funcion_exc_abajo( d, 'Z_{11}', Z11, hacia_salida = True, k_gap_width = 0.5 )\n",
    "d = dibujar_elemento_serie( d, Resistor, R1 )\n",
    "d = dibujar_elemento_serie( d, Capacitor, C1 )\n",
    "d = dibujar_tanque_RC_derivacion( d, R2, C2 )\n",
    "d = dibujar_espacio_derivacion( d )\n",
    "d = dibujar_elemento_derivacion( d, Capacitor, C3 )\n",
    "d = dibujar_puerto_salida( d, voltage_lbl = ('+', '$V2$', '-'), current_lbl = '$I2$' )\n",
    "d, zz_lbl = dibujar_funcion_exc_abajo( d, 'Z_{21}', Z21, hacia_entrada = True, k_gap_width = 0.5 )\n",
    "display( d )\n",
    "\n",
    "#---------------------------------------------------------------------------------------------------------------------#"
   ]
  },
  {
   "cell_type": "markdown",
   "id": "31940511-07d8-4cc4-8784-065f04077917",
   "metadata": {},
   "source": [
    "***\n",
    "###\n",
    "#### <u>Parámetros $Y$:</u>\n",
    "###\n",
    "##### En esta ocasión, siendo que análisis guarda similitudes con lo realizado para parámetros $Z$ y con el fin de realizar un documento no tan extenso, haremos uso de las librerías de <u>SymPy</u> y <u>pyTC2</u>, validadas con anterioridad, para realizar la síntesis circuital.\n",
    "###\n",
    "\n",
    "***\n",
    "\n",
    "###\n",
    "#### <u>Simulación simbólica / numérica</u>\n",
    "###\n",
    "\n",
    "***"
   ]
  },
  {
   "cell_type": "code",
   "execution_count": 137,
   "id": "7eafa84e-d36a-4783-8de8-66354fa4fe7f",
   "metadata": {
    "tags": []
   },
   "outputs": [
    {
     "data": {
      "text/latex": [
       "$\\displaystyle Y_{22}=\\frac{\\left(s + 2\\right) \\left(s + 4\\right)}{s + 3}$"
      ],
      "text/plain": [
       "<IPython.core.display.Math object>"
      ]
     },
     "metadata": {},
     "output_type": "display_data"
    },
    {
     "data": {
      "text/markdown": [
       "###"
      ],
      "text/plain": [
       "<IPython.core.display.Markdown object>"
      ]
     },
     "metadata": {},
     "output_type": "display_data"
    },
    {
     "data": {
      "text/latex": [
       "$\\displaystyle Y_{21}=- \\frac{k \\left(s + 1\\right)}{s + 3}$"
      ],
      "text/plain": [
       "<IPython.core.display.Math object>"
      ]
     },
     "metadata": {},
     "output_type": "display_data"
    },
    {
     "data": {
      "text/markdown": [
       "###"
      ],
      "text/plain": [
       "<IPython.core.display.Markdown object>"
      ]
     },
     "metadata": {},
     "output_type": "display_data"
    },
    {
     "data": {
      "text/latex": [
       "$\\displaystyle T(s) = -\\frac{ Y_{21} }{ Y_{22} }=\\frac{k \\left(s + 1\\right)}{\\left(s + 2\\right) \\left(s + 4\\right)}$"
      ],
      "text/plain": [
       "<IPython.core.display.Math object>"
      ]
     },
     "metadata": {},
     "output_type": "display_data"
    },
    {
     "data": {
      "text/markdown": [
       "###"
      ],
      "text/plain": [
       "<IPython.core.display.Markdown object>"
      ]
     },
     "metadata": {},
     "output_type": "display_data"
    }
   ],
   "source": [
    "#-------------------------------------------------------------------------------------------------#\n",
    "#-- Parámetros Y_{21}, Y_{22} y función T(s) --\n",
    "#---------------------------------------------------------------------------------------------------------------------#\n",
    "\n",
    "s = sp.symbols( 's', complex = True )\n",
    "k = sp.symbols( 'k', complex = False )\n",
    "\n",
    "Y22 = ( ( s + 2 ) * ( s + 4 ) ) / ( s + 3 )\n",
    "print_latex( a_equal_b_latex_s( 'Y_{22}', Y22 ) )\n",
    "display( Markdown( '###' ) )\n",
    "\n",
    "Y21 = -( k * ( s + 1 ) ) / ( s + 3 )\n",
    "print_latex( a_equal_b_latex_s( 'Y_{21}', Y21 ) )\n",
    "display( Markdown( '###' ) )\n",
    "\n",
    "Ts = -Y21 / Y22\n",
    "print_latex( a_equal_b_latex_s( 'T(s) = -\\\\frac{ Y_{21} }{ Y_{22} }', Ts ) )\n",
    "display( Markdown( '###' ) )\n",
    "\n",
    "#---------------------------------------------------------------------------------------------------------------------#"
   ]
  },
  {
   "cell_type": "code",
   "execution_count": 98,
   "id": "5c296582-e609-4f25-8902-d5400e5993bd",
   "metadata": {
    "tags": []
   },
   "outputs": [
    {
     "data": {
      "text/markdown": [
       "###"
      ],
      "text/plain": [
       "<IPython.core.display.Markdown object>"
      ]
     },
     "metadata": {},
     "output_type": "display_data"
    },
    {
     "data": {
      "text/latex": [
       "$\\displaystyle Y_1(s) = \\frac{3}{2}$"
      ],
      "text/plain": [
       "<IPython.core.display.Math object>"
      ]
     },
     "metadata": {},
     "output_type": "display_data"
    }
   ],
   "source": [
    "#---------------------------------------------------------------------------------------------------------------------#\n",
    "#-- <u>Paso 1:</u> Remoción de valor finito en continua para sintonizar el cero a $\\sigma = 1$ para cumplir \n",
    "#-- con el cero de $T(s)$: los ceros se desplazan hacia la zona de remoción y los polos permancen inmutables.\n",
    "#-- Removemos una resistencia $R_1$ en derivación, que será $Y_1(s)$, y obtenemos $Y_2(s)$.\n",
    "#---------------------------------------------------------------------------------------------------------------------#\n",
    "\n",
    "Y2, Y1 = remover_valor_en_dc( Y22, sigma_zero = 1 )\n",
    "\n",
    "display( Markdown( '###' ) )\n",
    "print_latex( 'Y_1(s) = ' + sp.latex( Y1 ) )\n"
   ]
  },
  {
   "cell_type": "code",
   "execution_count": 99,
   "id": "fb370eb3-c07a-44f4-85b8-ae04b1d9c46b",
   "metadata": {
    "tags": []
   },
   "outputs": [
    {
     "data": {
      "text/markdown": [
       "###"
      ],
      "text/plain": [
       "<IPython.core.display.Markdown object>"
      ]
     },
     "metadata": {},
     "output_type": "display_data"
    },
    {
     "data": {
      "text/latex": [
       "$\\displaystyle R_1 = \\frac{2}{3}$"
      ],
      "text/plain": [
       "<IPython.core.display.Math object>"
      ]
     },
     "metadata": {},
     "output_type": "display_data"
    }
   ],
   "source": [
    "R1 = 1/Y1\n",
    "\n",
    "display( Markdown( '###' ) )\n",
    "print_latex( 'R_1 = ' + sp.latex( R1 ) )"
   ]
  },
  {
   "cell_type": "code",
   "execution_count": 103,
   "id": "e5109ea4-d5ce-455c-8a55-42bc58c5cf9c",
   "metadata": {
    "tags": []
   },
   "outputs": [
    {
     "data": {
      "text/markdown": [
       "###"
      ],
      "text/plain": [
       "<IPython.core.display.Markdown object>"
      ]
     },
     "metadata": {},
     "output_type": "display_data"
    },
    {
     "data": {
      "text/latex": [
       "$\\displaystyle Y_2(s) = Y_{22} - Y_1(s) = \\frac{\\left(s + 2\\right) \\left(s + 4\\right)}{s + 3} - \\frac{3}{2} = \\frac{\\left(s + 1\\right) \\left(2 s + 7\\right)}{2 \\left(s + 3\\right)}$"
      ],
      "text/plain": [
       "<IPython.core.display.Math object>"
      ]
     },
     "metadata": {},
     "output_type": "display_data"
    }
   ],
   "source": [
    "display( Markdown( '###' ) )\n",
    "print_latex( 'Y_2(s) = Y_{22} - Y_1(s) = ' + sp.latex( Y22 ) + ' - ' + sp.latex( Y1 ) + ' = ' + sp.latex( Y2 ) )\n",
    "\n",
    "#---------------------------------------------------------------------------------------------------------------------#"
   ]
  },
  {
   "cell_type": "markdown",
   "id": "57202cc0-236e-4183-a69c-dcd80e2baa63",
   "metadata": {},
   "source": [
    "###\n",
    "\n",
    "<img src=\"TS12_Ejercicio_2_PZmap_Paso_1_Y22_b.png\" style=\"margin-left:auto; margin-right:auto\"/>\n",
    "\n",
    "###"
   ]
  },
  {
   "cell_type": "code",
   "execution_count": 105,
   "id": "083e4ee9-4fc0-4055-9a4a-d4265efbebf7",
   "metadata": {
    "tags": []
   },
   "outputs": [
    {
     "data": {
      "text/markdown": [
       "###"
      ],
      "text/plain": [
       "<IPython.core.display.Markdown object>"
      ]
     },
     "metadata": {},
     "output_type": "display_data"
    },
    {
     "data": {
      "text/latex": [
       "$\\displaystyle Z_2(s) = \\frac{ 1 }{ Y_2(s) } = \\frac{ 1 }{ \\frac{\\left(s + 1\\right) \\left(2 s + 7\\right)}{2 \\left(s + 3\\right)} } = \\frac{2 \\left(s + 3\\right)}{\\left(s + 1\\right) \\left(2 s + 7\\right)}$"
      ],
      "text/plain": [
       "<IPython.core.display.Math object>"
      ]
     },
     "metadata": {},
     "output_type": "display_data"
    }
   ],
   "source": [
    "#---------------------------------------------------------------------------------------------------------------------#\n",
    "#-- <u>Paso 2:</u> Inversión de $Y_2(s)$: los ceros se reemplazan por polos y viceversa. Obtenemos $Z_2(s)$.\n",
    "#---------------------------------------------------------------------------------------------------------------------#\n",
    "\n",
    "Z2 = 1 / Y2\n",
    "\n",
    "display( Markdown( '###' ) )\n",
    "print_latex( 'Z_2(s) = \\\\frac{ 1 }{ Y_2(s) } = \\\\frac{ 1 }{ ' + sp.latex( Y2 ) + ' } = ' + sp.latex( Z2 ) )\n",
    "\n",
    "#---------------------------------------------------------------------------------------------------------------------#"
   ]
  },
  {
   "cell_type": "markdown",
   "id": "1d2dee1e-4dcc-4ba5-8d1b-bea64158435d",
   "metadata": {},
   "source": [
    "###\n",
    "\n",
    "<img src=\"TS12_Ejercicio_2_PZmap_Paso_2_Y22_b.png\" style=\"margin-left:auto; margin-right:auto\"/>\n",
    "\n",
    "###"
   ]
  },
  {
   "cell_type": "code",
   "execution_count": 138,
   "id": "83d7b8f6-35ff-428e-86b9-42cfe9422a13",
   "metadata": {
    "tags": []
   },
   "outputs": [
    {
     "data": {
      "text/markdown": [
       "###"
      ],
      "text/plain": [
       "<IPython.core.display.Markdown object>"
      ]
     },
     "metadata": {},
     "output_type": "display_data"
    },
    {
     "data": {
      "text/latex": [
       "$\\displaystyle Z_3(s) = \\frac{4}{5 \\left(s + 1\\right)} = \\frac{ k_3 }{ s + 1 } = \\frac{ 1 }{ \\frac{ s + 1 }{ k_3 } } = \\frac{ 1 }{ \\frac{ s }{ k_3 } + \\frac{ 1 }{ k_3 } } = \\frac{ 1 }{ s \\cdot \\frac{ 1 }{ k_3 } + \\frac{ 1 }{ k_3 } } = \\frac{ 1 }{ s \\cdot C_1 + \\frac{ 1 }{ R_2 } }$"
      ],
      "text/plain": [
       "<IPython.core.display.Math object>"
      ]
     },
     "metadata": {},
     "output_type": "display_data"
    }
   ],
   "source": [
    "#---------------------------------------------------------------------------------------------------------------------#\n",
    "#-- <u>Paso 3:</u> Remoción finita en $\\sigma = 1$: el cero en $\\sigma = 3$ se cancela con el polo \n",
    "#-- en $\\omega = 1$. Removemos un tanque en serie compuesto por $R_2$ y $C_1$, que será $Z_3(s)$, \n",
    "#-- y obtenemos $Z_4(s)$.\n",
    "#---------------------------------------------------------------------------------------------------------------------#\n",
    "\n",
    "Z4, Z3, R2, C1 = remover_polo_sigma( Z2, sigma = 1 , isImpedance = True,  isRC = True )\n",
    "\n",
    "display( Markdown( '###' ) )\n",
    "print_latex( 'Z_3(s) = ' + sp.latex( Z3 ) + ' = \\\\frac{ k_3 }{ s + 1 } = \\\\frac{ 1 }{ \\\\frac{ s + 1 }{ k_3 } } = \\\\frac{ 1 }{ \\\\frac{ s }{ k_3 } + \\\\frac{ 1 }{ k_3 } } = \\\\frac{ 1 }{ s \\cdot \\\\frac{ 1 }{ k_3 } + \\\\frac{ 1 }{ k_3 } } = \\\\frac{ 1 }{ s \\cdot C_1 + \\\\frac{ 1 }{ R_2 } }' )\n"
   ]
  },
  {
   "cell_type": "code",
   "execution_count": 139,
   "id": "77128af5-1b63-431b-8931-e29604e1fc71",
   "metadata": {
    "tags": []
   },
   "outputs": [
    {
     "data": {
      "text/markdown": [
       "###"
      ],
      "text/plain": [
       "<IPython.core.display.Markdown object>"
      ]
     },
     "metadata": {},
     "output_type": "display_data"
    },
    {
     "data": {
      "text/latex": [
       "$\\displaystyle R_2 = \\frac{ k_3 }{ \\sigma_3 } = \\frac{4}{5}$"
      ],
      "text/plain": [
       "<IPython.core.display.Math object>"
      ]
     },
     "metadata": {},
     "output_type": "display_data"
    }
   ],
   "source": [
    "display( Markdown( '###' ) )\n",
    "print_latex( 'R_2 = \\\\frac{ k_3 }{ \\sigma_3 } = ' + sp.latex( R2 ) )\n"
   ]
  },
  {
   "cell_type": "code",
   "execution_count": 140,
   "id": "207bc9db-cb1f-4349-9bd1-e52ec20f5769",
   "metadata": {
    "tags": []
   },
   "outputs": [
    {
     "data": {
      "text/markdown": [
       "###"
      ],
      "text/plain": [
       "<IPython.core.display.Markdown object>"
      ]
     },
     "metadata": {},
     "output_type": "display_data"
    },
    {
     "data": {
      "text/latex": [
       "$\\displaystyle C_1 = \\frac{ 1 }{ k_3 } = \\frac{5}{4}$"
      ],
      "text/plain": [
       "<IPython.core.display.Math object>"
      ]
     },
     "metadata": {},
     "output_type": "display_data"
    }
   ],
   "source": [
    "display( Markdown( '###' ) )\n",
    "print_latex( 'C_1 = \\\\frac{ 1 }{ k_3 } = ' + sp.latex( C1 ) )\n"
   ]
  },
  {
   "cell_type": "code",
   "execution_count": 142,
   "id": "a565d91f-1bb8-4a98-a0be-4aa0889b504d",
   "metadata": {
    "tags": []
   },
   "outputs": [
    {
     "data": {
      "text/markdown": [
       "###"
      ],
      "text/plain": [
       "<IPython.core.display.Markdown object>"
      ]
     },
     "metadata": {},
     "output_type": "display_data"
    },
    {
     "data": {
      "text/latex": [
       "$\\displaystyle Z_4(s) = Z_2(s) - Z_3(s) = \\frac{2 \\left(s + 3\\right)}{\\left(s + 1\\right) \\left(2 s + 7\\right)} - \\frac{4}{5 \\left(s + 1\\right)} = \\frac{2}{5 \\cdot \\left(2 s + 7\\right)}$"
      ],
      "text/plain": [
       "<IPython.core.display.Math object>"
      ]
     },
     "metadata": {},
     "output_type": "display_data"
    }
   ],
   "source": [
    "display( Markdown( '###' ) )\n",
    "print_latex( 'Z_4(s) = Z_2(s) - Z_3(s) = ' + sp.latex( Z2 ) + ' - ' + sp.latex( Z3 ) + ' = ' + sp.latex( Z4 ) )\n",
    "\n",
    "#---------------------------------------------------------------------------------------------------------------------#"
   ]
  },
  {
   "cell_type": "markdown",
   "id": "e29ecca7-39df-41df-9724-741de852d624",
   "metadata": {},
   "source": [
    "###\n",
    "\n",
    "<img src=\"TS12_Ejercicio_2_PZmap_Paso_3_Y22_b.png\" style=\"margin-left:auto; margin-right:auto\"/>\n",
    "\n",
    "###"
   ]
  },
  {
   "cell_type": "code",
   "execution_count": 143,
   "id": "c9649b98-8d30-4510-bd52-ed7a16e1a42c",
   "metadata": {
    "tags": []
   },
   "outputs": [
    {
     "data": {
      "text/markdown": [
       "###"
      ],
      "text/plain": [
       "<IPython.core.display.Markdown object>"
      ]
     },
     "metadata": {},
     "output_type": "display_data"
    },
    {
     "data": {
      "text/latex": [
       "$\\displaystyle Y_4(s) = \\frac{ 1 }{ Z_4(s) } = \\frac{ 1 }{ \\frac{2}{5 \\cdot \\left(2 s + 7\\right)} } = 5 s + \\frac{35}{2}$"
      ],
      "text/plain": [
       "<IPython.core.display.Math object>"
      ]
     },
     "metadata": {},
     "output_type": "display_data"
    }
   ],
   "source": [
    "#---------------------------------------------------------------------------------------------------------------------#\n",
    "#-- <u>Paso 4:</u> Inversión de $Z_4(s)$: los ceros se reemplazan por polos y viceversa. Obtenemos $Y_4(s)$.\n",
    "#---------------------------------------------------------------------------------------------------------------------#\n",
    "\n",
    "Y4 = 1 / Z4\n",
    "\n",
    "display( Markdown( '###' ) )\n",
    "print_latex( 'Y_4(s) = \\\\frac{ 1 }{ Z_4(s) } = \\\\frac{ 1 }{ ' + sp.latex( Z4 ) + ' } = ' + sp.latex( Y4 ) )\n",
    "\n",
    "#---------------------------------------------------------------------------------------------------------------------#"
   ]
  },
  {
   "cell_type": "markdown",
   "id": "4ac99b18-f568-48ca-8e2e-1e2de62040e5",
   "metadata": {},
   "source": [
    "###\n",
    "\n",
    "<img src=\"TS12_Ejercicio_2_PZmap_Paso_4_Y22_b.png\" style=\"margin-left:auto; margin-right:auto\"/>\n",
    "\n",
    "###"
   ]
  },
  {
   "cell_type": "code",
   "execution_count": null,
   "id": "5bcfe7b6-7060-4dd0-885b-3f23504bdef6",
   "metadata": {},
   "outputs": [],
   "source": [
    "#--------------------------------------------------------------------------------------------------------------#\n",
    "\n",
    "def remover_polo_infinito( imit, omega_zero = None, isSigma = False ):\n",
    "    '''\n",
    "    Se removerá el residuo en infinito de la imitancia ($I$) de forma \n",
    "    completa, o parcial en el caso que se especifique una omega_zero. \n",
    "    Como resultado de la remoción, quedará otra función racional definida\n",
    "    como:\n",
    "        \n",
    "    $$ I_R = I - s.k_\\infty  $$\n",
    "    \n",
    "    siendo \n",
    "\n",
    "    $$ k_{\\infty}=\\lim\\limits _{s\\to\\infty}I.\\nicefrac{1}{s} $$\n",
    "    \n",
    "    En cuanto se especifique omega_zero, la remoción parcial estará definida \n",
    "    como, siempre que isSigma = False\n",
    "\n",
    "    $$ I_{R}\\biggr\\rfloor_{s^{2}=-\\omega_z^{2}}=0=I-s.k_{\\infty}^{'}\\biggr\\rfloor_{s^{2}=-\\omega_z^{2}} $$\n",
    "    \n",
    "    siendo \n",
    "    \n",
    "    $$ k_{\\infty}^{'}=I.\\nicefrac{1}{s}\\biggr\\rfloor_{s^{2}=-\\omega_z^{2}} $$\n",
    "\n",
    "    De lo contrario, con isSigma = True\n",
    "\n",
    "    $$ I_{R}\\biggr\\rfloor_{s=-\\omega_z}=0=I-s.k_{\\infty}^{'}\\biggr\\rfloor_{s=-\\omega_z} $$\n",
    "    \n",
    "    siendo \n",
    "    \n",
    "    $$ k_{\\infty}^{'}=I.\\nicefrac{1}{s}\\biggr\\rfloor_{s=-\\omega_z} $$\n",
    "    \n",
    "\n",
    "    Parameters\n",
    "    ----------\n",
    "    imit : Symbolic\n",
    "        Imitancia que se utilizará para la remoción. Es una función racional \n",
    "        simbólica que tendrá un polo de orden 1 en infinito, es decir la \n",
    "        diferencia de grados entre num y den será exactamente 1.\n",
    "    omega_zero : Symbolic\n",
    "        Frecuencia a la que la imitancia será cero luego de la remoción.\n",
    "    isSigma : Boolean\n",
    "\tIndica si la remoción parcial se realiza en el eje j\\omega ( isSigma = False )\n",
    "\to bien sobre el eje \\sigma ( isSigma = True )\n",
    "\n",
    "    Returns\n",
    "    -------\n",
    "    imit_r : Symbolic\n",
    "        Imitancia luego de la remoción\n",
    "    k_inf : Symbolic\n",
    "        Valor del residuo en infinito\n",
    "    '''\n",
    "\n",
    "    if omega_zero is None:\n",
    "        # remoción total\n",
    "        k_inf = sp.limit(imit/s, s, sp.oo)\n",
    "        \n",
    "    else:\n",
    "        # remoción parcial en el eje j\\omega\n",
    "        if isSigma is False:\n",
    "            k_inf = sp.simplify(sp.expand(imit/s)).subs(s**2, -(omega_zero**2) )\n",
    "\n",
    "        # remoción parcial en el eje \\sigma\n",
    "        else:\n",
    "            k_inf = sp.simplify(sp.expand(imit/s)).subs(s, -omega_zero )\n",
    "\n",
    "    k_inf = k_inf * s\n",
    "\n",
    "    # extraigo C3\n",
    "    imit_r = sp.factor(sp.simplify(sp.expand(imit - k_inf)))\n",
    "\n",
    "    return( [imit_r, k_inf] )\n",
    "\n",
    "#--------------------------------------------------------------------------------------------------------------#"
   ]
  },
  {
   "cell_type": "code",
   "execution_count": 144,
   "id": "500597eb-ba7e-46cf-9a5e-5cc8761d20c9",
   "metadata": {
    "tags": []
   },
   "outputs": [
    {
     "data": {
      "text/markdown": [
       "###"
      ],
      "text/plain": [
       "<IPython.core.display.Markdown object>"
      ]
     },
     "metadata": {},
     "output_type": "display_data"
    },
    {
     "data": {
      "text/latex": [
       "$\\displaystyle Y_5(s) = \\frac{35}{2}$"
      ],
      "text/plain": [
       "<IPython.core.display.Math object>"
      ]
     },
     "metadata": {},
     "output_type": "display_data"
    }
   ],
   "source": [
    "#---------------------------------------------------------------------------------------------------#\n",
    "#-- <u>Paso 5:</u> Remoción de valor finito en continua: los ceros se desplazan hacia la zona de remoción \n",
    "#-- y los polos permanecen inmutables. Removemos una resistencia $R_3$ en derivación, que será $Y_5(s)$, \n",
    "#-- y obtenemos $Y_6(s)$.\n",
    "#---------------------------------------------------------------------------------------------------------------------#\n",
    "\n",
    "Y6, Y5 = remover_valor_en_dc( Y4 )\n",
    "\n",
    "display( Markdown( '###' ) )\n",
    "print_latex( 'Y_5(s) = ' + sp.latex( Y5 ) )\n"
   ]
  },
  {
   "cell_type": "code",
   "execution_count": 145,
   "id": "4905d3df-150c-4d74-a6d1-dfcb2ee793f3",
   "metadata": {
    "tags": []
   },
   "outputs": [
    {
     "data": {
      "text/markdown": [
       "###"
      ],
      "text/plain": [
       "<IPython.core.display.Markdown object>"
      ]
     },
     "metadata": {},
     "output_type": "display_data"
    },
    {
     "data": {
      "text/latex": [
       "$\\displaystyle R_3(s) = \\frac{2}{35}$"
      ],
      "text/plain": [
       "<IPython.core.display.Math object>"
      ]
     },
     "metadata": {},
     "output_type": "display_data"
    }
   ],
   "source": [
    "R3 = 1 / Y5\n",
    "\n",
    "display( Markdown( '###' ) )\n",
    "print_latex( 'R_3(s) = ' + sp.latex( R3 ) )\n"
   ]
  },
  {
   "cell_type": "code",
   "execution_count": 116,
   "id": "abc90c3a-2590-4ace-af0d-d5080912b85f",
   "metadata": {
    "tags": []
   },
   "outputs": [
    {
     "data": {
      "text/markdown": [
       "###"
      ],
      "text/plain": [
       "<IPython.core.display.Markdown object>"
      ]
     },
     "metadata": {},
     "output_type": "display_data"
    },
    {
     "data": {
      "text/latex": [
       "$\\displaystyle Y_6(s) = Y_4(s) - Y_5(s) = \\frac{5 s}{4} + \\frac{5}{4} - \\frac{5}{4} = \\frac{5 s}{4}$"
      ],
      "text/plain": [
       "<IPython.core.display.Math object>"
      ]
     },
     "metadata": {},
     "output_type": "display_data"
    }
   ],
   "source": [
    "display( Markdown( '###' ) )\n",
    "print_latex( 'Y_6(s) = Y_4(s) - Y_5(s) = ' + sp.latex( Y4 ) + ' - ' + sp.latex( Y5 ) + ' = ' + sp.latex( Y6 ) )\n",
    "\n",
    "#---------------------------------------------------------------------------------------------------------------------#"
   ]
  },
  {
   "cell_type": "markdown",
   "id": "531da0d5-6adc-4be8-ae73-c1fff92b5d6e",
   "metadata": {},
   "source": [
    "###\n",
    "\n",
    "<img src=\"TS12_Ejercicio_2_PZmap_Paso_5_Y22_b.png\" style=\"margin-left:auto; margin-right:auto\"/>\n",
    "\n",
    "###"
   ]
  },
  {
   "cell_type": "code",
   "execution_count": 117,
   "id": "622aed3f-bc9f-4671-bb28-fd3c8f83cb1a",
   "metadata": {
    "tags": []
   },
   "outputs": [
    {
     "data": {
      "text/markdown": [
       "###"
      ],
      "text/plain": [
       "<IPython.core.display.Markdown object>"
      ]
     },
     "metadata": {},
     "output_type": "display_data"
    },
    {
     "data": {
      "text/latex": [
       "$\\displaystyle Z_6(s) = \\frac{ 1 }{ Y_6(s) } = \\frac{ 1 }{ \\frac{5 s}{4} } = \\frac{4}{5 s}$"
      ],
      "text/plain": [
       "<IPython.core.display.Math object>"
      ]
     },
     "metadata": {},
     "output_type": "display_data"
    }
   ],
   "source": [
    "#---------------------------------------------------------------------------------------------------------------------#\n",
    "#-- <u>Paso 6:</u> Inversión de $Y_6(s)$: los ceros se reemplazan por polos y viceversa. Obtenemos $Z_6(s)$.\n",
    "#---------------------------------------------------------------------------------------------------------------------#\n",
    "\n",
    "Z6 = 1 / Y6\n",
    "\n",
    "display( Markdown( '###' ) )\n",
    "print_latex( 'Z_6(s) = \\\\frac{ 1 }{ Y_6(s) } = \\\\frac{ 1 }{ ' + sp.latex( Y6 ) + ' } = ' + sp.latex( Z6 ) )\n",
    "\n",
    "#---------------------------------------------------------------------------------------------------------------------#"
   ]
  },
  {
   "cell_type": "markdown",
   "id": "846c45b4-08a0-4060-bb74-a4da7ead15f0",
   "metadata": {},
   "source": [
    "###\n",
    "\n",
    "<img src=\"TS12_Ejercicio_2_PZmap_Paso_6_Y22_b.png\" style=\"margin-left:auto; margin-right:auto\"/>\n",
    "\n",
    "###"
   ]
  },
  {
   "cell_type": "code",
   "execution_count": 119,
   "id": "1e0c6df3-e668-4686-8981-585faeb8a0ac",
   "metadata": {
    "tags": []
   },
   "outputs": [
    {
     "data": {
      "text/markdown": [
       "###"
      ],
      "text/plain": [
       "<IPython.core.display.Markdown object>"
      ]
     },
     "metadata": {},
     "output_type": "display_data"
    },
    {
     "data": {
      "text/latex": [
       "$\\displaystyle Z_7(s)=\\frac{4}{5 s}$"
      ],
      "text/plain": [
       "<IPython.core.display.Math object>"
      ]
     },
     "metadata": {},
     "output_type": "display_data"
    }
   ],
   "source": [
    "#---------------------------------------------------------------------------------------------------------------------#\n",
    "#-- <u>Paso 7:</u> Remoción en continua. Removemos un capacitor $C_2$ en serie, que será $Z_7(s)$, y obtenemos \n",
    "#-- $Z_8(s)$ dando por finalizada la remoción.\n",
    "#---------------------------------------------------------------------------------------------------------------------#\n",
    "\n",
    "Z8, Z7 = remover_polo_dc( Z6 )\n",
    "\n",
    "display( Markdown( '###' ) )\n",
    "print_latex( a_equal_b_latex_s( 'Z_7(s)', Z7 ) )\n"
   ]
  },
  {
   "cell_type": "code",
   "execution_count": 120,
   "id": "ba422bd4-9d44-4575-9488-ad0232d22006",
   "metadata": {
    "tags": []
   },
   "outputs": [
    {
     "data": {
      "text/markdown": [
       "###"
      ],
      "text/plain": [
       "<IPython.core.display.Markdown object>"
      ]
     },
     "metadata": {},
     "output_type": "display_data"
    },
    {
     "data": {
      "text/latex": [
       "$\\displaystyle C_2=\\frac{5}{4}$"
      ],
      "text/plain": [
       "<IPython.core.display.Math object>"
      ]
     },
     "metadata": {},
     "output_type": "display_data"
    }
   ],
   "source": [
    "C2 = 1 / s / Z7\n",
    "\n",
    "display( Markdown( '###' ) )\n",
    "print_latex( a_equal_b_latex_s( 'C_2', C2 ) )\n"
   ]
  },
  {
   "cell_type": "code",
   "execution_count": 123,
   "id": "3197eae5-e5b0-4586-b77f-30a35c9a0081",
   "metadata": {
    "tags": []
   },
   "outputs": [
    {
     "data": {
      "text/markdown": [
       "###"
      ],
      "text/plain": [
       "<IPython.core.display.Markdown object>"
      ]
     },
     "metadata": {},
     "output_type": "display_data"
    },
    {
     "data": {
      "text/latex": [
       "$\\displaystyle Z_8(s) = Z_6(s) - Z_7(s) = \\frac{4}{5 s} - \\frac{4}{5 s} = 0$"
      ],
      "text/plain": [
       "<IPython.core.display.Math object>"
      ]
     },
     "metadata": {},
     "output_type": "display_data"
    }
   ],
   "source": [
    "display( Markdown( '###' ) )\n",
    "print_latex( 'Z_8(s) = Z_6(s) - Z_7(s) = ' + sp.latex( Z6 ) + ' - ' + sp.latex( Z7 ) + ' = ' + sp.latex( Z8 ) )\n",
    "\n",
    "#---------------------------------------------------------------------------------------------------------------------#"
   ]
  },
  {
   "cell_type": "markdown",
   "id": "e11d72b0-93ab-4345-99be-86f62ce28544",
   "metadata": {},
   "source": [
    "###\n",
    "\n",
    "<img src=\"TS12_Ejercicio_2_PZmap_Paso_7_Y22_b.png\" style=\"margin-left:auto; margin-right:auto\"/>\n",
    "\n",
    "###"
   ]
  },
  {
   "cell_type": "code",
   "execution_count": 136,
   "id": "dab310ff-f809-4e57-ad92-9f04bab6f2f3",
   "metadata": {
    "tags": []
   },
   "outputs": [
    {
     "data": {
      "image/png": "[encoded data removed]",
      "image/svg+xml": [
       "<?xml version=\"1.0\" encoding=\"utf-8\" standalone=\"no\"?>\n",
       "<!DOCTYPE svg PUBLIC \"-//W3C//DTD SVG 1.1//EN\"\n",
       "  \"http://www.w3.org/Graphics/SVG/1.1/DTD/svg11.dtd\">\n",
       "<svg xmlns:xlink=\"http://www.w3.org/1999/xlink\" width=\"954.3861pt\" height=\"299.15pt\" viewBox=\"0 0 954.3861 299.15\" xmlns=\"http://www.w3.org/2000/svg\" version=\"1.1\">\n",
       " <metadata>\n",
       "  <rdf:RDF xmlns:dc=\"http://purl.org/dc/elements/1.1/\" xmlns:cc=\"http://creativecommons.org/ns#\" xmlns:rdf=\"http://www.w3.org/1999/02/22-rdf-syntax-ns#\">\n",
       "   <cc:Work>\n",
       "    <dc:type rdf:resource=\"http://purl.org/dc/dcmitype/StillImage\"/>\n",
       "    <dc:date>2023-11-22T08:51:43.379171</dc:date>\n",
       "    <dc:format>image/svg+xml</dc:format>\n",
       "    <dc:creator>\n",
       "     <cc:Agent>\n",
       "      <dc:title>Matplotlib v3.7.1, https://matplotlib.org/</dc:title>\n",
       "     </cc:Agent>\n",
       "    </dc:creator>\n",
       "   </cc:Work>\n",
       "  </rdf:RDF>\n",
       " </metadata>\n",
       " <defs>\n",
       "  <style type=\"text/css\">*{stroke-linejoin: round; stroke-linecap: butt}</style>\n",
       " </defs>\n",
       " <g id=\"figure_1\">\n",
       "  <g id=\"patch_1\">\n",
       "   <path d=\"M 0 299.15 \n",
       "L 954.3861 299.15 \n",
       "L 954.3861 0 \n",
       "L 0 0 \n",
       "z\n",
       "\" style=\"fill: #ffffff\"/>\n",
       "  </g>\n",
       "  <g id=\"axes_1\">\n",
       "   <g id=\"line2d_1\">\n",
       "    <path d=\"M 79.0794 227.69 \n",
       "L 109.6794 227.69 \n",
       "L 140.2794 227.69 \n",
       "\" clip-path=\"url(#pa413a53630)\" style=\"fill: none; stroke: #000000; stroke-width: 2; stroke-linecap: round\"/>\n",
       "   </g>\n",
       "   <g id=\"line2d_2\">\n",
       "    <path d=\"M 140.2794 105.29 \n",
       "L 124.9794 105.29 \n",
       "L 109.6794 105.29 \n",
       "\" clip-path=\"url(#pa413a53630)\" style=\"fill: none; stroke: #000000; stroke-width: 2; stroke-linecap: round\"/>\n",
       "   </g>\n",
       "   <g id=\"line2d_3\">\n",
       "    <path d=\"M 102.0294 105.29 \n",
       "L 94.3794 105.29 \n",
       "L 79.0794 105.29 \n",
       "\" clip-path=\"url(#pa413a53630)\" style=\"fill: none; stroke: #000000; stroke-width: 2; stroke-linecap: round\"/>\n",
       "   </g>\n",
       "   <g id=\"patch_2\">\n",
       "    <path d=\"M 102.0294 102.995 \n",
       "L 109.6794 105.29 \n",
       "L 102.0294 107.585 \n",
       "z\n",
       "\" clip-path=\"url(#pa413a53630)\"/>\n",
       "   </g>\n",
       "   <g id=\"line2d_4\">\n",
       "    <path d=\"M 140.2794 105.29 \n",
       "L 155.5794 105.29 \n",
       "L 170.8794 105.29 \n",
       "\" clip-path=\"url(#pa413a53630)\" style=\"fill: none; stroke: #000000; stroke-width: 2; stroke-linecap: round\"/>\n",
       "   </g>\n",
       "   <g id=\"line2d_5\">\n",
       "    <path d=\"M 170.8794 233.81 \n",
       "L 170.8794 218.51 \n",
       "L 170.8794 203.21 \n",
       "\" clip-path=\"url(#pa413a53630)\" style=\"fill: none; stroke: #000000; stroke-linecap: round\"/>\n",
       "   </g>\n",
       "   <g id=\"line2d_6\">\n",
       "    <path d=\"M 170.8794 203.21 \n",
       "L 178.5294 203.21 \n",
       "L 178.5294 203.21 \n",
       "\" clip-path=\"url(#pa413a53630)\" style=\"fill: none; stroke: #000000; stroke-linecap: round\"/>\n",
       "   </g>\n",
       "   <g id=\"patch_3\">\n",
       "    <path d=\"M 178.5294 200.915 \n",
       "L 186.1794 203.21 \n",
       "L 178.5294 205.505 \n",
       "z\n",
       "\" clip-path=\"url(#pa413a53630)\"/>\n",
       "   </g>\n",
       "   <g id=\"line2d_7\">\n",
       "    <path d=\"M 170.8794 227.69 \n",
       "L 155.5794 227.69 \n",
       "L 140.2794 227.69 \n",
       "\" clip-path=\"url(#pa413a53630)\" style=\"fill: none; stroke: #000000; stroke-width: 2; stroke-linecap: round\"/>\n",
       "   </g>\n",
       "   <g id=\"line2d_8\">\n",
       "    <path d=\"M 170.8794 227.69 \n",
       "L 186.1794 227.69 \n",
       "L 201.4794 227.69 \n",
       "\" clip-path=\"url(#pa413a53630)\" style=\"fill: none; stroke: #000000; stroke-width: 2; stroke-linecap: round\"/>\n",
       "   </g>\n",
       "   <g id=\"line2d_9\">\n",
       "    <path d=\"M 170.8794 105.29 \n",
       "L 186.1794 105.29 \n",
       "L 201.4794 105.29 \n",
       "\" clip-path=\"url(#pa413a53630)\" style=\"fill: none; stroke: #000000; stroke-width: 2; stroke-linecap: round\"/>\n",
       "   </g>\n",
       "   <g id=\"line2d_10\">\n",
       "    <path d=\"M 201.4794 105.29 \n",
       "L 232.0794 105.29 \n",
       "L 262.6794 105.29 \n",
       "\" clip-path=\"url(#pa413a53630)\" style=\"fill: none; stroke: #000000; stroke-width: 2; stroke-linecap: round\"/>\n",
       "   </g>\n",
       "   <g id=\"line2d_11\">\n",
       "    <path d=\"M 262.6794 105.29 \n",
       "L 262.6794 166.49 \n",
       "L 262.6794 227.69 \n",
       "\" clip-path=\"url(#pa413a53630)\" style=\"fill: none; stroke: #000000; stroke-width: 2; stroke-linecap: round\"/>\n",
       "   </g>\n",
       "   <g id=\"line2d_12\">\n",
       "    <path d=\"M 262.6794 227.69 \n",
       "L 232.0794 227.69 \n",
       "L 201.4794 227.69 \n",
       "\" clip-path=\"url(#pa413a53630)\" style=\"fill: none; stroke: #000000; stroke-width: 2; stroke-linecap: round\"/>\n",
       "   </g>\n",
       "   <g id=\"line2d_13\">\n",
       "    <path d=\"M 262.6794 105.29 \n",
       "L 321.1254 105.29 \n",
       "M 321.1254 97.64 \n",
       "L 321.1254 112.94 \n",
       "M 326.6334 97.64 \n",
       "L 326.6334 112.94 \n",
       "M 326.6334 105.29 \n",
       "L 385.0794 105.29 \n",
       "\" clip-path=\"url(#pa413a53630)\" style=\"fill: none; stroke: #000000; stroke-width: 2; stroke-linecap: round\"/>\n",
       "   </g>\n",
       "   <g id=\"line2d_14\">\n",
       "    <path d=\"M 385.0794 227.69 \n",
       "L 323.8794 227.69 \n",
       "L 262.6794 227.69 \n",
       "\" clip-path=\"url(#pa413a53630)\" style=\"fill: none; stroke: #000000; stroke-width: 2; stroke-linecap: round\"/>\n",
       "   </g>\n",
       "   <g id=\"line2d_15\">\n",
       "    <path d=\"M 385.0794 105.29 \n",
       "L 385.0794 151.19 \n",
       "L 392.7294 153.74 \n",
       "L 377.4294 158.84 \n",
       "L 392.7294 163.94 \n",
       "L 377.4294 169.04 \n",
       "L 392.7294 174.14 \n",
       "L 377.4294 179.24 \n",
       "L 385.0794 181.79 \n",
       "L 385.0794 227.69 \n",
       "\" clip-path=\"url(#pa413a53630)\" style=\"fill: none; stroke: #000000; stroke-width: 2; stroke-linecap: round\"/>\n",
       "   </g>\n",
       "   <g id=\"line2d_16\">\n",
       "    <path d=\"M 385.0794 105.29 \n",
       "L 415.6794 105.29 \n",
       "L 446.2794 105.29 \n",
       "\" clip-path=\"url(#pa413a53630)\" style=\"fill: none; stroke: #000000; stroke-width: 2; stroke-linecap: round\"/>\n",
       "   </g>\n",
       "   <g id=\"line2d_17\">\n",
       "    <path d=\"M 446.2794 227.69 \n",
       "L 415.6794 227.69 \n",
       "L 385.0794 227.69 \n",
       "\" clip-path=\"url(#pa413a53630)\" style=\"fill: none; stroke: #000000; stroke-width: 2; stroke-linecap: round\"/>\n",
       "   </g>\n",
       "   <g id=\"line2d_18\">\n",
       "    <path d=\"M 446.2794 105.29 \n",
       "L 504.7254 105.29 \n",
       "M 504.7254 97.64 \n",
       "L 504.7254 112.94 \n",
       "M 510.2334 97.64 \n",
       "L 510.2334 112.94 \n",
       "M 510.2334 105.29 \n",
       "L 568.6794 105.29 \n",
       "\" clip-path=\"url(#pa413a53630)\" style=\"fill: none; stroke: #000000; stroke-width: 2; stroke-linecap: round\"/>\n",
       "   </g>\n",
       "   <g id=\"line2d_19\">\n",
       "    <path d=\"M 446.2794 105.29 \n",
       "L 446.2794 74.69 \n",
       "L 446.2794 44.09 \n",
       "\" clip-path=\"url(#pa413a53630)\" style=\"fill: none; stroke: #000000; stroke-width: 2; stroke-linecap: round\"/>\n",
       "   </g>\n",
       "   <g id=\"line2d_20\">\n",
       "    <path d=\"M 446.2794 44.09 \n",
       "L 492.1794 44.09 \n",
       "L 494.7294 36.44 \n",
       "L 499.8294 51.74 \n",
       "L 504.9294 36.44 \n",
       "L 510.0294 51.74 \n",
       "L 515.1294 36.44 \n",
       "L 520.2294 51.74 \n",
       "L 522.7794 44.09 \n",
       "L 568.6794 44.09 \n",
       "\" clip-path=\"url(#pa413a53630)\" style=\"fill: none; stroke: #000000; stroke-width: 2; stroke-linecap: round\"/>\n",
       "   </g>\n",
       "   <g id=\"line2d_21\">\n",
       "    <path d=\"M 568.6794 44.09 \n",
       "L 568.6794 74.69 \n",
       "L 568.6794 105.29 \n",
       "\" clip-path=\"url(#pa413a53630)\" style=\"fill: none; stroke: #000000; stroke-width: 2; stroke-linecap: round\"/>\n",
       "   </g>\n",
       "   <g id=\"line2d_22\">\n",
       "    <path d=\"M 568.6794 227.69 \n",
       "L 507.4794 227.69 \n",
       "L 446.2794 227.69 \n",
       "\" clip-path=\"url(#pa413a53630)\" style=\"fill: none; stroke: #000000; stroke-width: 2; stroke-linecap: round\"/>\n",
       "   </g>\n",
       "   <g id=\"line2d_23\">\n",
       "    <path d=\"M 568.6794 105.29 \n",
       "L 599.2794 105.29 \n",
       "L 629.8794 105.29 \n",
       "\" clip-path=\"url(#pa413a53630)\" style=\"fill: none; stroke: #000000; stroke-width: 2; stroke-linecap: round\"/>\n",
       "   </g>\n",
       "   <g id=\"line2d_24\">\n",
       "    <path d=\"M 629.8794 227.69 \n",
       "L 599.2794 227.69 \n",
       "L 568.6794 227.69 \n",
       "\" clip-path=\"url(#pa413a53630)\" style=\"fill: none; stroke: #000000; stroke-width: 2; stroke-linecap: round\"/>\n",
       "   </g>\n",
       "   <g id=\"line2d_25\">\n",
       "    <path d=\"M 629.8794 105.29 \n",
       "L 629.8794 151.19 \n",
       "L 637.5294 153.74 \n",
       "L 622.2294 158.84 \n",
       "L 637.5294 163.94 \n",
       "L 622.2294 169.04 \n",
       "L 637.5294 174.14 \n",
       "L 622.2294 179.24 \n",
       "L 629.8794 181.79 \n",
       "L 629.8794 227.69 \n",
       "\" clip-path=\"url(#pa413a53630)\" style=\"fill: none; stroke: #000000; stroke-width: 2; stroke-linecap: round\"/>\n",
       "   </g>\n",
       "   <g id=\"line2d_26\">\n",
       "    <path d=\"M 629.8794 105.29 \n",
       "L 645.1794 105.29 \n",
       "L 660.4794 105.29 \n",
       "\" clip-path=\"url(#pa413a53630)\" style=\"fill: none; stroke: #000000; stroke-width: 2; stroke-linecap: round\"/>\n",
       "   </g>\n",
       "   <g id=\"line2d_27\">\n",
       "    <path d=\"M 668.1294 105.29 \n",
       "L 675.7794 105.29 \n",
       "L 691.0794 105.29 \n",
       "\" clip-path=\"url(#pa413a53630)\" style=\"fill: none; stroke: #000000; stroke-width: 2; stroke-linecap: round\"/>\n",
       "   </g>\n",
       "   <g id=\"patch_4\">\n",
       "    <path d=\"M 668.1294 107.585 \n",
       "L 660.4794 105.29 \n",
       "L 668.1294 102.995 \n",
       "z\n",
       "\" clip-path=\"url(#pa413a53630)\"/>\n",
       "   </g>\n",
       "   <g id=\"line2d_28\">\n",
       "    <path d=\"M 691.0794 227.69 \n",
       "L 660.4794 227.69 \n",
       "L 629.8794 227.69 \n",
       "\" clip-path=\"url(#pa413a53630)\" style=\"fill: none; stroke: #000000; stroke-width: 2; stroke-linecap: round\"/>\n",
       "   </g>\n",
       "   <g id=\"line2d_29\">\n",
       "    <path d=\"M 691.0794 105.29 \n",
       "L 706.3794 105.29 \n",
       "L 721.6794 105.29 \n",
       "\" clip-path=\"url(#pa413a53630)\" style=\"fill: none; stroke: #000000; stroke-width: 2; stroke-linecap: round\"/>\n",
       "   </g>\n",
       "   <g id=\"line2d_30\">\n",
       "    <path d=\"M 721.6794 233.81 \n",
       "L 721.6794 218.51 \n",
       "L 721.6794 203.21 \n",
       "\" clip-path=\"url(#pa413a53630)\" style=\"fill: none; stroke: #000000; stroke-linecap: round\"/>\n",
       "   </g>\n",
       "   <g id=\"line2d_31\">\n",
       "    <path d=\"M 721.6794 203.21 \n",
       "L 714.0294 203.21 \n",
       "L 714.0294 203.21 \n",
       "\" clip-path=\"url(#pa413a53630)\" style=\"fill: none; stroke: #000000; stroke-linecap: round\"/>\n",
       "   </g>\n",
       "   <g id=\"patch_5\">\n",
       "    <path d=\"M 714.0294 205.505 \n",
       "L 706.3794 203.21 \n",
       "L 714.0294 200.915 \n",
       "z\n",
       "\" clip-path=\"url(#pa413a53630)\"/>\n",
       "   </g>\n",
       "   <g id=\"line2d_32\">\n",
       "    <path d=\"M 721.6794 227.69 \n",
       "L 706.3794 227.69 \n",
       "L 691.0794 227.69 \n",
       "\" clip-path=\"url(#pa413a53630)\" style=\"fill: none; stroke: #000000; stroke-width: 2; stroke-linecap: round\"/>\n",
       "   </g>\n",
       "   <g id=\"line2d_33\">\n",
       "    <path d=\"M 721.6794 227.69 \n",
       "L 736.9794 227.69 \n",
       "L 752.2794 227.69 \n",
       "\" clip-path=\"url(#pa413a53630)\" style=\"fill: none; stroke: #000000; stroke-width: 2; stroke-linecap: round\"/>\n",
       "   </g>\n",
       "   <g id=\"line2d_34\">\n",
       "    <path d=\"M 721.6794 105.29 \n",
       "L 736.9794 105.29 \n",
       "L 752.2794 105.29 \n",
       "\" clip-path=\"url(#pa413a53630)\" style=\"fill: none; stroke: #000000; stroke-width: 2; stroke-linecap: round\"/>\n",
       "   </g>\n",
       "   <g id=\"text_1\">\n",
       "    <g clip-path=\"url(#pa413a53630)\">\n",
       "     <!-- + -->\n",
       "     <g transform=\"translate(73.004127 139.891094) scale(0.145 -0.145)\">\n",
       "      <defs>\n",
       "       <path id=\"DejaVuSans-2b\" d=\"M 2944 4013 \n",
       "L 2944 2272 \n",
       "L 4684 2272 \n",
       "L 4684 1741 \n",
       "L 2944 1741 \n",
       "L 2944 0 \n",
       "L 2419 0 \n",
       "L 2419 1741 \n",
       "L 678 1741 \n",
       "L 678 2272 \n",
       "L 2419 2272 \n",
       "L 2419 4013 \n",
       "L 2944 4013 \n",
       "z\n",
       "\" transform=\"scale(0.015625)\"/>\n",
       "      </defs>\n",
       "      <use xlink:href=\"#DejaVuSans-2b\"/>\n",
       "     </g>\n",
       "    </g>\n",
       "   </g>\n",
       "   <g id=\"text_2\">\n",
       "    <g clip-path=\"url(#pa413a53630)\">\n",
       "     <!-- $V1$ -->\n",
       "     <g transform=\"translate(69.4369 170.491094) scale(0.145 -0.145)\">\n",
       "      <defs>\n",
       "       <path id=\"DejaVuSans-Oblique-56\" d=\"M 1319 0 \n",
       "L 500 4666 \n",
       "L 1119 4666 \n",
       "L 1797 653 \n",
       "L 4063 4666 \n",
       "L 4750 4666 \n",
       "L 2053 0 \n",
       "L 1319 0 \n",
       "z\n",
       "\" transform=\"scale(0.015625)\"/>\n",
       "       <path id=\"DejaVuSans-31\" d=\"M 794 531 \n",
       "L 1825 531 \n",
       "L 1825 4091 \n",
       "L 703 3866 \n",
       "L 703 4441 \n",
       "L 1819 4666 \n",
       "L 2450 4666 \n",
       "L 2450 531 \n",
       "L 3481 531 \n",
       "L 3481 0 \n",
       "L 794 0 \n",
       "L 794 531 \n",
       "z\n",
       "\" transform=\"scale(0.015625)\"/>\n",
       "      </defs>\n",
       "      <use xlink:href=\"#DejaVuSans-Oblique-56\" transform=\"translate(0 0.09375)\"/>\n",
       "      <use xlink:href=\"#DejaVuSans-31\" transform=\"translate(68.408203 0.09375)\"/>\n",
       "     </g>\n",
       "    </g>\n",
       "   </g>\n",
       "   <g id=\"text_3\">\n",
       "    <g clip-path=\"url(#pa413a53630)\">\n",
       "     <!-- - -->\n",
       "     <g transform=\"translate(76.463736 201.091094) scale(0.145 -0.145)\">\n",
       "      <defs>\n",
       "       <path id=\"DejaVuSans-2d\" d=\"M 313 2009 \n",
       "L 1997 2009 \n",
       "L 1997 1497 \n",
       "L 313 1497 \n",
       "L 313 2009 \n",
       "z\n",
       "\" transform=\"scale(0.015625)\"/>\n",
       "      </defs>\n",
       "      <use xlink:href=\"#DejaVuSans-2d\"/>\n",
       "     </g>\n",
       "    </g>\n",
       "   </g>\n",
       "   <g id=\"text_4\">\n",
       "    <g clip-path=\"url(#pa413a53630)\">\n",
       "     <!-- $I1$ -->\n",
       "     <g transform=\"translate(87.5644 99.214453) scale(0.145 -0.145)\">\n",
       "      <defs>\n",
       "       <path id=\"DejaVuSans-Oblique-49\" d=\"M 1081 4666 \n",
       "L 1716 4666 \n",
       "L 806 0 \n",
       "L 172 0 \n",
       "L 1081 4666 \n",
       "z\n",
       "\" transform=\"scale(0.015625)\"/>\n",
       "      </defs>\n",
       "      <use xlink:href=\"#DejaVuSans-Oblique-49\" transform=\"translate(0 0.09375)\"/>\n",
       "      <use xlink:href=\"#DejaVuSans-31\" transform=\"translate(29.492188 0.09375)\"/>\n",
       "     </g>\n",
       "    </g>\n",
       "   </g>\n",
       "   <g id=\"text_5\">\n",
       "    <g clip-path=\"url(#pa413a53630)\">\n",
       "     <!-- $ -Y_{21} = \\frac{k \\left(s + 1\\right)}{s + 3} $ -->\n",
       "     <g transform=\"translate(105.7919 264.925) scale(0.205 -0.205)\">\n",
       "      <defs>\n",
       "       <path id=\"DejaVuSans-2212\" d=\"M 678 2272 \n",
       "L 4684 2272 \n",
       "L 4684 1741 \n",
       "L 678 1741 \n",
       "L 678 2272 \n",
       "z\n",
       "\" transform=\"scale(0.015625)\"/>\n",
       "       <path id=\"DejaVuSans-Oblique-59\" d=\"M 403 4666 \n",
       "L 1081 4666 \n",
       "L 1953 2747 \n",
       "L 3616 4666 \n",
       "L 4325 4666 \n",
       "L 2209 2222 \n",
       "L 1778 0 \n",
       "L 1147 0 \n",
       "L 1575 2222 \n",
       "L 403 4666 \n",
       "z\n",
       "\" transform=\"scale(0.015625)\"/>\n",
       "       <path id=\"DejaVuSans-32\" d=\"M 1228 531 \n",
       "L 3431 531 \n",
       "L 3431 0 \n",
       "L 469 0 \n",
       "L 469 531 \n",
       "Q 828 903 1448 1529 \n",
       "Q 2069 2156 2228 2338 \n",
       "Q 2531 2678 2651 2914 \n",
       "Q 2772 3150 2772 3378 \n",
       "Q 2772 3750 2511 3984 \n",
       "Q 2250 4219 1831 4219 \n",
       "Q 1534 4219 1204 4116 \n",
       "Q 875 4013 500 3803 \n",
       "L 500 4441 \n",
       "Q 881 4594 1212 4672 \n",
       "Q 1544 4750 1819 4750 \n",
       "Q 2544 4750 2975 4387 \n",
       "Q 3406 4025 3406 3419 \n",
       "Q 3406 3131 3298 2873 \n",
       "Q 3191 2616 2906 2266 \n",
       "Q 2828 2175 2409 1742 \n",
       "Q 1991 1309 1228 531 \n",
       "z\n",
       "\" transform=\"scale(0.015625)\"/>\n",
       "       <path id=\"DejaVuSans-3d\" d=\"M 678 2906 \n",
       "L 4684 2906 \n",
       "L 4684 2381 \n",
       "L 678 2381 \n",
       "L 678 2906 \n",
       "z\n",
       "M 678 1631 \n",
       "L 4684 1631 \n",
       "L 4684 1100 \n",
       "L 678 1100 \n",
       "L 678 1631 \n",
       "z\n",
       "\" transform=\"scale(0.015625)\"/>\n",
       "       <path id=\"DejaVuSans-Oblique-6b\" d=\"M 1172 4863 \n",
       "L 1747 4863 \n",
       "L 1197 2028 \n",
       "L 3169 3500 \n",
       "L 3916 3500 \n",
       "L 1716 1825 \n",
       "L 3322 0 \n",
       "L 2625 0 \n",
       "L 1131 1709 \n",
       "L 800 0 \n",
       "L 225 0 \n",
       "L 1172 4863 \n",
       "z\n",
       "\" transform=\"scale(0.015625)\"/>\n",
       "       <path id=\"DejaVuSans-28\" d=\"M 1984 4856 \n",
       "Q 1566 4138 1362 3434 \n",
       "Q 1159 2731 1159 2009 \n",
       "Q 1159 1288 1364 580 \n",
       "Q 1569 -128 1984 -844 \n",
       "L 1484 -844 \n",
       "Q 1016 -109 783 600 \n",
       "Q 550 1309 550 2009 \n",
       "Q 550 2706 781 3412 \n",
       "Q 1013 4119 1484 4856 \n",
       "L 1984 4856 \n",
       "z\n",
       "\" transform=\"scale(0.015625)\"/>\n",
       "       <path id=\"DejaVuSans-Oblique-73\" d=\"M 3200 3397 \n",
       "L 3091 2853 \n",
       "Q 2863 2978 2609 3040 \n",
       "Q 2356 3103 2088 3103 \n",
       "Q 1634 3103 1373 2948 \n",
       "Q 1113 2794 1113 2528 \n",
       "Q 1113 2219 1719 2053 \n",
       "Q 1766 2041 1788 2034 \n",
       "L 1972 1978 \n",
       "Q 2547 1819 2739 1644 \n",
       "Q 2931 1469 2931 1166 \n",
       "Q 2931 609 2489 259 \n",
       "Q 2047 -91 1331 -91 \n",
       "Q 1053 -91 747 -37 \n",
       "Q 441 16 72 128 \n",
       "L 184 722 \n",
       "Q 500 559 806 475 \n",
       "Q 1113 391 1394 391 \n",
       "Q 1816 391 2080 572 \n",
       "Q 2344 753 2344 1031 \n",
       "Q 2344 1331 1650 1516 \n",
       "L 1591 1531 \n",
       "L 1394 1581 \n",
       "Q 956 1697 753 1886 \n",
       "Q 550 2075 550 2369 \n",
       "Q 550 2928 970 3256 \n",
       "Q 1391 3584 2113 3584 \n",
       "Q 2397 3584 2667 3537 \n",
       "Q 2938 3491 3200 3397 \n",
       "z\n",
       "\" transform=\"scale(0.015625)\"/>\n",
       "       <path id=\"DejaVuSans-29\" d=\"M 513 4856 \n",
       "L 1013 4856 \n",
       "Q 1481 4119 1714 3412 \n",
       "Q 1947 2706 1947 2009 \n",
       "Q 1947 1309 1714 600 \n",
       "Q 1481 -109 1013 -844 \n",
       "L 513 -844 \n",
       "Q 928 -128 1133 580 \n",
       "Q 1338 1288 1338 2009 \n",
       "Q 1338 2731 1133 3434 \n",
       "Q 928 4138 513 4856 \n",
       "z\n",
       "\" transform=\"scale(0.015625)\"/>\n",
       "       <path id=\"DejaVuSans-33\" d=\"M 2597 2516 \n",
       "Q 3050 2419 3304 2112 \n",
       "Q 3559 1806 3559 1356 \n",
       "Q 3559 666 3084 287 \n",
       "Q 2609 -91 1734 -91 \n",
       "Q 1441 -91 1130 -33 \n",
       "Q 819 25 488 141 \n",
       "L 488 750 \n",
       "Q 750 597 1062 519 \n",
       "Q 1375 441 1716 441 \n",
       "Q 2309 441 2620 675 \n",
       "Q 2931 909 2931 1356 \n",
       "Q 2931 1769 2642 2001 \n",
       "Q 2353 2234 1838 2234 \n",
       "L 1294 2234 \n",
       "L 1294 2753 \n",
       "L 1863 2753 \n",
       "Q 2328 2753 2575 2939 \n",
       "Q 2822 3125 2822 3475 \n",
       "Q 2822 3834 2567 4026 \n",
       "Q 2313 4219 1838 4219 \n",
       "Q 1578 4219 1281 4162 \n",
       "Q 984 4106 628 3988 \n",
       "L 628 4550 \n",
       "Q 988 4650 1302 4700 \n",
       "Q 1616 4750 1894 4750 \n",
       "Q 2613 4750 3031 4423 \n",
       "Q 3450 4097 3450 3541 \n",
       "Q 3450 3153 3228 2886 \n",
       "Q 3006 2619 2597 2516 \n",
       "z\n",
       "\" transform=\"scale(0.015625)\"/>\n",
       "      </defs>\n",
       "      <use xlink:href=\"#DejaVuSans-2212\" transform=\"translate(0 0.782813)\"/>\n",
       "      <use xlink:href=\"#DejaVuSans-Oblique-59\" transform=\"translate(83.789062 0.782813)\"/>\n",
       "      <use xlink:href=\"#DejaVuSans-32\" transform=\"translate(144.873047 -15.623437) scale(0.7)\"/>\n",
       "      <use xlink:href=\"#DejaVuSans-31\" transform=\"translate(189.40918 -15.623437) scale(0.7)\"/>\n",
       "      <use xlink:href=\"#DejaVuSans-3d\" transform=\"translate(256.162109 0.782813)\"/>\n",
       "      <use xlink:href=\"#DejaVuSans-Oblique-6b\" transform=\"translate(359.433594 53.810938) scale(0.7)\"/>\n",
       "      <use xlink:href=\"#DejaVuSans-28\" transform=\"translate(399.970703 53.810938) scale(0.7)\"/>\n",
       "      <use xlink:href=\"#DejaVuSans-Oblique-73\" transform=\"translate(427.280273 53.810938) scale(0.7)\"/>\n",
       "      <use xlink:href=\"#DejaVuSans-2b\" transform=\"translate(477.387695 53.810938) scale(0.7)\"/>\n",
       "      <use xlink:href=\"#DejaVuSans-31\" transform=\"translate(549.677734 53.810938) scale(0.7)\"/>\n",
       "      <use xlink:href=\"#DejaVuSans-29\" transform=\"translate(594.213867 53.810938) scale(0.7)\"/>\n",
       "      <use xlink:href=\"#DejaVuSans-Oblique-73\" transform=\"translate(407.433594 -38.623437) scale(0.7)\"/>\n",
       "      <use xlink:href=\"#DejaVuSans-2b\" transform=\"translate(457.541016 -38.623437) scale(0.7)\"/>\n",
       "      <use xlink:href=\"#DejaVuSans-33\" transform=\"translate(529.831055 -38.623437) scale(0.7)\"/>\n",
       "      <path d=\"M 359.433594 19.579688 \n",
       "L 359.433594 25.829688 \n",
       "L 621.523438 25.829688 \n",
       "L 621.523438 19.579688 \n",
       "L 359.433594 19.579688 \n",
       "z\n",
       "\"/>\n",
       "     </g>\n",
       "    </g>\n",
       "   </g>\n",
       "   <g id=\"text_6\">\n",
       "    <g clip-path=\"url(#pa413a53630)\">\n",
       "     <!-- $\\frac{5}{4}$ -->\n",
       "     <g transform=\"translate(319.6744 88.925) scale(0.145 -0.145)\">\n",
       "      <defs>\n",
       "       <path id=\"DejaVuSans-35\" d=\"M 691 4666 \n",
       "L 3169 4666 \n",
       "L 3169 4134 \n",
       "L 1269 4134 \n",
       "L 1269 2991 \n",
       "Q 1406 3038 1543 3061 \n",
       "Q 1681 3084 1819 3084 \n",
       "Q 2600 3084 3056 2656 \n",
       "Q 3513 2228 3513 1497 \n",
       "Q 3513 744 3044 326 \n",
       "Q 2575 -91 1722 -91 \n",
       "Q 1428 -91 1123 -41 \n",
       "Q 819 9 494 109 \n",
       "L 494 744 \n",
       "Q 775 591 1075 516 \n",
       "Q 1375 441 1709 441 \n",
       "Q 2250 441 2565 725 \n",
       "Q 2881 1009 2881 1497 \n",
       "Q 2881 1984 2565 2268 \n",
       "Q 2250 2553 1709 2553 \n",
       "Q 1456 2553 1204 2497 \n",
       "Q 953 2441 691 2322 \n",
       "L 691 4666 \n",
       "z\n",
       "\" transform=\"scale(0.015625)\"/>\n",
       "       <path id=\"DejaVuSans-34\" d=\"M 2419 4116 \n",
       "L 825 1625 \n",
       "L 2419 1625 \n",
       "L 2419 4116 \n",
       "z\n",
       "M 2253 4666 \n",
       "L 3047 4666 \n",
       "L 3047 1625 \n",
       "L 3713 1625 \n",
       "L 3713 1100 \n",
       "L 3047 1100 \n",
       "L 3047 0 \n",
       "L 2419 0 \n",
       "L 2419 1100 \n",
       "L 313 1100 \n",
       "L 313 1709 \n",
       "L 2253 4666 \n",
       "z\n",
       "\" transform=\"scale(0.015625)\"/>\n",
       "      </defs>\n",
       "      <use xlink:href=\"#DejaVuSans-35\" transform=\"translate(0 44.965625) scale(0.7)\"/>\n",
       "      <use xlink:href=\"#DejaVuSans-34\" transform=\"translate(0 -38.314062) scale(0.7)\"/>\n",
       "      <path d=\"M 0 18.970313 \n",
       "L 0 25.220313 \n",
       "L 44.536133 25.220313 \n",
       "L 44.536133 18.970313 \n",
       "L 0 18.970313 \n",
       "z\n",
       "\"/>\n",
       "     </g>\n",
       "    </g>\n",
       "   </g>\n",
       "   <g id=\"text_7\">\n",
       "    <g clip-path=\"url(#pa413a53630)\">\n",
       "     <!-- $\\frac{4}{5}$ -->\n",
       "     <g transform=\"translate(365.9594 170.4775) scale(0.145 -0.145)\">\n",
       "      <use xlink:href=\"#DejaVuSans-34\" transform=\"translate(0 43.965625) scale(0.7)\"/>\n",
       "      <use xlink:href=\"#DejaVuSans-35\" transform=\"translate(0 -38.31875) scale(0.7)\"/>\n",
       "      <path d=\"M 0 18.965625 \n",
       "L 0 25.215625 \n",
       "L 44.536133 25.215625 \n",
       "L 44.536133 18.965625 \n",
       "L 0 18.965625 \n",
       "z\n",
       "\"/>\n",
       "     </g>\n",
       "    </g>\n",
       "   </g>\n",
       "   <g id=\"text_8\">\n",
       "    <g clip-path=\"url(#pa413a53630)\">\n",
       "     <!-- $5$ -->\n",
       "     <g transform=\"translate(502.8394 91.564453) scale(0.145 -0.145)\">\n",
       "      <use xlink:href=\"#DejaVuSans-35\" transform=\"translate(0 0.09375)\"/>\n",
       "     </g>\n",
       "    </g>\n",
       "   </g>\n",
       "   <g id=\"text_9\">\n",
       "    <g clip-path=\"url(#pa413a53630)\">\n",
       "     <!-- $\\frac{2}{35}$ -->\n",
       "     <g transform=\"translate(500.0844 27.435) scale(0.145 -0.145)\">\n",
       "      <use xlink:href=\"#DejaVuSans-32\" transform=\"translate(22 44.046875) scale(0.7)\"/>\n",
       "      <use xlink:href=\"#DejaVuSans-33\" transform=\"translate(0 -39.15625) scale(0.7)\"/>\n",
       "      <use xlink:href=\"#DejaVuSans-35\" transform=\"translate(44.536133 -39.15625) scale(0.7)\"/>\n",
       "      <path d=\"M 0 19.046875 \n",
       "L 0 25.296875 \n",
       "L 89.072266 25.296875 \n",
       "L 89.072266 19.046875 \n",
       "L 0 19.046875 \n",
       "z\n",
       "\"/>\n",
       "     </g>\n",
       "    </g>\n",
       "   </g>\n",
       "   <g id=\"text_10\">\n",
       "    <g clip-path=\"url(#pa413a53630)\">\n",
       "     <!-- $\\frac{2}{3}$ -->\n",
       "     <g transform=\"translate(610.7594 170.4775) scale(0.145 -0.145)\">\n",
       "      <use xlink:href=\"#DejaVuSans-32\" transform=\"translate(0 44.046875) scale(0.7)\"/>\n",
       "      <use xlink:href=\"#DejaVuSans-33\" transform=\"translate(0 -39.15625) scale(0.7)\"/>\n",
       "      <path d=\"M 0 19.046875 \n",
       "L 0 25.296875 \n",
       "L 44.536133 25.296875 \n",
       "L 44.536133 19.046875 \n",
       "L 0 19.046875 \n",
       "z\n",
       "\"/>\n",
       "     </g>\n",
       "    </g>\n",
       "   </g>\n",
       "   <g id=\"text_11\">\n",
       "    <g clip-path=\"url(#pa413a53630)\">\n",
       "     <!-- $I2$ -->\n",
       "     <g transform=\"translate(668.9644 99.214453) scale(0.145 -0.145)\">\n",
       "      <use xlink:href=\"#DejaVuSans-Oblique-49\" transform=\"translate(0 0.78125)\"/>\n",
       "      <use xlink:href=\"#DejaVuSans-32\" transform=\"translate(29.492188 0.78125)\"/>\n",
       "     </g>\n",
       "    </g>\n",
       "   </g>\n",
       "   <g id=\"text_12\">\n",
       "    <g clip-path=\"url(#pa413a53630)\">\n",
       "     <!-- + -->\n",
       "     <g transform=\"translate(685.004127 139.891094) scale(0.145 -0.145)\">\n",
       "      <use xlink:href=\"#DejaVuSans-2b\"/>\n",
       "     </g>\n",
       "    </g>\n",
       "   </g>\n",
       "   <g id=\"text_13\">\n",
       "    <g clip-path=\"url(#pa413a53630)\">\n",
       "     <!-- $V2$ -->\n",
       "     <g transform=\"translate(681.4369 170.491094) scale(0.145 -0.145)\">\n",
       "      <use xlink:href=\"#DejaVuSans-Oblique-56\" transform=\"translate(0 0.78125)\"/>\n",
       "      <use xlink:href=\"#DejaVuSans-32\" transform=\"translate(68.408203 0.78125)\"/>\n",
       "     </g>\n",
       "    </g>\n",
       "   </g>\n",
       "   <g id=\"text_14\">\n",
       "    <g clip-path=\"url(#pa413a53630)\">\n",
       "     <!-- - -->\n",
       "     <g transform=\"translate(688.463736 201.091094) scale(0.145 -0.145)\">\n",
       "      <use xlink:href=\"#DejaVuSans-2d\"/>\n",
       "     </g>\n",
       "    </g>\n",
       "   </g>\n",
       "   <g id=\"text_15\">\n",
       "    <g clip-path=\"url(#pa413a53630)\">\n",
       "     <!-- $ Y_{22} = \\frac{\\left(s + 2\\right) \\left(s + 4\\right)}{s + 3} $ -->\n",
       "     <g transform=\"translate(646.6494 264.925) scale(0.205 -0.205)\">\n",
       "      <use xlink:href=\"#DejaVuSans-Oblique-59\" transform=\"translate(0 0.859375)\"/>\n",
       "      <use xlink:href=\"#DejaVuSans-32\" transform=\"translate(61.083984 -15.546875) scale(0.7)\"/>\n",
       "      <use xlink:href=\"#DejaVuSans-32\" transform=\"translate(105.620117 -15.546875) scale(0.7)\"/>\n",
       "      <use xlink:href=\"#DejaVuSans-3d\" transform=\"translate(172.373047 0.859375)\"/>\n",
       "      <use xlink:href=\"#DejaVuSans-28\" transform=\"translate(275.644531 53.8875) scale(0.7)\"/>\n",
       "      <use xlink:href=\"#DejaVuSans-Oblique-73\" transform=\"translate(302.954102 53.8875) scale(0.7)\"/>\n",
       "      <use xlink:href=\"#DejaVuSans-2b\" transform=\"translate(353.061523 53.8875) scale(0.7)\"/>\n",
       "      <use xlink:href=\"#DejaVuSans-32\" transform=\"translate(425.351562 53.8875) scale(0.7)\"/>\n",
       "      <use xlink:href=\"#DejaVuSans-29\" transform=\"translate(469.887695 53.8875) scale(0.7)\"/>\n",
       "      <use xlink:href=\"#DejaVuSans-28\" transform=\"translate(497.197266 53.8875) scale(0.7)\"/>\n",
       "      <use xlink:href=\"#DejaVuSans-Oblique-73\" transform=\"translate(524.506836 53.8875) scale(0.7)\"/>\n",
       "      <use xlink:href=\"#DejaVuSans-2b\" transform=\"translate(574.614258 53.8875) scale(0.7)\"/>\n",
       "      <use xlink:href=\"#DejaVuSans-34\" transform=\"translate(646.904297 53.8875) scale(0.7)\"/>\n",
       "      <use xlink:href=\"#DejaVuSans-29\" transform=\"translate(691.44043 53.8875) scale(0.7)\"/>\n",
       "      <use xlink:href=\"#DejaVuSans-Oblique-73\" transform=\"translate(413.644531 -38.546875) scale(0.7)\"/>\n",
       "      <use xlink:href=\"#DejaVuSans-2b\" transform=\"translate(463.751953 -38.546875) scale(0.7)\"/>\n",
       "      <use xlink:href=\"#DejaVuSans-33\" transform=\"translate(536.041992 -38.546875) scale(0.7)\"/>\n",
       "      <path d=\"M 275.644531 19.65625 \n",
       "L 275.644531 25.90625 \n",
       "L 718.75 25.90625 \n",
       "L 718.75 19.65625 \n",
       "L 275.644531 19.65625 \n",
       "z\n",
       "\"/>\n",
       "     </g>\n",
       "    </g>\n",
       "   </g>\n",
       "   <g id=\"patch_6\">\n",
       "    <path d=\"M 79.0794 107.585 \n",
       "C 79.688041 107.585 80.271836 107.343184 80.70221 106.91281 \n",
       "C 81.132584 106.482436 81.3744 105.898641 81.3744 105.29 \n",
       "C 81.3744 104.681359 81.132584 104.097564 80.70221 103.66719 \n",
       "C 80.271836 103.236816 79.688041 102.995 79.0794 102.995 \n",
       "C 78.470759 102.995 77.886964 103.236816 77.45659 103.66719 \n",
       "C 77.026216 104.097564 76.7844 104.681359 76.7844 105.29 \n",
       "C 76.7844 105.898641 77.026216 106.482436 77.45659 106.91281 \n",
       "C 77.886964 107.343184 78.470759 107.585 79.0794 107.585 \n",
       "z\n",
       "\" clip-path=\"url(#pa413a53630)\" style=\"fill: #ffffff; stroke: #000000; stroke-width: 2; stroke-linejoin: miter\"/>\n",
       "   </g>\n",
       "   <g id=\"patch_7\">\n",
       "    <path d=\"M 79.0794 229.985 \n",
       "C 79.688041 229.985 80.271836 229.743184 80.70221 229.31281 \n",
       "C 81.132584 228.882436 81.3744 228.298641 81.3744 227.69 \n",
       "C 81.3744 227.081359 81.132584 226.497564 80.70221 226.06719 \n",
       "C 80.271836 225.636816 79.688041 225.395 79.0794 225.395 \n",
       "C 78.470759 225.395 77.886964 225.636816 77.45659 226.06719 \n",
       "C 77.026216 226.497564 76.7844 227.081359 76.7844 227.69 \n",
       "C 76.7844 228.298641 77.026216 228.882436 77.45659 229.31281 \n",
       "C 77.886964 229.743184 78.470759 229.985 79.0794 229.985 \n",
       "z\n",
       "\" clip-path=\"url(#pa413a53630)\" style=\"fill: #ffffff; stroke: #000000; stroke-width: 2; stroke-linejoin: miter\"/>\n",
       "   </g>\n",
       "   <g id=\"patch_8\">\n",
       "    <path d=\"M 385.0794 107.585 \n",
       "C 385.688041 107.585 386.271836 107.343184 386.70221 106.91281 \n",
       "C 387.132584 106.482436 387.3744 105.898641 387.3744 105.29 \n",
       "C 387.3744 104.681359 387.132584 104.097564 386.70221 103.66719 \n",
       "C 386.271836 103.236816 385.688041 102.995 385.0794 102.995 \n",
       "C 384.470759 102.995 383.886964 103.236816 383.45659 103.66719 \n",
       "C 383.026216 104.097564 382.7844 104.681359 382.7844 105.29 \n",
       "C 382.7844 105.898641 383.026216 106.482436 383.45659 106.91281 \n",
       "C 383.886964 107.343184 384.470759 107.585 385.0794 107.585 \n",
       "z\n",
       "\" clip-path=\"url(#pa413a53630)\" style=\"stroke: #000000; stroke-width: 2; stroke-linejoin: miter\"/>\n",
       "   </g>\n",
       "   <g id=\"patch_9\">\n",
       "    <path d=\"M 385.0794 229.985 \n",
       "C 385.688041 229.985 386.271836 229.743184 386.70221 229.31281 \n",
       "C 387.132584 228.882436 387.3744 228.298641 387.3744 227.69 \n",
       "C 387.3744 227.081359 387.132584 226.497564 386.70221 226.06719 \n",
       "C 386.271836 225.636816 385.688041 225.395 385.0794 225.395 \n",
       "C 384.470759 225.395 383.886964 225.636816 383.45659 226.06719 \n",
       "C 383.026216 226.497564 382.7844 227.081359 382.7844 227.69 \n",
       "C 382.7844 228.298641 383.026216 228.882436 383.45659 229.31281 \n",
       "C 383.886964 229.743184 384.470759 229.985 385.0794 229.985 \n",
       "z\n",
       "\" clip-path=\"url(#pa413a53630)\" style=\"stroke: #000000; stroke-width: 2; stroke-linejoin: miter\"/>\n",
       "   </g>\n",
       "   <g id=\"patch_10\">\n",
       "    <path d=\"M 446.2794 107.585 \n",
       "C 446.888041 107.585 447.471836 107.343184 447.90221 106.91281 \n",
       "C 448.332584 106.482436 448.5744 105.898641 448.5744 105.29 \n",
       "C 448.5744 104.681359 448.332584 104.097564 447.90221 103.66719 \n",
       "C 447.471836 103.236816 446.888041 102.995 446.2794 102.995 \n",
       "C 445.670759 102.995 445.086964 103.236816 444.65659 103.66719 \n",
       "C 444.226216 104.097564 443.9844 104.681359 443.9844 105.29 \n",
       "C 443.9844 105.898641 444.226216 106.482436 444.65659 106.91281 \n",
       "C 445.086964 107.343184 445.670759 107.585 446.2794 107.585 \n",
       "z\n",
       "\" clip-path=\"url(#pa413a53630)\" style=\"stroke: #000000; stroke-width: 2; stroke-linejoin: miter\"/>\n",
       "   </g>\n",
       "   <g id=\"patch_11\">\n",
       "    <path d=\"M 568.6794 107.585 \n",
       "C 569.288041 107.585 569.871836 107.343184 570.30221 106.91281 \n",
       "C 570.732584 106.482436 570.9744 105.898641 570.9744 105.29 \n",
       "C 570.9744 104.681359 570.732584 104.097564 570.30221 103.66719 \n",
       "C 569.871836 103.236816 569.288041 102.995 568.6794 102.995 \n",
       "C 568.070759 102.995 567.486964 103.236816 567.05659 103.66719 \n",
       "C 566.626216 104.097564 566.3844 104.681359 566.3844 105.29 \n",
       "C 566.3844 105.898641 566.626216 106.482436 567.05659 106.91281 \n",
       "C 567.486964 107.343184 568.070759 107.585 568.6794 107.585 \n",
       "z\n",
       "\" clip-path=\"url(#pa413a53630)\" style=\"stroke: #000000; stroke-width: 2; stroke-linejoin: miter\"/>\n",
       "   </g>\n",
       "   <g id=\"patch_12\">\n",
       "    <path d=\"M 629.8794 107.585 \n",
       "C 630.488041 107.585 631.071836 107.343184 631.50221 106.91281 \n",
       "C 631.932584 106.482436 632.1744 105.898641 632.1744 105.29 \n",
       "C 632.1744 104.681359 631.932584 104.097564 631.50221 103.66719 \n",
       "C 631.071836 103.236816 630.488041 102.995 629.8794 102.995 \n",
       "C 629.270759 102.995 628.686964 103.236816 628.25659 103.66719 \n",
       "C 627.826216 104.097564 627.5844 104.681359 627.5844 105.29 \n",
       "C 627.5844 105.898641 627.826216 106.482436 628.25659 106.91281 \n",
       "C 628.686964 107.343184 629.270759 107.585 629.8794 107.585 \n",
       "z\n",
       "\" clip-path=\"url(#pa413a53630)\" style=\"stroke: #000000; stroke-width: 2; stroke-linejoin: miter\"/>\n",
       "   </g>\n",
       "   <g id=\"patch_13\">\n",
       "    <path d=\"M 629.8794 229.985 \n",
       "C 630.488041 229.985 631.071836 229.743184 631.50221 229.31281 \n",
       "C 631.932584 228.882436 632.1744 228.298641 632.1744 227.69 \n",
       "C 632.1744 227.081359 631.932584 226.497564 631.50221 226.06719 \n",
       "C 631.071836 225.636816 630.488041 225.395 629.8794 225.395 \n",
       "C 629.270759 225.395 628.686964 225.636816 628.25659 226.06719 \n",
       "C 627.826216 226.497564 627.5844 227.081359 627.5844 227.69 \n",
       "C 627.5844 228.298641 627.826216 228.882436 628.25659 229.31281 \n",
       "C 628.686964 229.743184 629.270759 229.985 629.8794 229.985 \n",
       "z\n",
       "\" clip-path=\"url(#pa413a53630)\" style=\"stroke: #000000; stroke-width: 2; stroke-linejoin: miter\"/>\n",
       "   </g>\n",
       "   <g id=\"patch_14\">\n",
       "    <path d=\"M 691.0794 107.585 \n",
       "C 691.688041 107.585 692.271836 107.343184 692.70221 106.91281 \n",
       "C 693.132584 106.482436 693.3744 105.898641 693.3744 105.29 \n",
       "C 693.3744 104.681359 693.132584 104.097564 692.70221 103.66719 \n",
       "C 692.271836 103.236816 691.688041 102.995 691.0794 102.995 \n",
       "C 690.470759 102.995 689.886964 103.236816 689.45659 103.66719 \n",
       "C 689.026216 104.097564 688.7844 104.681359 688.7844 105.29 \n",
       "C 688.7844 105.898641 689.026216 106.482436 689.45659 106.91281 \n",
       "C 689.886964 107.343184 690.470759 107.585 691.0794 107.585 \n",
       "z\n",
       "\" clip-path=\"url(#pa413a53630)\" style=\"fill: #ffffff; stroke: #000000; stroke-width: 2; stroke-linejoin: miter\"/>\n",
       "   </g>\n",
       "   <g id=\"patch_15\">\n",
       "    <path d=\"M 691.0794 229.985 \n",
       "C 691.688041 229.985 692.271836 229.743184 692.70221 229.31281 \n",
       "C 693.132584 228.882436 693.3744 228.298641 693.3744 227.69 \n",
       "C 693.3744 227.081359 693.132584 226.497564 692.70221 226.06719 \n",
       "C 692.271836 225.636816 691.688041 225.395 691.0794 225.395 \n",
       "C 690.470759 225.395 689.886964 225.636816 689.45659 226.06719 \n",
       "C 689.026216 226.497564 688.7844 227.081359 688.7844 227.69 \n",
       "C 688.7844 228.298641 689.026216 228.882436 689.45659 229.31281 \n",
       "C 689.886964 229.743184 690.470759 229.985 691.0794 229.985 \n",
       "z\n",
       "\" clip-path=\"url(#pa413a53630)\" style=\"fill: #ffffff; stroke: #000000; stroke-width: 2; stroke-linejoin: miter\"/>\n",
       "   </g>\n",
       "  </g>\n",
       " </g>\n",
       " <defs>\n",
       "  <clipPath id=\"pa413a53630\">\n",
       "   <rect x=\"7.2\" y=\"7.2\" width=\"939.9861\" height=\"284.75\"/>\n",
       "  </clipPath>\n",
       " </defs>\n",
       "</svg>\n"
      ],
      "text/plain": [
       "<schemdraw.schemdraw.Drawing at 0x2338583b290>"
      ]
     },
     "metadata": {},
     "output_type": "display_data"
    }
   ],
   "source": [
    "#---------------------------------------------------------------------------------------------------------------------#\n",
    "#-- Síntesis circuital con valores\n",
    "#---------------------------------------------------------------------------------------------------------------------#\n",
    "\n",
    "d = dibujar_puerto_entrada( '', voltage_lbl = ('+', '$V1$', '-'), current_lbl = '$I1$' )\n",
    "d, yy_lbl = dibujar_funcion_exc_abajo( d, '-Y_{21}', -Y21, hacia_salida = True, k_gap_width = 0.5 )\n",
    "d = dibujar_cierre( d )\n",
    "d = dibujar_elemento_serie( d, Capacitor, C2 )\n",
    "d = dibujar_elemento_derivacion( d, Resistor, R3 )\n",
    "d = dibujar_espacio_derivacion( d )\n",
    "d = dibujar_tanque_RC_serie( d, R2, C1 )\n",
    "d = dibujar_espacio_derivacion( d )\n",
    "d = dibujar_elemento_derivacion( d, Resistor, R1 )\n",
    "d = dibujar_puerto_salida( d, voltage_lbl = ('+', '$V2$', '-'), current_lbl = '$I2$' )\n",
    "d, yy_lbl = dibujar_funcion_exc_abajo( d, 'Y_{22}', Y22, hacia_entrada = True, k_gap_width = 0.5 )\n",
    "display( d )\n",
    "\n",
    "#---------------------------------------------------------------------------------------------------------------------#"
   ]
  },
  {
   "cell_type": "markdown",
   "id": "29adf7d6-2c7b-436a-9ab3-5032077f65f6",
   "metadata": {},
   "source": [
    "***\n",
    "###\n",
    "#### <u>Simulación circuital</u>\n",
    "###\n",
    "***\n",
    "\n",
    "<img src=\"TS12_Ejercicio_2_Circuito_LTSpice_Y22.png\" style=\"margin-left:auto; margin-right:auto\"/>\n",
    "\n",
    "###\n",
    "##### <u>Respuesta de módulo de $T(s)$</u>\n",
    "###\n",
    "\n",
    "<img src=\"TS12_Ejercicio_2_Ts_Respuesta_Modulo_Y22.png\" style=\"margin-left:auto; margin-right:auto\"/>\n",
    "\n",
    "###\n",
    "##### Nos valemos de los cursores que nos ofrece LTSpice para ver con mayor precisión los resultados obtenidos.\n",
    "###\n",
    "##### Recordar que debemos afectar a la frecuencia por un factor de $2\\pi$ debido a que los diagramas de singularidades anteriores fueron hechos respecto al eje $\\sigma$.\n",
    "###\n",
    "##### Como se puede observar, obtenemos una transferencia cuya respuesta es del tipo pasa bajos en consonancia con lo anticipado anteriormente y cuyas características son propias del orden de la función: notar por caso la pendiente a la salida de la banda de paso producto del aporte de las singularidades del numerador y denominador.\n",
    "\n",
    "###\n",
    "##### Hacemos lo propio con los parámetros $Y_{21}$ e $Y_{22}$: \n",
    "###\n",
    "##### <u>Respuesta de módulo de $Y_{21}$ y $Y_{22}$</u>\n",
    "###\n",
    "\n",
    "<img src=\"TS12_Ejercicio_2_Respuesta_Modulo_Y21_Y22.png\" style=\"margin-left:auto; margin-right:auto\"/>\n",
    "\n",
    "###\n",
    "##### Se muestran en conjunto las respuestas de módulo de ambos parámetros, $Z_{11}$ en azul y $Z_{21}$ en magenta, para poner de manifiesto el aporte de cada una de ellas cumpliendo justamente con la función transferencia $T(s)$.\n",
    "###"
   ]
  },
  {
   "cell_type": "code",
   "execution_count": 133,
   "id": "e4769c68-a69b-40ab-9fc0-bfe1881bca07",
   "metadata": {
    "tags": []
   },
   "outputs": [
    {
     "ename": "SyntaxError",
     "evalue": "invalid syntax (3020892421.py, line 1)",
     "output_type": "error",
     "traceback": [
      "\u001b[1;36m  Cell \u001b[1;32mIn[133], line 1\u001b[1;36m\u001b[0m\n\u001b[1;33m    ***\u001b[0m\n\u001b[1;37m    ^\u001b[0m\n\u001b[1;31mSyntaxError\u001b[0m\u001b[1;31m:\u001b[0m invalid syntax\n"
     ]
    }
   ],
   "source": [
    "***\n",
    "\n",
    "##\n",
    "<a id=\"bibliografia\"></a>\n",
    "### <span style=\"text-decoration: underline;\">Bibliografía sugerida:</span>\n",
    "##\n",
    "\n",
    "###### Araujo, [*\"Análisis y Síntesis de Redes Lineales I\"*](https://drive.google.com/file/d/1LMrdMPUB0KsCBBYTuvpXFqYCaDdjYmyM/view?usp=sharing), Cap. 4: Métodos de síntesis de dipolos pasivos\n",
    "\n",
    "###### Kuo, [*\"Network Analysis and Synthesis\"*](https://drive.google.com/file/d/1WZEsKhywwb5SJqR7fEId6gJI8eIU8dB-/view?usp=sharing), Cap. 11: Synthesis of One-Port Networks With Two Kinds Of Elements\n",
    "\n",
    "###### Cogollos Borrás, [*\"Fundamentos de la Teoría de Filtros\"*](https://drive.google.com/file/d/1g4pgNS1m9dF43ZyR6LdkE-HAntfswhwh/view?usp=sharing)\n",
    "\n",
    "##\n",
    "### <span style=\"text-decoration: underline;\">Otros documentos consultados:</span>\n",
    "##\n",
    "\n",
    "###### Llamedo Soria, [*\"Síntesis de funciones de excitación RC-RL\"*](https://pytc2.readthedocs.io/en/latest/funciones_excitacion_disipativas.html)\n",
    "\n",
    "###### Llamedo Soria, [*\"Síntesis de algunas funciones RLC\"*](https://pytc2.readthedocs.io/en/latest/funciones_excitacion_RLC.html)\n",
    "\n",
    "##\n",
    "### <span style=\"text-decoration: underline;\">Lista de reproducción:</span>\n",
    "##\n",
    "\n",
    "###### Llamedo Soria, [*\"Clase 12 - Síntesis de Imitancias Disipativas. Teoría de Circuitos 2 - UTN FRBA - Ingeniería Electrónica\"*](https://www.youtube.com/playlist?list=PLlD2eDv5CIe8r2gsVISGU6NbvlVwVdgrn)\n",
    "\n",
    "###\n",
    "\n",
    "###### [Volver al índice](#indice)\n",
    "\n",
    "***\n"
   ]
  },
  {
   "cell_type": "markdown",
   "id": "06873b81-4c32-44d7-ba95-3f37cd4140fc",
   "metadata": {},
   "source": [
    "##### © Copyright 2023, Moharos, David Santiago. Revision 1.0.0.\n",
    "***"
   ]
  }
 ],
 "metadata": {
  "kernelspec": {
   "display_name": "Python 3 (ipykernel)",
   "language": "python",
   "name": "python3"
  },
  "language_info": {
   "codemirror_mode": {
    "name": "ipython",
    "version": 3
   },
   "file_extension": ".py",
   "mimetype": "text/x-python",
   "name": "python",
   "nbconvert_exporter": "python",
   "pygments_lexer": "ipython3",
   "version": "3.11.1"
  }
 },
 "nbformat": 4,
 "nbformat_minor": 5
}
