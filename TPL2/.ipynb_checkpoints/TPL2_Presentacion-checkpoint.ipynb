{
 "cells": [
  {
   "cell_type": "markdown",
   "id": "8c4df20e-c353-44c2-a0e8-386019619e80",
   "metadata": {
    "tags": []
   },
   "source": [
    "<img src=\"TPL2_Logo_UTN.svg\" align=\"right\" width=\"150\" /> \n",
    "\n",
    "##\n",
    "\n",
    "***\n",
    "\n",
    "## (950431) Teoría de Circuitos II\n",
    "\n",
    "***\n",
    "\n",
    "##\n",
    "#### Profesor: Mariano Llamedo Soria  <llamedom@frba.utn.edu.ar>\n",
    "#### Jefe de TPs: César Fuoco  <cfuoco@frba.utn.edu.ar>\n",
    "#### Ayudante de TPs: Israel Pavelek <pavel@frba.utn.edu.ar>\n",
    "##\n"
   ]
  },
  {
   "cell_type": "markdown",
   "id": "e1a0cebe-061e-4999-9fc4-c42b13ffe556",
   "metadata": {
    "tags": []
   },
   "source": [
    "**\n",
    "***\n",
    "\n",
    "####\n",
    "\n",
    "## Trabajo Práctico de Laboratorio # 2: Filtrado digital\n",
    "\n",
    "####\n",
    "\n",
    "***\n",
    "***\n",
    "\n",
    "### <span style=\"text-decoration: underline;\">Autor</span>\n",
    "#### *Moharos, David Santiago* <dmoharos@frba.utn.edu.ar>\n",
    "\n",
    "####\n",
    "\n",
    "***\n",
    "\n",
    "### <span style=\"text-decoration: underline;\">Integrantes grupo # 1</span>\n",
    "##### *Moharos, David Santiago*\n",
    "##### *Niño, Jorge Andrés*\n",
    "\n",
    "####\n",
    "\n",
    "***"
   ]
  },
  {
   "cell_type": "markdown",
   "id": "58fa111d-b8d2-4ff2-8862-a28a3dde2d5f",
   "metadata": {},
   "source": [
    "##\n",
    "<a id=\"indice\"></a>\n",
    "### <span style=\"text-decoration: underline;\">Indice</span>\n",
    "###\n",
    "##### [Bibliografía sugerida](#bibliografia)\n",
    "##\n",
    "\n",
    "***"
   ]
  },
  {
   "cell_type": "markdown",
   "id": "4d098bb6-80a1-419e-a70d-b38d63c4efd3",
   "metadata": {},
   "source": [
    "***\n",
    "##\n",
    "\n",
    "<img src=\"TPL2_En_construcción.png\" style=\"margin-left:auto; margin-right:auto\"/>\n",
    "\n",
    "##"
   ]
  },
  {
   "cell_type": "markdown",
   "id": "89e277e5-57ac-47fa-9cd9-54f3e613cead",
   "metadata": {},
   "source": [
    "***\n",
    "\n",
    "##\n",
    "<a id=\"bibliografia\"></a>\n",
    "### <span style=\"text-decoration: underline;\">Bibliografía sugerida:</span>\n",
    "##\n",
    "\n",
    "###### Lyons, [*\"Understanding Digital Signal Processing\"*](https://drive.google.com/file/d/1PDNFr9de3-_c6uRD2sepIixniRLMPzrp/view)\n",
    "\n",
    "###### Oppenheim, Schafer, [*\"Discrete-Time Signal Processing\"*](https://drive.google.com/file/d/13OdVgtTGmj7kQaMddhhEpaXHubxqDZua/view)\n",
    "\n",
    "##\n",
    "### <span style=\"text-decoration: underline;\">Otros documentos consultados:</span>\n",
    "##\n",
    "\n",
    "###### Llamedo Soria, [*\"Filtros digitales a partir de filtros analógicos\"*](https://nbviewer.org/github/marianux/pytc2/blob/master/docs/sintesis_digital_bilineal.ipynb)\n",
    "\n",
    "###### Llamedo Soria, [*\"Filtros de respuesta al impulso finita o no recursivos (FIR)\"*](https://nbviewer.org/github/marianux/pytc2/blob/master/docs/filtros_FIR.ipynb)\n",
    "\n",
    "###### Llamedo Soria, [*\"Filtros recursivos, o de respuesta al impulso infinita (IIR)\"*](https://nbviewer.org/github/marianux/pytc2/blob/master/docs/filtros_IIR.ipynb)\n",
    "\n",
    "###### Sascha Spors, [*\"Digital Signal Processing - Lecture notes featuring computational examples: Design of Digital Filters\"*](https://nbviewer.org/github/spatialaudio/digital-signal-processing-lecture/blob/master/filter_design/bilinear_transform.ipynb)\n",
    "\n",
    "###### Sascha Spors, [*\"Digital Signal Processing - Lecture notes featuring computational examples: Realization of Recursive Filters\"*](https://nbviewer.org/github/spatialaudio/digital-signal-processing-lecture/blob/master/recursive_filters/direct_forms.ipynb)\n",
    "\n",
    "##\n",
    "### <span style=\"text-decoration: underline;\">Lista de reproducción:</span>\n",
    "##\n",
    "\n",
    "###### Llamedo Soria, [*\"Clase 18 - Filtros Digitales - Teoría de Circuitos 2 - UTN FRBA - Ingeniería Electrónica\"*](https://www.youtube.com/watch?v=RHIQ7O6TR3Q&list=PLlD2eDv5CIe9_QZtKGEPw5LtQRD3xaAnV)\n",
    "\n",
    "###\n",
    "\n",
    "###### [Volver al índice](#indice)\n",
    "\n",
    "***\n",
    "***\n",
    "\n",
    "#####"
   ]
  },
  {
   "cell_type": "markdown",
   "id": "06873b81-4c32-44d7-ba95-3f37cd4140fc",
   "metadata": {},
   "source": [
    "##### © Copyright 2023, Moharos, David Santiago. Revision 1.0.0.\n",
    "***"
   ]
  }
 ],
 "metadata": {
  "kernelspec": {
   "display_name": "Python 3 (ipykernel)",
   "language": "python",
   "name": "python3"
  },
  "language_info": {
   "codemirror_mode": {
    "name": "ipython",
    "version": 3
   },
   "file_extension": ".py",
   "mimetype": "text/x-python",
   "name": "python",
   "nbconvert_exporter": "python",
   "pygments_lexer": "ipython3",
   "version": "3.11.1"
  }
 },
 "nbformat": 4,
 "nbformat_minor": 5
}
